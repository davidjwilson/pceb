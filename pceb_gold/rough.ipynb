{
 "cells": [
  {
   "cell_type": "markdown",
   "id": "cardiac-joseph",
   "metadata": {},
   "source": [
    "Looking at the samples from https://ui.adsabs.harvard.edu/abs/2021arXiv210306892I/abstract to see if there's potential for a project looking at TESS data for the stars."
   ]
  },
  {
   "cell_type": "code",
   "execution_count": 2,
   "id": "skilled-treasury",
   "metadata": {},
   "outputs": [],
   "source": [
    "import numpy as np\n",
    "import matplotlib.pyplot as plt\n",
    "import astropy.io.fits as fits\n",
    "import os\n",
    "import glob\n",
    "from astropy.table import Table\n",
    "from astropy.io import ascii\n",
    "\n",
    "import astropy.units as u\n",
    "\n",
    "import astropy.constants as const\n",
    "from astropy.modeling import models, fitting\n",
    "from astropy.coordinates import SkyCoord\n",
    "from matplotlib.gridspec import GridSpec\n",
    "from datetime import datetime\n",
    "\n",
    "\n",
    "\n",
    "#matplotlib set up\n",
    "%matplotlib inline\n",
    "from matplotlib import rcParams\n",
    "rcParams[\"figure.figsize\"] = (14, 5)\n",
    "rcParams[\"font.size\"] = 20"
   ]
  },
  {
   "cell_type": "code",
   "execution_count": 3,
   "id": "driven-confusion",
   "metadata": {},
   "outputs": [],
   "source": [
    "path = '/media/david/5tb_storage1/pceb_gold/'"
   ]
  },
  {
   "cell_type": "code",
   "execution_count": 8,
   "id": "executed-tourist",
   "metadata": {},
   "outputs": [
    {
     "name": "stdout",
     "output_type": "stream",
     "text": [
      "\u001b[0m\u001b[01;32mCV_appendix.csv\u001b[0m*        \u001b[01;32mDWD_appendix.csv\u001b[0m*                \u001b[01;32mWD+AFGK_appendix.csv\u001b[0m*\n",
      "\u001b[01;32mCV_qfail_appendix.csv\u001b[0m*  \u001b[01;32mstab753_supplemental_files.zip\u001b[0m*  \u001b[01;32mWD+M_appendix.csv\u001b[0m*\n"
     ]
    }
   ],
   "source": [
    "ls /media/david/5tb_storage1/pceb_gold/"
   ]
  },
  {
   "cell_type": "code",
   "execution_count": 11,
   "id": "illegal-burns",
   "metadata": {},
   "outputs": [
    {
     "data": {
      "text/plain": [
       "('name',\n",
       " 'source_id',\n",
       " 'references',\n",
       " 'ra',\n",
       " 'dec',\n",
       " 'type',\n",
       " 'teffwd',\n",
       " 'logg',\n",
       " 'porb',\n",
       " 'sp',\n",
       " 'parallax',\n",
       " 'parallax_error',\n",
       " 'pmra',\n",
       " 'pmdec',\n",
       " 'phot_g_mean_mag',\n",
       " 'phot_g_mean_mag_error',\n",
       " 'phot_bp_mean_mag',\n",
       " 'phot_bp_mean_mag_error',\n",
       " 'phot_rp_mean_mag',\n",
       " 'phot_rp_mean_mag_error',\n",
       " 'l',\n",
       " 'b',\n",
       " 'ruwe',\n",
       " 'r_est',\n",
       " 'r_est_error',\n",
       " 'galex_coverage',\n",
       " 'objid',\n",
       " 'fuv_mag',\n",
       " 'fuv_magerr',\n",
       " 'nuv_mag',\n",
       " 'nuv_magerr')"
      ]
     },
     "execution_count": 11,
     "metadata": {},
     "output_type": "execute_result"
    }
   ],
   "source": [
    "wddm = Table.read('{}WD+M_appendix.csv'.format(path))\n",
    "wddm.dtype.names"
   ]
  },
  {
   "cell_type": "code",
   "execution_count": 24,
   "id": "efficient-radical",
   "metadata": {},
   "outputs": [
    {
     "data": {
      "text/plain": [
       "73"
      ]
     },
     "execution_count": 24,
     "metadata": {},
     "output_type": "execute_result"
    }
   ],
   "source": [
    "len(wddm[wddm['porb']> 0])"
   ]
  },
  {
   "cell_type": "code",
   "execution_count": 29,
   "id": "alleged-swing",
   "metadata": {},
   "outputs": [],
   "source": [
    "mask = wddm['porb']> 0"
   ]
  },
  {
   "cell_type": "code",
   "execution_count": 32,
   "id": "pleased-youth",
   "metadata": {},
   "outputs": [],
   "source": [
    "no_p = wddm[~mask]\n",
    "yes_p = wddm[mask]"
   ]
  },
  {
   "cell_type": "code",
   "execution_count": 34,
   "id": "documented-catholic",
   "metadata": {},
   "outputs": [
    {
     "data": {
      "text/plain": [
       "(array([18.,  9., 10.,  8.,  4.,  1.,  4.,  2.,  1.,  4.,  1.,  1.,  0.,\n",
       "         1.,  0.,  2.,  1.,  0.,  0.,  1.,  0.,  0.,  1.,  0.,  0.,  1.,\n",
       "         0.,  1.,  0.,  0.,  0.,  0.,  0.,  0.,  0.,  0.,  0.,  0.,  0.,\n",
       "         0.,  0.,  0.,  0.,  0.,  0.,  0.,  0.,  0.,  1.,  1.]),\n",
       " array([  1.698   ,   3.755284,   5.812568,   7.869852,   9.927136,\n",
       "         11.98442 ,  14.041704,  16.098988,  18.156272,  20.213556,\n",
       "         22.27084 ,  24.328124,  26.385408,  28.442692,  30.499976,\n",
       "         32.55726 ,  34.614544,  36.671828,  38.729112,  40.786396,\n",
       "         42.84368 ,  44.900964,  46.958248,  49.015532,  51.072816,\n",
       "         53.1301  ,  55.187384,  57.244668,  59.301952,  61.359236,\n",
       "         63.41652 ,  65.473804,  67.531088,  69.588372,  71.645656,\n",
       "         73.70294 ,  75.760224,  77.817508,  79.874792,  81.932076,\n",
       "         83.98936 ,  86.046644,  88.103928,  90.161212,  92.218496,\n",
       "         94.27578 ,  96.333064,  98.390348, 100.447632, 102.504916,\n",
       "        104.5622  ]),\n",
       " <BarContainer object of 50 artists>)"
      ]
     },
     "execution_count": 34,
     "metadata": {},
     "output_type": "execute_result"
    },
    {
     "data": {
      "image/png": "[encoded data removed]",
      "text/plain": [
       "<Figure size 1008x360 with 1 Axes>"
      ]
     },
     "metadata": {
      "needs_background": "light"
     },
     "output_type": "display_data"
    }
   ],
   "source": [
    "plt.hist(yes_p['porb'], bins =50)"
   ]
  },
  {
   "cell_type": "code",
   "execution_count": 36,
   "id": "hollywood-headquarters",
   "metadata": {},
   "outputs": [
    {
     "name": "stdout",
     "output_type": "stream",
     "text": [
      "16.410276465219994 16.73215484619141 1.6201052287097149\n",
      "17.124330194984996 17.12503242492676 1.024579546524035\n"
     ]
    },
    {
     "data": {
      "image/png": "[encoded data removed]",
      "text/plain": [
       "<Figure size 1008x360 with 2 Axes>"
      ]
     },
     "metadata": {
      "needs_background": "light"
     },
     "output_type": "display_data"
    }
   ],
   "source": [
    "plt.subplot(121)\n",
    "plt.hist(yes_p['phot_g_mean_mag'])\n",
    "plt.subplot(122)\n",
    "plt.hist(no_p['phot_g_mean_mag'])\n",
    "for sample in (yes_p['phot_g_mean_mag'], no_p['phot_g_mean_mag']):\n",
    "    print(np.mean(sample), np.median(sample), np.std(sample))"
   ]
  },
  {
   "cell_type": "code",
   "execution_count": null,
   "id": "surprised-boston",
   "metadata": {},
   "outputs": [],
   "source": []
  }
 ],
 "metadata": {
  "kernelspec": {
   "display_name": "Python 3",
   "language": "python",
   "name": "python3"
  },
  "language_info": {
   "codemirror_mode": {
    "name": "ipython",
    "version": 3
   },
   "file_extension": ".py",
   "mimetype": "text/x-python",
   "name": "python",
   "nbconvert_exporter": "python",
   "pygments_lexer": "ipython3",
   "version": "3.6.13"
  }
 },
 "nbformat": 4,
 "nbformat_minor": 5
}
