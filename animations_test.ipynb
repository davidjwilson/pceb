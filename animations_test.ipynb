{
 "cells": [
  {
   "cell_type": "markdown",
   "id": "printable-arkansas",
   "metadata": {},
   "source": [
    "Can I animate a spinning pceb?"
   ]
  },
  {
   "cell_type": "code",
   "execution_count": 34,
   "id": "hundred-description",
   "metadata": {},
   "outputs": [],
   "source": [
    "import numpy as np\n",
    "import matplotlib.pyplot as plt\n",
    "import astropy.io.fits as fits\n",
    "import os\n",
    "import glob\n",
    "from astropy.table import Table\n",
    "from astropy.io import ascii\n",
    "import astropy.units as u\n",
    "import astropy.constants as const\n",
    "from matplotlib import animation\n",
    "import mplcyberpunk\n",
    "import matplotlib.patches as mpatches\n",
    "import matplotlib.cm as cm\n",
    "from matplotlib import transforms\n",
    "from matplotlib.collections import PatchCollection\n",
    "# from matplotlib.patches import Wedge\n",
    "\n",
    "#matplotlib set up\n",
    "%matplotlib inline\n",
    "from matplotlib import rcParams\n",
    "rcParams[\"figure.figsize\"] = (14, 5)\n",
    "rcParams[\"font.size\"] = 20"
   ]
  },
  {
   "cell_type": "code",
   "execution_count": 2,
   "id": "daily-tuesday",
   "metadata": {},
   "outputs": [],
   "source": [
    "#cc cet\n",
    "m1 = 0.441*u.Msun\n",
    "m2 = 0.18*u.Msun\n",
    "p= 6.8818*u.hr\n",
    "r1 = 0.0179*u.Rsun\n",
    "r2 = 0.243*u.Rsun"
   ]
  },
  {
   "cell_type": "code",
   "execution_count": 3,
   "id": "sudden-composer",
   "metadata": {},
   "outputs": [
    {
     "name": "stdout",
     "output_type": "stream",
     "text": [
      "1.5612131270208132 solRad\n",
      "0.4525255440640038 solRad 1.1086875829568092 solRad\n"
     ]
    }
   ],
   "source": [
    "def p_to_a(m1, m2, p):\n",
    "    m1, m2, p = m1.to(u.kg), m2.to(u.kg), p.to(u.s)\n",
    "    a = ((const.G*(m1+m2) * p**2)/(4*np.pi**2))**(1/3)\n",
    "    return a\n",
    "\n",
    "a = p_to_a(m1, m2, p)\n",
    "a = a.to(u.Rsun)\n",
    "print(a) #yay right answer\n",
    "\n",
    "def com(m1, m2, a): #find the distances to a COM\n",
    "    r1 = a / (1 + (m1/m2))\n",
    "    r2 = a - r1\n",
    "    return r1, r2\n",
    "\n",
    "a1, a2 = com(m1, m2, a)\n",
    "print(a1, a2)\n",
    "\n",
    "a1, a2 = a1.value, a2.value"
   ]
  },
  {
   "cell_type": "markdown",
   "id": "intermediate-waterproof",
   "metadata": {},
   "source": [
    "https://stackoverflow.com/questions/51286455/how-can-i-animate-a-point-moving-around-the-circumference-of-a-circle"
   ]
  },
  {
   "cell_type": "code",
   "execution_count": 4,
   "id": "welcome-hollywood",
   "metadata": {},
   "outputs": [
    {
     "data": {
      "text/plain": [
       "'\\nr_1 = r1.value # radius of circle\\nr_2 = r2.value\\ndef circle1(phi):\\n    return np.array([r_1*np.cos(phi), r_1*np.sin(phi)])\\n\\ndef circle2(phi):\\n    return np.array([r_2*np.cos(phi), r_2*np.sin(phi)])\\n\\n# create a figure with an axes\\nfig, ax = plt.subplots(figsize=(5,5))\\n# set the axes limits\\nax.axis([-1.5,1.5,-1.5,1.5])\\n# set equal aspect such that the circle is not shown as ellipse\\nax.set_aspect(\"equal\")\\n# create a point in the axes\\n#point1, = ax.plot(0,1, marker=\"o\", ms=5)\\npoint1 = plt.Circle((0,1), radius=0.5)\\n\\n# point2, = ax.plot(0,1, marker=\"o\",ms=10)\\n\\n# Updating function, to be repeatedly called by the animation\\ndef update(phi):\\n    # obtain point coordinates \\n    x1,y1 = circle1(phi)\\n    x2,y2 = circle2(phi+np.pi)\\n    # set point\\'s coordinates\\n    point1.set_x=(x1)\\n    point1.set_y=(y1)\\n    \\n#     point2.set_data([x2],[y2])\\n    return point1#, point2\\n\\n# create animation with 10ms interval, which is repeated,\\n# provide the full circle (0,2pi) as parameters\\n#anim = FuncAnimation(fig, update, interval=1, blit=True, repeat=True, frames=np.linspace(0,2*np.pi,2, endpoint=False))\\n\\n#anim.save(\\'animations/test_circle.gif\\', dpi=100, writer=\\'imagemagick\\')\\n#plt.show()'"
      ]
     },
     "execution_count": 4,
     "metadata": {},
     "output_type": "execute_result"
    }
   ],
   "source": [
    "\"\"\"\n",
    "r_1 = r1.value # radius of circle\n",
    "r_2 = r2.value\n",
    "def circle1(phi):\n",
    "    return np.array([r_1*np.cos(phi), r_1*np.sin(phi)])\n",
    "\n",
    "def circle2(phi):\n",
    "    return np.array([r_2*np.cos(phi), r_2*np.sin(phi)])\n",
    "\n",
    "# create a figure with an axes\n",
    "fig, ax = plt.subplots(figsize=(5,5))\n",
    "# set the axes limits\n",
    "ax.axis([-1.5,1.5,-1.5,1.5])\n",
    "# set equal aspect such that the circle is not shown as ellipse\n",
    "ax.set_aspect(\"equal\")\n",
    "# create a point in the axes\n",
    "#point1, = ax.plot(0,1, marker=\"o\", ms=5)\n",
    "point1 = plt.Circle((0,1), radius=0.5)\n",
    "\n",
    "# point2, = ax.plot(0,1, marker=\"o\",ms=10)\n",
    "\n",
    "# Updating function, to be repeatedly called by the animation\n",
    "def update(phi):\n",
    "    # obtain point coordinates \n",
    "    x1,y1 = circle1(phi)\n",
    "    x2,y2 = circle2(phi+np.pi)\n",
    "    # set point's coordinates\n",
    "    point1.set_x=(x1)\n",
    "    point1.set_y=(y1)\n",
    "    \n",
    "#     point2.set_data([x2],[y2])\n",
    "    return point1#, point2\n",
    "\n",
    "# create animation with 10ms interval, which is repeated,\n",
    "# provide the full circle (0,2pi) as parameters\n",
    "#anim = FuncAnimation(fig, update, interval=1, blit=True, repeat=True, frames=np.linspace(0,2*np.pi,2, endpoint=False))\n",
    "\n",
    "#anim.save('animations/test_circle.gif', dpi=100, writer='imagemagick')\n",
    "#plt.show()\"\"\""
   ]
  },
  {
   "cell_type": "markdown",
   "id": "wooden-margin",
   "metadata": {},
   "source": [
    "Didn't work, this looks more promising https://nickcharlton.net/posts/drawing-animating-shapes-matplotlib.html"
   ]
  },
  {
   "cell_type": "code",
   "execution_count": 5,
   "id": "industrial-insert",
   "metadata": {},
   "outputs": [],
   "source": [
    "#stars https://github.com/jamescalam/python_synthwave\n",
    "def make_stars(min_x, max_x, min_y, max_y, stars=100):\n",
    "    y = np.random.uniform(min_y, max_y, stars)\n",
    "    x = np.random.uniform(min_x, max_x, stars)\n",
    "    alpha_multiplier = np.random.uniform(.5, 1, len(x))\n",
    "    size = np.random.uniform(1, 6, len(x))\n",
    "\n",
    "    return np.array([x, y, alpha_multiplier, size]).T"
   ]
  },
  {
   "cell_type": "code",
   "execution_count": 6,
   "id": "patient-monkey",
   "metadata": {},
   "outputs": [
    {
     "data": {
      "image/png": "[encoded data removed]",
      "text/plain": [
       "<Figure size 500x500 with 1 Axes>"
      ]
     },
     "metadata": {},
     "output_type": "display_data"
    }
   ],
   "source": [
    "#plt.style.use(\"cyberpunk\")\n",
    "#rcParams[\"axes.linewidth\"]=1\n",
    "\n",
    "fig = plt.figure(figsize=(5, 5))\n",
    "fig.set_dpi(100)\n",
    "fig.set_tight_layout(True)\n",
    "\n",
    "#fig.set_size_inches(7, 6.5)\n",
    "plot_rad = 1.69\n",
    "ax = plt.axes(xlim=(-plot_rad, plot_rad), ylim=(-plot_rad, plot_rad))\n",
    "\n",
    "ax.set_aspect(\"equal\")\n",
    "patch1 = plt.Circle((0, a1), r1.value, fc='#08F7FE')\n",
    "patch2 = plt.Circle((0, a2), r2.value, fc='#ff3300')\n",
    "\n",
    "patch1a = plt.Circle((0, a1), r1.value*1.1, fc='#08F7FE', alpha=0.3)\n",
    "patch2a = plt.Circle((0, a2), r2.value*1.1, fc='#ff3300',alpha=0.3)\n",
    "\n",
    "def init():\n",
    "    patch1.center = (0, a1)\n",
    "    patch2.center = (0, -a2)\n",
    "    patch1a.center = (0, a1)\n",
    "    patch2a.center = (0, -a2)\n",
    "    ax.add_patch(patch1)\n",
    "    ax.add_patch(patch2)\n",
    "    ax.add_patch(patch1a)\n",
    "    ax.add_patch(patch2a)\n",
    "    return patch1, patch2, patch1a, patch2a\n",
    "\n",
    "def animate(phi):\n",
    "    x, y = patch1.center\n",
    "    x, y = a1* np.cos(phi), a1*np.sin(phi)\n",
    "    patch1.center = (x, y)\n",
    "    patch1a.center = (x, y)\n",
    "    x, y = patch2.center\n",
    "    x, y = a2* np.cos(phi+np.pi), a2*np.sin(phi+np.pi)\n",
    "    patch2.center = (x, y)\n",
    "    patch2a.center = (x, y)\n",
    "    \n",
    "    \n",
    "    \n",
    "    \n",
    "    return patch1, patch2, patch1a, patch2a\n",
    "\n",
    "anim = animation.FuncAnimation(fig, animate, \n",
    "                               init_func=init, \n",
    "                               frames=np.linspace(0,2*np.pi, 360, endpoint=False), \n",
    "                               interval=20,\n",
    "                               blit=True)\n",
    "\n",
    "col= '#000033'\n",
    "bgcol ='#000033'\n",
    "col='k'\n",
    "bgcol='k'\n",
    "fig.patch.set_facecolor(bgcol)\n",
    "ax.set_facecolor(bgcol)\n",
    "ax.spines['bottom'].set_color(col)\n",
    "ax.spines['top'].set_color(col) \n",
    "ax.spines['right'].set_color(col)\n",
    "ax.spines['left'].set_color(col)\n",
    "#plt.grid(zorder=-10)\n",
    "# plt.xlabel(r'X (R$_{\\bigodot}$)')\n",
    "# plt.ylabel(r'Y (R$_{\\bigodot}$)')\n",
    "plt.xticks(visible=False)\n",
    "plt.yticks(visible=False)\n",
    "\n",
    "labely = 1.3\n",
    "labelx= 0.5\n",
    "plt.errorbar((labelx, labelx+1), (labely, labely), yerr=0.1, c='w')\n",
    "plt.annotate(r'1 R$_{\\bigodot}$', (labelx+0.5, labely+0.1), ha='center', c='w')\n",
    "\n",
    "\n",
    "\n",
    "stars = make_stars(-plot_rad, plot_rad, -plot_rad, plot_rad)\n",
    "for star in stars:\n",
    "        alpha = np.random.uniform(0, 1)\n",
    "        ax.scatter(star[0], star[1], s=star[2], alpha=alpha,\n",
    "                   c='#ffffff', zorder=0)\n",
    "        dark = np.random.uniform(0, .3)\n",
    "        ax.scatter(star[0], star[1], s=star[2], alpha=dark,\n",
    "                   c='#000000', zorder=0)\n",
    "        \n",
    "anim = animation.FuncAnimation(fig, animate, \n",
    "                               init_func=init, \n",
    "                               frames=np.linspace(0,2*np.pi, 4, endpoint=False), \n",
    "                               interval=100,\n",
    "                               blit=True)\n",
    "\n",
    "        \n",
    "# anim.save('animations/test_circle_v2.gif', dpi=100, writer='imagemagick')\n",
    "plt.show()\n",
    "\n",
    "#Writer = animation.writers['ffmpeg']\n",
    "#writer = Writer(fps=15, metadata=dict(artist='Me'), bitrate=1800)\n",
    "\n",
    "#anim.save('animations/test2.mp4', writer=writer)\n"
   ]
  },
  {
   "cell_type": "code",
   "execution_count": 7,
   "id": "historic-tract",
   "metadata": {},
   "outputs": [],
   "source": [
    "def make_sun(ax, cx, cy, r, angle):\n",
    "    tr = transforms.Affine2D().rotate_deg(angle)\n",
    "    def make_grad(cx, cy, r, alpha):\n",
    "        circ = mpatches.Circle((cx, cy), r, facecolor='none')\n",
    "        ax.add_patch(circ)\n",
    "\n",
    "        plt.imshow([[1, 1], [0, 0]],\n",
    "                   cmap=cm.YlOrRd,\n",
    "                   interpolation='bicubic',\n",
    "                   aspect='auto',\n",
    "                   extent=(cx-r, cx+r, cy-r, cy+r),\n",
    "                   alpha=alpha,\n",
    "                   clip_path=circ,\n",
    "                   clip_on=True,\n",
    "                  transform=tr + ax.transData)\n",
    "\n",
    "    make_grad(cx, cy, r*1.01, alpha=.4)\n",
    "    make_grad(cx, cy, r*1.02, alpha=.4)\n",
    "    make_grad(cx, cy, r*1.03, alpha=.4)\n",
    "    make_grad(cx, cy, r*1.04, alpha=.4)\n",
    "    make_grad(cx, cy, r*1., alpha=1)\n",
    "\n"
   ]
  },
  {
   "cell_type": "code",
   "execution_count": 8,
   "id": "shaped-costa",
   "metadata": {},
   "outputs": [
    {
     "data": {
      "image/png": "[encoded data removed]",
      "text/plain": [
       "<Figure size 360x360 with 1 Axes>"
      ]
     },
     "metadata": {
      "needs_background": "light"
     },
     "output_type": "display_data"
    }
   ],
   "source": [
    "fig = plt.subplots(figsize=(5,5))\n",
    "plot_rad = r2.value\n",
    "ax = plt.axes(xlim=(-plot_rad, plot_rad), ylim=(-plot_rad, plot_rad))\n",
    "make_sun(ax, 0, 0, plot_rad/1.04, 0)\n",
    "ax.axis('off')\n",
    "plt.savefig('animations/sun.png')\n",
    " "
   ]
  },
  {
   "cell_type": "code",
   "execution_count": 9,
   "id": "aggressive-unknown",
   "metadata": {},
   "outputs": [
    {
     "ename": "AttributeError",
     "evalue": "'PatchCollection' object has no property 'alphas'",
     "output_type": "error",
     "traceback": [
      "\u001b[0;31m---------------------------------------------------------------------------\u001b[0m",
      "\u001b[0;31mAttributeError\u001b[0m                            Traceback (most recent call last)",
      "\u001b[0;32m<ipython-input-9-57858764b40d>\u001b[0m in \u001b[0;36m<module>\u001b[0;34m\u001b[0m\n\u001b[1;32m     15\u001b[0m \u001b[0;34m\u001b[0m\u001b[0m\n\u001b[1;32m     16\u001b[0m \u001b[0mcolors\u001b[0m \u001b[0;34m=\u001b[0m \u001b[0;34m[\u001b[0m\u001b[0;36m1\u001b[0m\u001b[0;34m,\u001b[0m \u001b[0;36m2\u001b[0m\u001b[0;34m,\u001b[0m\u001b[0;36m3\u001b[0m\u001b[0;34m]\u001b[0m\u001b[0;34m\u001b[0m\u001b[0;34m\u001b[0m\u001b[0m\n\u001b[0;32m---> 17\u001b[0;31m \u001b[0mp\u001b[0m \u001b[0;34m=\u001b[0m \u001b[0mPatchCollection\u001b[0m\u001b[0;34m(\u001b[0m\u001b[0mpatches\u001b[0m\u001b[0;34m,\u001b[0m \u001b[0mfacecolors\u001b[0m\u001b[0;34m=\u001b[0m\u001b[0;34m'r'\u001b[0m\u001b[0;34m,\u001b[0m \u001b[0malphas\u001b[0m\u001b[0;34m=\u001b[0m\u001b[0malphas\u001b[0m\u001b[0;34m)\u001b[0m\u001b[0;34m\u001b[0m\u001b[0;34m\u001b[0m\u001b[0m\n\u001b[0m\u001b[1;32m     18\u001b[0m \u001b[0;31m# p.set_array(np.array(colors))\u001b[0m\u001b[0;34m\u001b[0m\u001b[0;34m\u001b[0m\u001b[0;34m\u001b[0m\u001b[0m\n\u001b[1;32m     19\u001b[0m \u001b[0max\u001b[0m\u001b[0;34m.\u001b[0m\u001b[0madd_collection\u001b[0m\u001b[0;34m(\u001b[0m\u001b[0mp\u001b[0m\u001b[0;34m)\u001b[0m\u001b[0;34m\u001b[0m\u001b[0;34m\u001b[0m\u001b[0m\n",
      "\u001b[0;32m~/anaconda3/envs/astroconda/lib/python3.6/site-packages/matplotlib/collections.py\u001b[0m in \u001b[0;36m__init__\u001b[0;34m(self, patches, match_original, **kwargs)\u001b[0m\n\u001b[1;32m   1812\u001b[0m             \u001b[0mkwargs\u001b[0m\u001b[0;34m[\u001b[0m\u001b[0;34m'antialiaseds'\u001b[0m\u001b[0;34m]\u001b[0m \u001b[0;34m=\u001b[0m \u001b[0;34m[\u001b[0m\u001b[0mp\u001b[0m\u001b[0;34m.\u001b[0m\u001b[0mget_antialiased\u001b[0m\u001b[0;34m(\u001b[0m\u001b[0;34m)\u001b[0m \u001b[0;32mfor\u001b[0m \u001b[0mp\u001b[0m \u001b[0;32min\u001b[0m \u001b[0mpatches\u001b[0m\u001b[0;34m]\u001b[0m\u001b[0;34m\u001b[0m\u001b[0;34m\u001b[0m\u001b[0m\n\u001b[1;32m   1813\u001b[0m \u001b[0;34m\u001b[0m\u001b[0m\n\u001b[0;32m-> 1814\u001b[0;31m         \u001b[0mCollection\u001b[0m\u001b[0;34m.\u001b[0m\u001b[0m__init__\u001b[0m\u001b[0;34m(\u001b[0m\u001b[0mself\u001b[0m\u001b[0;34m,\u001b[0m \u001b[0;34m**\u001b[0m\u001b[0mkwargs\u001b[0m\u001b[0;34m)\u001b[0m\u001b[0;34m\u001b[0m\u001b[0;34m\u001b[0m\u001b[0m\n\u001b[0m\u001b[1;32m   1815\u001b[0m \u001b[0;34m\u001b[0m\u001b[0m\n\u001b[1;32m   1816\u001b[0m         \u001b[0mself\u001b[0m\u001b[0;34m.\u001b[0m\u001b[0mset_paths\u001b[0m\u001b[0;34m(\u001b[0m\u001b[0mpatches\u001b[0m\u001b[0;34m)\u001b[0m\u001b[0;34m\u001b[0m\u001b[0;34m\u001b[0m\u001b[0m\n",
      "\u001b[0;32m~/anaconda3/envs/astroconda/lib/python3.6/site-packages/matplotlib/cbook/deprecation.py\u001b[0m in \u001b[0;36mwrapper\u001b[0;34m(*inner_args, **inner_kwargs)\u001b[0m\n\u001b[1;32m    409\u001b[0m                          \u001b[0;32melse\u001b[0m \u001b[0mdeprecation_addendum\u001b[0m\u001b[0;34m,\u001b[0m\u001b[0;34m\u001b[0m\u001b[0;34m\u001b[0m\u001b[0m\n\u001b[1;32m    410\u001b[0m                 **kwargs)\n\u001b[0;32m--> 411\u001b[0;31m         \u001b[0;32mreturn\u001b[0m \u001b[0mfunc\u001b[0m\u001b[0;34m(\u001b[0m\u001b[0;34m*\u001b[0m\u001b[0minner_args\u001b[0m\u001b[0;34m,\u001b[0m \u001b[0;34m**\u001b[0m\u001b[0minner_kwargs\u001b[0m\u001b[0;34m)\u001b[0m\u001b[0;34m\u001b[0m\u001b[0;34m\u001b[0m\u001b[0m\n\u001b[0m\u001b[1;32m    412\u001b[0m \u001b[0;34m\u001b[0m\u001b[0m\n\u001b[1;32m    413\u001b[0m     \u001b[0;32mreturn\u001b[0m \u001b[0mwrapper\u001b[0m\u001b[0;34m\u001b[0m\u001b[0;34m\u001b[0m\u001b[0m\n",
      "\u001b[0;32m~/anaconda3/envs/astroconda/lib/python3.6/site-packages/matplotlib/collections.py\u001b[0m in \u001b[0;36m__init__\u001b[0;34m(self, edgecolors, facecolors, linewidths, linestyles, capstyle, joinstyle, antialiaseds, offsets, transOffset, norm, cmap, pickradius, hatch, urls, offset_position, zorder, **kwargs)\u001b[0m\n\u001b[1;32m    211\u001b[0m \u001b[0;34m\u001b[0m\u001b[0m\n\u001b[1;32m    212\u001b[0m         \u001b[0mself\u001b[0m\u001b[0;34m.\u001b[0m\u001b[0m_path_effects\u001b[0m \u001b[0;34m=\u001b[0m \u001b[0;32mNone\u001b[0m\u001b[0;34m\u001b[0m\u001b[0;34m\u001b[0m\u001b[0m\n\u001b[0;32m--> 213\u001b[0;31m         \u001b[0mself\u001b[0m\u001b[0;34m.\u001b[0m\u001b[0mupdate\u001b[0m\u001b[0;34m(\u001b[0m\u001b[0mkwargs\u001b[0m\u001b[0;34m)\u001b[0m\u001b[0;34m\u001b[0m\u001b[0;34m\u001b[0m\u001b[0m\n\u001b[0m\u001b[1;32m    214\u001b[0m         \u001b[0mself\u001b[0m\u001b[0;34m.\u001b[0m\u001b[0m_paths\u001b[0m \u001b[0;34m=\u001b[0m \u001b[0;32mNone\u001b[0m\u001b[0;34m\u001b[0m\u001b[0;34m\u001b[0m\u001b[0m\n\u001b[1;32m    215\u001b[0m \u001b[0;34m\u001b[0m\u001b[0m\n",
      "\u001b[0;32m~/anaconda3/envs/astroconda/lib/python3.6/site-packages/matplotlib/artist.py\u001b[0m in \u001b[0;36mupdate\u001b[0;34m(self, props)\u001b[0m\n\u001b[1;32m    994\u001b[0m                     \u001b[0mfunc\u001b[0m \u001b[0;34m=\u001b[0m \u001b[0mgetattr\u001b[0m\u001b[0;34m(\u001b[0m\u001b[0mself\u001b[0m\u001b[0;34m,\u001b[0m \u001b[0;34mf\"set_{k}\"\u001b[0m\u001b[0;34m,\u001b[0m \u001b[0;32mNone\u001b[0m\u001b[0;34m)\u001b[0m\u001b[0;34m\u001b[0m\u001b[0;34m\u001b[0m\u001b[0m\n\u001b[1;32m    995\u001b[0m                     \u001b[0;32mif\u001b[0m \u001b[0;32mnot\u001b[0m \u001b[0mcallable\u001b[0m\u001b[0;34m(\u001b[0m\u001b[0mfunc\u001b[0m\u001b[0;34m)\u001b[0m\u001b[0;34m:\u001b[0m\u001b[0;34m\u001b[0m\u001b[0;34m\u001b[0m\u001b[0m\n\u001b[0;32m--> 996\u001b[0;31m                         raise AttributeError(f\"{type(self).__name__!r} object \"\n\u001b[0m\u001b[1;32m    997\u001b[0m                                              f\"has no property {k!r}\")\n\u001b[1;32m    998\u001b[0m                     \u001b[0mret\u001b[0m\u001b[0;34m.\u001b[0m\u001b[0mappend\u001b[0m\u001b[0;34m(\u001b[0m\u001b[0mfunc\u001b[0m\u001b[0;34m(\u001b[0m\u001b[0mv\u001b[0m\u001b[0;34m)\u001b[0m\u001b[0;34m)\u001b[0m\u001b[0;34m\u001b[0m\u001b[0;34m\u001b[0m\u001b[0m\n",
      "\u001b[0;31mAttributeError\u001b[0m: 'PatchCollection' object has no property 'alphas'"
     ]
    },
    {
     "data": {
      "image/png": "[encoded data removed]",
      "text/plain": [
       "<Figure size 360x360 with 1 Axes>"
      ]
     },
     "metadata": {
      "needs_background": "light"
     },
     "output_type": "display_data"
    }
   ],
   "source": [
    "fig, ax = plt.subplots(figsize=(5,5))\n",
    "\n",
    "resolution = 50  # the number of vertices\n",
    "N = 3\n",
    "x = np.random.rand(N)\n",
    "y = np.random.rand(N)\n",
    "radii = [0.1, 0.1, 0.1,1]\n",
    "patches = []\n",
    "alphas= [0.1, 0.5, 1]\n",
    "for x1, y1, r, a in zip(x, y, radii, alphas):\n",
    "    circle = mpatches.Circle((x1, y1), r, alpha=a, facecolor='r')\n",
    "    patches.append(circle)\n",
    "\n",
    "\n",
    "\n",
    "colors = [1, 2,3]\n",
    "p = PatchCollection(patches, facecolors='r', alphas=alphas)\n",
    "# p.set_array(np.array(colors))\n",
    "ax.add_collection(p)\n",
    "\n",
    "plt.show()\n"
   ]
  },
  {
   "cell_type": "code",
   "execution_count": null,
   "id": "applied-skirt",
   "metadata": {},
   "outputs": [],
   "source": [
    "from matplotlib.offsetbox import (TextArea, DrawingArea, OffsetImage,\n",
    "                                  AnnotationBbox)\n",
    "\n",
    "\n",
    "fig = plt.figure(figsize=(5, 5))\n",
    "fig.set_dpi(100)\n",
    "fig.set_tight_layout(True)\n",
    "\n",
    "\n",
    "plot_rad = 1.69\n",
    "\n",
    "# Define a 1st position to annotate (display it with a marker)\n",
    "ax = plt.axes(xlim=(-plot_rad, plot_rad), ylim=(-plot_rad, plot_rad))\n",
    "\n",
    "ax.set_aspect(\"equal\")\n",
    "\n",
    "\n",
    "\n",
    "arr_img = plt.imread('animations/sun.png', format='png')\n",
    "\n",
    "imagebox = OffsetImage(arr_img, zoom=0.1)\n",
    "# imagebox.image.axes = ax\n",
    "\n",
    "tr = transforms.Affine2D().rotate_deg(2)\n",
    "\n",
    "# imagebox = imagebox.gettransform=tr+ ax.transData\n",
    "\n",
    "ab = AnnotationBbox(imagebox, (0,0),\n",
    "                    xycoords='data',\n",
    "                    frameon=False,\n",
    "                    )\n",
    "\n",
    "\n",
    "ax.add_artist(ab)\n",
    "ax.set_facecolor(bgcol)\n",
    "plt.axhline(0, c='r')"
   ]
  },
  {
   "cell_type": "code",
   "execution_count": null,
   "id": "greek-topic",
   "metadata": {},
   "outputs": [],
   "source": [
    "\n",
    "\n",
    "circles = []\n",
    "circle1 = mpatches.Circle((0, 0), 0.1, alpha=1, facecolor='r')\n",
    "circles.append(circle1)\n",
    "circle2 = mpatches.Circle((0, 0), 0.2, alpha=0.5, facecolor='r')\n",
    "circles.append(circle2)\n",
    "\n",
    "fig = plt.figure(figsize=(5, 5))\n",
    "fig.set_dpi(100)\n",
    "fig.set_tight_layout(True)\n",
    "\n",
    "\n",
    "plot_rad = 1.69\n",
    "\n",
    "# Define a 1st position to annotate (display it with a marker)\n",
    "ax = plt.axes(xlim=(-plot_rad, plot_rad), ylim=(-plot_rad, plot_rad))\n",
    "\n",
    "ax.set_aspect(\"equal\")\n",
    "\n",
    "for circ in circles:\n",
    "    ax.add_patch(circ)\n",
    "\n",
    "for circ in circles:\n",
    "    circ.center=(0,1)\n",
    "    ax.add_patch(circ)\n",
    "    \n",
    "ax.set_facecolor('k')\n",
    "\n",
    "\n"
   ]
  },
  {
   "cell_type": "markdown",
   "id": "american-prior",
   "metadata": {},
   "source": [
    "With wedges"
   ]
  },
  {
   "cell_type": "code",
   "execution_count": 127,
   "id": "institutional-nickel",
   "metadata": {},
   "outputs": [
    {
     "data": {
      "image/png": "[encoded data removed]",
      "text/plain": [
       "<Figure size 500x500 with 1 Axes>"
      ]
     },
     "metadata": {
      "needs_background": "light"
     },
     "output_type": "display_data"
    }
   ],
   "source": [
    "fig = plt.figure(figsize=(5, 5))\n",
    "fig.set_dpi(100)\n",
    "fig.set_tight_layout(True)\n",
    "\n",
    "\n",
    "plot_rad = 1.69\n",
    "\n",
    "# Define a 1st position to annotate (display it with a marker)\n",
    "ax = plt.axes(xlim=(-plot_rad, plot_rad), ylim=(-plot_rad, plot_rad))\n",
    "\n",
    "angle=45\n",
    "center =1,1\n",
    "radius = 0.5\n",
    "theta1, theta2 = angle, angle + 180\n",
    "#c1 =plt.Circle(center, radius, fc='#801a00')\n",
    "w1 = Wedge(center, radius, theta1, theta2, fc='#ff3300')\n",
    "w2 = Wedge(center, radius, theta2, theta1, fc='#ff9900')\n",
    "for wedge in [ w1, w2]:\n",
    "    ax.add_artist(wedge)\n",
    "\n",
    "\n",
    "x, y = a1* np.cos(np.pi/2), a1*np.sin(np.pi/2)\n",
    "plt.scatter(x,y)\n",
    "ax.set_facecolor('k')\n"
   ]
  },
  {
   "cell_type": "code",
   "execution_count": 168,
   "id": "tender-frontier",
   "metadata": {},
   "outputs": [
    {
     "name": "stdout",
     "output_type": "stream",
     "text": [
      "68.818\n"
     ]
    },
    {
     "data": {
      "image/png": "[encoded data removed]",
      "text/plain": [
       "<Figure size 500x500 with 1 Axes>"
      ]
     },
     "metadata": {},
     "output_type": "display_data"
    }
   ],
   "source": [
    "#plt.style.use(\"cyberpunk\")\n",
    "#rcParams[\"axes.linewidth\"]=1\n",
    "\n",
    "fig = plt.figure(figsize=(5, 5))\n",
    "fig.set_dpi(100)\n",
    "fig.set_tight_layout(True)\n",
    "\n",
    "#fig.set_size_inches(7, 6.5)\n",
    "plot_rad = 1.69\n",
    "ax = plt.axes(xlim=(-plot_rad, plot_rad), ylim=(-plot_rad, plot_rad))\n",
    "\n",
    "ax.set_aspect(\"equal\")\n",
    "patch1 = plt.Circle((0, a1), r1.value, fc='#08F7FE')\n",
    "#patch2 = plt.Circle((0, a2), r2.value, fc='#ff3300')\n",
    "patch2 = mpatches.Wedge((0, -a2), r2.value, 0, 180, fc='#ff9900')\n",
    "patch3 = mpatches.Wedge((0, -a2), r2.value, 180, 0, fc='#ff3300')\n",
    "\n",
    "\n",
    "patch1a = plt.Circle((0, a1), r1.value*1.1, fc='#08F7FE', alpha=0.0)\n",
    "patch2a = plt.Circle((0, a2), r2.value*1.1, fc='#ff3300',alpha=0.0, zorder=-10)\n",
    "\n",
    "labely = 1.3\n",
    "labelx= 0.5\n",
    "plt.errorbar((labelx, labelx+1), (labely, labely), yerr=0.1, c='w')\n",
    "plt.annotate(r'1 R$_{\\bigodot}$', (labelx+0.5, labely+0.1), ha='center', c='w')\n",
    "\n",
    "an = ax.annotate('', (labelx-1.5, labely+0.1), ha='center', c='w')\n",
    "\n",
    "def init():\n",
    "    patch1.center = (0, a1)\n",
    "    patch2.center = (0, -a2)\n",
    "    patch3.center = (0, -a2)\n",
    "    patch1a.center = (0, a1)\n",
    "    patch2a.center = (0, -a2)\n",
    "    ax.add_patch(patch1)\n",
    "    ax.add_patch(patch2)\n",
    "    ax.add_patch(patch3)\n",
    "    ax.add_patch(patch1a)\n",
    "    ax.add_patch(patch2a)\n",
    "    return patch1, patch2, patch1a, patch2a, patch3\n",
    "\n",
    "def animate(phi):\n",
    "    x, y = patch1.center\n",
    "    x, y = a1* np.cos(phi), a1*np.sin(phi)\n",
    "    patch1.center = (x, y)\n",
    "    patch1a.center = (x, y)\n",
    "    x, y = patch2.center\n",
    "    x, y = a2* np.cos(phi+np.pi), a2*np.sin(phi+np.pi)\n",
    "    patch2.center = (x, y)\n",
    "    patch3.center = (x, y)\n",
    "    phid = (phi*(180/np.pi))+180\n",
    "#     print(phid)\n",
    "    theta1 = phid+90\n",
    "    theta2 = phid+270\n",
    "    if phid > 90 or phid >= 270:\n",
    "        patch2.theta1 = theta1\n",
    "        patch2.theta2 = theta2\n",
    "        patch3.theta1 = theta2\n",
    "        patch3.theta2 = theta1\n",
    "    else:\n",
    "        patch2.theta1 = theta2\n",
    "        patch2.theta2 = theta1\n",
    "        patch3.theta1 = theta1\n",
    "        patch3.theta2 = theta2\n",
    "    patch2a.center = (x, y)\n",
    "    patch2._recompute_path()\n",
    "    patch3._recompute_path()\n",
    "    tstep = 0\n",
    "    if phi > 0:\n",
    "        tstep = (p.value)*phi/(2*np.pi)\n",
    "    an.set_text(r'T$={:.2f}$h'.format(tstep)+'\\n(1000x speed)')\n",
    "    return patch1, patch2, patch1a, patch2a, patch3, an\n",
    "\n",
    "col= '#000033'\n",
    "bgcol ='#000033'\n",
    "col='k'\n",
    "bgcol='k'\n",
    "fig.patch.set_facecolor(bgcol)\n",
    "ax.set_facecolor(bgcol)\n",
    "ax.spines['bottom'].set_color(col)\n",
    "ax.spines['top'].set_color(col) \n",
    "ax.spines['right'].set_color(col)\n",
    "ax.spines['left'].set_color(col)\n",
    "#plt.grid(zorder=-10)\n",
    "# plt.xlabel(r'X (R$_{\\bigodot}$)')\n",
    "# plt.ylabel(r'Y (R$_{\\bigodot}$)')\n",
    "plt.xticks(visible=False)\n",
    "plt.yticks(visible=False)\n",
    "\n",
    "\n",
    "\n",
    "\n",
    "\n",
    "stars = make_stars(-plot_rad, plot_rad, -plot_rad, plot_rad)\n",
    "for star in stars:\n",
    "        alpha = np.random.uniform(0, 1)\n",
    "        ax.scatter(star[0], star[1], s=star[2], alpha=alpha,\n",
    "                   c='#ffffff', zorder=0)\n",
    "        dark = np.random.uniform(0, .3)\n",
    "        ax.scatter(star[0], star[1], s=star[2], alpha=dark,\n",
    "                   c='#000000', zorder=0)\n",
    "\n",
    "# interval = 100\n",
    "interval = (p.to(u.ms)/(360*1000)).value\n",
    "print(interval)\n",
    "        \n",
    "anim = animation.FuncAnimation(fig, animate, \n",
    "                               init_func=init, \n",
    "                               frames=np.linspace(0,2*np.pi, 360, endpoint=False), \n",
    "                               interval=interval,\n",
    "                               blit=True)\n",
    "\n",
    "        \n",
    "anim.save('animations/test_circle_v3.gif', dpi=100, writer='imagemagick')\n",
    "plt.show()\n",
    "\n",
    "#Writer = animation.writers['ffmpeg']\n",
    "#writer = Writer(fps=15, metadata=dict(artist='Me'), bitrate=1800)\n",
    "\n",
    "#anim.save('animations/test2.mp4', writer=writer)\n"
   ]
  },
  {
   "cell_type": "code",
   "execution_count": 132,
   "id": "continent-proportion",
   "metadata": {},
   "outputs": [
    {
     "data": {
      "text/latex": [
       "$6.8818 \\; \\mathrm{h}$"
      ],
      "text/plain": [
       "<Quantity 6.8818 h>"
      ]
     },
     "execution_count": 132,
     "metadata": {},
     "output_type": "execute_result"
    }
   ],
   "source": [
    "p"
   ]
  },
  {
   "cell_type": "code",
   "execution_count": 164,
   "id": "cross-scanner",
   "metadata": {},
   "outputs": [
    {
     "data": {
      "text/plain": [
       "68818.0"
      ]
     },
     "execution_count": 164,
     "metadata": {},
     "output_type": "execute_result"
    }
   ],
   "source": [
    "68.818*1000"
   ]
  },
  {
   "cell_type": "code",
   "execution_count": 151,
   "id": "copyrighted-visitor",
   "metadata": {},
   "outputs": [
    {
     "name": "stdout",
     "output_type": "stream",
     "text": [
      "68.818\n"
     ]
    }
   ],
   "source": [
    "# interval = (p.to(u.ms)/1000000).value\n",
    "# print(interval)\n",
    "# print(interval*360/1000)\n",
    "# print(p.to(u.s).value/(interval*360/1000))\n",
    "\n",
    "print((p.to(u.ms)/(360*1000)).value)"
   ]
  },
  {
   "cell_type": "code",
   "execution_count": null,
   "id": "anticipated-apollo",
   "metadata": {},
   "outputs": [],
   "source": [
    "#plt.style.use(\"cyberpunk\")\n",
    "#rcParams[\"axes.linewidth\"]=1\n",
    "\n",
    "fig = plt.figure(figsize=(5, 5))\n",
    "fig.set_dpi(100)\n",
    "fig.set_tight_layout(True)\n",
    "\n",
    "#fig.set_size_inches(7, 6.5)\n",
    "plot_rad = 1.69\n",
    "ax = plt.axes(xlim=(-plot_rad, plot_rad), ylim=(-plot_rad, plot_rad))\n",
    "\n",
    "ax.set_aspect(\"equal\")\n",
    "patch1 = plt.Circle((0, a1), r1.value, fc='#08F7FE')\n",
    "#patch2 = plt.Circle((0, a2), r2.value, fc='#ff3300')\n",
    "patch2 = mpatches.Wedge((0, -a2), r2.value, 0, 180, fc='#ff9900')\n",
    "patch3 = mpatches.Wedge((0, -a2), r2.value, 180, 0, fc='#ff3300')\n",
    "\n",
    "\n",
    "patch1a = plt.Circle((0, a1), r1.value*1.1, fc='#08F7FE', alpha=0.0)\n",
    "patch2a = plt.Circle((0, a2), r2.value*1.1, fc='#ff3300',alpha=0.0, zorder=-10)\n",
    "\n",
    "def init():\n",
    "    patch1.center = (0, a1)\n",
    "    patch2.center = (0, -a2)\n",
    "    patch3.center = (0, -a2)\n",
    "    patch1a.center = (0, a1)\n",
    "    patch2a.center = (0, -a2)\n",
    "    ax.add_patch(patch1)\n",
    "    ax.add_patch(patch2)\n",
    "    ax.add_patch(patch3)\n",
    "    ax.add_patch(patch1a)\n",
    "    ax.add_patch(patch2a)\n",
    "    return patch1, patch2, patch1a, patch2a, patch3\n",
    "\n",
    "def animate(phi):\n",
    "    x, y = patch1.center\n",
    "    x, y = a1* np.cos(phi), a1*np.sin(phi)\n",
    "    patch1.center = (x, y)\n",
    "    patch1a.center = (x, y)\n",
    "    x, y = patch2.center\n",
    "    x, y = a2* np.cos(phi+np.pi), a2*np.sin(phi+np.pi)\n",
    "    patch2.center = (x, y)\n",
    "    patch3.center = (x, y)\n",
    "    phid = (phi*(180/np.pi))+180\n",
    "#     print(phid)\n",
    "    theta1 = phid+90\n",
    "    theta2 = phid+270\n",
    "    if phid > 90 or phid >= 270:\n",
    "        patch2.theta1 = theta1\n",
    "        patch2.theta2 = theta2\n",
    "        patch3.theta1 = theta2\n",
    "        patch3.theta2 = theta1\n",
    "    else:\n",
    "        patch2.theta1 = theta2\n",
    "        patch2.theta2 = theta1\n",
    "        patch3.theta1 = theta1\n",
    "        patch3.theta2 = theta2\n",
    "    patch2a.center = (x, y)\n",
    "    patch2._recompute_path()\n",
    "    patch3._recompute_path()\n",
    "    return patch1, patch2, patch1a, patch2a, patch3\n",
    "\n",
    "col= '#000033'\n",
    "bgcol ='#000033'\n",
    "col='k'\n",
    "bgcol='k'\n",
    "fig.patch.set_facecolor(bgcol)\n",
    "ax.set_facecolor(bgcol)\n",
    "ax.spines['bottom'].set_color(col)\n",
    "ax.spines['top'].set_color(col) \n",
    "ax.spines['right'].set_color(col)\n",
    "ax.spines['left'].set_color(col)\n",
    "#plt.grid(zorder=-10)\n",
    "# plt.xlabel(r'X (R$_{\\bigodot}$)')\n",
    "# plt.ylabel(r'Y (R$_{\\bigodot}$)')\n",
    "plt.xticks(visible=False)\n",
    "plt.yticks(visible=False)\n",
    "\n",
    "labely = 1.3\n",
    "labelx= 0.5\n",
    "plt.errorbar((labelx, labelx+1), (labely, labely), yerr=0.1, c='w')\n",
    "plt.annotate(r'1 R$_{\\bigodot}$', (labelx+0.5, labely+0.1), ha='center', c='w')\n",
    "\n",
    "\n",
    "\n",
    "stars = make_stars(-plot_rad, plot_rad, -plot_rad, plot_rad)\n",
    "for star in stars:\n",
    "        alpha = np.random.uniform(0, 1)\n",
    "        ax.scatter(star[0], star[1], s=star[2], alpha=alpha,\n",
    "                   c='#ffffff', zorder=0)\n",
    "        dark = np.random.uniform(0, .3)\n",
    "        ax.scatter(star[0], star[1], s=star[2], alpha=dark,\n",
    "                   c='#000000', zorder=0)\n",
    "\n",
    "# interval = 20\n",
    "interval = (p.to(u.ms)/1000000).value\n",
    "        \n",
    "anim = animation.FuncAnimation(fig, animate, \n",
    "                               init_func=init, \n",
    "                               frames=np.linspace(0,2*np.pi, 360, endpoint=False), \n",
    "                               interval=interval,\n",
    "                               blit=True)\n",
    "\n",
    "        \n",
    "# anim.save('animations/test_circle_v3.gif', dpi=100, writer='imagemagick')\n",
    "plt.show()\n",
    "\n",
    "#Writer = animation.writers['ffmpeg']\n",
    "#writer = Writer(fps=15, metadata=dict(artist='Me'), bitrate=1800)\n",
    "\n",
    "#anim.save('animations/test2.mp4', writer=writer)\n"
   ]
  }
 ],
 "metadata": {
  "kernelspec": {
   "display_name": "Python 3",
   "language": "python",
   "name": "python3"
  },
  "language_info": {
   "codemirror_mode": {
    "name": "ipython",
    "version": 3
   },
   "file_extension": ".py",
   "mimetype": "text/x-python",
   "name": "python",
   "nbconvert_exporter": "python",
   "pygments_lexer": "ipython3",
   "version": "3.6.12"
  }
 },
 "nbformat": 4,
 "nbformat_minor": 5
}
