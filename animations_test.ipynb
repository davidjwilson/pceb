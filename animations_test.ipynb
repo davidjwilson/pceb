{
 "cells": [
  {
   "cell_type": "markdown",
   "id": "unlimited-chase",
   "metadata": {},
   "source": [
    "Can I animate a spinning pceb?"
   ]
  },
  {
   "cell_type": "code",
   "execution_count": 1,
   "id": "surgical-indonesia",
   "metadata": {},
   "outputs": [],
   "source": [
    "import numpy as np\n",
    "import matplotlib.pyplot as plt\n",
    "import astropy.io.fits as fits\n",
    "import os\n",
    "import glob\n",
    "from astropy.table import Table\n",
    "from astropy.io import ascii\n",
    "import astropy.units as u\n",
    "import astropy.constants as const\n",
    "from matplotlib import animation\n",
    "import mplcyberpunk\n",
    "\n",
    "\n",
    "\n",
    "#matplotlib set up\n",
    "%matplotlib inline\n",
    "from matplotlib import rcParams\n",
    "rcParams[\"figure.figsize\"] = (14, 5)\n",
    "rcParams[\"font.size\"] = 20"
   ]
  },
  {
   "cell_type": "code",
   "execution_count": 2,
   "id": "republican-basket",
   "metadata": {},
   "outputs": [],
   "source": [
    "#cc cet\n",
    "m1 = 0.441*u.Msun\n",
    "m2 = 0.18*u.Msun\n",
    "p= 6.8818*u.hr\n",
    "r1 = 0.0179*u.Rsun\n",
    "r2 = 0.243*u.Rsun"
   ]
  },
  {
   "cell_type": "code",
   "execution_count": 3,
   "id": "bearing-colony",
   "metadata": {},
   "outputs": [
    {
     "name": "stdout",
     "output_type": "stream",
     "text": [
      "1.5612131270208132 solRad\n",
      "0.4525255440640038 solRad 1.1086875829568092 solRad\n"
     ]
    }
   ],
   "source": [
    "def p_to_a(m1, m2, p):\n",
    "    m1, m2, p = m1.to(u.kg), m2.to(u.kg), p.to(u.s)\n",
    "    a = ((const.G*(m1+m2) * p**2)/(4*np.pi**2))**(1/3)\n",
    "    return a\n",
    "\n",
    "a = p_to_a(m1, m2, p)\n",
    "a = a.to(u.Rsun)\n",
    "print(a) #yay right answer\n",
    "\n",
    "def com(m1, m2, a): #find the distances to a COM\n",
    "    r1 = a / (1 + (m1/m2))\n",
    "    r2 = a - r1\n",
    "    return r1, r2\n",
    "\n",
    "a1, a2 = com(m1, m2, a)\n",
    "print(a1, a2)\n",
    "\n",
    "a1, a2 = a1.value, a2.value"
   ]
  },
  {
   "cell_type": "markdown",
   "id": "tamil-bunch",
   "metadata": {},
   "source": [
    "https://stackoverflow.com/questions/51286455/how-can-i-animate-a-point-moving-around-the-circumference-of-a-circle"
   ]
  },
  {
   "cell_type": "code",
   "execution_count": 4,
   "id": "systematic-simpson",
   "metadata": {},
   "outputs": [
    {
     "data": {
      "text/plain": [
       "'\\nr_1 = r1.value # radius of circle\\nr_2 = r2.value\\ndef circle1(phi):\\n    return np.array([r_1*np.cos(phi), r_1*np.sin(phi)])\\n\\ndef circle2(phi):\\n    return np.array([r_2*np.cos(phi), r_2*np.sin(phi)])\\n\\n# create a figure with an axes\\nfig, ax = plt.subplots(figsize=(5,5))\\n# set the axes limits\\nax.axis([-1.5,1.5,-1.5,1.5])\\n# set equal aspect such that the circle is not shown as ellipse\\nax.set_aspect(\"equal\")\\n# create a point in the axes\\n#point1, = ax.plot(0,1, marker=\"o\", ms=5)\\npoint1 = plt.Circle((0,1), radius=0.5)\\n\\n# point2, = ax.plot(0,1, marker=\"o\",ms=10)\\n\\n# Updating function, to be repeatedly called by the animation\\ndef update(phi):\\n    # obtain point coordinates \\n    x1,y1 = circle1(phi)\\n    x2,y2 = circle2(phi+np.pi)\\n    # set point\\'s coordinates\\n    point1.set_x=(x1)\\n    point1.set_y=(y1)\\n    \\n#     point2.set_data([x2],[y2])\\n    return point1#, point2\\n\\n# create animation with 10ms interval, which is repeated,\\n# provide the full circle (0,2pi) as parameters\\n#anim = FuncAnimation(fig, update, interval=1, blit=True, repeat=True, frames=np.linspace(0,2*np.pi,2, endpoint=False))\\n\\n#anim.save(\\'animations/test_circle.gif\\', dpi=100, writer=\\'imagemagick\\')\\n#plt.show()'"
      ]
     },
     "execution_count": 4,
     "metadata": {},
     "output_type": "execute_result"
    }
   ],
   "source": [
    "\"\"\"\n",
    "r_1 = r1.value # radius of circle\n",
    "r_2 = r2.value\n",
    "def circle1(phi):\n",
    "    return np.array([r_1*np.cos(phi), r_1*np.sin(phi)])\n",
    "\n",
    "def circle2(phi):\n",
    "    return np.array([r_2*np.cos(phi), r_2*np.sin(phi)])\n",
    "\n",
    "# create a figure with an axes\n",
    "fig, ax = plt.subplots(figsize=(5,5))\n",
    "# set the axes limits\n",
    "ax.axis([-1.5,1.5,-1.5,1.5])\n",
    "# set equal aspect such that the circle is not shown as ellipse\n",
    "ax.set_aspect(\"equal\")\n",
    "# create a point in the axes\n",
    "#point1, = ax.plot(0,1, marker=\"o\", ms=5)\n",
    "point1 = plt.Circle((0,1), radius=0.5)\n",
    "\n",
    "# point2, = ax.plot(0,1, marker=\"o\",ms=10)\n",
    "\n",
    "# Updating function, to be repeatedly called by the animation\n",
    "def update(phi):\n",
    "    # obtain point coordinates \n",
    "    x1,y1 = circle1(phi)\n",
    "    x2,y2 = circle2(phi+np.pi)\n",
    "    # set point's coordinates\n",
    "    point1.set_x=(x1)\n",
    "    point1.set_y=(y1)\n",
    "    \n",
    "#     point2.set_data([x2],[y2])\n",
    "    return point1#, point2\n",
    "\n",
    "# create animation with 10ms interval, which is repeated,\n",
    "# provide the full circle (0,2pi) as parameters\n",
    "#anim = FuncAnimation(fig, update, interval=1, blit=True, repeat=True, frames=np.linspace(0,2*np.pi,2, endpoint=False))\n",
    "\n",
    "#anim.save('animations/test_circle.gif', dpi=100, writer='imagemagick')\n",
    "#plt.show()\"\"\""
   ]
  },
  {
   "cell_type": "markdown",
   "id": "checked-shield",
   "metadata": {},
   "source": [
    "Didn't work, this looks more promising https://nickcharlton.net/posts/drawing-animating-shapes-matplotlib.html"
   ]
  },
  {
   "cell_type": "code",
   "execution_count": 5,
   "id": "auburn-cream",
   "metadata": {},
   "outputs": [],
   "source": [
    "#stars https://github.com/jamescalam/python_synthwave\n",
    "def make_stars(min_x, max_x, min_y, max_y, stars=100):\n",
    "    y = np.random.uniform(min_y, max_y, stars)\n",
    "    x = np.random.uniform(min_x, max_x, stars)\n",
    "    alpha_multiplier = np.random.uniform(.5, 1, len(x))\n",
    "    size = np.random.uniform(1, 6, len(x))\n",
    "\n",
    "    return np.array([x, y, alpha_multiplier, size]).T"
   ]
  },
  {
   "cell_type": "code",
   "execution_count": 16,
   "id": "complex-malpractice",
   "metadata": {},
   "outputs": [
    {
     "data": {
      "image/png": "[encoded data removed]",
      "text/plain": [
       "<Figure size 500x500 with 1 Axes>"
      ]
     },
     "metadata": {},
     "output_type": "display_data"
    }
   ],
   "source": [
    "#plt.style.use(\"cyberpunk\")\n",
    "#rcParams[\"axes.linewidth\"]=1\n",
    "\n",
    "fig = plt.figure(figsize=(5, 5))\n",
    "fig.set_dpi(100)\n",
    "fig.set_tight_layout(True)\n",
    "\n",
    "#fig.set_size_inches(7, 6.5)\n",
    "plot_rad = 1.69\n",
    "ax = plt.axes(xlim=(-plot_rad, plot_rad), ylim=(-plot_rad, plot_rad))\n",
    "\n",
    "ax.set_aspect(\"equal\")\n",
    "patch1 = plt.Circle((0, a1), r1.value, fc='#08F7FE')\n",
    "patch2 = plt.Circle((0, a2), r2.value, fc='#ff3300')\n",
    "\n",
    "patch1a = plt.Circle((0, a1), r1.value*1.1, fc='#08F7FE', alpha=0.5)\n",
    "patch2a = plt.Circle((0, a2), r2.value*1.1, fc='#ff3300',alpha=0.5)\n",
    "\n",
    "def init():\n",
    "    patch1.center = (0, a1)\n",
    "    patch2.center = (0, -a2)\n",
    "    patch1a.center = (0, a1)\n",
    "    patch2a.center = (0, -a2)\n",
    "    ax.add_patch(patch1)\n",
    "    ax.add_patch(patch2)\n",
    "    ax.add_patch(patch1a)\n",
    "    ax.add_patch(patch2a)\n",
    "    return patch1, patch2, patch1a, patch2a\n",
    "\n",
    "def animate(phi):\n",
    "    x, y = patch1.center\n",
    "    x, y = a1* np.cos(phi), a1*np.sin(phi)\n",
    "    patch1.center = (x, y)\n",
    "    patch1a.center = (x, y)\n",
    "    x, y = patch2.center\n",
    "    x, y = a2* np.cos(phi+np.pi), a2*np.sin(phi+np.pi)\n",
    "    patch2.center = (x, y)\n",
    "    patch2a.center = (x, y)\n",
    "    \n",
    "    \n",
    "    return patch1, patch2, patch1a, patch2a\n",
    "\n",
    "anim = animation.FuncAnimation(fig, animate, \n",
    "                               init_func=init, \n",
    "                               frames=np.linspace(0,2*np.pi, 360, endpoint=False), \n",
    "                               interval=20,\n",
    "                               blit=True)\n",
    "\n",
    "col= '#000033'\n",
    "bgcol ='#000033'\n",
    "col='k'\n",
    "bgcol='k'\n",
    "fig.patch.set_facecolor(bgcol)\n",
    "ax.set_facecolor(bgcol)\n",
    "ax.spines['bottom'].set_color(col)\n",
    "ax.spines['top'].set_color(col) \n",
    "ax.spines['right'].set_color(col)\n",
    "ax.spines['left'].set_color(col)\n",
    "#plt.grid(zorder=-10)\n",
    "# plt.xlabel(r'X (R$_{\\bigodot}$)')\n",
    "# plt.ylabel(r'Y (R$_{\\bigodot}$)')\n",
    "plt.xticks(visible=False)\n",
    "plt.yticks(visible=False)\n",
    "\n",
    "labely = 1.3\n",
    "labelx= 0.5\n",
    "plt.errorbar((labelx, labelx+1), (labely, labely), yerr=0.1, c='w')\n",
    "plt.annotate(r'1 R$_{\\bigodot}$', (labelx+0.5, labely+0.1), ha='center', c='w')\n",
    "\n",
    "stars = make_stars(-plot_rad, plot_rad, -plot_rad, plot_rad)\n",
    "for star in stars:\n",
    "        alpha = np.random.uniform(0, 1)\n",
    "        ax.scatter(star[0], star[1], s=star[2], alpha=alpha,\n",
    "                   c='#ffffff', zorder=0)\n",
    "        dark = np.random.uniform(0, .3)\n",
    "        ax.scatter(star[0], star[1], s=star[2], alpha=dark,\n",
    "                   c='#000000', zorder=0)\n",
    "\n",
    "# anim.save('animations/test_circle.gif', dpi=100, writer='imagemagick')\n",
    "plt.show()\n",
    "\n",
    "#Writer = animation.writers['ffmpeg']\n",
    "#writer = Writer(fps=15, metadata=dict(artist='Me'), bitrate=1800)\n",
    "\n",
    "#anim.save('animations/test2.mp4', writer=writer)\n"
   ]
  },
  {
   "cell_type": "code",
   "execution_count": null,
   "id": "suspended-vampire",
   "metadata": {},
   "outputs": [],
   "source": []
  }
 ],
 "metadata": {
  "kernelspec": {
   "display_name": "Python 3",
   "language": "python",
   "name": "python3"
  },
  "language_info": {
   "codemirror_mode": {
    "name": "ipython",
    "version": 3
   },
   "file_extension": ".py",
   "mimetype": "text/x-python",
   "name": "python",
   "nbconvert_exporter": "python",
   "pygments_lexer": "ipython3",
   "version": "3.6.12"
  }
 },
 "nbformat": 4,
 "nbformat_minor": 5
}
