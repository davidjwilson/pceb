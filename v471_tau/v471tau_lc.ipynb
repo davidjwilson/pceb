{
 "cells": [
  {
   "cell_type": "markdown",
   "metadata": {},
   "source": [
    "Just taking a quick look at the V471 tau light curve. Lightkurve only found the long cadence data, trying again with short cadence"
   ]
  },
  {
   "cell_type": "code",
   "execution_count": 2,
   "metadata": {},
   "outputs": [],
   "source": [
    "import numpy as np\n",
    "import matplotlib.pyplot as plt\n",
    "import astropy.io.fits as fits\n",
    "import os\n",
    "import glob\n",
    "from astropy.table import Table\n",
    "from astropy.io import ascii\n",
    "import astropy.units as u\n",
    "import astropy.constants as const\n",
    "from astropy.modeling import models, fitting\n",
    "import lightkurve as lk\n",
    "from astropy.coordinates import SkyCoord\n",
    "from matplotlib.gridspec import GridSpec\n",
    "\n",
    "#matplotlib set up\n",
    "%matplotlib inline\n",
    "from matplotlib import rcParams\n",
    "rcParams[\"figure.figsize\"] = (14, 5)\n",
    "rcParams[\"font.size\"] = 20"
   ]
  },
  {
   "cell_type": "code",
   "execution_count": 3,
   "metadata": {},
   "outputs": [],
   "source": [
    "# star= lk.search.search_lightcurvefile('V471 Tau', mission='K2')"
   ]
  },
  {
   "cell_type": "code",
   "execution_count": 4,
   "metadata": {},
   "outputs": [],
   "source": [
    "# star.download(download_dir='/media/david/5tb_storage1/cc_cet/misc/')"
   ]
  },
  {
   "cell_type": "code",
   "execution_count": 5,
   "metadata": {},
   "outputs": [],
   "source": [
    "hdul = fits.open('/media/david/5tb_storage1/v471_tau/k2/MAST_2021-02-04T2322/K2/ktwo210619926-c04_sc/ktwo210619926-c04_slc.fits')"
   ]
  },
  {
   "cell_type": "code",
   "execution_count": 6,
   "metadata": {},
   "outputs": [
    {
     "data": {
      "text/plain": [
       "['TIME',\n",
       " 'TIMECORR',\n",
       " 'CADENCENO',\n",
       " 'SAP_FLUX',\n",
       " 'SAP_FLUX_ERR',\n",
       " 'SAP_BKG',\n",
       " 'SAP_BKG_ERR',\n",
       " 'PDCSAP_FLUX',\n",
       " 'PDCSAP_FLUX_ERR',\n",
       " 'SAP_QUALITY',\n",
       " 'PSF_CENTR1',\n",
       " 'PSF_CENTR1_ERR',\n",
       " 'PSF_CENTR2',\n",
       " 'PSF_CENTR2_ERR',\n",
       " 'MOM_CENTR1',\n",
       " 'MOM_CENTR1_ERR',\n",
       " 'MOM_CENTR2',\n",
       " 'MOM_CENTR2_ERR',\n",
       " 'POS_CORR1',\n",
       " 'POS_CORR2']"
      ]
     },
     "execution_count": 6,
     "metadata": {},
     "output_type": "execute_result"
    }
   ],
   "source": [
    "hdul[1].data.names"
   ]
  },
  {
   "cell_type": "code",
   "execution_count": 7,
   "metadata": {},
   "outputs": [],
   "source": [
    "data = hdul[1].data"
   ]
  },
  {
   "cell_type": "code",
   "execution_count": 10,
   "metadata": {},
   "outputs": [
    {
     "data": {
      "text/plain": [
       "Text(0, 0.5, 'Normalised Flux')"
      ]
     },
     "execution_count": 10,
     "metadata": {},
     "output_type": "execute_result"
    },
    {
     "data": {
      "image/png": "[encoded data removed]",
      "text/plain": [
       "<Figure size 1008x360 with 1 Axes>"
      ]
     },
     "metadata": {
      "needs_background": "light"
     },
     "output_type": "display_data"
    }
   ],
   "source": [
    "t, f, e, q, bk = data['TIME'], data['SAP_FLUX'], data['SAP_FLUX_ERR'], data['SAP_QUALITY'], data['SAP_BKG']#[np.isnan(data['SAP_BKG'])==False]\n",
    "t, f, e, bk = t[q==0], f[q==0], e[q==0], bk[q==0]\n",
    "#fit = np.polyval((np.polyfit(t,f,2)), t)\n",
    "#f = (f/fit)-1\n",
    "#e = (e/fit)\n",
    "#cut_mask = (bk < 1.1*np.median(bk))\n",
    "lc = lk.LightCurve(time=t, flux=f, flux_err=e ).remove_nans().flatten(3001)\n",
    "plt.scatter(lc.time, lc.flux)\n",
    "plt.xlabel('Time (d)')\n",
    "plt.ylabel('Normalised Flux')\n",
    "# plt.xlim(2230.1, 2234.9)"
   ]
  },
  {
   "cell_type": "code",
   "execution_count": null,
   "metadata": {},
   "outputs": [],
   "source": [
    "pg = lc.to_periodogram(oversample_factor=10,minimum_period=60*u.minute, maximum_period=65*u.day)\n",
    "plt.plot(pg.period, pg.power)\n",
    "plt.xscale('log')\n",
    "print(pg.period_at_max_power.to(u.h))"
   ]
  },
  {
   "cell_type": "code",
   "execution_count": null,
   "metadata": {},
   "outputs": [],
   "source": [
    "lcf=lc.fold(pg.period_at_max_power*2)#.plot()\n",
    "plt.figure(figsize=(10,6))\n",
    "plt.plot(lcf.time, lcf.flux, lw=0.5)#, yerr=lcf.flux_err, ls='none', marker='o')\n",
    "plt.xlabel('Phase')\n",
    "plt.ylabel('Flux')\n",
    "plt.tight_layout()\n",
    "plt.show()\n",
    "#lcf.plot()"
   ]
  },
  {
   "cell_type": "markdown",
   "metadata": {},
   "source": [
    "Ok...it's messy if you analise it out of a few day chunks. Fortunatly, https://iopscience.iop.org/article/10.3847/2515-5172/aae36f have done the hard work for me! Might need to use the period from the STIS paper for the STIS data as that's closer in time frame."
   ]
  },
  {
   "cell_type": "code",
   "execution_count": null,
   "metadata": {},
   "outputs": [],
   "source": []
  },
  {
   "cell_type": "code",
   "execution_count": null,
   "metadata": {},
   "outputs": [],
   "source": []
  }
 ],
 "metadata": {
  "kernelspec": {
   "display_name": "Python 3",
   "language": "python",
   "name": "python3"
  },
  "language_info": {
   "codemirror_mode": {
    "name": "ipython",
    "version": 3
   },
   "file_extension": ".py",
   "mimetype": "text/x-python",
   "name": "python",
   "nbconvert_exporter": "python",
   "pygments_lexer": "ipython3",
   "version": "3.6.12"
  }
 },
 "nbformat": 4,
 "nbformat_minor": 4
}
