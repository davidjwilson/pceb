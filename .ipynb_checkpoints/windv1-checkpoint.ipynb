{
 "cells": [
  {
   "cell_type": "markdown",
   "metadata": {},
   "source": [
    "Calcualting the stellar wind"
   ]
  },
  {
   "cell_type": "code",
   "execution_count": 1,
   "metadata": {},
   "outputs": [],
   "source": [
    "import numpy as np\n",
    "import matplotlib.pyplot as plt\n",
    "import astropy.io.fits as fits\n",
    "import os\n",
    "import glob\n",
    "from astropy.table import Table\n",
    "from astropy.io import ascii\n",
    "import astropy.units as u\n",
    "import astropy.constants as const\n",
    "from scipy.interpolate import interpolate\n",
    "from craftroom import resample\n",
    "from astropy.convolution import convolve, Box1DKernel\n",
    "from scipy.io.idl import readsav\n",
    "\n",
    "\n",
    "#matplotlib set up\n",
    "%matplotlib inline\n",
    "from matplotlib import rcParams\n",
    "rcParams[\"figure.figsize\"] = (14, 5)\n",
    "rcParams[\"font.size\"] = 20\n"
   ]
  },
  {
   "cell_type": "code",
   "execution_count": 2,
   "metadata": {},
   "outputs": [],
   "source": [
    "rates = Table.read('tables/pceb_fit_results_rates.csv')"
   ]
  },
  {
   "cell_type": "code",
   "execution_count": 3,
   "metadata": {},
   "outputs": [],
   "source": [
    "els = ['si', 'c', 'o', 's']\n",
    "el_mass = [28.085, 12.011, 15.999, 32.06]\n",
    "sol_frac = [6.649e-4, 2.365e-3,5.733e-3, 3.093e-4]"
   ]
  },
  {
   "cell_type": "code",
   "execution_count": 4,
   "metadata": {},
   "outputs": [],
   "source": [
    "def mass_loss(mdot, Mwd, a, Rrd, Mrd): \n",
    "    \"\"\"mass loss rate of mdwarf of mass Mrd, radius Rrd to produce an accretion rate mdot onto a white dwarf of mass Mwd at separation a\"\"\"\n",
    "    m_loss = (((2*a*Mrd)/(Rrd*Mwd))**2) * mdot\n",
    "   # m_loss = (mdot*(v**4)*(r**2))/((const.G.value**2)*(Mwd**2)*mf)\n",
    "    return m_loss\n",
    "\n",
    "def total_infer(mdot, el):\n",
    "    els = np.genfromtxt('solar_abd.tsv', names=True, delimiter='\\t', dtype=None, encoding=None)\n",
    "    mf = els['mass_fraction'][np.where(els['Atom_X']==el)][0]\n",
    "    total_mdot = mdot/mf\n",
    "    return total_mdot"
   ]
  },
  {
   "cell_type": "code",
   "execution_count": null,
   "metadata": {},
   "outputs": [],
   "source": [
    "wind_rates = []\n",
    "for row in wdtab2:\n",
    "    if row['Teff'] < 30000:\n",
    "        for el in els:\n",
    "            "
   ]
  }
 ],
 "metadata": {
  "kernelspec": {
   "display_name": "Python 3",
   "language": "python",
   "name": "python3"
  },
  "language_info": {
   "codemirror_mode": {
    "name": "ipython",
    "version": 3
   },
   "file_extension": ".py",
   "mimetype": "text/x-python",
   "name": "python",
   "nbconvert_exporter": "python",
   "pygments_lexer": "ipython3",
   "version": "3.7.7"
  }
 },
 "nbformat": 4,
 "nbformat_minor": 4
}
