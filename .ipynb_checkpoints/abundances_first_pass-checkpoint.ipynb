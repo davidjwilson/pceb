{
 "cells": [
  {
   "cell_type": "markdown",
   "metadata": {},
   "source": [
    "Read in MWDD tables and usw them to convet Odette's measurements into accretion rates."
   ]
  },
  {
   "cell_type": "code",
   "execution_count": 170,
   "metadata": {},
   "outputs": [],
   "source": [
    "import numpy as np\n",
    "import matplotlib.pyplot as plt\n",
    "import astropy.io.fits as fits\n",
    "import os\n",
    "import glob\n",
    "from astropy.table import Table\n",
    "from astropy.io import ascii\n",
    "import astropy.units as u\n",
    "import astropy.constants as const\n",
    "from scipy.interpolate import interpolate\n",
    "from craftroom import resample\n",
    "from astropy.convolution import convolve, Box1DKernel\n",
    "from scipy.io.idl import readsav\n",
    "\n",
    "\n",
    "#matplotlib set up\n",
    "%matplotlib inline\n",
    "from matplotlib import rcParams\n",
    "rcParams[\"figure.figsize\"] = (14, 5)\n",
    "rcParams[\"font.size\"] = 20\n"
   ]
  },
  {
   "cell_type": "code",
   "execution_count": 171,
   "metadata": {},
   "outputs": [],
   "source": [
    "wdtab = Table.read('tables/pceb_fit_results.csv')"
   ]
  },
  {
   "cell_type": "code",
   "execution_count": 172,
   "metadata": {},
   "outputs": [],
   "source": [
    "mwdd = glob.glob('mwdd_params/*')"
   ]
  },
  {
   "cell_type": "code",
   "execution_count": 173,
   "metadata": {},
   "outputs": [
    {
     "ename": "TypeError",
     "evalue": "genfromtxt() got an unexpected keyword argument 'delim_whitespace'",
     "output_type": "error",
     "traceback": [
      "\u001b[0;31m---------------------------------------------------------------------------\u001b[0m",
      "\u001b[0;31mTypeError\u001b[0m                                 Traceback (most recent call last)",
      "\u001b[0;32m<ipython-input-173-608e9235007b>\u001b[0m in \u001b[0;36m<module>\u001b[0;34m\u001b[0m\n\u001b[0;32m----> 1\u001b[0;31m \u001b[0mnp\u001b[0m\u001b[0;34m.\u001b[0m\u001b[0mgenfromtxt\u001b[0m\u001b[0;34m(\u001b[0m\u001b[0mmwdd\u001b[0m\u001b[0;34m[\u001b[0m\u001b[0;36m0\u001b[0m\u001b[0;34m]\u001b[0m\u001b[0;34m,\u001b[0m \u001b[0mskip_header\u001b[0m\u001b[0;34m=\u001b[0m\u001b[0;36m4\u001b[0m\u001b[0;34m,\u001b[0m \u001b[0mskip_footer\u001b[0m\u001b[0;34m=\u001b[0m \u001b[0;36m35\u001b[0m\u001b[0;34m,\u001b[0m \u001b[0mdelimiter\u001b[0m\u001b[0;34m=\u001b[0m\u001b[0;34m'\\s*'\u001b[0m\u001b[0;34m,\u001b[0m\u001b[0mdelim_whitespace\u001b[0m\u001b[0;34m=\u001b[0m\u001b[0;32mTrue\u001b[0m\u001b[0;34m)\u001b[0m\u001b[0;34m\u001b[0m\u001b[0;34m\u001b[0m\u001b[0m\n\u001b[0m",
      "\u001b[0;31mTypeError\u001b[0m: genfromtxt() got an unexpected keyword argument 'delim_whitespace'"
     ]
    }
   ],
   "source": [
    "np.genfromtxt(mwdd[0], skip_header=4, skip_footer= 35, delimiter='\\s*',delim_whitespace=True)"
   ]
  },
  {
   "cell_type": "code",
   "execution_count": null,
   "metadata": {},
   "outputs": [],
   "source": [
    "from pandas import *\n",
    "test =read_table(mwdd[0], sep='\\s+\\s+', skiprows=[0,1,2,3,8,9], header=None, dtype=None)\n",
    "test1= {key: value for key, value in zip(test[0], test[1])}\n",
    "test1"
   ]
  },
  {
   "cell_type": "code",
   "execution_count": null,
   "metadata": {},
   "outputs": [],
   "source": [
    "#np.genfromtxt(mwdd[0], delimiter='\\s+\\s+')"
   ]
  },
  {
   "cell_type": "code",
   "execution_count": null,
   "metadata": {},
   "outputs": [],
   "source": [
    "for row in wdtab:\n",
    "    #row = np.array(row)\n",
    "    teff, logg = row['Teff'], row['logg']\n",
    "    if teff < 30000:\n",
    "        if logg < 7.5:\n",
    "            logg = 7.5\n",
    "        atm =read_table('mwdd_params/{:0<5}_{}_DA_thick'.format(logg, teff), sep='\\s+\\s+', skiprows=[0,1,2,3,8,9], header=None, dtype=None)\n",
    "        atm= {key: value for key, value in zip(atm[0], atm[1])}\n",
    "        print(float(atm['Mass [M_Sun]:']), float(atm['Envelope mass ratio [log(q)]:']), float(atm['Si']), float(atm['S']), float(atm['O']), float(atm['S']))\n",
    "   # else: \n",
    "    #    print('gap')"
   ]
  },
  {
   "cell_type": "code",
   "execution_count": null,
   "metadata": {},
   "outputs": [],
   "source": [
    "wdtab"
   ]
  },
  {
   "cell_type": "code",
   "execution_count": null,
   "metadata": {},
   "outputs": [],
   "source": [
    "wdtab2 = Table.read('tables/pceb_fit_results_tdiff.csv')\n",
    "wdtab2"
   ]
  },
  {
   "cell_type": "code",
   "execution_count": null,
   "metadata": {},
   "outputs": [],
   "source": [
    "els = ['si', 'c', 'o', 's']\n",
    "for row in wdtab2:\n",
    "    if row['Teff'] < 30000:\n",
    "        print(row['Target'])\n",
    "        #mass = np.log10((row['mass'] * u.M_sun).to(u.g).value)\n",
    "        mass = row['mass']\n",
    "       # print(mass)\n",
    "        q = row['q']\n",
    "        #print(10**(mass+q))\n",
    "        for el in els:\n",
    "            rate = row[el] + mass + q- row['tdiff_{}'.format(el)]\n",
    "            #print(rate)\n",
    "            print(el, ((10**rate)*u.M_sun/u.yr).to(u.g/u.s))\n",
    "            #print(el, np.log10(((10**rate)*u.g/u.yr).to(u.g/u.s).value))"
   ]
  },
  {
   "cell_type": "code",
   "execution_count": null,
   "metadata": {},
   "outputs": [],
   "source": [
    "for row in wdtab2:\n",
    "    if row['Target'] == 'WD0710+741':\n",
    "        print(row['Target'])\n",
    "        #mass = np.log10((row['mass'] * u.M_sun).to(u.g).value)\n",
    "        mass = row['mass']\n",
    "       # print(mass)\n",
    "        q = row['q']\n",
    "        #print(10**(mass+q))\n",
    "        for el in els:\n",
    "            rate = row[el] + np.log10(mass) +np.log10(28) + q - row['tdiff_{}'.format(el)]\n",
    "            #print(rate)\n",
    "            print(el, ((10**rate)*u.M_sun/u.yr).to(u.g/u.s))\n",
    "            rate = (mass*u.Msun * 10**q * 10**row[el]/((10**row['tdiff_{}'.format(el)])*u.yr)).to(u.g/u.s)\n",
    "            print(el, rate)\n",
    "            #print(el, np.log10(((10**rate)*u.g/u.yr).to(u.g/u.s).value))"
   ]
  },
  {
   "cell_type": "code",
   "execution_count": null,
   "metadata": {},
   "outputs": [],
   "source": []
  }
 ],
 "metadata": {
  "kernelspec": {
   "display_name": "Python 3",
   "language": "python",
   "name": "python3"
  },
  "language_info": {
   "codemirror_mode": {
    "name": "ipython",
    "version": 3
   },
   "file_extension": ".py",
   "mimetype": "text/x-python",
   "name": "python",
   "nbconvert_exporter": "python",
   "pygments_lexer": "ipython3",
   "version": "3.7.7"
  }
 },
 "nbformat": 4,
 "nbformat_minor": 4
}
