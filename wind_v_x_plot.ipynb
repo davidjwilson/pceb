{
 "cells": [
  {
   "cell_type": "markdown",
   "id": "5035c888-c228-452f-ab3f-2d101ce5f9c5",
   "metadata": {},
   "source": [
    "Recreate the wind v Lx plot from https://ui.adsabs.harvard.edu/abs/2021ApJ...915...37W/abstract and see what I need to do to add mine."
   ]
  },
  {
   "cell_type": "code",
   "execution_count": 21,
   "id": "c2990d56-3f65-4784-8c59-e52a143332f4",
   "metadata": {},
   "outputs": [],
   "source": [
    "import numpy as np\n",
    "import matplotlib.pyplot as plt\n",
    "import astropy.io.fits as fits\n",
    "import os\n",
    "import glob\n",
    "from astropy.table import Table\n",
    "from astropy.io import ascii\n",
    "import astropy.units as u\n",
    "import astropy.constants as const\n",
    "from scipy.interpolate import interpolate\n",
    "from craftroom import resample\n",
    "# from astropy.convolution import convolve, Box1DKernel\n",
    "from scipy.io.idl import readsav\n",
    "from astropy import constants as const\n",
    "from astropy.modeling import models, fitting\n",
    "\n",
    "\n",
    "#matplotlib set up\n",
    "%matplotlib inline\n",
    "from matplotlib import rcParams\n",
    "rcParams[\"figure.figsize\"] = (14, 5)\n",
    "rcParams[\"font.size\"] = 20\n"
   ]
  },
  {
   "cell_type": "code",
   "execution_count": 3,
   "id": "b2812b1f-f5a4-4dea-83eb-d7c256a930f4",
   "metadata": {},
   "outputs": [
    {
     "name": "stdout",
     "output_type": "stream",
     "text": [
      "17\n",
      "15\n"
     ]
    }
   ],
   "source": [
    "singles_tab = np.genfromtxt('wood21_v1.csv', delimiter=',', dtype=None, encoding=None, names=True)\n",
    "print(len(singles_tab))\n",
    "singles_tab = singles_tab[singles_tab['Ṁdot_Ṁdotsun_']!=0.0]\n",
    "print(len(singles_tab))"
   ]
  },
  {
   "cell_type": "code",
   "execution_count": 5,
   "id": "5fa6f131-f83d-4216-b8f9-69656c7b9b91",
   "metadata": {},
   "outputs": [
    {
     "data": {
      "text/plain": [
       "('ID',\n",
       " 'Star',\n",
       " 'Spectral_Type',\n",
       " 'sp_num',\n",
       " 'd_pc',\n",
       " 'VISM_km_s−1_',\n",
       " 'θ_deg',\n",
       " 'Ṁdot_Ṁdotsun_',\n",
       " 'log_Lx',\n",
       " 'Radius_Rsun_',\n",
       " 'Mass_est')"
      ]
     },
     "execution_count": 5,
     "metadata": {},
     "output_type": "execute_result"
    }
   ],
   "source": [
    "singles_tab.dtype.names"
   ]
  },
  {
   "cell_type": "code",
   "execution_count": 68,
   "id": "a7d6852e-dc96-4abf-9d60-1ac69084894d",
   "metadata": {},
   "outputs": [
    {
     "name": "stdout",
     "output_type": "stream",
     "text": [
      "Model: PowerLaw1D\n",
      "Inputs: ('x',)\n",
      "Outputs: ('y',)\n",
      "Model set size: 1\n",
      "Parameters:\n",
      "         amplitude             x_0         alpha\n",
      "    ------------------- ------------------ -----\n",
      "    0.14402179042226476 505559.26724808617 -0.77\n",
      "Model: PowerLaw1D\n",
      "Inputs: ('x',)\n",
      "Outputs: ('y',)\n",
      "Model set size: 1\n",
      "Parameters:\n",
      "         amplitude             x_0                alpha        \n",
      "    ------------------- ------------------ --------------------\n",
      "    0.20453482295939276 60.532780044723914 -0.22334042675960927\n"
     ]
    },
    {
     "name": "stderr",
     "output_type": "stream",
     "text": [
      "/home/david/anaconda3/envs/astroconda/lib/python3.7/site-packages/astropy/modeling/powerlaws.py:50: RuntimeWarning: invalid value encountered in power\n",
      "  return amplitude * xx ** (-alpha)\n",
      "/home/david/anaconda3/envs/astroconda/lib/python3.7/site-packages/astropy/modeling/powerlaws.py:50: RuntimeWarning: invalid value encountered in power\n",
      "  return amplitude * xx ** (-alpha)\n"
     ]
    },
    {
     "data": {
      "text/plain": [
       "(0.001, 1000.0)"
      ]
     },
     "execution_count": 68,
     "metadata": {},
     "output_type": "execute_result"
    },
    {
     "data": {
      "image/png": "[encoded data removed]",
      "text/plain": [
       "<Figure size 432x432 with 1 Axes>"
      ]
     },
     "metadata": {
      "needs_background": "light"
     },
     "output_type": "display_data"
    }
   ],
   "source": [
    "# mdot/surface area v Lx\n",
    "\n",
    "plt.figure(figsize=(6, 6))\n",
    "mdotsur = singles_tab['Ṁdot_Ṁdotsun_']/(4*np.pi*singles_tab['Radius_Rsun_']**2)\n",
    "fxsur = (10**singles_tab['log_Lx'])/(4*np.pi*(singles_tab['Radius_Rsun_']*u.Rsun.to(u.cm))**2)\n",
    "\n",
    "plt.scatter(fxsur, mdotsur)\n",
    "plt.xscale('log')\n",
    "plt.yscale('log')\n",
    "        \n",
    "line_init = models.PowerLaw1D(0.1,1e5,-0.77, fixed=dict(alpha=True))\n",
    "\n",
    "fitter = fitting.LevMarLSQFitter()\n",
    "\n",
    "line = fitter(line_init, fxsur, mdotsur)\n",
    "\n",
    "print(line)\n",
    "xline = np.arange(4000, 1e8, 1000)\n",
    "plt.plot(xline, line(xline))\n",
    "\n",
    "myline_init =  models.PowerLaw1D(0.1,1e5,-0.77)\n",
    "\n",
    "myline = fitter(myline_init, fxsur, mdotsur)\n",
    "\n",
    "print(myline)\n",
    "# xline = np.arange(4000, 1e8, 1000)\n",
    "plt.plot(xline, myline(xline))\n",
    "\n",
    "plt.xlim(3e3, 2e8)\n",
    "plt.ylim(1e-3, 1e3)"
   ]
  },
  {
   "cell_type": "code",
   "execution_count": 72,
   "id": "252ac4ba-1fdd-4496-9eae-f1ecd6c42791",
   "metadata": {},
   "outputs": [
    {
     "data": {
      "text/plain": [
       "3.5622811423523166"
      ]
     },
     "execution_count": 72,
     "metadata": {},
     "output_type": "execute_result"
    }
   ],
   "source": [
    "1000/280.719"
   ]
  },
  {
   "cell_type": "code",
   "execution_count": null,
   "id": "cbf0b6c4-f9c8-4afe-b8f2-3dae2e819a65",
   "metadata": {},
   "outputs": [],
   "source": []
  }
 ],
 "metadata": {
  "kernelspec": {
   "display_name": "Python 3 (ipykernel)",
   "language": "python",
   "name": "python3"
  },
  "language_info": {
   "codemirror_mode": {
    "name": "ipython",
    "version": 3
   },
   "file_extension": ".py",
   "mimetype": "text/x-python",
   "name": "python",
   "nbconvert_exporter": "python",
   "pygments_lexer": "ipython3",
   "version": "3.7.13"
  }
 },
 "nbformat": 4,
 "nbformat_minor": 5
}
