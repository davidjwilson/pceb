{
 "cells": [
  {
   "cell_type": "code",
   "execution_count": 3,
   "id": "face5589",
   "metadata": {},
   "outputs": [],
   "source": [
    "import numpy as np\n",
    "import matplotlib.pyplot as plt\n",
    "import astropy.io.fits as fits\n",
    "import os\n",
    "import glob\n",
    "from astropy.table import Table\n",
    "from astropy.io import ascii\n",
    "from astropy.convolution import convolve, Box1DKernel\n",
    "from scipy.interpolate import interp1d\n",
    "\n",
    "import astropy.units as u\n",
    "from astropy import time, coordinates as coord\n",
    "import astropy.constants as const\n",
    "from astropy.modeling import models, fitting\n",
    "from astropy.coordinates import SkyCoord\n",
    "from matplotlib.gridspec import GridSpec\n",
    "from datetime import datetime\n",
    "from mpl_toolkits.axes_grid1.inset_locator import inset_axes\n",
    "from astropy.io.votable import parse\n",
    "\n",
    "\n",
    "#matplotlib set up\n",
    "%matplotlib inline\n",
    "from matplotlib import rcParams\n",
    "rcParams[\"figure.figsize\"] = (14, 5)\n",
    "rcParams[\"font.size\"] = 20"
   ]
  },
  {
   "cell_type": "markdown",
   "id": "44ac5561",
   "metadata": {},
   "source": [
    "Making an SED becasue that's my job"
   ]
  },
  {
   "cell_type": "code",
   "execution_count": 15,
   "id": "6d7b8561",
   "metadata": {},
   "outputs": [
    {
     "name": "stdout",
     "output_type": "stream",
     "text": [
      "['2MASS:H' '2MASS:J' '2MASS:Ks' ':=3.6um' ':=5.8um' 'GALEX:FUV'\n",
      " 'GALEX:NUV' 'Gaia:G' 'Johnson:B' 'Johnson:H' 'Johnson:J' 'Johnson:K'\n",
      " 'Johnson:V' 'PAN-STARRS/PS1:y' 'PAN-STARRS/PS1:z' 'POSS-II:F' 'POSS-II:J'\n",
      " 'POSS-II:i' 'SDSS:g' \"SDSS:g'\" 'SDSS:i' \"SDSS:i'\" 'SDSS:r' \"SDSS:r'\"\n",
      " 'SDSS:u' \"SDSS:u'\" 'SDSS:z' \"SDSS:z'\" 'WISE:W1' 'WISE:W2' 'WISE:W3'\n",
      " 'WISE:W4']\n"
     ]
    },
    {
     "name": "stderr",
     "output_type": "stream",
     "text": [
      "/home/david/anaconda3/envs/astroconda/lib/python3.6/site-packages/ipykernel_launcher.py:27: RuntimeWarning: divide by zero encountered in true_divide\n",
      "/home/david/anaconda3/envs/astroconda/lib/python3.6/site-packages/numpy/lib/function_base.py:425: RuntimeWarning: invalid value encountered in float_scalars\n",
      "  avg = np.multiply(a, wgt, dtype=result_dtype).sum(axis)/scl\n",
      "/home/david/anaconda3/envs/astroconda/lib/python3.6/site-packages/ipykernel_launcher.py:28: RuntimeWarning: divide by zero encountered in true_divide\n",
      "/home/david/anaconda3/envs/astroconda/lib/python3.6/site-packages/ipykernel_launcher.py:29: RuntimeWarning: divide by zero encountered in true_divide\n",
      "/home/david/anaconda3/envs/astroconda/lib/python3.6/site-packages/ipykernel_launcher.py:41: RuntimeWarning: invalid value encountered in greater\n"
     ]
    },
    {
     "data": {
      "image/png": "[encoded data removed]",
      "text/plain": [
       "<Figure size 360x360 with 1 Axes>"
      ]
     },
     "metadata": {
      "needs_background": "light"
     },
     "output_type": "display_data"
    }
   ],
   "source": [
    "tphot = 'eg_uma_vizier_phot.vot'\n",
    "c = 2.998e8*u.m/u.s\n",
    "\n",
    "\n",
    "\n",
    "votable = parse(tphot)\n",
    "table = votable.get_first_table()\n",
    "data = table.array\n",
    "mask = ~data['sed_eflux'].mask\n",
    "masked_data = data[mask].data\n",
    "filters = np.unique(masked_data['sed_filter'].data)\n",
    "wp = []\n",
    "fp = []\n",
    "ep = []\n",
    "print(filters)\n",
    "\n",
    "filters = ['2MASS:H', '2MASS:J', '2MASS:Ks', 'GALEX:FUV'\n",
    " ,'GALEX:NUV', 'Gaia:G', \"SDSS:g'\" , \"SDSS:i'\" , \"SDSS:r'\"\n",
    " , \"SDSS:u'\" , \"SDSS:z'\" ,'WISE:W1', 'WISE:W2', 'WISE:W3',\n",
    " 'WISE:W4']\n",
    "\n",
    "for flt in filters:\n",
    "    w1 = (np.mean(masked_data['sed_freq'][masked_data['sed_filter']==flt])*u.GHz).to(u.AA, equivalencies=u.spectral())\n",
    "    fj1 = masked_data['sed_flux'][masked_data['sed_filter']==flt]\n",
    "    e1 = masked_data['sed_eflux'][masked_data['sed_filter']==flt]\n",
    "    if len(fj1) >1:\n",
    "        fj_av = np.average(fj1, weights = (1/(e1**2)))\n",
    "        e1_av = abs(np.average((fj1-fj_av), weights = (1/(e1**2))))**0.5\n",
    "        e1_av = 1 / np.sum(1/(e1**2), axis=0)**0.5\n",
    "    else:\n",
    "        fj_av, e1_av = fj1[0], e1[0]\n",
    "    f1 = (fj_av*u.Jy).to(u.erg / u.cm**2 / u.s / u.AA, equivalencies=u.spectral_density(w1)) \n",
    "    wp.append(w1.value)\n",
    "    fp.append(f1.value)\n",
    "    e1 = ((e1_av*f1)/fj_av).value\n",
    "    ep.append(e1)\n",
    "\n",
    "wp, fp, ep = np.array(wp), np.array(fp), np.array(ep)\n",
    "\n",
    "plt.figure(figsize=(5, 5))\n",
    "plt.errorbar(wp[ep>0], fp[ep>0], yerr=ep[ep>0], marker='o', ls='none', c='C0')\n",
    "plt.xscale('log')\n",
    "plt.yscale('log')"
   ]
  },
  {
   "cell_type": "code",
   "execution_count": 16,
   "id": "9068f81d",
   "metadata": {},
   "outputs": [],
   "source": [
    "cpath = '/media/david/5tb_storage1/pceb_data/eg_uma/'\n",
    "x = glob.glob('{}*x1dsum.fits'.format(cpath))[0]\n",
    "\n",
    "smooth=5\n",
    "data = fits.getdata(x, 1)\n",
    "wc = np.array([], dtype=float)\n",
    "fc = np.array([], dtype=float)\n",
    "ec = np.array([], dtype=float)\n",
    "for dt in data[::-1]:\n",
    "    wi, fi, ei, dq = dt['WAVELENGTH'], dt['FLUX'], dt['ERROR'], dt['DQ']\n",
    "   # mask = (fi>0) & (dq == 0) & (wi < 1213) | (wi > 1217) & (fi>0) & (dq == 0) \n",
    "    mask = (dq==0)\n",
    "    wi, fi, ei = wi[mask], fi[mask], ei[mask]\n",
    "    wc = np.concatenate((wc, wi))\n",
    "    fc = np.concatenate((fc, fi))\n",
    "    ec = np.concatenate((ec, ei))    \n",
    "\n",
    "fc = convolve(fc,Box1DKernel(smooth))\n",
    "ec = convolve(ec,Box1DKernel(smooth))/(smooth**0.5)\n",
    "\n",
    "# plt.plot(wc, fc)\n",
    "\n",
    "mask = (wc < 1210) | (wc > 1220) \n",
    "wc1, fc1, ec1 = wc[mask], fc[mask], ec[mask]"
   ]
  },
  {
   "cell_type": "code",
   "execution_count": 17,
   "id": "c5a332a9",
   "metadata": {},
   "outputs": [],
   "source": [
    "path = '/media/david/5tb_storage1/eg_uma/hst/stis/data/'\n",
    "x1ds = glob.glob('{}*x1d.fits'.format(path))\n",
    "\n",
    "data = fits.getdata(x1ds[0])[0]\n",
    "ws, fs, es = data['WAVELENGTH'], data['FLUX'], data['ERROR']"
   ]
  },
  {
   "cell_type": "code",
   "execution_count": 88,
   "id": "32cbc64c",
   "metadata": {},
   "outputs": [],
   "source": [
    "data = Table.read('spect.V EG UMa.Gianninas.txt', format='ascii')\n",
    "# wo, fo = data['wavelength']*u.AA, data['flux']*u.mJy#u.erg/u.s/u.cm**2/u.AA\n",
    "wo, fo = data['wavelength']*u.AA, data['flux']*u.J/u.s/u.cm**2/u.AA\n",
    "\n",
    "# plt.plot(wo, fo)"
   ]
  },
  {
   "cell_type": "code",
   "execution_count": 89,
   "id": "191d10e6",
   "metadata": {},
   "outputs": [
    {
     "name": "stderr",
     "output_type": "stream",
     "text": [
      "/home/david/anaconda3/envs/astroconda/lib/python3.6/site-packages/ipykernel_launcher.py:15: RuntimeWarning: invalid value encountered in greater\n",
      "  from ipykernel import kernelapp as app\n"
     ]
    },
    {
     "data": {
      "image/png": "[encoded data removed]",
      "text/plain": [
       "<Figure size 720x432 with 1 Axes>"
      ]
     },
     "metadata": {
      "needs_background": "light"
     },
     "output_type": "display_data"
    }
   ],
   "source": [
    "plt.figure(figsize=(10, 6))\n",
    "mask = (wc < 1210) & (fc>0)\n",
    "plt.plot(wc[mask], fc[mask], c='C0')\n",
    "mask = (wc > 1220) & (fc>0)\n",
    "plt.plot(wc[mask], fc[mask], c='C0', label='COS')\n",
    "mask = (ws > 1210) & (ws < 1220) & (fs>0)\n",
    "plt.plot(ws[mask], fs[mask], c='C1', label='STIS')\n",
    "plt.xlabel('Wavelength (\\AA)')\n",
    "plt.ylabel('Flux (erg s$^{-1}$ cm$^{-2}$ \\AA$^{-1}$)')\n",
    "# plt.legend(frameon=True)\n",
    "# plt.xlim(1140, 1420)\n",
    "# plt.ylim(-0.1e-13, 1e-13)\n",
    "\n",
    "# plt.plot([wc[0], wc[-1]], [3e-13, 3e-13], c='C1')\n",
    "plt.errorbar(wp[ep>0], fp[ep>0], yerr=ep[ep>0], marker='o', ls='none', c='C0')\n",
    "\n",
    "# plt.plot(wo, fo.to(u.erg/u.s/u.cm**2/u.AA, equivalencies=u.spectral_density(wo)))\n",
    "# plt.plot(wo, fo.to(u.erg/u.s/u.cm**2/u.AA))\n",
    "plt.plot(wo, fo*1e11)\n",
    "\n",
    "\n",
    "plt.xscale('log')\n",
    "plt.yscale('log')"
   ]
  },
  {
   "cell_type": "code",
   "execution_count": null,
   "id": "b559427e",
   "metadata": {},
   "outputs": [],
   "source": []
  }
 ],
 "metadata": {
  "kernelspec": {
   "display_name": "Python 3",
   "language": "python",
   "name": "python3"
  },
  "language_info": {
   "codemirror_mode": {
    "name": "ipython",
    "version": 3
   },
   "file_extension": ".py",
   "mimetype": "text/x-python",
   "name": "python",
   "nbconvert_exporter": "python",
   "pygments_lexer": "ipython3",
   "version": "3.6.13"
  }
 },
 "nbformat": 4,
 "nbformat_minor": 5
}
