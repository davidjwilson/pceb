{
 "cells": [
  {
   "cell_type": "code",
   "execution_count": 1,
   "id": "d50b6b52",
   "metadata": {},
   "outputs": [],
   "source": [
    "import numpy as np\n",
    "import matplotlib.pyplot as plt\n",
    "import astropy.io.fits as fits\n",
    "import os\n",
    "import glob\n",
    "from astropy.table import Table\n",
    "from astropy.io import ascii\n",
    "from astropy.convolution import convolve, Box1DKernel\n",
    "from scipy.interpolate import interp1d\n",
    "\n",
    "import astropy.units as u\n",
    "from astropy import time, coordinates as coord\n",
    "import astropy.constants as const\n",
    "from astropy.modeling import models, fitting\n",
    "from astropy.coordinates import SkyCoord\n",
    "from matplotlib.gridspec import GridSpec\n",
    "from datetime import datetime\n",
    "from mpl_toolkits.axes_grid1.inset_locator import inset_axes\n",
    "from astropy.io.votable import parse\n",
    "\n",
    "\n",
    "#matplotlib set up\n",
    "%matplotlib inline\n",
    "from matplotlib import rcParams\n",
    "rcParams[\"figure.figsize\"] = (14, 5)\n",
    "rcParams[\"font.size\"] = 20"
   ]
  },
  {
   "cell_type": "markdown",
   "id": "5d1111db",
   "metadata": {},
   "source": [
    "Making an SED becasue that's my job"
   ]
  },
  {
   "cell_type": "code",
   "execution_count": 2,
   "id": "aceb9f22",
   "metadata": {},
   "outputs": [
    {
     "name": "stdout",
     "output_type": "stream",
     "text": [
      "['2MASS:H' '2MASS:J' '2MASS:Ks' ':=3.6um' ':=5.8um' 'GALEX:FUV'\n",
      " 'GALEX:NUV' 'Gaia:G' 'Johnson:B' 'Johnson:H' 'Johnson:J' 'Johnson:K'\n",
      " 'Johnson:V' 'PAN-STARRS/PS1:y' 'PAN-STARRS/PS1:z' 'POSS-II:F' 'POSS-II:J'\n",
      " 'POSS-II:i' 'SDSS:g' \"SDSS:g'\" 'SDSS:i' \"SDSS:i'\" 'SDSS:r' \"SDSS:r'\"\n",
      " 'SDSS:u' \"SDSS:u'\" 'SDSS:z' \"SDSS:z'\" 'WISE:W1' 'WISE:W2' 'WISE:W3'\n",
      " 'WISE:W4']\n"
     ]
    },
    {
     "name": "stderr",
     "output_type": "stream",
     "text": [
      "/home/david/anaconda3/envs/astroconda/lib/python3.6/site-packages/ipykernel_launcher.py:27: RuntimeWarning: divide by zero encountered in true_divide\n",
      "/home/david/anaconda3/envs/astroconda/lib/python3.6/site-packages/numpy/lib/function_base.py:425: RuntimeWarning: invalid value encountered in float_scalars\n",
      "  avg = np.multiply(a, wgt, dtype=result_dtype).sum(axis)/scl\n",
      "/home/david/anaconda3/envs/astroconda/lib/python3.6/site-packages/ipykernel_launcher.py:28: RuntimeWarning: divide by zero encountered in true_divide\n",
      "/home/david/anaconda3/envs/astroconda/lib/python3.6/site-packages/ipykernel_launcher.py:29: RuntimeWarning: divide by zero encountered in true_divide\n"
     ]
    }
   ],
   "source": [
    "tphot = 'eg_uma_vizier_phot.vot'\n",
    "c = 2.998e8*u.m/u.s\n",
    "\n",
    "\n",
    "\n",
    "votable = parse(tphot)\n",
    "table = votable.get_first_table()\n",
    "data = table.array\n",
    "mask = ~data['sed_eflux'].mask\n",
    "masked_data = data[mask].data\n",
    "filters = np.unique(masked_data['sed_filter'].data)\n",
    "wp = []\n",
    "fp = []\n",
    "ep = []\n",
    "print(filters)\n",
    "\n",
    "filters = ['2MASS:H', '2MASS:J', '2MASS:Ks', 'GALEX:FUV'\n",
    " ,'GALEX:NUV', 'Gaia:G', \"SDSS:g'\" , \"SDSS:i'\" , \"SDSS:r'\"\n",
    " , \"SDSS:u'\" , \"SDSS:z'\" ,'WISE:W1', 'WISE:W2', 'WISE:W3',\n",
    " 'WISE:W4']\n",
    "\n",
    "for flt in filters:\n",
    "    w1 = (np.mean(masked_data['sed_freq'][masked_data['sed_filter']==flt])*u.GHz).to(u.AA, equivalencies=u.spectral())\n",
    "    fj1 = masked_data['sed_flux'][masked_data['sed_filter']==flt]\n",
    "    e1 = masked_data['sed_eflux'][masked_data['sed_filter']==flt]\n",
    "    if len(fj1) >1:\n",
    "        fj_av = np.average(fj1, weights = (1/(e1**2)))\n",
    "        e1_av = abs(np.average((fj1-fj_av), weights = (1/(e1**2))))**0.5\n",
    "        e1_av = 1 / np.sum(1/(e1**2), axis=0)**0.5\n",
    "    else:\n",
    "        fj_av, e1_av = fj1[0], e1[0]\n",
    "    f1 = (fj_av*u.Jy).to(u.erg / u.cm**2 / u.s / u.AA, equivalencies=u.spectral_density(w1)) \n",
    "    wp.append(w1.value)\n",
    "    fp.append(f1.value)\n",
    "    e1 = ((e1_av*f1)/fj_av).value\n",
    "    ep.append(e1)\n",
    "\n",
    "wp, fp, ep = np.array(wp), np.array(fp), np.array(ep)\n",
    "\n",
    "# plt.figure(figsize=(5, 5))\n",
    "# plt.errorbar(wp[ep>0], fp[ep>0], yerr=ep[ep>0], marker='o', ls='none', c='C0')\n",
    "# plt.xscale('log')\n",
    "# plt.yscale('log')"
   ]
  },
  {
   "cell_type": "code",
   "execution_count": 3,
   "id": "b81b5f2a",
   "metadata": {},
   "outputs": [
    {
     "ename": "IndexError",
     "evalue": "list index out of range",
     "output_type": "error",
     "traceback": [
      "\u001b[0;31m---------------------------------------------------------------------------\u001b[0m",
      "\u001b[0;31mIndexError\u001b[0m                                Traceback (most recent call last)",
      "\u001b[0;32m<ipython-input-3-96b7e204c83f>\u001b[0m in \u001b[0;36m<module>\u001b[0;34m\u001b[0m\n\u001b[1;32m      1\u001b[0m \u001b[0mcpath\u001b[0m \u001b[0;34m=\u001b[0m \u001b[0;34m'/media/david/5tb_storage1/pceb_data/eg_uma/'\u001b[0m\u001b[0;34m\u001b[0m\u001b[0;34m\u001b[0m\u001b[0m\n\u001b[0;32m----> 2\u001b[0;31m \u001b[0mx\u001b[0m \u001b[0;34m=\u001b[0m \u001b[0mglob\u001b[0m\u001b[0;34m.\u001b[0m\u001b[0mglob\u001b[0m\u001b[0;34m(\u001b[0m\u001b[0;34m'{}*x1dsum.fits'\u001b[0m\u001b[0;34m.\u001b[0m\u001b[0mformat\u001b[0m\u001b[0;34m(\u001b[0m\u001b[0mcpath\u001b[0m\u001b[0;34m)\u001b[0m\u001b[0;34m)\u001b[0m\u001b[0;34m[\u001b[0m\u001b[0;36m0\u001b[0m\u001b[0;34m]\u001b[0m\u001b[0;34m\u001b[0m\u001b[0;34m\u001b[0m\u001b[0m\n\u001b[0m\u001b[1;32m      3\u001b[0m \u001b[0;34m\u001b[0m\u001b[0m\n\u001b[1;32m      4\u001b[0m \u001b[0msmooth\u001b[0m\u001b[0;34m=\u001b[0m\u001b[0;36m5\u001b[0m\u001b[0;34m\u001b[0m\u001b[0;34m\u001b[0m\u001b[0m\n\u001b[1;32m      5\u001b[0m \u001b[0mdata\u001b[0m \u001b[0;34m=\u001b[0m \u001b[0mfits\u001b[0m\u001b[0;34m.\u001b[0m\u001b[0mgetdata\u001b[0m\u001b[0;34m(\u001b[0m\u001b[0mx\u001b[0m\u001b[0;34m,\u001b[0m \u001b[0;36m1\u001b[0m\u001b[0;34m)\u001b[0m\u001b[0;34m\u001b[0m\u001b[0;34m\u001b[0m\u001b[0m\n",
      "\u001b[0;31mIndexError\u001b[0m: list index out of range"
     ]
    }
   ],
   "source": [
    "cpath = '/media/david/5tb_storage1/pceb_data/eg_uma/'\n",
    "x = glob.glob('{}*x1dsum.fits'.format(cpath))[0]\n",
    "\n",
    "smooth=5\n",
    "data = fits.getdata(x, 1)\n",
    "wc = np.array([], dtype=float)\n",
    "fc = np.array([], dtype=float)\n",
    "ec = np.array([], dtype=float)\n",
    "for dt in data[::-1]:\n",
    "    wi, fi, ei, dq = dt['WAVELENGTH'], dt['FLUX'], dt['ERROR'], dt['DQ']\n",
    "   # mask = (fi>0) & (dq == 0) & (wi < 1213) | (wi > 1217) & (fi>0) & (dq == 0) \n",
    "    mask = (dq==0)\n",
    "    wi, fi, ei = wi[mask], fi[mask], ei[mask]\n",
    "    wc = np.concatenate((wc, wi))\n",
    "    fc = np.concatenate((fc, fi))\n",
    "    ec = np.concatenate((ec, ei))    \n",
    "\n",
    "fc = convolve(fc,Box1DKernel(smooth))\n",
    "ec = convolve(ec,Box1DKernel(smooth))/(smooth**0.5)\n",
    "\n",
    "# plt.plot(wc, fc)\n",
    "\n",
    "mask = (wc < 1210) | (wc > 1220) \n",
    "wc1, fc1, ec1 = wc[mask], fc[mask], ec[mask]"
   ]
  },
  {
   "cell_type": "code",
   "execution_count": null,
   "id": "6cd4c697",
   "metadata": {},
   "outputs": [],
   "source": [
    "path = '/media/david/5tb_storage1/eg_uma/hst/stis/data/'\n",
    "x1ds = glob.glob('{}*x1d.fits'.format(path))\n",
    "\n",
    "data = fits.getdata(x1ds[0])[0]\n",
    "ws, fs, es = data['WAVELENGTH'], data['FLUX'], data['ERROR']"
   ]
  },
  {
   "cell_type": "code",
   "execution_count": null,
   "id": "eb944a66",
   "metadata": {},
   "outputs": [],
   "source": [
    "data = Table.read('spect.V EG UMa.Gianninas.txt', format='ascii')\n",
    "# wo, fo = data['wavelength']*u.AA, data['flux']*u.mJy#u.erg/u.s/u.cm**2/u.AA\n",
    "wo, fo = data['wavelength']*u.AA, data['flux']*u.J/u.s/u.cm**2/u.AA\n",
    "\n",
    "# plt.plot(wo, fo)"
   ]
  },
  {
   "cell_type": "code",
   "execution_count": null,
   "id": "6fd6e0a4",
   "metadata": {},
   "outputs": [],
   "source": [
    "mw, mf = np.loadtxt('scaled_eguma_model.dat', unpack=True)"
   ]
  },
  {
   "cell_type": "code",
   "execution_count": null,
   "id": "95f40736",
   "metadata": {},
   "outputs": [],
   "source": [
    "plt.figure(figsize=(10, 6))\n",
    "mask = (wc < 1210) & (fc>0)\n",
    "plt.plot(wc[mask], fc[mask], c='C0')\n",
    "mask = (wc > 1220) & (fc>0)\n",
    "plt.plot(wc[mask], fc[mask], c='C0', label='COS')\n",
    "mask = (ws > 1210) & (ws < 1220) & (fs>0)\n",
    "plt.plot(ws[mask], fs[mask], c='C1', label='STIS')\n",
    "plt.xlabel('Wavelength (\\AA)')\n",
    "plt.ylabel('Flux (erg s$^{-1}$ cm$^{-2}$ \\AA$^{-1}$)')\n",
    "# plt.legend(frameon=True)\n",
    "# plt.xlim(1140, 1420)\n",
    "# plt.ylim(-0.1e-13, 1e-13)\n",
    "\n",
    "# plt.plot([wc[0], wc[-1]], [3e-13, 3e-13], c='C1')\n",
    "plt.errorbar(wp[ep>0], fp[ep>0], yerr=ep[ep>0], marker='o', ls='none', c='C2')\n",
    "\n",
    "# plt.plot(wo, fo.to(u.erg/u.s/u.cm**2/u.AA, equivalencies=u.spectral_density(wo)))\n",
    "# plt.plot(wo, fo.to(u.erg/u.s/u.cm**2/u.AA))\n",
    "plt.plot(wo, fo*1e11)\n",
    "plt.plot(mw, mf)\n",
    "\n",
    "# plt.xlim(1000, 2000)\n",
    "plt.xscale('log')\n",
    "plt.yscale('log')"
   ]
  },
  {
   "cell_type": "code",
   "execution_count": null,
   "id": "991d44a3",
   "metadata": {},
   "outputs": [],
   "source": [
    "plt.plot(wo, fo*2.7e11)\n",
    "plt.plot(mw, mf)\n",
    "plt.xlim(wo[0].value, wo[-1].value)\n",
    "plt.ylim(0, 0.4e-13)"
   ]
  },
  {
   "cell_type": "markdown",
   "id": "12c08386",
   "metadata": {},
   "source": [
    "adding gj1132 to compare"
   ]
  },
  {
   "cell_type": "code",
   "execution_count": null,
   "id": "beb1e689",
   "metadata": {},
   "outputs": [],
   "source": [
    "data = Table.read('/media/david/5tb_storage1/muscles/basic_seds/GJ1132_basic_v1.ecsv')\n",
    "gjw, gjf = data['WAVELENGTH'], data['FLUX']\n",
    "\n",
    "d_gj = 12.038\n",
    "d_eg = 28.71\n",
    "gjf = gjf*(d_gj/d_eg)**2\n",
    "# plt.plot(gjw, gjf)"
   ]
  },
  {
   "cell_type": "code",
   "execution_count": null,
   "id": "6340c26e",
   "metadata": {},
   "outputs": [],
   "source": [
    "plt.figure(figsize=(10, 6))\n",
    "mask = (wc < 1210) & (fc>0)\n",
    "plt.plot(wc[mask], fc[mask], c='C0')\n",
    "mask = (wc > 1220) & (fc>0)\n",
    "plt.plot(wc[mask], fc[mask], c='C0', label='COS')\n",
    "mask = (ws > 1210) & (ws < 1220) & (fs>0)\n",
    "plt.plot(ws[mask], fs[mask], c='C1', label='STIS')\n",
    "plt.xlabel('Wavelength (\\AA)')\n",
    "plt.ylabel('Flux (erg s$^{-1}$ cm$^{-2}$ \\AA$^{-1}$)')\n",
    "# plt.legend(frameon=True)\n",
    "# plt.xlim(1140, 1420)\n",
    "# plt.ylim(-0.1e-13, 1e-13)\n",
    "\n",
    "# plt.plot([wc[0], wc[-1]], [3e-13, 3e-13], c='C1')\n",
    "plt.errorbar(wp[ep>0], fp[ep>0], yerr=ep[ep>0], marker='o', ls='none', c='C2')\n",
    "\n",
    "# plt.plot(wo, fo.to(u.erg/u.s/u.cm**2/u.AA, equivalencies=u.spectral_density(wo)))\n",
    "# plt.plot(wo, fo.to(u.erg/u.s/u.cm**2/u.AA))\n",
    "plt.plot(wo, fo*1e11)\n",
    "plt.plot(mw, mf)\n",
    "\n",
    "plt.plot(gjw, gjf)\n",
    "\n",
    "# plt.xlim(1000, 2000)\n",
    "plt.xscale('log')\n",
    "plt.yscale('log')"
   ]
  },
  {
   "cell_type": "markdown",
   "id": "c59b3591",
   "metadata": {},
   "source": [
    "Just the UV"
   ]
  },
  {
   "cell_type": "code",
   "execution_count": null,
   "id": "164a2151",
   "metadata": {},
   "outputs": [],
   "source": [
    "plt.figure(figsize=(10, 6))\n",
    "mask = (wc < 1210) & (fc>0)\n",
    "plt.plot(wc[mask], fc[mask], c='C0')\n",
    "mask = (wc > 1220) & (fc>0)\n",
    "plt.plot(wc[mask], fc[mask], c='C0', label='COS')\n",
    "mask = (ws > 1210) & (ws < 1220) & (fs>0)\n",
    "plt.plot(ws[mask], fs[mask], c='C1', label='STIS')\n",
    "plt.xlabel('Wavelength (\\AA)')\n",
    "plt.ylabel('Flux (erg s$^{-1}$ cm$^{-2}$ \\AA$^{-1}$)')\n",
    "# plt.legend(frameon=True)\n",
    "# plt.xlim(1140, 1420)\n",
    "# plt.ylim(-0.1e-13, 1e-13)\n",
    "\n",
    "# plt.plot([wc[0], wc[-1]], [3e-13, 3e-13], c='C1')\n",
    "# plt.errorbar(wp[ep>0], fp[ep>0], yerr=ep[ep>0], marker='o', ls='none', c='C2')\n",
    "\n",
    "# plt.plot(wo, fo.to(u.erg/u.s/u.cm**2/u.AA, equivalencies=u.spectral_density(wo)))\n",
    "# plt.plot(wo, fo.to(u.erg/u.s/u.cm**2/u.AA))\n",
    "# plt.plot(wo, fo*1e11)\n",
    "# plt.plot(mw, mf)\n",
    "\n",
    "plt.plot(gjw, gjf, c='C2')\n",
    "\n",
    "plt.xlim(1100, 1500)\n",
    "\n",
    "# plt.xscale('log')\n",
    "plt.yscale('log')"
   ]
  },
  {
   "cell_type": "markdown",
   "id": "933f7bea",
   "metadata": {},
   "source": [
    "Teff of the secondary could be off becasue they didn't have the distance. Urggh, do I need to write a PCEB fitting routine?\n",
    "\n",
    "Just the UV then. Can I add the COS background spectrum?"
   ]
  },
  {
   "cell_type": "code",
   "execution_count": null,
   "id": "06cda922",
   "metadata": {},
   "outputs": [],
   "source": []
  },
  {
   "cell_type": "code",
   "execution_count": null,
   "id": "2765dc2f",
   "metadata": {},
   "outputs": [],
   "source": [
    "plt.figure(figsize=(18, 6))\n",
    "mask = (wc < 1210) & (fc>0)\n",
    "plt.plot(wc[mask], fc[mask], c='C0')\n",
    "mask = (wc > 1220) & (fc>0)\n",
    "plt.plot(wc[mask], fc[mask], c='C0', label='COS')\n",
    "mask = (ws > 1210) & (ws < 1220) & (fs>0)\n",
    "plt.plot(ws[mask], fs[mask], c='C4', label='STIS')\n",
    "plt.xlabel('Wavelength (\\AA)')\n",
    "plt.ylabel('Flux (erg s$^{-1}$ cm$^{-2}$ \\AA$^{-1}$)')\n",
    "plt.plot(mw, mf, c='C1', lw=2, label= 'Model Spectrum')\n",
    "\n",
    "si2 = [1264.738]\n",
    "si3 = [1294.545,1296.726,1298.892,1301.149,1303.323,1312.591]\n",
    "si4 = [1393.775]#,1402.770]\n",
    "o1 = [1302.17,1304.86,1306.03]\n",
    "c2 = [1334.532, 1335.703]\n",
    "c2i = [1175]\n",
    "si3i = [1206.51]\n",
    "nv = [1238.821,1242.804]\n",
    "\n",
    "names = ['Si\\,{\\sc ii}', 'Si\\,{\\sc iv}', 'O\\,{\\sc iv}', 'C\\,{\\sc ii}', 'C\\,{\\sc ii}', 'Si\\,{\\sc iii}', 'N\\,{\\sc v}']\n",
    "lines = [si2, si4, o1,c2, c2i, si3i, nv]\n",
    "for name, si in zip(names, lines):\n",
    "    [plt.annotate('',(line, 0.8e-13), xytext=(line, 1.0e-13),arrowprops=dict(arrowstyle='-'), horizontalalignment='center') for line in si]\n",
    "    plt.annotate(name,(np.mean(si), 1.e-13), xytext=(np.mean(si), 1.05e-13), horizontalalignment='center', bbox=dict(facecolor='white', edgecolor='none'))\n",
    "\n",
    "# plt.plot(gjw, gjf, c='C2')\n",
    "\n",
    "plt.xlim(1135, 1420)\n",
    "plt.ylim(-0.05e-13, 1.49e-13)\n",
    "plt.legend(loc=6)\n",
    "\n",
    "#add background\n",
    "plt.plot(wc, fc, ls='--', zorder=-10)\n",
    "\n",
    "plt.tight_layout()\n",
    "# plt.xscale('log')\n",
    "# plt.yscale('log')\n",
    "# plt.savefig('plots/eg_uma_fuv.pdf', dpi=150)"
   ]
  },
  {
   "cell_type": "markdown",
   "id": "d52eb20a",
   "metadata": {},
   "source": [
    "\n",
    "Can I fit the CII lines?"
   ]
  },
  {
   "cell_type": "code",
   "execution_count": null,
   "id": "b9544b55",
   "metadata": {},
   "outputs": [],
   "source": [
    "def tiedfunc0(gg_init):\n",
    "    mean = gg_init.mean_1.value+1.171\n",
    "    mean = gg_init.mean_1.value+1.171\n",
    "    return mean\n",
    "\n",
    "def tiedfunc1(gg_init):\n",
    "    mean = gg_init.mean_2.value+1.171\n",
    "    return mean\n",
    "\n",
    "def tiedfunc2(gg_init):\n",
    "    mean = gg_init.mean_3.value+1.171\n",
    "    return mean\n",
    "\n",
    "fitter = fitting.LevMarLSQFitter()\n",
    "c2 = [1334.532, 1335.703]\n",
    "print(np.diff(c2))\n",
    "\n",
    "cmask = (wc > 1330) & (wc < 1340)\n",
    "wline, fline, eline, =wc[cmask], fc[cmask], ec[cmask]\n",
    "plt.plot(wline,fline)\n",
    "\n",
    "models.Polynomial1D(2)\n",
    "gg_init = models.Polynomial1D(2)\n",
    "dv_guess = np.array([-150, -10, +70])*u.km/u.s\n",
    "stds = [0.1, 0.05, 0.1]\n",
    "amps =[2e-14, -1e-14, -2e-14]\n",
    "for line in c2:\n",
    "    for i, dv in enumerate(dv_guess):\n",
    "        guess_line = dv.to(u.AA,  equivalencies=u.doppler_optical(line*u.AA)).value\n",
    "        gg_init += models.Gaussian1D(amps[i], guess_line, stds[i])\n",
    "gg_init.mean_4.tied=tiedfunc0\n",
    "gg_init.mean_5.tied=tiedfunc1\n",
    "gg_init.mean_6.tied=tiedfunc2\n",
    "gg_fit = fitter(gg_init, wline, fline, weights=1/eline, maxiter=100000)\n",
    "[plt.axvline(line,ls='--', c='C2') for line in c2]\n",
    "\n",
    "\n",
    "\n",
    "# dv = obs_lam.to(u.km/u.s,  equivalencies=u.doppler_optical(rest_lam))\n",
    "dvs = []\n",
    "dves = []\n",
    "\n",
    "if type(fitter.fit_info['param_cov']) == np.ndarray:\n",
    "#     print('hooray!')\n",
    "    fit_e = np.sqrt(np.diag(fitter.fit_info['param_cov']))\n",
    "#     print(fit_e)\n",
    "    epos = [4, 7,10] #index of the mean errors in fit_e\n",
    "    for i in range(3):\n",
    "        mean, mean_e = gg_fit[i+1].mean, fit_e[epos[i]]\n",
    "        dv = (mean*u.AA).to(u.km/u.s,  equivalencies=u.doppler_optical(c2[0]*u.AA))\n",
    "        eup = ((mean+mean_e)*u.AA).to(u.km/u.s,  equivalencies=u.doppler_optical(c2[0]*u.AA))\n",
    "        edo = ((mean-mean_e)*u.AA).to(u.km/u.s,  equivalencies=u.doppler_optical(c2[0]*u.AA))\n",
    "        dve= np.mean([abs(dv-eup).value, abs(dv-edo).value])*u.km/u.s   \n",
    "        print(dv, dve)\n",
    "        dvs.append(dv)\n",
    "        dves.append(dve)\n",
    "\n",
    "\n",
    "\n",
    "plt.plot(wline, gg_fit(wline))\n",
    "print(gg_fit)\n",
    "# plt.show()\n"
   ]
  },
  {
   "cell_type": "code",
   "execution_count": null,
   "id": "3fdd2e5e",
   "metadata": {},
   "outputs": [],
   "source": [
    "m1 = 0.514*u.Msun #Odette's result for the mass of the wd\n",
    "m2 = 0.24*u.Msun #from Bleach et al 2000\n",
    "v1 = dvs[2] #wd velocity\n",
    "v2 = dvs[0] # rd velocity\n",
    "print('v1/v2', abs(v1/v2))\n",
    "print('m2/m1', m2/m1)"
   ]
  },
  {
   "cell_type": "code",
   "execution_count": null,
   "id": "86931fd8",
   "metadata": {},
   "outputs": [],
   "source": [
    "plt.figure(figsize=(7, 6))\n",
    "plt.plot(wline,fline/gg_fit[0](wline))\n",
    "plt.plot(wline, gg_fit(wline)/gg_fit[0](wline))\n",
    "plt.xlabel('Wavelength (\\AA)')\n",
    "plt.ylabel('Normalised Flux')\n",
    "plt.xlim(1332.1, 1337.9)\n",
    "plt.ylim(0.15, 1.8)\n",
    "for line in c2:\n",
    "    plt.annotate('C\\,{\\sc ii}',(line, 1.7), horizontalalignment='center', bbox=dict(facecolor='white', edgecolor='none'))\n",
    "    plt.axvline(line, ls='--', c='C2')\n",
    "plt.tight_layout()\n",
    "plt.savefig('plots/c2_fit.pdf', dpi=150)"
   ]
  },
  {
   "cell_type": "code",
   "execution_count": null,
   "id": "40501ad4",
   "metadata": {},
   "outputs": [],
   "source": [
    "data = fits.getdata(x, 1)[1]\n",
    "# plt.plot(data['WAVELENGTH'], data['GROSS']- (data['NET']+data['BACKGROUND']))\n",
    "# plt.plot(data['WAVELENGTH'], data['NET']+data['BACKGROUND'])\n",
    "# plt.plot(data['WAVELENGTH'], data['NET'])\n",
    "# plt.plot(data['WAVELENGTH'], data['BACKGROUND'])\n",
    "conv = data['FLUX']/data['NET']\n",
    "# plt.plot(data['WAVELENGTH'], data['FLUX']/data['NET'])\n",
    "# plt.plot(data['WAVELENGTH'], data['FLUX'])\n",
    "plt.plot(data['WAVELENGTH'], data['BACKGROUND']*conv)"
   ]
  },
  {
   "cell_type": "code",
   "execution_count": null,
   "id": "c0027f20",
   "metadata": {},
   "outputs": [],
   "source": []
  }
 ],
 "metadata": {
  "kernelspec": {
   "display_name": "Python 3",
   "language": "python",
   "name": "python3"
  },
  "language_info": {
   "codemirror_mode": {
    "name": "ipython",
    "version": 3
   },
   "file_extension": ".py",
   "mimetype": "text/x-python",
   "name": "python",
   "nbconvert_exporter": "python",
   "pygments_lexer": "ipython3",
   "version": "3.6.13"
  }
 },
 "nbformat": 4,
 "nbformat_minor": 5
}
