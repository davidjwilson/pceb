{
 "cells": [
  {
   "cell_type": "code",
   "execution_count": 1,
   "id": "fd353a02-cd54-43c4-b721-42552de0d498",
   "metadata": {},
   "outputs": [],
   "source": [
    "import numpy as np\n",
    "import matplotlib.pyplot as plt\n",
    "import astropy.io.fits as fits\n",
    "import os\n",
    "import glob\n",
    "from astropy.table import Table\n",
    "from astropy.io import ascii\n",
    "from astropy.convolution import convolve, Box1DKernel\n",
    "from scipy.interpolate import interp1d\n",
    "\n",
    "import astropy.units as u\n",
    "from astropy import time, coordinates as coord\n",
    "import astropy.constants as const\n",
    "from astropy.modeling import models, fitting\n",
    "from astropy.coordinates import SkyCoord\n",
    "from matplotlib.gridspec import GridSpec\n",
    "from datetime import datetime\n",
    "from mpl_toolkits.axes_grid1.inset_locator import inset_axes\n",
    "\n",
    "\n",
    "#matplotlib set up\n",
    "%matplotlib inline\n",
    "from matplotlib import rcParams\n",
    "rcParams[\"figure.figsize\"] = (14, 5)\n",
    "rcParams[\"font.size\"] = 20"
   ]
  },
  {
   "cell_type": "code",
   "execution_count": 3,
   "id": "f1aa844b-5598-435f-b98d-d61dcf0709a9",
   "metadata": {},
   "outputs": [],
   "source": [
    "from xspec import *"
   ]
  },
  {
   "cell_type": "code",
   "execution_count": 4,
   "id": "8a5ff7bf-5198-43b9-af56-fb041fec95e1",
   "metadata": {},
   "outputs": [],
   "source": [
    "path = '/media/david/2tb_ext_hd/hddata/eg_uma/swift/xrt/'"
   ]
  },
  {
   "cell_type": "code",
   "execution_count": 5,
   "id": "915e5df0-ebd4-4e3f-8763-4d5403d0cfbb",
   "metadata": {},
   "outputs": [
    {
     "name": "stdout",
     "output_type": "stream",
     "text": [
      "New filename ( \"none\" or \"/*\" to return to the XSPEC prompt): No such file: .rsp\n",
      "New filename ( \"none\" or \"/*\" to return to the XSPEC prompt): No such file: .rsp\n",
      "New filename ( \"none\" or \"/*\" to return to the XSPEC prompt): No such file: .rsp\n",
      "\n"
     ]
    },
    {
     "name": "stderr",
     "output_type": "stream",
     "text": [
      "Error: cannot read response file interval0pc.rmf\n",
      "terminated at user request\n"
     ]
    },
    {
     "ename": "ValueError",
     "evalue": "PyCapsule_New called with null pointer",
     "output_type": "error",
     "traceback": [
      "\u001b[0;31m---------------------------------------------------------------------------\u001b[0m",
      "\u001b[0;31mValueError\u001b[0m                                Traceback (most recent call last)",
      "\u001b[0;32m/tmp/ipykernel_9384/1643679780.py\u001b[0m in \u001b[0;36m<module>\u001b[0;34m\u001b[0m\n\u001b[0;32m----> 1\u001b[0;31m \u001b[0mSpectrum\u001b[0m\u001b[0;34m(\u001b[0m\u001b[0;34m'{}interval0pc.pi'\u001b[0m\u001b[0;34m.\u001b[0m\u001b[0mformat\u001b[0m\u001b[0;34m(\u001b[0m\u001b[0mpath\u001b[0m\u001b[0;34m)\u001b[0m\u001b[0;34m)\u001b[0m\u001b[0;34m\u001b[0m\u001b[0;34m\u001b[0m\u001b[0m\n\u001b[0m",
      "\u001b[0;32m~/heasoft-6.29/x86_64-pc-linux-gnu-libc2.31/lib/python/xspec/spectrum.py\u001b[0m in \u001b[0;36m__init__\u001b[0;34m(self, dataFile, backFile, respFile, arfFile)\u001b[0m\n\u001b[1;32m    195\u001b[0m             \u001b[0mself\u001b[0m\u001b[0;34m.\u001b[0m\u001b[0m__handle\u001b[0m \u001b[0;34m=\u001b[0m \u001b[0mdataFile\u001b[0m\u001b[0;34m\u001b[0m\u001b[0;34m\u001b[0m\u001b[0m\n\u001b[1;32m    196\u001b[0m         \u001b[0;32melse\u001b[0m\u001b[0;34m:\u001b[0m\u001b[0;34m\u001b[0m\u001b[0;34m\u001b[0m\u001b[0m\n\u001b[0;32m--> 197\u001b[0;31m             \u001b[0mself\u001b[0m\u001b[0;34m.\u001b[0m\u001b[0m__handle\u001b[0m \u001b[0;34m=\u001b[0m \u001b[0m_pyXspec\u001b[0m\u001b[0;34m.\u001b[0m\u001b[0mreadSpectrum\u001b[0m\u001b[0;34m(\u001b[0m\u001b[0mdataFile\u001b[0m\u001b[0;34m)\u001b[0m\u001b[0;34m\u001b[0m\u001b[0;34m\u001b[0m\u001b[0m\n\u001b[0m\u001b[1;32m    198\u001b[0m         \u001b[0mself\u001b[0m\u001b[0;34m.\u001b[0m\u001b[0m__detArray\u001b[0m \u001b[0;34m=\u001b[0m \u001b[0m_DetArrayEmulator\u001b[0m\u001b[0;34m(\u001b[0m\u001b[0mself\u001b[0m\u001b[0;34m.\u001b[0m\u001b[0m__handle\u001b[0m\u001b[0;34m)\u001b[0m\u001b[0;34m\u001b[0m\u001b[0;34m\u001b[0m\u001b[0m\n\u001b[1;32m    199\u001b[0m         \u001b[0mspecIdx\u001b[0m \u001b[0;34m=\u001b[0m \u001b[0m_pyXspec\u001b[0m\u001b[0;34m.\u001b[0m\u001b[0mgetIndexFromHandle\u001b[0m\u001b[0;34m(\u001b[0m\u001b[0mself\u001b[0m\u001b[0;34m.\u001b[0m\u001b[0m__handle\u001b[0m\u001b[0;34m)\u001b[0m\u001b[0;34m\u001b[0m\u001b[0;34m\u001b[0m\u001b[0m\n",
      "\u001b[0;31mValueError\u001b[0m: PyCapsule_New called with null pointer"
     ]
    }
   ],
   "source": [
    "Spectrum('{}interval0pc.pi'.format(path))"
   ]
  },
  {
   "cell_type": "code",
   "execution_count": null,
   "id": "50919260-a81d-46c0-9008-e385ed607095",
   "metadata": {},
   "outputs": [],
   "source": []
  }
 ],
 "metadata": {
  "kernelspec": {
   "display_name": "Python 3 (ipykernel)",
   "language": "python",
   "name": "python3"
  },
  "language_info": {
   "codemirror_mode": {
    "name": "ipython",
    "version": 3
   },
   "file_extension": ".py",
   "mimetype": "text/x-python",
   "name": "python",
   "nbconvert_exporter": "python",
   "pygments_lexer": "ipython3",
   "version": "3.7.11"
  }
 },
 "nbformat": 4,
 "nbformat_minor": 5
}
