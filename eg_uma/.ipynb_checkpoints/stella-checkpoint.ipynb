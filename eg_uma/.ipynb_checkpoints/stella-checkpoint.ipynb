{
 "cells": [
  {
   "cell_type": "markdown",
   "metadata": {},
   "source": [
    "Testing the stella package to look for flares. 20200917 tensorflow not working"
   ]
  },
  {
   "cell_type": "code",
   "execution_count": 1,
   "metadata": {},
   "outputs": [],
   "source": [
    "import numpy as np\n",
    "import matplotlib.pyplot as plt\n",
    "import astropy.io.fits as fits\n",
    "import os\n",
    "import glob\n",
    "from astropy.table import Table\n",
    "from astropy.io import ascii\n",
    "import astropy.units as u\n",
    "import astropy.constants as const\n",
    "from astropy.modeling import models, fitting\n",
    "import lightkurve as lk\n",
    "\n",
    "\n",
    "#matplotlib set up\n",
    "%matplotlib inline\n",
    "from matplotlib import rcParams\n",
    "rcParams[\"figure.figsize\"] = (14, 5)\n",
    "rcParams[\"font.size\"] = 20"
   ]
  },
  {
   "cell_type": "code",
   "execution_count": 2,
   "metadata": {},
   "outputs": [
    {
     "data": {
      "text/plain": [
       "\"eg_uma_fits= ['/home/david/work/pceb/tess/MAST_2020-07-23T1832/TESS/tess2019226182529-s0015-0000000416538823-0151-s/tess2019226182529-s0015-0000000416538823-0151-s_lc.fits',\\n'/home/david/work/pceb/tess/MAST_2020-07-23T1832/TESS/tess2020049080258-s0022-0000000416538823-0174-s/tess2020049080258-s0022-0000000416538823-0174-s_lc.fits']\\n\\n\\nfitter = fitting.LevMarLSQFitter()\\n\\n\\n\\n\\nfor tessfits in eg_uma_fits:\\n    data = fits.getdata(tessfits, 1)\\n    t, f, e, q = data['TIME'], data['PDCSAP_FLUX'], data['PDCSAP_FLUX_ERR'], data['QUALITY']\\n    t, f, e = t[q==0], f[q==0], e[q==0]\\n    lc = lk.LightCurve(time=t, flux=f, flux_err=e).flatten(window_length=1001)#remove_outliers(sigma=5).\\n    lc = lc.remove_nans()\\n  #  lc.flux -= 1\\n   # lc.flux  *= 100\\n    #lc.flux_err *= 100\\n    plt.scatter(lc.time,lc.flux, s=5)\\n    plt.show()\""
      ]
     },
     "execution_count": 2,
     "metadata": {},
     "output_type": "execute_result"
    }
   ],
   "source": [
    "\"\"\"eg_uma_fits= ['/home/david/work/pceb/tess/MAST_2020-07-23T1832/TESS/tess2019226182529-s0015-0000000416538823-0151-s/tess2019226182529-s0015-0000000416538823-0151-s_lc.fits',\n",
    "'/home/david/work/pceb/tess/MAST_2020-07-23T1832/TESS/tess2020049080258-s0022-0000000416538823-0174-s/tess2020049080258-s0022-0000000416538823-0174-s_lc.fits']\n",
    "\n",
    "\n",
    "fitter = fitting.LevMarLSQFitter()\n",
    "\n",
    "\n",
    "\n",
    "\n",
    "for tessfits in eg_uma_fits:\n",
    "    data = fits.getdata(tessfits, 1)\n",
    "    t, f, e, q = data['TIME'], data['PDCSAP_FLUX'], data['PDCSAP_FLUX_ERR'], data['QUALITY']\n",
    "    t, f, e = t[q==0], f[q==0], e[q==0]\n",
    "    lc = lk.LightCurve(time=t, flux=f, flux_err=e).flatten(window_length=1001)#remove_outliers(sigma=5).\n",
    "    lc = lc.remove_nans()\n",
    "  #  lc.flux -= 1\n",
    "   # lc.flux  *= 100\n",
    "    #lc.flux_err *= 100\n",
    "    plt.scatter(lc.time,lc.flux, s=5)\n",
    "    plt.show()\"\"\""
   ]
  },
  {
   "cell_type": "code",
   "execution_count": 3,
   "metadata": {},
   "outputs": [
    {
     "data": {
      "text/plain": [
       "<matplotlib.axes._subplots.AxesSubplot at 0x7fcd8b4359a0>"
      ]
     },
     "execution_count": 3,
     "metadata": {},
     "output_type": "execute_result"
    },
    {
     "name": "stderr",
     "output_type": "stream",
     "text": [
      "findfont: Font family ['serif'] not found. Falling back to DejaVu Sans.\n"
     ]
    },
    {
     "data": {
      "image/png": "[encoded data removed]",
      "text/plain": [
       "<Figure size 848.5x400 with 1 Axes>"
      ]
     },
     "metadata": {},
     "output_type": "display_data"
    }
   ],
   "source": [
    "from lightkurve.search import search_lightcurvefile\n",
    "\n",
    "lc = search_lightcurvefile(target='tic416538823', mission='TESS', sector=22)\n",
    "lc = lc.download().PDCSAP_FLUX\n",
    "lc.plot()"
   ]
  },
  {
   "cell_type": "code",
   "execution_count": 4,
   "metadata": {},
   "outputs": [],
   "source": [
    "lc=lc.remove_nans()"
   ]
  },
  {
   "cell_type": "code",
   "execution_count": 5,
   "metadata": {},
   "outputs": [
    {
     "ename": "ModuleNotFoundError",
     "evalue": "No module named 'stella'",
     "output_type": "error",
     "traceback": [
      "\u001b[0;31m---------------------------------------------------------------------------\u001b[0m",
      "\u001b[0;31mModuleNotFoundError\u001b[0m                       Traceback (most recent call last)",
      "\u001b[0;32m<ipython-input-5-2dc3391f5c45>\u001b[0m in \u001b[0;36m<module>\u001b[0;34m\u001b[0m\n\u001b[0;32m----> 1\u001b[0;31m \u001b[0;32mimport\u001b[0m \u001b[0mstella\u001b[0m\u001b[0;34m\u001b[0m\u001b[0;34m\u001b[0m\u001b[0m\n\u001b[0m",
      "\u001b[0;31mModuleNotFoundError\u001b[0m: No module named 'stella'"
     ]
    }
   ],
   "source": [
    "import stella"
   ]
  },
  {
   "cell_type": "code",
   "execution_count": null,
   "metadata": {},
   "outputs": [],
   "source": [
    "MODEL_DIR = '/media/david/5tb_storage1/stella/models/run01/'\n",
    "MODELS = [os.path.join(MODEL_DIR,i) for i in\n",
    "          os.listdir(MODEL_DIR) if i.endswith('.h5')]\n",
    "print(MODELS)"
   ]
  },
  {
   "cell_type": "code",
   "execution_count": null,
   "metadata": {},
   "outputs": [],
   "source": [
    "OUT_DIR = '/media/david/5tb_storage1/stella/output/'"
   ]
  },
  {
   "cell_type": "code",
   "execution_count": null,
   "metadata": {},
   "outputs": [],
   "source": [
    "cnn = stella.ConvNN(output_dir=OUT_DIR)"
   ]
  },
  {
   "cell_type": "code",
   "execution_count": null,
   "metadata": {},
   "outputs": [],
   "source": [
    "cnn.predict(modelname=MODELS[0],\n",
    "            times=lc.time,\n",
    "            fluxes=lc.flux,\n",
    "            errs=lc.flux_err)\n",
    "single_pred = cnn.predictions[0]\n",
    "\n"
   ]
  },
  {
   "cell_type": "code",
   "execution_count": null,
   "metadata": {},
   "outputs": [],
   "source": [
    "cnn.model.summary()\n",
    "\n"
   ]
  },
  {
   "cell_type": "code",
   "execution_count": null,
   "metadata": {},
   "outputs": [],
   "source": [
    "plt.figure(figsize=(14,4))\n",
    "plt.scatter(cnn.predict_time[0], cnn.predict_flux[0],\n",
    "            c=single_pred, vmin=0, vmax=1)\n",
    "plt.colorbar(label='Probability of Flare')\n",
    "plt.xlabel('Time [BJD-2457000]')\n",
    "plt.ylabel('Normalized Flux')\n",
    "plt.title('TIC {}'.format(lc.targetid));"
   ]
  },
  {
   "cell_type": "code",
   "execution_count": null,
   "metadata": {},
   "outputs": [],
   "source": [
    "preds = np.zeros((len(MODELS),len(cnn.predictions[0])))\n",
    "\n",
    "for i, model in enumerate(MODELS):\n",
    "    cnn.predict(modelname=model,\n",
    "                times=lc.time,\n",
    "                fluxes=lc.flux,\n",
    "                errs=lc.flux_err)\n",
    "    preds[i] = cnn.predictions[0]\n",
    "\n",
    "avg_pred = np.nanmedian(preds, axis=0)"
   ]
  },
  {
   "cell_type": "code",
   "execution_count": null,
   "metadata": {},
   "outputs": [],
   "source": [
    "fig, (ax1, ax2) = plt.subplots(figsize=(14,8), nrows=2,\n",
    "                               sharex=True, sharey=True)\n",
    "im = ax1.scatter(cnn.predict_time[0], cnn.predict_flux[0],\n",
    "            c=avg_pred, vmin=0, vmax=1)\n",
    "ax2.scatter(cnn.predict_time[0], cnn.predict_flux[0],\n",
    "            c=single_pred, vmin=0, vmax=1)\n",
    "ax2.set_xlabel('Time [BJD-2457000]')\n",
    "ax2.set_ylabel('Normalized Flux', y=1.2)\n",
    "\n",
    "fig.subplots_adjust(right=0.8)\n",
    "cbar_ax = fig.add_axes([0.81, 0.15, 0.02, 0.7])\n",
    "fig.colorbar(im, cax=cbar_ax, label='Probability')\n",
    "\n",
    "\n",
    "ax1.set_title('Averaged Predictions')\n",
    "ax2.set_title('Single Model Predictions')\n",
    "\n",
    "plt.subplots_adjust(hspace=0.4);\n",
    "\n"
   ]
  },
  {
   "cell_type": "code",
   "execution_count": null,
   "metadata": {},
   "outputs": [],
   "source": [
    "fig, (ax1, ax2) = plt.subplots(figsize=(14,8), nrows=2,\n",
    "                               sharex=True)\n",
    "ax1.scatter(cnn.predict_time[0], cnn.predict_flux[0],\n",
    "            c=avg_pred, vmin=0, vmax=1, cmap='Oranges_r', s=6)\n",
    "ax1.scatter(cnn.predict_time[0], cnn.predict_flux[0]-0.03,\n",
    "            c=single_pred, vmin=0, vmax=1, cmap='Greys_r', s=6)\n",
    "ax1.set_ylim(0.93,1.05)\n",
    "ax2.plot(cnn.predict_time[0], single_pred, 'k')\n",
    "ax2.plot(cnn.predict_time[0], avg_pred, 'orange')\n",
    "ax1.set_title('Black = Single Model; Orange = Averaged Models')\n",
    "\n",
    "plt.xlim(1906, 1908)\n"
   ]
  },
  {
   "cell_type": "code",
   "execution_count": null,
   "metadata": {},
   "outputs": [],
   "source": [
    "from lightkurve.search import search_lightcurvefile\n",
    "lc = search_lightcurvefile(target='tic416538823', mission='TESS', sector=22)\n",
    "lc = lc.download().PDCSAP_FLUX.normalize()\n",
    "lc.plot()\n",
    "lc = lc.remove_nans()"
   ]
  },
  {
   "cell_type": "code",
   "execution_count": null,
   "metadata": {},
   "outputs": [],
   "source": [
    "mProt = stella.MeasureProt([lc.targetid], [lc.time], [lc.flux], [lc.flux_err])\n",
    "\n"
   ]
  },
  {
   "cell_type": "code",
   "execution_count": null,
   "metadata": {},
   "outputs": [],
   "source": [
    "mProt.run_LS()"
   ]
  },
  {
   "cell_type": "code",
   "execution_count": null,
   "metadata": {},
   "outputs": [],
   "source": [
    "mProt.LS_results"
   ]
  },
  {
   "cell_type": "code",
   "execution_count": null,
   "metadata": {},
   "outputs": [],
   "source": [
    "lc.fold(mProt.LS_results['avg_period_days'].data[0]).plot()"
   ]
  },
  {
   "cell_type": "code",
   "execution_count": null,
   "metadata": {},
   "outputs": [],
   "source": [
    "plt.figure(figsize=(14,4))\n",
    "plt.scatter(cnn.predict_time[0], cnn.predict_flux[0], c=cnn.predictions[0], vmin=0, vmax=1)\n",
    "plt.xlabel('Time [BJD - 2457000]')\n",
    "plt.ylabel('Normalized Flux');"
   ]
  },
  {
   "cell_type": "code",
   "execution_count": null,
   "metadata": {},
   "outputs": [],
   "source": [
    "ff = stella.FitFlares(id=[lc.targetid],\n",
    "                      time=[lc.time],\n",
    "                      flux=[lc.flux],\n",
    "                      flux_err=[lc.flux_err],\n",
    "                      predictions=[cnn.predictions[0]])"
   ]
  },
  {
   "cell_type": "code",
   "execution_count": null,
   "metadata": {},
   "outputs": [],
   "source": [
    "ff.identify_flare_peaks(threshold=0.5)\n",
    "\n",
    "ff.flare_table\n",
    "\n"
   ]
  },
  {
   "cell_type": "code",
   "execution_count": null,
   "metadata": {},
   "outputs": [],
   "source": [
    "plt.figure(figsize=(14,4))\n",
    "plt.scatter(ff.time[0], ff.flux[0], c=cnn.predictions[0], s=5)\n",
    "\n",
    "for tpeak in ff.flare_table['tpeak']:\n",
    "    plt.vlines(tpeak, 0,2, color='k', alpha=0.5, linewidth=5, zorder=0)\n",
    "\n",
    "plt.ylim(0.94,1.3)\n",
    "plt.xlabel('Time [BJD - 2457000]')\n",
    "plt.ylabel('Normalized Flux');\n"
   ]
  },
  {
   "cell_type": "code",
   "execution_count": null,
   "metadata": {},
   "outputs": [],
   "source": [
    "plt.hist(cnn.predictions[0], bins=10)"
   ]
  },
  {
   "cell_type": "code",
   "execution_count": null,
   "metadata": {},
   "outputs": [],
   "source": [
    "len(cnn.predictions[0][cnn.predictions[0]>0.5])/len(cnn.predictions[0])*100"
   ]
  },
  {
   "cell_type": "code",
   "execution_count": null,
   "metadata": {},
   "outputs": [],
   "source": []
  }
 ],
 "metadata": {
  "kernelspec": {
   "display_name": "Python 3",
   "language": "python",
   "name": "python3"
  },
  "language_info": {
   "codemirror_mode": {
    "name": "ipython",
    "version": 3
   },
   "file_extension": ".py",
   "mimetype": "text/x-python",
   "name": "python",
   "nbconvert_exporter": "python",
   "pygments_lexer": "ipython3",
   "version": "3.8.3"
  }
 },
 "nbformat": 4,
 "nbformat_minor": 4
}
