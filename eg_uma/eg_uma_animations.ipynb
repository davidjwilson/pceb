{
 "cells": [
  {
   "cell_type": "markdown",
   "id": "d255cec1",
   "metadata": {},
   "source": [
    "Can I animate a spinning pceb?"
   ]
  },
  {
   "cell_type": "code",
   "execution_count": 2,
   "id": "3db80174",
   "metadata": {},
   "outputs": [],
   "source": [
    "import numpy as np\n",
    "import matplotlib.pyplot as plt\n",
    "import astropy.io.fits as fits\n",
    "import os\n",
    "import glob\n",
    "from astropy.table import Table\n",
    "from astropy.io import ascii\n",
    "import astropy.units as u\n",
    "import astropy.constants as const\n",
    "from matplotlib import animation\n",
    "import mplcyberpunk\n",
    "import matplotlib.patches as mpatches\n",
    "import matplotlib.cm as cm\n",
    "from matplotlib import transforms\n",
    "from matplotlib.collections import PatchCollection\n",
    "# from matplotlib.patches import Wedge\n",
    "\n",
    "#matplotlib set up\n",
    "%matplotlib inline\n",
    "from matplotlib import rcParams\n",
    "rcParams[\"figure.figsize\"] = (14, 5)\n",
    "rcParams[\"font.size\"] = 20"
   ]
  },
  {
   "cell_type": "code",
   "execution_count": 3,
   "id": "fe65a9ba",
   "metadata": {},
   "outputs": [],
   "source": [
    "#eg uma from bleach+00, need to update with Odette's fit\n",
    "m1 = 0.64*u.Msun\n",
    "m2 = 0.42*u.Msun\n",
    "p= 0.66765930*u.d\n",
    "r1 = 0.013*u.Rsun\n",
    "r2 = 0.45*u.Rsun"
   ]
  },
  {
   "cell_type": "code",
   "execution_count": 4,
   "id": "fec5fb8b",
   "metadata": {},
   "outputs": [
    {
     "name": "stdout",
     "output_type": "stream",
     "text": [
      "3.2777539367471644 solRad\n",
      "1.298732691918688 solRad 1.9790212448284765 solRad\n"
     ]
    }
   ],
   "source": [
    "def p_to_a(m1, m2, p):\n",
    "    m1, m2, p = m1.to(u.kg), m2.to(u.kg), p.to(u.s)\n",
    "    a = ((const.G*(m1+m2) * p**2)/(4*np.pi**2))**(1/3)\n",
    "    return a\n",
    "\n",
    "a = p_to_a(m1, m2, p)\n",
    "a = a.to(u.Rsun)\n",
    "print(a) #yay right answer\n",
    "\n",
    "def com(m1, m2, a): #find the distances to a COM\n",
    "    r1 = a / (1 + (m1/m2))\n",
    "    r2 = a - r1\n",
    "    return r1, r2\n",
    "\n",
    "a1, a2 = com(m1, m2, a)\n",
    "print(a1, a2)\n",
    "\n",
    "a1, a2 = a1.value, a2.value"
   ]
  },
  {
   "cell_type": "markdown",
   "id": "faf958a5",
   "metadata": {},
   "source": [
    "https://stackoverflow.com/questions/51286455/how-can-i-animate-a-point-moving-around-the-circumference-of-a-circle"
   ]
  },
  {
   "cell_type": "code",
   "execution_count": 4,
   "id": "ba27b4da",
   "metadata": {},
   "outputs": [
    {
     "data": {
      "text/plain": [
       "'\\nr_1 = r1.value # radius of circle\\nr_2 = r2.value\\ndef circle1(phi):\\n    return np.array([r_1*np.cos(phi), r_1*np.sin(phi)])\\n\\ndef circle2(phi):\\n    return np.array([r_2*np.cos(phi), r_2*np.sin(phi)])\\n\\n# create a figure with an axes\\nfig, ax = plt.subplots(figsize=(5,5))\\n# set the axes limits\\nax.axis([-1.5,1.5,-1.5,1.5])\\n# set equal aspect such that the circle is not shown as ellipse\\nax.set_aspect(\"equal\")\\n# create a point in the axes\\n#point1, = ax.plot(0,1, marker=\"o\", ms=5)\\npoint1 = plt.Circle((0,1), radius=0.5)\\n\\n# point2, = ax.plot(0,1, marker=\"o\",ms=10)\\n\\n# Updating function, to be repeatedly called by the animation\\ndef update(phi):\\n    # obtain point coordinates \\n    x1,y1 = circle1(phi)\\n    x2,y2 = circle2(phi+np.pi)\\n    # set point\\'s coordinates\\n    point1.set_x=(x1)\\n    point1.set_y=(y1)\\n    \\n#     point2.set_data([x2],[y2])\\n    return point1#, point2\\n\\n# create animation with 10ms interval, which is repeated,\\n# provide the full circle (0,2pi) as parameters\\n#anim = FuncAnimation(fig, update, interval=1, blit=True, repeat=True, frames=np.linspace(0,2*np.pi,2, endpoint=False))\\n\\n#anim.save(\\'animations/test_circle.gif\\', dpi=100, writer=\\'imagemagick\\')\\n#plt.show()'"
      ]
     },
     "execution_count": 4,
     "metadata": {},
     "output_type": "execute_result"
    }
   ],
   "source": [
    "\"\"\"\n",
    "r_1 = r1.value # radius of circle\n",
    "r_2 = r2.value\n",
    "def circle1(phi):\n",
    "    return np.array([r_1*np.cos(phi), r_1*np.sin(phi)])\n",
    "\n",
    "def circle2(phi):\n",
    "    return np.array([r_2*np.cos(phi), r_2*np.sin(phi)])\n",
    "\n",
    "# create a figure with an axes\n",
    "fig, ax = plt.subplots(figsize=(5,5))\n",
    "# set the axes limits\n",
    "ax.axis([-1.5,1.5,-1.5,1.5])\n",
    "# set equal aspect such that the circle is not shown as ellipse\n",
    "ax.set_aspect(\"equal\")\n",
    "# create a point in the axes\n",
    "#point1, = ax.plot(0,1, marker=\"o\", ms=5)\n",
    "point1 = plt.Circle((0,1), radius=0.5)\n",
    "\n",
    "# point2, = ax.plot(0,1, marker=\"o\",ms=10)\n",
    "\n",
    "# Updating function, to be repeatedly called by the animation\n",
    "def update(phi):\n",
    "    # obtain point coordinates \n",
    "    x1,y1 = circle1(phi)\n",
    "    x2,y2 = circle2(phi+np.pi)\n",
    "    # set point's coordinates\n",
    "    point1.set_x=(x1)\n",
    "    point1.set_y=(y1)\n",
    "    \n",
    "#     point2.set_data([x2],[y2])\n",
    "    return point1#, point2\n",
    "\n",
    "# create animation with 10ms interval, which is repeated,\n",
    "# provide the full circle (0,2pi) as parameters\n",
    "#anim = FuncAnimation(fig, update, interval=1, blit=True, repeat=True, frames=np.linspace(0,2*np.pi,2, endpoint=False))\n",
    "\n",
    "#anim.save('animations/test_circle.gif', dpi=100, writer='imagemagick')\n",
    "#plt.show()\"\"\""
   ]
  },
  {
   "cell_type": "markdown",
   "id": "77778e75",
   "metadata": {},
   "source": [
    "Didn't work, this looks more promising https://nickcharlton.net/posts/drawing-animating-shapes-matplotlib.html"
   ]
  },
  {
   "cell_type": "code",
   "execution_count": 5,
   "id": "9bfdd0c4",
   "metadata": {},
   "outputs": [],
   "source": [
    "#stars https://github.com/jamescalam/python_synthwave\n",
    "def make_stars(min_x, max_x, min_y, max_y, stars=100):\n",
    "    y = np.random.uniform(min_y, max_y, stars)\n",
    "    x = np.random.uniform(min_x, max_x, stars)\n",
    "    alpha_multiplier = np.random.uniform(.5, 1, len(x))\n",
    "    size = np.random.uniform(1, 6, len(x))\n",
    "\n",
    "    return np.array([x, y, alpha_multiplier, size]).T"
   ]
  },
  {
   "cell_type": "code",
   "execution_count": 1,
   "id": "01e09f84",
   "metadata": {},
   "outputs": [
    {
     "data": {
      "text/plain": [
       "'#plt.style.use(\"cyberpunk\")\\n#rcParams[\"axes.linewidth\"]=1\\n\\nfig = plt.figure(figsize=(5, 5))\\nfig.set_dpi(100)\\nfig.set_tight_layout(True)\\n\\n#fig.set_size_inches(7, 6.5)\\nplot_rad = 1.69\\nax = plt.axes(xlim=(-plot_rad, plot_rad), ylim=(-plot_rad, plot_rad))\\n\\nax.set_aspect(\"equal\")\\npatch1 = plt.Circle((0, a1), r1.value, fc=\\'#08F7FE\\')\\npatch2 = plt.Circle((0, a2), r2.value, fc=\\'#ff3300\\')\\n\\npatch1a = plt.Circle((0, a1), r1.value*1.1, fc=\\'#08F7FE\\', alpha=0.3)\\npatch2a = plt.Circle((0, a2), r2.value*1.1, fc=\\'#ff3300\\',alpha=0.3)\\n\\ndef init():\\n    patch1.center = (0, a1)\\n    patch2.center = (0, -a2)\\n    patch1a.center = (0, a1)\\n    patch2a.center = (0, -a2)\\n    ax.add_patch(patch1)\\n    ax.add_patch(patch2)\\n    ax.add_patch(patch1a)\\n    ax.add_patch(patch2a)\\n    return patch1, patch2, patch1a, patch2a\\n\\ndef animate(phi):\\n    x, y = patch1.center\\n    x, y = a1* np.cos(phi), a1*np.sin(phi)\\n    patch1.center = (x, y)\\n    patch1a.center = (x, y)\\n    x, y = patch2.center\\n    x, y = a2* np.cos(phi+np.pi), a2*np.sin(phi+np.pi)\\n    patch2.center = (x, y)\\n    patch2a.center = (x, y)\\n    \\n    \\n    \\n    \\n    return patch1, patch2, patch1a, patch2a\\n\\nanim = animation.FuncAnimation(fig, animate, \\n                               init_func=init, \\n                               frames=np.linspace(0,2*np.pi, 360, endpoint=False), \\n                               interval=20,\\n                               blit=True)\\n\\ncol= \\'#000033\\'\\nbgcol =\\'#000033\\'\\ncol=\\'k\\'\\nbgcol=\\'k\\'\\nfig.patch.set_facecolor(bgcol)\\nax.set_facecolor(bgcol)\\nax.spines[\\'bottom\\'].set_color(col)\\nax.spines[\\'top\\'].set_color(col) \\nax.spines[\\'right\\'].set_color(col)\\nax.spines[\\'left\\'].set_color(col)\\n#plt.grid(zorder=-10)\\n# plt.xlabel(r\\'X (R$_{\\x08igodot}$)\\')\\n# plt.ylabel(r\\'Y (R$_{\\x08igodot}$)\\')\\nplt.xticks(visible=False)\\nplt.yticks(visible=False)\\n\\nlabely = 1.3\\nlabelx= 0.5\\nplt.errorbar((labelx, labelx+1), (labely, labely), yerr=0.1, c=\\'w\\')\\nplt.annotate(r\\'1 R$_{\\x08igodot}$\\', (labelx+0.5, labely+0.1), ha=\\'center\\', c=\\'w\\')\\n\\n\\n\\nstars = make_stars(-plot_rad, plot_rad, -plot_rad, plot_rad)\\nfor star in stars:\\n        alpha = np.random.uniform(0, 1)\\n        ax.scatter(star[0], star[1], s=star[2], alpha=alpha,\\n                   c=\\'#ffffff\\', zorder=0)\\n        dark = np.random.uniform(0, .3)\\n        ax.scatter(star[0], star[1], s=star[2], alpha=dark,\\n                   c=\\'#000000\\', zorder=0)\\n        \\nanim = animation.FuncAnimation(fig, animate, \\n                               init_func=init, \\n                               frames=np.linspace(0,2*np.pi, 4, endpoint=False), \\n                               interval=100,\\n                               blit=True)\\n\\n        \\n# anim.save(\\'animations/test_circle_v2.gif\\', dpi=100, writer=\\'imagemagick\\')\\nplt.show()\\n\\n#Writer = animation.writers[\\'ffmpeg\\']\\n#writer = Writer(fps=15, metadata=dict(artist=\\'Me\\'), bitrate=1800)\\n\\n#anim.save(\\'animations/test2.mp4\\', writer=writer)\\n'"
      ]
     },
     "execution_count": 1,
     "metadata": {},
     "output_type": "execute_result"
    }
   ],
   "source": [
    "\"\"\"#plt.style.use(\"cyberpunk\")\n",
    "#rcParams[\"axes.linewidth\"]=1\n",
    "\n",
    "fig = plt.figure(figsize=(5, 5))\n",
    "fig.set_dpi(100)\n",
    "fig.set_tight_layout(True)\n",
    "\n",
    "#fig.set_size_inches(7, 6.5)\n",
    "plot_rad = 1.69\n",
    "ax = plt.axes(xlim=(-plot_rad, plot_rad), ylim=(-plot_rad, plot_rad))\n",
    "\n",
    "ax.set_aspect(\"equal\")\n",
    "patch1 = plt.Circle((0, a1), r1.value, fc='#08F7FE')\n",
    "patch2 = plt.Circle((0, a2), r2.value, fc='#ff3300')\n",
    "\n",
    "patch1a = plt.Circle((0, a1), r1.value*1.1, fc='#08F7FE', alpha=0.3)\n",
    "patch2a = plt.Circle((0, a2), r2.value*1.1, fc='#ff3300',alpha=0.3)\n",
    "\n",
    "def init():\n",
    "    patch1.center = (0, a1)\n",
    "    patch2.center = (0, -a2)\n",
    "    patch1a.center = (0, a1)\n",
    "    patch2a.center = (0, -a2)\n",
    "    ax.add_patch(patch1)\n",
    "    ax.add_patch(patch2)\n",
    "    ax.add_patch(patch1a)\n",
    "    ax.add_patch(patch2a)\n",
    "    return patch1, patch2, patch1a, patch2a\n",
    "\n",
    "def animate(phi):\n",
    "    x, y = patch1.center\n",
    "    x, y = a1* np.cos(phi), a1*np.sin(phi)\n",
    "    patch1.center = (x, y)\n",
    "    patch1a.center = (x, y)\n",
    "    x, y = patch2.center\n",
    "    x, y = a2* np.cos(phi+np.pi), a2*np.sin(phi+np.pi)\n",
    "    patch2.center = (x, y)\n",
    "    patch2a.center = (x, y)\n",
    "    \n",
    "    \n",
    "    \n",
    "    \n",
    "    return patch1, patch2, patch1a, patch2a\n",
    "\n",
    "anim = animation.FuncAnimation(fig, animate, \n",
    "                               init_func=init, \n",
    "                               frames=np.linspace(0,2*np.pi, 360, endpoint=False), \n",
    "                               interval=20,\n",
    "                               blit=True)\n",
    "\n",
    "col= '#000033'\n",
    "bgcol ='#000033'\n",
    "col='k'\n",
    "bgcol='k'\n",
    "fig.patch.set_facecolor(bgcol)\n",
    "ax.set_facecolor(bgcol)\n",
    "ax.spines['bottom'].set_color(col)\n",
    "ax.spines['top'].set_color(col) \n",
    "ax.spines['right'].set_color(col)\n",
    "ax.spines['left'].set_color(col)\n",
    "#plt.grid(zorder=-10)\n",
    "# plt.xlabel(r'X (R$_{\\bigodot}$)')\n",
    "# plt.ylabel(r'Y (R$_{\\bigodot}$)')\n",
    "plt.xticks(visible=False)\n",
    "plt.yticks(visible=False)\n",
    "\n",
    "labely = 1.3\n",
    "labelx= 0.5\n",
    "plt.errorbar((labelx, labelx+1), (labely, labely), yerr=0.1, c='w')\n",
    "plt.annotate(r'1 R$_{\\bigodot}$', (labelx+0.5, labely+0.1), ha='center', c='w')\n",
    "\n",
    "\n",
    "\n",
    "stars = make_stars(-plot_rad, plot_rad, -plot_rad, plot_rad)\n",
    "for star in stars:\n",
    "        alpha = np.random.uniform(0, 1)\n",
    "        ax.scatter(star[0], star[1], s=star[2], alpha=alpha,\n",
    "                   c='#ffffff', zorder=0)\n",
    "        dark = np.random.uniform(0, .3)\n",
    "        ax.scatter(star[0], star[1], s=star[2], alpha=dark,\n",
    "                   c='#000000', zorder=0)\n",
    "        \n",
    "anim = animation.FuncAnimation(fig, animate, \n",
    "                               init_func=init, \n",
    "                               frames=np.linspace(0,2*np.pi, 4, endpoint=False), \n",
    "                               interval=100,\n",
    "                               blit=True)\n",
    "\n",
    "        \n",
    "# anim.save('animations/test_circle_v2.gif', dpi=100, writer='imagemagick')\n",
    "plt.show()\n",
    "\n",
    "#Writer = animation.writers['ffmpeg']\n",
    "#writer = Writer(fps=15, metadata=dict(artist='Me'), bitrate=1800)\n",
    "\n",
    "#anim.save('animations/test2.mp4', writer=writer)\n",
    "\"\"\""
   ]
  },
  {
   "cell_type": "code",
   "execution_count": 6,
   "id": "7b6ee314",
   "metadata": {},
   "outputs": [
    {
     "data": {
      "text/plain": [
       "'\\n\\ncircles = []\\ncircle1 = mpatches.Circle((0, 0), 0.1, alpha=1, facecolor=\\'r\\')\\ncircles.append(circle1)\\ncircle2 = mpatches.Circle((0, 0), 0.2, alpha=0.5, facecolor=\\'r\\')\\ncircles.append(circle2)\\n\\nfig = plt.figure(figsize=(5, 5))\\nfig.set_dpi(100)\\nfig.set_tight_layout(True)\\n\\n\\nplot_rad = 1.69\\n\\n# Define a 1st position to annotate (display it with a marker)\\nax = plt.axes(xlim=(-plot_rad, plot_rad), ylim=(-plot_rad, plot_rad))\\n\\nax.set_aspect(\"equal\")\\n\\nfor circ in circles:\\n    ax.add_patch(circ)\\n\\nfor circ in circles:\\n    circ.center=(0,1)\\n    ax.add_patch(circ)\\n    \\nax.set_facecolor(\\'k\\')\\n\\n\\n'"
      ]
     },
     "execution_count": 6,
     "metadata": {},
     "output_type": "execute_result"
    }
   ],
   "source": [
    "\"\"\"\n",
    "\n",
    "circles = []\n",
    "circle1 = mpatches.Circle((0, 0), 0.1, alpha=1, facecolor='r')\n",
    "circles.append(circle1)\n",
    "circle2 = mpatches.Circle((0, 0), 0.2, alpha=0.5, facecolor='r')\n",
    "circles.append(circle2)\n",
    "\n",
    "fig = plt.figure(figsize=(5, 5))\n",
    "fig.set_dpi(100)\n",
    "fig.set_tight_layout(True)\n",
    "\n",
    "\n",
    "plot_rad = 1.69\n",
    "\n",
    "# Define a 1st position to annotate (display it with a marker)\n",
    "ax = plt.axes(xlim=(-plot_rad, plot_rad), ylim=(-plot_rad, plot_rad))\n",
    "\n",
    "ax.set_aspect(\"equal\")\n",
    "\n",
    "for circ in circles:\n",
    "    ax.add_patch(circ)\n",
    "\n",
    "for circ in circles:\n",
    "    circ.center=(0,1)\n",
    "    ax.add_patch(circ)\n",
    "    \n",
    "ax.set_facecolor('k')\n",
    "\n",
    "\n",
    "\"\"\""
   ]
  },
  {
   "cell_type": "markdown",
   "id": "30a468cb",
   "metadata": {},
   "source": [
    "With wedges"
   ]
  },
  {
   "cell_type": "code",
   "execution_count": 7,
   "id": "e0922cff",
   "metadata": {},
   "outputs": [
    {
     "data": {
      "text/plain": [
       "\"fig = plt.figure(figsize=(5, 5))\\nfig.set_dpi(100)\\nfig.set_tight_layout(True)\\n\\n\\nplot_rad = 1.69\\n\\n# Define a 1st position to annotate (display it with a marker)\\nax = plt.axes(xlim=(-plot_rad, plot_rad), ylim=(-plot_rad, plot_rad))\\n\\nangle=45\\ncenter =1,1\\nradius = 0.5\\ntheta1, theta2 = angle, angle + 180\\n#c1 =plt.Circle(center, radius, fc='#801a00')\\nw1 = Wedge(center, radius, theta1, theta2, fc='#ff3300')\\nw2 = Wedge(center, radius, theta2, theta1, fc='#ff9900')\\nfor wedge in [ w1, w2]:\\n    ax.add_artist(wedge)\\n\\n\\nx, y = a1* np.cos(np.pi/2), a1*np.sin(np.pi/2)\\nplt.scatter(x,y)\\nax.set_facecolor('k')\\n\""
      ]
     },
     "execution_count": 7,
     "metadata": {},
     "output_type": "execute_result"
    }
   ],
   "source": [
    "\"\"\"fig = plt.figure(figsize=(5, 5))\n",
    "fig.set_dpi(100)\n",
    "fig.set_tight_layout(True)\n",
    "\n",
    "\n",
    "plot_rad = 1.69\n",
    "\n",
    "# Define a 1st position to annotate (display it with a marker)\n",
    "ax = plt.axes(xlim=(-plot_rad, plot_rad), ylim=(-plot_rad, plot_rad))\n",
    "\n",
    "angle=45\n",
    "center =1,1\n",
    "radius = 0.5\n",
    "theta1, theta2 = angle, angle + 180\n",
    "#c1 =plt.Circle(center, radius, fc='#801a00')\n",
    "w1 = Wedge(center, radius, theta1, theta2, fc='#ff3300')\n",
    "w2 = Wedge(center, radius, theta2, theta1, fc='#ff9900')\n",
    "for wedge in [ w1, w2]:\n",
    "    ax.add_artist(wedge)\n",
    "\n",
    "\n",
    "x, y = a1* np.cos(np.pi/2), a1*np.sin(np.pi/2)\n",
    "plt.scatter(x,y)\n",
    "ax.set_facecolor('k')\n",
    "\"\"\""
   ]
  },
  {
   "cell_type": "code",
   "execution_count": 32,
   "id": "ad4598d9",
   "metadata": {},
   "outputs": [
    {
     "name": "stdout",
     "output_type": "stream",
     "text": [
      "64.0952928\n"
     ]
    },
    {
     "data": {
      "image/png": "[encoded data removed]",
      "text/plain": [
       "<Figure size 500x500 with 1 Axes>"
      ]
     },
     "metadata": {},
     "output_type": "display_data"
    }
   ],
   "source": [
    "fig = plt.figure(figsize=(5, 5))\n",
    "fig.set_dpi(100)\n",
    "fig.set_tight_layout(True)\n",
    "\n",
    "speedx = 10000\n",
    "nframes = 90\n",
    "\n",
    "\n",
    "#fig.set_size_inches(7, 6.5)\n",
    "plot_rad = 2.69\n",
    "ax = plt.axes(xlim=(-plot_rad, plot_rad), ylim=(-plot_rad, plot_rad))\n",
    "\n",
    "ax.set_aspect(\"equal\")\n",
    "patch1 = plt.Circle((0, a1), r1.value, fc='#08F7FE')\n",
    "#patch2 = plt.Circle((0, a2), r2.value, fc='#ff3300')\n",
    "patch2 = mpatches.Wedge((0, -a2), r2.value, 0, 180, fc='#ff9900')\n",
    "patch3 = mpatches.Wedge((0, -a2), r2.value, 180, 0, fc='#ff3300')\n",
    "\n",
    "\n",
    "patch1a = plt.Circle((0, a1), r1.value*1.1, fc='#08F7FE', alpha=0.0)\n",
    "patch2a = plt.Circle((0, a2), r2.value*1.1, fc='#ff3300',alpha=0.0, zorder=-10)\n",
    "\n",
    "labely = plot_rad-0.8\n",
    "labelx= plot_rad-0.1\n",
    "plt.errorbar((labelx, labelx-1), (labely, labely), yerr=0.1, c='w')\n",
    "plt.annotate(r'1 R$_{\\bigodot}$', (plot_rad-0.6, 0.9), xycoords=('data', 'axes fraction'), ha='center', c='w')\n",
    "\n",
    "an = ax.annotate('', (0.05, 0.85), xycoords= 'axes fraction', ha='left', c='w')\n",
    "# plt.annotate('({}x speed)'.format(speedx), (0.05, 0.83), xycoords= 'axes fraction', ha='left', c='w')\n",
    "\n",
    "def init():\n",
    "    patch1.center = (0, a1)\n",
    "    patch2.center = (0, -a2)\n",
    "    patch3.center = (0, -a2)\n",
    "    patch1a.center = (0, a1)\n",
    "    patch2a.center = (0, -a2)\n",
    "    ax.add_patch(patch1)\n",
    "    ax.add_patch(patch2)\n",
    "    ax.add_patch(patch3)\n",
    "    ax.add_patch(patch1a)\n",
    "    ax.add_patch(patch2a)\n",
    "    return patch1, patch2, patch1a, patch2a, patch3\n",
    "\n",
    "def animate(phi):\n",
    "    x, y = patch1.center\n",
    "    x, y = a1* np.cos(phi), a1*np.sin(phi)\n",
    "    patch1.center = (x, y)\n",
    "    patch1a.center = (x, y)\n",
    "    x, y = patch2.center\n",
    "    x, y = a2* np.cos(phi+np.pi), a2*np.sin(phi+np.pi)\n",
    "    patch2.center = (x, y)\n",
    "    patch3.center = (x, y)\n",
    "    phid = (phi*(180/np.pi))+180\n",
    "#     print(phid)\n",
    "    theta1 = phid+90\n",
    "    theta2 = phid+270\n",
    "    if phid > 90 or phid >= 270:\n",
    "        patch2.theta1 = theta1\n",
    "        patch2.theta2 = theta2\n",
    "        patch3.theta1 = theta2\n",
    "        patch3.theta2 = theta1\n",
    "    else:\n",
    "        patch2.theta1 = theta2\n",
    "        patch2.theta2 = theta1\n",
    "        patch3.theta1 = theta1\n",
    "        patch3.theta2 = theta2\n",
    "    patch2a.center = (x, y)\n",
    "    patch2._recompute_path()\n",
    "    patch3._recompute_path()\n",
    "    tstep = 0\n",
    "    if phi > 0:\n",
    "        tstep = (p.to(u.h).value)*phi/(2*np.pi)\n",
    "    an.set_text(r'T$={:.2f}$h'.format(tstep)+'\\n'+'({}x speed)'.format(speedx))\n",
    "    return patch1, patch2, patch1a, patch2a, patch3, an\n",
    "\n",
    "col= '#000033'\n",
    "bgcol ='#000033'\n",
    "col='k'\n",
    "bgcol='k'\n",
    "fig.patch.set_facecolor(bgcol)\n",
    "ax.set_facecolor(bgcol)\n",
    "ax.spines['bottom'].set_color(col)\n",
    "ax.spines['top'].set_color(col) \n",
    "ax.spines['right'].set_color(col)\n",
    "ax.spines['left'].set_color(col)\n",
    "#plt.grid(zorder=-10)\n",
    "# plt.xlabel(r'X (R$_{\\bigodot}$)')\n",
    "# plt.ylabel(r'Y (R$_{\\bigodot}$)')\n",
    "plt.xticks(visible=False)\n",
    "plt.yticks(visible=False)\n",
    "\n",
    "\n",
    "\n",
    "\n",
    "\n",
    "stars = make_stars(-plot_rad, plot_rad, -plot_rad, plot_rad)\n",
    "for star in stars:\n",
    "        alpha = np.random.uniform(0, 1)\n",
    "        ax.scatter(star[0], star[1], s=star[2], alpha=alpha,\n",
    "                   c='#ffffff', zorder=0)\n",
    "        dark = np.random.uniform(0, .3)\n",
    "        ax.scatter(star[0], star[1], s=star[2], alpha=dark,\n",
    "                   c='#000000', zorder=0)\n",
    "\n",
    "# interval = 100\n",
    "\n",
    "interval = (p.to(u.ms)/(nframes*speedx)).value\n",
    "print(interval)\n",
    "        \n",
    "anim = animation.FuncAnimation(fig, animate, \n",
    "                               init_func=init, \n",
    "                               frames=np.linspace(0,2*np.pi, nframes, endpoint=False), \n",
    "                               interval=interval,\n",
    "                               blit=True)\n",
    "\n",
    "        \n",
    "anim.save('plots/eg_um_orb_v1.gif', dpi=100, writer='imagemagick')\n",
    "plt.show()\n",
    "\n",
    "#Writer = animation.writers['ffmpeg']\n",
    "#writer = Writer(fps=15, metadata=dict(artist='Me'), bitrate=1800)\n",
    "\n",
    "#anim.save('animations/test2.mp4', writer=writer)\n"
   ]
  },
  {
   "cell_type": "code",
   "execution_count": 34,
   "id": "197a43b4",
   "metadata": {},
   "outputs": [
    {
     "data": {
      "text/latex": [
       "$16.023823 \\; \\mathrm{h}$"
      ],
      "text/plain": [
       "<Quantity 16.0238232 h>"
      ]
     },
     "execution_count": 34,
     "metadata": {},
     "output_type": "execute_result"
    }
   ],
   "source": [
    "p.to(u.h)"
   ]
  },
  {
   "cell_type": "code",
   "execution_count": 35,
   "id": "ade3c7b3",
   "metadata": {},
   "outputs": [
    {
     "data": {
      "text/plain": [
       "16.021833333333333"
      ]
     },
     "execution_count": 35,
     "metadata": {},
     "output_type": "execute_result"
    }
   ],
   "source": []
  },
  {
   "cell_type": "code",
   "execution_count": null,
   "id": "bda9a50a",
   "metadata": {},
   "outputs": [],
   "source": []
  }
 ],
 "metadata": {
  "kernelspec": {
   "display_name": "Python 3",
   "language": "python",
   "name": "python3"
  },
  "language_info": {
   "codemirror_mode": {
    "name": "ipython",
    "version": 3
   },
   "file_extension": ".py",
   "mimetype": "text/x-python",
   "name": "python",
   "nbconvert_exporter": "python",
   "pygments_lexer": "ipython3",
   "version": "3.6.13"
  }
 },
 "nbformat": 4,
 "nbformat_minor": 5
}
