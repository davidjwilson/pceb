{
 "cells": [
  {
   "cell_type": "code",
   "execution_count": 1,
   "id": "bd547db2-b464-44f7-aba4-f746f7b31a54",
   "metadata": {},
   "outputs": [],
   "source": [
    "import numpy as np\n",
    "import matplotlib.pyplot as plt\n",
    "import astropy.io.fits as fits\n",
    "import os\n",
    "import glob\n",
    "from astropy.table import Table\n",
    "from astropy.io import ascii\n",
    "\n",
    "import astropy.units as u\n",
    "from astropy import time, coordinates as coord\n",
    "import astropy.constants as const\n",
    "from astropy.modeling import models, fitting\n",
    "\n",
    "\n",
    "#matplotlib set up\n",
    "%matplotlib inline\n",
    "from matplotlib import rcParams\n",
    "rcParams[\"figure.figsize\"] = (14, 5)\n",
    "rcParams[\"font.size\"] = 20"
   ]
  },
  {
   "cell_type": "code",
   "execution_count": 2,
   "id": "0d7561d3-b3bf-4663-8112-986e2c1c1284",
   "metadata": {},
   "outputs": [],
   "source": [
    "from xspec import *"
   ]
  },
  {
   "cell_type": "code",
   "execution_count": 3,
   "id": "d231fc64-977b-4e41-8f19-bd2fd07cc686",
   "metadata": {},
   "outputs": [
    {
     "name": "stdout",
     "output_type": "stream",
     "text": [
      "\n",
      "1 spectrum  in use\n",
      " \n",
      "Spectral Data File: src_spectrum_bin10.ds  Spectrum 1\n",
      "Net count rate (cts/s) for Spectrum:1  -6.363e-04 +/- 2.053e-03 (-4.2 % total)\n",
      " Assigned to Data Group 1 and Plot Group 1\n",
      "  Noticed Channels:  1-7\n",
      "  Telescope: XMM Instrument: EPIC  Channel Type: PI\n",
      "  Exposure Time: 4616 sec\n",
      " Using fit statistic: chi\n",
      " Using Background File                bkg_spectrum_grp.ds\n",
      "  Background Exposure Time: 4616 sec\n",
      " Using Response (RMF) File            response_grp.rmf for Source 1\n",
      "\n"
     ]
    }
   ],
   "source": [
    "s = Spectrum(\"src_spectrum_bin10.ds\")"
   ]
  },
  {
   "cell_type": "code",
   "execution_count": 4,
   "id": "603d904a-213c-4117-b2ac-8880f19b7973",
   "metadata": {},
   "outputs": [],
   "source": [
    "# Model(\"phabs*apec\")\n",
    "# Fit.perform()\n",
    "# Plot.device = \"/xs\"\n",
    "# Plot(\"data\")"
   ]
  },
  {
   "cell_type": "code",
   "execution_count": 5,
   "id": "99f66e22-387a-43d7-92c0-f7f1bb805559",
   "metadata": {},
   "outputs": [],
   "source": [
    "Plot.device = '/null'\n",
    "Plot('data')"
   ]
  },
  {
   "cell_type": "code",
   "execution_count": null,
   "id": "6ca02584-e2c1-44ed-a464-8caae850efde",
   "metadata": {},
   "outputs": [],
   "source": []
  },
  {
   "cell_type": "code",
   "execution_count": 6,
   "id": "2504f896-12cd-4a14-a287-b27819308c27",
   "metadata": {},
   "outputs": [],
   "source": [
    "# # s.ignore('bad')\n",
    "# Plot.xAxis='angstrom'\n",
    "# s.ignore('5.0-60.0')\n",
    "# Plot.perHz=False\n",
    "# Plot.area=True\n",
    "# Plot('data')\n",
    "# wave = Plot.x()\n",
    "# rates = Plot.y()\n",
    "# bins = Plot.xErr()\n",
    "# error = Plot.yErr()\n",
    "# folded = Plot.model()"
   ]
  },
  {
   "cell_type": "code",
   "execution_count": 7,
   "id": "3e350ca6-198e-4414-8778-2f214cdc0f37",
   "metadata": {},
   "outputs": [],
   "source": [
    "# plt.errorbar(wave, rates, xerr=bins, yerr=error, ls='none')\n"
   ]
  },
  {
   "cell_type": "code",
   "execution_count": 8,
   "id": "3abe65a0-89b9-42c7-a6ef-d69c21bfd29b",
   "metadata": {},
   "outputs": [],
   "source": [
    "# mod = Model('apec*phabs', setPars={1:1, 2:0.4, 5:1e-3})\n",
    "# mod.phabs.nH.frozen = True"
   ]
  },
  {
   "cell_type": "code",
   "execution_count": 9,
   "id": "1518c0c7-c0e7-4812-a21a-a2a0ae859c94",
   "metadata": {},
   "outputs": [],
   "source": [
    "# Fit.perform()"
   ]
  },
  {
   "cell_type": "code",
   "execution_count": 6,
   "id": "02547bc8-f925-4da4-b1c0-65be1cd9687e",
   "metadata": {},
   "outputs": [
    {
     "name": "stdout",
     "output_type": "stream",
     "text": [
      "\n",
      "========================================================================\n",
      "Model phabs<1>*apec<2> Source No.: 1   Active/On\n",
      "Model Model Component  Parameter  Unit     Value\n",
      " par  comp\n",
      "   1    1   phabs      nH         10^22    1.00000      +/-  0.0          \n",
      "   2    2   apec       kT         keV      1.00000      +/-  0.0          \n",
      "   3    2   apec       Abundanc            1.00000      frozen\n",
      "   4    2   apec       Redshift            0.0          frozen\n",
      "   5    2   apec       norm                1.00000      +/-  0.0          \n",
      "________________________________________________________________________\n",
      "\n",
      "Reading APEC data from 3.0.9\n",
      "\n",
      "\n",
      "Fit statistic  : Chi-Squared              4.835983e+10     using 7 bins.\n",
      "\n",
      "Test statistic : Chi-Squared              4.835983e+10     using 7 bins.\n",
      " Null hypothesis probability of 0.000000e+00 with 4 degrees of freedom\n",
      " Current data and model not fit yet.\n",
      "\n",
      "Fit statistic  : Chi-Squared              8.163950e+11     using 7 bins.\n",
      "\n",
      "Test statistic : Chi-Squared              8.163950e+11     using 7 bins.\n",
      " Null hypothesis probability of 0.000000e+00 with 4 degrees of freedom\n",
      " Current data and model not fit yet.\n",
      "\n",
      "========================================================================\n",
      "Model phabs<1>*apec<2> Source No.: 1   Active/On\n",
      "Model Model Component  Parameter  Unit     Value\n",
      " par  comp\n",
      "   1    1   phabs      nH         10^22    1.00000E-03  +/-  0.0          \n",
      "   2    2   apec       kT         keV      1.00000      +/-  0.0          \n",
      "   3    2   apec       Abundanc            0.400000     frozen\n",
      "   4    2   apec       Redshift            0.0          frozen\n",
      "   5    2   apec       norm                1.00000      +/-  0.0          \n",
      "________________________________________________________________________\n",
      "\n",
      "\n",
      "Fit statistic  : Chi-Squared              8.163950e+11     using 7 bins.\n",
      "\n",
      "Test statistic : Chi-Squared              8.163950e+11     using 7 bins.\n",
      " Null hypothesis probability of 0.000000e+00 with 5 degrees of freedom\n",
      " Current data and model not fit yet.\n",
      "                                   Parameters\n",
      "Chi-Squared  |beta|/N    Lvl          2:kT        5:norm\n",
      "6.44267      0.0498548    -3      0.445905   8.51101e-08\n",
      "6.41602      197204        0      0.489800   1.19430e-07\n",
      "6.35254      177562        0      0.226227   3.05409e-07\n",
      "6.29424      95750.1       0      0.452446   4.47750e-07\n",
      "6.24795      7032.16       0      0.274588   5.11975e-07\n",
      "6.22837      58062.3      -1      0.309900   6.72694e-07\n",
      "6.22579      697.078       0      0.270770   6.95029e-07\n",
      "==============================\n",
      " Variances and Principal Axes\n",
      "                 2        5  \n",
      " 1.5563E-12|  0.0000   1.0000  \n",
      " 5.5654E-01|  1.0000  -0.0000  \n",
      "------------------------------\n",
      "\n",
      "========================\n",
      "  Covariance Matrix\n",
      "        1           2   \n",
      "   5.565e-01  -6.662e-07\n",
      "  -6.662e-07   2.354e-12\n",
      "------------------------\n",
      "\n",
      "========================================================================\n",
      "Model phabs<1>*apec<2> Source No.: 1   Active/On\n",
      "Model Model Component  Parameter  Unit     Value\n",
      " par  comp\n",
      "   1    1   phabs      nH         10^22    1.00000E-03  frozen\n",
      "   2    2   apec       kT         keV      0.270770     +/-  0.746016     \n",
      "   3    2   apec       Abundanc            0.400000     frozen\n",
      "   4    2   apec       Redshift            0.0          frozen\n",
      "   5    2   apec       norm                6.95029E-07  +/-  1.53420E-06  \n",
      "________________________________________________________________________\n",
      "\n",
      "\n",
      "Fit statistic  : Chi-Squared                    6.23     using 7 bins.\n",
      "\n",
      "Test statistic : Chi-Squared                    6.23     using 7 bins.\n",
      " Null hypothesis probability of 2.85e-01 with 5 degrees of freedom\n"
     ]
    }
   ],
   "source": [
    "# s.ignore('bad')\n",
    "Plot.xAxis='angstrom'\n",
    "# s.ignore('**-5.0 60.0-**')\n",
    "\n",
    "mod = Model('phabs*(apec)', setPars={1:1e-3, 2:1.0,3:0.4})\n",
    "mod.phabs.nH.frozen = True\n",
    "# mod.apec.Abundanc.frozen = False\n",
    "# mod.apec_3.Abundanc.frozen = False\n",
    "\n",
    "\n",
    "Fit.perform()\n",
    "\n",
    "\n",
    "# Plot.setRebin(minSig=3, maxBins=10, groupNum=1, errType='quad')\n",
    "\n",
    "Plot.perHz=False\n",
    "Plot.area=True\n",
    "Plot('data')\n",
    "\n",
    "wave = Plot.x()\n",
    "rates = Plot.y()\n",
    "bins = Plot.xErr()\n",
    "error = Plot.yErr()\n",
    "folded = Plot.model()"
   ]
  },
  {
   "cell_type": "code",
   "execution_count": 7,
   "id": "992346bb-41a9-47ff-9deb-4f1462c6ba86",
   "metadata": {},
   "outputs": [
    {
     "data": {
      "image/png": "[encoded data removed]",
      "text/plain": [
       "<Figure size 720x360 with 1 Axes>"
      ]
     },
     "metadata": {
      "needs_background": "light"
     },
     "output_type": "display_data"
    }
   ],
   "source": [
    "plt.figure(figsize=(10, 5))\n",
    "plt.errorbar(wave, rates, xerr=bins, yerr=error, ls='none')\n",
    "# plt.step(wave, rates, where='mid')\n",
    "plt.plot(wave, folded)\n",
    "# plt.axhline(0, c='C1', ls='--')\n",
    "plt.xlabel('Wavelength (\\AA)')\n",
    "plt.ylabel('Counts (s$^{-1}$ cm$^{-2}$ \\AA$^{-1}$)')\n",
    "plt.ylim(-1.2e-6, 0.4e-6)\n",
    "plt.tight_layout()"
   ]
  },
  {
   "cell_type": "code",
   "execution_count": 12,
   "id": "a27a37b4-2667-4a83-8084-aa024171c623",
   "metadata": {},
   "outputs": [
    {
     "name": "stdout",
     "output_type": "stream",
     "text": [
      "     2 channels (6-7) ignored in spectrum #     1\n",
      "     1 channels (1) ignored in spectrum #     1\n",
      "\n",
      "Fit statistic  : Chi-Squared              7.721615e+11     using 4 bins.\n",
      "\n",
      "Test statistic : Chi-Squared              7.721615e+11     using 4 bins.\n",
      " Null hypothesis probability of 0.000000e+00 with 2 degrees of freedom\n",
      " Current data and model not fit yet.\n",
      "\n",
      "\n",
      "========================================================================\n",
      "Model phabs<1>(apec<2> + apec<3>) Source No.: 1   Active/On\n",
      "Model Model Component  Parameter  Unit     Value\n",
      " par  comp\n",
      "   1    1   phabs      nH         10^22    1.00000      +/-  0.0          \n",
      "   2    2   apec       kT         keV      1.00000      +/-  0.0          \n",
      "   3    2   apec       Abundanc            1.00000      frozen\n",
      "   4    2   apec       Redshift            0.0          frozen\n",
      "   5    2   apec       norm                1.00000      +/-  0.0          \n",
      "   6    3   apec       kT         keV      1.00000      +/-  0.0          \n",
      "   7    3   apec       Abundanc            1.00000      frozen\n",
      "   8    3   apec       Redshift            0.0          frozen\n",
      "   9    3   apec       norm                1.00000      +/-  0.0          \n",
      "________________________________________________________________________\n",
      "\n",
      "Ill-formed Fit problem - number of variable parameters exceeds number of bins\n",
      "Ill-formed Fit problem - number of variable parameters exceeds number of bins\n",
      "\n",
      "========================================================================\n",
      "Model phabs<1>(apec<2> + apec<3>) Source No.: 1   Active/On\n",
      "Model Model Component  Parameter  Unit     Value\n",
      " par  comp\n",
      "   1    1   phabs      nH         10^22    1.00000E-03  +/-  0.0          \n",
      "   2    2   apec       kT         keV      0.500000     +/-  0.0          \n",
      "   3    2   apec       Abundanc            0.400000     frozen\n",
      "   4    2   apec       Redshift            0.0          frozen\n",
      "   5    2   apec       norm                1.00000      +/-  0.0          \n",
      "   6    3   apec       kT         keV      2.00000      +/-  0.0          \n",
      "   7    3   apec       Abundanc            0.400000     frozen\n",
      "   8    3   apec       Redshift            0.0          frozen\n",
      "   9    3   apec       norm                1.00000      +/-  0.0          \n",
      "________________________________________________________________________\n",
      "\n",
      "\n",
      "Models will now use energy array created from:\n",
      "   0.3 - 10   1000 linear bins\n",
      "\n",
      "Ill-formed Fit problem - number of variable parameters exceeds number of bins\n"
     ]
    },
    {
     "name": "stderr",
     "output_type": "stream",
     "text": [
      "***Warning: Ill-formed Fit problem - number of variable parameters exceeds number of bins\n"
     ]
    },
    {
     "ename": "Exception",
     "evalue": "Error executing command: fit",
     "output_type": "error",
     "traceback": [
      "\u001b[0;31m---------------------------------------------------------------------------\u001b[0m",
      "\u001b[0;31mException\u001b[0m                                 Traceback (most recent call last)",
      "\u001b[0;32m/tmp/ipykernel_101870/2631354161.py\u001b[0m in \u001b[0;36m<module>\u001b[0;34m\u001b[0m\n\u001b[1;32m      9\u001b[0m \u001b[0;34m\u001b[0m\u001b[0m\n\u001b[1;32m     10\u001b[0m \u001b[0mAllModels\u001b[0m\u001b[0;34m.\u001b[0m\u001b[0msetEnergies\u001b[0m\u001b[0;34m(\u001b[0m\u001b[0;34m\"0.3 10\"\u001b[0m\u001b[0;34m)\u001b[0m\u001b[0;34m\u001b[0m\u001b[0;34m\u001b[0m\u001b[0m\n\u001b[0;32m---> 11\u001b[0;31m \u001b[0mFit\u001b[0m\u001b[0;34m.\u001b[0m\u001b[0mperform\u001b[0m\u001b[0;34m(\u001b[0m\u001b[0;34m)\u001b[0m\u001b[0;34m\u001b[0m\u001b[0;34m\u001b[0m\u001b[0m\n\u001b[0m\u001b[1;32m     12\u001b[0m \u001b[0mflux\u001b[0m \u001b[0;34m=\u001b[0m \u001b[0mAllModels\u001b[0m\u001b[0;34m.\u001b[0m\u001b[0mcalcFlux\u001b[0m\u001b[0;34m(\u001b[0m\u001b[0;34m\".3 10 err\"\u001b[0m\u001b[0;34m)\u001b[0m\u001b[0;34m\u001b[0m\u001b[0;34m\u001b[0m\u001b[0m\n\u001b[1;32m     13\u001b[0m \u001b[0mprint\u001b[0m\u001b[0;34m(\u001b[0m\u001b[0mflux\u001b[0m\u001b[0;34m)\u001b[0m\u001b[0;34m\u001b[0m\u001b[0;34m\u001b[0m\u001b[0m\n",
      "\u001b[0;32m~/heasoft-6.29/x86_64-pc-linux-gnu-libc2.31/lib/python/xspec/fit.py\u001b[0m in \u001b[0;36mperform\u001b[0;34m(self)\u001b[0m\n\u001b[1;32m    473\u001b[0m \u001b[0;34m\u001b[0m\u001b[0m\n\u001b[1;32m    474\u001b[0m         \u001b[0mfitArgs\u001b[0m \u001b[0;34m=\u001b[0m \u001b[0;34m[\u001b[0m\u001b[0;34m\"fit\"\u001b[0m\u001b[0;34m]\u001b[0m\u001b[0;34m\u001b[0m\u001b[0;34m\u001b[0m\u001b[0m\n\u001b[0;32m--> 475\u001b[0;31m         \u001b[0m_pyXspec\u001b[0m\u001b[0;34m.\u001b[0m\u001b[0mdoXspecCmd\u001b[0m\u001b[0;34m(\u001b[0m\u001b[0mfitArgs\u001b[0m\u001b[0;34m)\u001b[0m\u001b[0;34m\u001b[0m\u001b[0;34m\u001b[0m\u001b[0m\n\u001b[0m\u001b[1;32m    476\u001b[0m \u001b[0;34m\u001b[0m\u001b[0m\n\u001b[1;32m    477\u001b[0m     \u001b[0;32mdef\u001b[0m \u001b[0mrenorm\u001b[0m\u001b[0;34m(\u001b[0m\u001b[0mself\u001b[0m\u001b[0;34m,\u001b[0m \u001b[0msetting\u001b[0m\u001b[0;34m=\u001b[0m\u001b[0;32mNone\u001b[0m\u001b[0;34m)\u001b[0m\u001b[0;34m:\u001b[0m\u001b[0;34m\u001b[0m\u001b[0;34m\u001b[0m\u001b[0m\n",
      "\u001b[0;31mException\u001b[0m: Error executing command: fit"
     ]
    }
   ],
   "source": [
    "# s.ignore('bad')\n",
    "Plot.xAxis='angstrom'\n",
    "s.ignore('**-5.0 60.0-**')\n",
    "\n",
    "mod = Model('phabs*(apec+apec)', setPars={1:1e-3, 2:0.5,3:0.4,6:2.0, 7:0.4})\n",
    "# mod.phabs.nH.frozen = True\n",
    "# mod.apec.Abundanc.frozen = False\n",
    "# mod.apec_3.Abundanc.frozen = False\n",
    "\n",
    "AllModels.setEnergies(\"0.3 10\")\n",
    "Fit.perform()\n",
    "flux = AllModels.calcFlux(\".3 10 err\")\n",
    "print(flux)\n",
    "\n",
    "\n",
    "# Plot.setRebin(minSig=3, maxBins=10, groupNum=1, errType='quad')\n",
    "\n",
    "Plot.perHz=False\n",
    "Plot.area=True\n",
    "Plot('data')\n",
    "\n",
    "wave = Plot.x()\n",
    "rates = Plot.y()\n",
    "bins = Plot.xErr()\n",
    "error = Plot.yErr()\n",
    "folded = Plot.model()\n",
    "plt.errorbar(wave, rates, xerr=bins, yerr=error, ls='none')\n",
    "# plt.step(wave, rates, where='mid')\n",
    "plt.plot(wave, folded)\n",
    "\n",
    "flux = AllModels.calcFlux(\".3 10 err\")\n",
    "print(flux)"
   ]
  },
  {
   "cell_type": "code",
   "execution_count": null,
   "id": "2bbed491-79c9-427d-a8cf-ffa7549a4200",
   "metadata": {},
   "outputs": [],
   "source": [
    "flux = AllModels.calcFlux(\".3 10 err\")\n",
    "print(flux)"
   ]
  },
  {
   "cell_type": "code",
   "execution_count": null,
   "id": "bb26db34-4067-4c58-bdeb-bb9b1c6d22af",
   "metadata": {},
   "outputs": [],
   "source": [
    "s.flux"
   ]
  },
  {
   "cell_type": "code",
   "execution_count": null,
   "id": "8bad3f4a-1162-4942-9b8c-4b59717afae2",
   "metadata": {},
   "outputs": [],
   "source": [
    "fx, fxel, fxeu = s.flux[0]*u.erg/u.cm**2/u.s, (s.flux[0]-s.flux[1])*u.erg/u.cm**2/u.s, (s.flux[2]-s.flux[0])*u.erg/u.cm**2/u.s  \n",
    "d = (1000/23.39160255904337)*u.pc\n",
    "p = 0.56*u.d\n",
    "lstar = (10**-2.5)*u.Lsun\n",
    "lx = (fx*(d.to(u.cm))**2).to(u.Lsun)\n",
    "lx_star = lx/lstar\n",
    "print(lx_star)\n",
    "lx_star_err =  np.array(lx_star*[fxel/fx, fxeu/fx])\n",
    "print(lx_star_err)"
   ]
  },
  {
   "cell_type": "code",
   "execution_count": null,
   "id": "2cc5875d-6271-4886-ad24-9afa869a352c",
   "metadata": {},
   "outputs": [],
   "source": [
    "path = '/media/david/2tb_ext_hd/hddata/carmenes_binary/xraycat/'\n",
    "xraycat = fits.open('{}J_ApJ_743_48_catalog.dat.fits'.format(path))"
   ]
  },
  {
   "cell_type": "code",
   "execution_count": null,
   "id": "a742d66a-39d4-41a7-b18c-6c6e326b481f",
   "metadata": {},
   "outputs": [],
   "source": [
    "xraydata = xraycat[1].data\n",
    "plt.figure(figsize=(7, 5))\n",
    "plt.scatter(xraydata['Prot'], 10**xraydata['Lx/bol'], marker='o', alpha=0.5)\n",
    "plt.xscale('log')\n",
    "plt.yscale('log')\n",
    "porb = 0.60417356\n",
    "porb_e = 0.00000025\n",
    "# plt.errorbar(porb, lx_strar, yerr=[[lx_r_e[0]], [lx_r_e[1]]], marker='o', ls='none', c='C1', markeredgecolor='k')\n",
    "plt.errorbar(p, lx_star, yerr= [[lx_star_err[0]],[lx_star_err[1]]], marker='o', c='C1', markeredgecolor='k')\n",
    "plt.xlabel('Porb (d)')\n",
    "plt.ylabel('R$_{\\mathrm{x}}$')\n",
    "plt.tight_layout()\n",
    "# plt.savefig('plots/Rx.png', dpi=150, facecolor='w')\n",
    "# plt.savefig('plots/Rx.pdf', dpi=150, facecolor='w')"
   ]
  },
  {
   "cell_type": "markdown",
   "id": "30274400-cabb-47ba-90b5-371696696441",
   "metadata": {},
   "source": [
    "To do- double check spectral type, lightcurve."
   ]
  },
  {
   "cell_type": "code",
   "execution_count": null,
   "id": "9db35e52-de4b-4347-8953-a45629f68072",
   "metadata": {},
   "outputs": [],
   "source": [
    "plt.figure(figsize=(12, 6))\n",
    "plt.errorbar(wave, rates, xerr=bins, yerr=error, ls='none')\n",
    "# plt.step(wave, rates, where='mid')\n",
    "plt.plot(wave, folded)\n",
    "plt.xlabel('Wavelength (\\AA)')\n",
    "plt.ylabel('Counts (s$^{-1}$ cm$^{-2}$ \\AA$^{-1}$)')\n",
    "plt.tight_layout()\n",
    "# plt.savefig('../plots/eggr-38_xmm_spec.png', facecolor='w')"
   ]
  },
  {
   "cell_type": "code",
   "execution_count": null,
   "id": "e4354d5a-ab10-4d37-a1b5-ab7ca78bdb02",
   "metadata": {},
   "outputs": [],
   "source": [
    "# #quick sed\n",
    "# wc, fc, ec, dq = np.loadtxt('../../hst_spectra/eggr_38_COS_FUV_1291_2018-02-27.dat', unpack=True)\n",
    "\n",
    "# #uv\n",
    "# plt.plot(wc[(dq==0) & (fc > 0)], fc[(dq==0) & (fc > 0)])\n",
    "\n",
    "# #xray\n",
    "# mx  = folded * (u.photon/u.s/u.cm**2/u.AA).to(u.erg/u.s/u.cm**2/u.AA, equivalencies=u.spectral_density(wave*u.AA))\n",
    "# plt.plot(wave, mx)\n",
    "\n",
    "# #uves\n",
    "# upath = '/media/david/2tb_ext_hd/hddata/pcebs/optical/eggr_38_uves/'\n",
    "# uspecs = glob.glob('{}*.fits'.format(upath))\n",
    "# for spec in uspecs[:2]:\n",
    "#     data = fits.getdata(spec, 1)[0]\n",
    "#     plt.plot(data['WAVE'][data['FLUX'] > 0], data['FLUX'][data['FLUX'] > 0]*1e-16)\n",
    "\n",
    "# #model\n",
    "# mw, mf = np.loadtxt('../../models/EGGR-38_07010.dk', skiprows=40, unpack=True)\n",
    "# plt.plot(mw, mf/(np.max(mf)/np.max(fc))*0.2)\n",
    "\n",
    "# plt.xscale('log')\n",
    "# plt.yscale('log')\n",
    "\n",
    "# #bit rubbish"
   ]
  },
  {
   "cell_type": "code",
   "execution_count": null,
   "id": "7c0a945a-f982-4246-b336-1c48ec94a698",
   "metadata": {},
   "outputs": [],
   "source": []
  },
  {
   "cell_type": "code",
   "execution_count": null,
   "id": "d2c23ecf-ae3e-4ddf-b45e-cb83d7d33dfe",
   "metadata": {},
   "outputs": [],
   "source": []
  }
 ],
 "metadata": {
  "kernelspec": {
   "display_name": "Python 3 (ipykernel)",
   "language": "python",
   "name": "python3"
  },
  "language_info": {
   "codemirror_mode": {
    "name": "ipython",
    "version": 3
   },
   "file_extension": ".py",
   "mimetype": "text/x-python",
   "name": "python",
   "nbconvert_exporter": "python",
   "pygments_lexer": "ipython3",
   "version": "3.7.13"
  }
 },
 "nbformat": 4,
 "nbformat_minor": 5
}
