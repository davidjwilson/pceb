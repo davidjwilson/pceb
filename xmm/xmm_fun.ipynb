{
 "cells": [
  {
   "cell_type": "markdown",
   "metadata": {},
   "source": [
    "Having a look at PCEB XMM data. Starting with EG UMA as it's the brightest."
   ]
  },
  {
   "cell_type": "code",
   "execution_count": 1,
   "metadata": {},
   "outputs": [],
   "source": [
    "import numpy as np\n",
    "import matplotlib.pyplot as plt\n",
    "import astropy.io.fits as fits\n",
    "import os\n",
    "import glob\n",
    "from astropy.table import Table\n",
    "from astropy.io import ascii\n",
    "import astropy.units as u\n",
    "import astropy.constants as const\n",
    "\n",
    "#matplotlib set up\n",
    "%matplotlib inline\n",
    "from matplotlib import rcParams\n",
    "rcParams[\"figure.figsize\"] = (14, 5)\n",
    "rcParams[\"font.size\"] = 20"
   ]
  },
  {
   "cell_type": "code",
   "execution_count": 2,
   "metadata": {},
   "outputs": [],
   "source": [
    "import xspec"
   ]
  },
  {
   "cell_type": "code",
   "execution_count": 5,
   "metadata": {},
   "outputs": [],
   "source": [
    "path = 'data/eg_uma/'\n",
    "spec_path = path+'spectra/'"
   ]
  },
  {
   "cell_type": "code",
   "execution_count": 4,
   "metadata": {},
   "outputs": [
    {
     "data": {
      "text/plain": [
       "['V_EG_UMA_m1_U003_ImagingEvts_background_spectrum.fits',\n",
       " 'V_EG_UMA_m2_U003_ImagingEvts_src.arf',\n",
       " 'V_EG_UMA_m1_S002_ImagingEvts_source_spectrum.fits',\n",
       " 'V_EG_UMA_m1_S002_ImagingEvts_ecoordconv.txt',\n",
       " 'V_EG_UMA_m2_U003_ImagingEvts_ecoordconv.txt',\n",
       " 'V_EG_UMA_pn_S001_ImagingEvts_source_spectrum.fits',\n",
       " 'V_EG_UMA_pn_S001_ImagingEvts_src.rmf',\n",
       " 'V_EG_UMA_m1_S002_ImagingEvts_src.arf',\n",
       " 'V_EG_UMA_m2_S003_ImagingEvts_ecoordconv.txt',\n",
       " 'V_EG_UMA_m2_U003_ImagingEvts_source_spectrum.fits',\n",
       " 'V_EG_UMA_m2_S003_ImagingEvts_src.rmf',\n",
       " 'V_EG_UMA_m2_S003_ImagingEvts_background_spectrum.fits',\n",
       " 'V_EG_UMA_m1_S002_ImagingEvts_background_spectrum.fits',\n",
       " 'V_EG_UMA_pn_S001_ImagingEvts_src.arf',\n",
       " 'V_EG_UMA_m2_U003_ImagingEvts_src.rmf',\n",
       " 'V_EG_UMA_pn_S001_ImagingEvts_background_spectrum.fits',\n",
       " 'V_EG_UMA_m2_S003_ImagingEvts_source_spectrum.fits',\n",
       " 'V_EG_UMA_m1_U003_ImagingEvts_source_spectrum.fits',\n",
       " 'V_EG_UMA_m1_U003_ImagingEvts_src.rmf',\n",
       " 'V_EG_UMA_m2_S003_ImagingEvts_src.arf',\n",
       " 'V_EG_UMA_m1_S002_ImagingEvts_src.rmf',\n",
       " 'V_EG_UMA_m1_U003_ImagingEvts_src.arf',\n",
       " 'V_EG_UMA_m2_U003_ImagingEvts_background_spectrum.fits',\n",
       " 'V_EG_UMA_m1_U003_ImagingEvts_ecoordconv.txt']"
      ]
     },
     "execution_count": 4,
     "metadata": {},
     "output_type": "execute_result"
    }
   ],
   "source": [
    "os.listdir(spec_path)"
   ]
  },
  {
   "cell_type": "code",
   "execution_count": 9,
   "metadata": {},
   "outputs": [],
   "source": [
    "hdul = fits.open(spec_path+'V_EG_UMA_m1_S002_ImagingEvts_source_spectrum.fits')"
   ]
  },
  {
   "cell_type": "code",
   "execution_count": 10,
   "metadata": {},
   "outputs": [
    {
     "name": "stdout",
     "output_type": "stream",
     "text": [
      "Filename: data/eg_uma/spectra/V_EG_UMA_m1_S002_ImagingEvts_source_spectrum.fits\n",
      "No.    Name      Ver    Type      Cards   Dimensions   Format\n",
      "  0  PRIMARY       1 PrimaryHDU      69   ()      \n",
      "  1  SPECTRUM      1 BinTableHDU     73   2400R x 2C   [I, J]   \n",
      "  2  GTI00004      1 BinTableHDU     29   9R x 2C   [D, D]   \n",
      "  3  REG00106      1 BinTableHDU     24   1R x 5C   [16A, E, E, E, B]   \n",
      "  4  GTI00104      1 BinTableHDU     29   10R x 2C   [D, D]   \n",
      "  5  GTI00204      1 BinTableHDU     29   9R x 2C   [D, D]   \n",
      "  6  GTI00304      1 BinTableHDU     29   9R x 2C   [D, D]   \n",
      "  7  GTI00404      1 BinTableHDU     29   9R x 2C   [D, D]   \n"
     ]
    }
   ],
   "source": [
    "hdul.info()"
   ]
  },
  {
   "cell_type": "code",
   "execution_count": 11,
   "metadata": {},
   "outputs": [
    {
     "data": {
      "text/plain": [
       "XTENSION= 'BINTABLE'           / binary table extension                         \n",
       "BITPIX  =                    8 / 8-bit bytes                                    \n",
       "NAXIS   =                    2 / 2-dimensional binary table                     \n",
       "NAXIS1  =                    6 / width of table in bytes                        \n",
       "NAXIS2  =                 2400 / number of rows in table                        \n",
       "PCOUNT  =                    0 / size of special data area                      \n",
       "GCOUNT  =                    1 / one data group (required keyword)              \n",
       "TFIELDS =                    2 / number of fields in each row                   \n",
       "TTYPE1  = 'CHANNEL '           / The name of this column                        \n",
       "TFORM1  = 'I       '           / data format of field: 2-byte INTEGER           \n",
       "TTYPE2  = 'COUNTS  '           / The name of this column                        \n",
       "TFORM2  = 'J       '           / data format of field: 4-byte INTEGER           \n",
       "TUNIT2  = 'count   '           / physical unit of field                         \n",
       "EXTNAME = 'SPECTRUM'           / The name of this table                         \n",
       "TELESCOP= 'XMM     '           / XMM mission                                    \n",
       "INSTRUME= 'EMOS1   '           / EPIC MOS Instrument                            \n",
       "SLCTEXPR= '((X,Y) in circle(25778.605,23870.203,600))&&(PATTERN<=12)&&((FLAG &&'\n",
       "CONTINUE  ' 0x766ba000) == 0)' / Filtering expression used by evselect          \n",
       "FILTER  = 'Medium  '           / Filter ID                                      \n",
       "HDUCLASS= 'OGIP    '           / Format conforms to OGIP/GSFC conventions       \n",
       "HDUCLAS1= 'SPECTRUM'           / File contains a spectrum                       \n",
       "HDUCLAS2= 'TOTAL   '           / File contains gross counts                     \n",
       "HDUCLAS3= 'COUNT   '           / Spectrum is stored as counts                   \n",
       "HDUVERS1= '1.1.0   '           / Version of format                              \n",
       "AREASCAL= 1.00000000000000E+00 / Nominal scaling factor for data                \n",
       "CORRSCAL= 1.00000000000000E+00 / Nominal scaling factor for correction file     \n",
       "POISSERR=                    T / Poisson errors appropriate                     \n",
       "SYS_ERR =                    0 / Global systematic error                        \n",
       "CHANTYPE= 'PI      '           / Type of channel data                           \n",
       "DETCHANS=                 2400 / Total number of detector channels available    \n",
       "QUALITY =                    0 / All channels have good quality                 \n",
       "GROUPING=                    0 / No data grouping done                          \n",
       "SPECDELT=                    5 / Spectral channel size, ie the binning factor   \n",
       "SPECPIX =                    0 / The rebinned channel correspondsing to SPECVAL \n",
       "SPECVAL = 2.00000000000000E+00 / Original chan value at center of rebinned chan \n",
       "DSTYP1  = 'CCDNR   '           / data subspace descriptor: name                 \n",
       "DSTYP2  = 'FLAG    '           / data subspace descriptor: name                 \n",
       "DSTYP3  = 'FLAG    '           / data subspace descriptor: name                 \n",
       "DSTYP4  = 'PI      '           / data subspace descriptor: name                 \n",
       "DSUNI4  = 'CHAN    '           / data subspace descriptor: units                \n",
       "DSTYP5  = 'TIME    '           / data subspace descriptor: name                 \n",
       "DSUNI5  = 's       '           / data subspace descriptor: units                \n",
       "DSTYP6  = 'POS(X,Y)'           / data subspace descriptor: name                 \n",
       "DSTYP7  = 'FLAG    '           / data subspace descriptor: name                 \n",
       "DSTYP8  = 'PATTERN '           / data subspace descriptor: name                 \n",
       "DSVAL1  = '1       '           / data subspace descriptor: value                \n",
       "DSFORM2 = 'X       '           / data subspace descriptor: data type            \n",
       "DSVAL2  = 'b000x00xx00x0x000x0xxxxxxxxxxxxx' / data subspace descriptor: value  \n",
       "DSVAL3  = '0       '           / data subspace descriptor: value                \n",
       "DSVAL4  = '200:12000'          / data subspace descriptor: value                \n",
       "DSVAL5  = 'TABLE   '           / data subspace descriptor: value                \n",
       "DSREF5  = ':GTI00004'          / data subspace descriptor: reference            \n",
       "DSVAL6  = 'TABLE   '           / data subspace descriptor: value                \n",
       "DSREF6  = ':REG00106'          / data subspace descriptor: reference            \n",
       "DSFORM7 = 'X       '           / data subspace descriptor: data type            \n",
       "DSVAL7  = 'b000x00xx00x0x000x0xxxxxxxxxxxxx' / data subspace descriptor: value  \n",
       "DSVAL8  = ':12     '           / data subspace descriptor: value                \n",
       "2DSVAL1 = '2       '           / data subspace descriptor: value                \n",
       "2DSREF5 = ':GTI00104'          / data subspace descriptor: reference            \n",
       "3DSVAL1 = '4       '           / data subspace descriptor: value                \n",
       "3DSREF5 = ':GTI00204'          / data subspace descriptor: reference            \n",
       "4DSVAL1 = '5       '           / data subspace descriptor: value                \n",
       "4DSREF5 = ':GTI00304'          / data subspace descriptor: reference            \n",
       "5DSVAL1 = '7       '           / data subspace descriptor: value                \n",
       "5DSREF5 = ':GTI00404'          / data subspace descriptor: reference            \n",
       "MTYPE1  = 'POS     '           / DM Keyword: Descriptor name                    \n",
       "MFORM1  = 'X,Y     '                                                            \n",
       "EXPOSURE= 1.52074937593937E+03 / Weighted live time of CCDs in the extraction re\n",
       "BACKSCAL=              1133400 / Scaling factor for background                  \n",
       "BACKFILE= 'V_EG_UMA_m1_S002_ImagingEvts_background_spectrum.fits' / Name of back\n",
       "RESPFILE= 'V_EG_UMA_m1_S002_ImagingEvts_src.rmf' / Name of response file        \n",
       "ANCRFILE= 'V_EG_UMA_m1_S002_ImagingEvts_src.arf' / Name of ARF file             \n",
       "TLMIN1  =                    0                                                  \n",
       "TLMAX1  =                 2399                                                  "
      ]
     },
     "execution_count": 11,
     "metadata": {},
     "output_type": "execute_result"
    }
   ],
   "source": [
    "hdul[1].header"
   ]
  },
  {
   "cell_type": "code",
   "execution_count": 12,
   "metadata": {},
   "outputs": [],
   "source": [
    "data = hdul[1].data"
   ]
  },
  {
   "cell_type": "code",
   "execution_count": 13,
   "metadata": {},
   "outputs": [
    {
     "data": {
      "text/plain": [
       "['CHANNEL', 'COUNTS']"
      ]
     },
     "execution_count": 13,
     "metadata": {},
     "output_type": "execute_result"
    }
   ],
   "source": [
    "data.names"
   ]
  },
  {
   "cell_type": "code",
   "execution_count": 15,
   "metadata": {},
   "outputs": [
    {
     "data": {
      "text/plain": [
       "[<matplotlib.lines.Line2D at 0x7f8a3b6feb38>]"
      ]
     },
     "execution_count": 15,
     "metadata": {},
     "output_type": "execute_result"
    },
    {
     "data": {
      "image/png": "[encoded data removed]",
      "text/plain": [
       "<Figure size 432x288 with 1 Axes>"
      ]
     },
     "metadata": {
      "needs_background": "light"
     },
     "output_type": "display_data"
    }
   ],
   "source": []
  },
  {
   "cell_type": "code",
   "execution_count": 16,
   "metadata": {},
   "outputs": [
    {
     "ename": "ValueError",
     "evalue": "PyCapsule_New called with null pointer",
     "output_type": "error",
     "traceback": [
      "\u001b[0;31m---------------------------------------------------------------------------\u001b[0m",
      "\u001b[0;31mValueError\u001b[0m                                Traceback (most recent call last)",
      "\u001b[0;32m<ipython-input-16-87eaf8774ebb>\u001b[0m in \u001b[0;36m<module>\u001b[0;34m\u001b[0m\n\u001b[0;32m----> 1\u001b[0;31m \u001b[0ms\u001b[0m \u001b[0;34m=\u001b[0m \u001b[0mxspec\u001b[0m\u001b[0;34m.\u001b[0m\u001b[0mSpectrum\u001b[0m\u001b[0;34m(\u001b[0m\u001b[0mspec_path\u001b[0m\u001b[0;34m+\u001b[0m\u001b[0;34m'V_EG_UMA_m1_S002_ImagingEvts_source_spectrum.fits'\u001b[0m\u001b[0;34m)\u001b[0m\u001b[0;34m\u001b[0m\u001b[0;34m\u001b[0m\u001b[0m\n\u001b[0m",
      "\u001b[0;32m~/heasoft-6.24/x86_64-pc-linux-gnu-libc2.23/lib/python/xspec/spectrum.py\u001b[0m in \u001b[0;36m__init__\u001b[0;34m(self, dataFile)\u001b[0m\n\u001b[1;32m    167\u001b[0m             \u001b[0mself\u001b[0m\u001b[0;34m.\u001b[0m\u001b[0m__handle\u001b[0m \u001b[0;34m=\u001b[0m \u001b[0mdataFile\u001b[0m\u001b[0;34m\u001b[0m\u001b[0;34m\u001b[0m\u001b[0m\n\u001b[1;32m    168\u001b[0m         \u001b[0;32melse\u001b[0m\u001b[0;34m:\u001b[0m\u001b[0;34m\u001b[0m\u001b[0;34m\u001b[0m\u001b[0m\n\u001b[0;32m--> 169\u001b[0;31m             \u001b[0mself\u001b[0m\u001b[0;34m.\u001b[0m\u001b[0m__handle\u001b[0m \u001b[0;34m=\u001b[0m \u001b[0m_pyXspec\u001b[0m\u001b[0;34m.\u001b[0m\u001b[0mreadSpectrum\u001b[0m\u001b[0;34m(\u001b[0m\u001b[0mdataFile\u001b[0m\u001b[0;34m)\u001b[0m\u001b[0;34m\u001b[0m\u001b[0;34m\u001b[0m\u001b[0m\n\u001b[0m\u001b[1;32m    170\u001b[0m         \u001b[0mself\u001b[0m\u001b[0;34m.\u001b[0m\u001b[0m__detArray\u001b[0m \u001b[0;34m=\u001b[0m \u001b[0m_DetArrayEmulator\u001b[0m\u001b[0;34m(\u001b[0m\u001b[0mself\u001b[0m\u001b[0;34m.\u001b[0m\u001b[0m__handle\u001b[0m\u001b[0;34m)\u001b[0m\u001b[0;34m\u001b[0m\u001b[0;34m\u001b[0m\u001b[0m\n\u001b[1;32m    171\u001b[0m         \u001b[0mspecIdx\u001b[0m \u001b[0;34m=\u001b[0m \u001b[0m_pyXspec\u001b[0m\u001b[0;34m.\u001b[0m\u001b[0mgetIndexFromHandle\u001b[0m\u001b[0;34m(\u001b[0m\u001b[0mself\u001b[0m\u001b[0;34m.\u001b[0m\u001b[0m__handle\u001b[0m\u001b[0;34m)\u001b[0m\u001b[0;34m\u001b[0m\u001b[0;34m\u001b[0m\u001b[0m\n",
      "\u001b[0;31mValueError\u001b[0m: PyCapsule_New called with null pointer"
     ]
    }
   ],
   "source": [
    "s = xspec.Spectrum(spec_path+'V_EG_UMA_m1_S002_ImagingEvts_source_spectrum.fits')"
   ]
  },
  {
   "cell_type": "code",
   "execution_count": 17,
   "metadata": {},
   "outputs": [
    {
     "ename": "TypeError",
     "evalue": "__init__() missing 1 required positional argument: 'dataFile'",
     "output_type": "error",
     "traceback": [
      "\u001b[0;31m---------------------------------------------------------------------------\u001b[0m",
      "\u001b[0;31mTypeError\u001b[0m                                 Traceback (most recent call last)",
      "\u001b[0;32m<ipython-input-17-7d8b68b7df44>\u001b[0m in \u001b[0;36m<module>\u001b[0;34m\u001b[0m\n\u001b[0;32m----> 1\u001b[0;31m \u001b[0mxspec\u001b[0m\u001b[0;34m.\u001b[0m\u001b[0mSpectrum\u001b[0m\u001b[0;34m(\u001b[0m\u001b[0;34m)\u001b[0m\u001b[0;34m\u001b[0m\u001b[0;34m\u001b[0m\u001b[0m\n\u001b[0m",
      "\u001b[0;31mTypeError\u001b[0m: __init__() missing 1 required positional argument: 'dataFile'"
     ]
    }
   ],
   "source": [
    "xspec.Spectrum()"
   ]
  },
  {
   "cell_type": "code",
   "execution_count": null,
   "metadata": {},
   "outputs": [],
   "source": []
  }
 ],
 "metadata": {
  "kernelspec": {
   "display_name": "Python 3",
   "language": "python",
   "name": "python3"
  },
  "language_info": {
   "codemirror_mode": {
    "name": "ipython",
    "version": 3
   },
   "file_extension": ".py",
   "mimetype": "text/x-python",
   "name": "python",
   "nbconvert_exporter": "python",
   "pygments_lexer": "ipython3",
   "version": "3.6.8"
  }
 },
 "nbformat": 4,
 "nbformat_minor": 2
}
