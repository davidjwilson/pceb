{
 "cells": [
  {
   "cell_type": "markdown",
   "metadata": {},
   "source": [
    "Calcualting the stellar wind"
   ]
  },
  {
   "cell_type": "code",
   "execution_count": 7,
   "metadata": {},
   "outputs": [],
   "source": [
    "import numpy as np\n",
    "import matplotlib.pyplot as plt\n",
    "import astropy.io.fits as fits\n",
    "import os\n",
    "import glob\n",
    "from astropy.table import Table\n",
    "from astropy.io import ascii\n",
    "import astropy.units as u\n",
    "import astropy.constants as const\n",
    "from scipy.interpolate import interpolate\n",
    "from craftroom import resample\n",
    "from astropy.convolution import convolve, Box1DKernel\n",
    "from scipy.io.idl import readsav\n",
    "from astropy import constants as const\n",
    "\n",
    "#matplotlib set up\n",
    "%matplotlib inline\n",
    "from matplotlib import rcParams\n",
    "rcParams[\"figure.figsize\"] = (14, 5)\n",
    "rcParams[\"font.size\"] = 20\n"
   ]
  },
  {
   "cell_type": "code",
   "execution_count": 8,
   "metadata": {},
   "outputs": [
    {
     "data": {
      "text/html": [
       "<i>Table length=10</i>\n",
       "<table id=\"table140024588111712\" class=\"table-striped table-bordered table-condensed\">\n",
       "<thead><tr><th>Target</th><th>Teff</th><th>e_Teff</th><th>logg</th><th>e_logg</th><th>si</th><th>si_e</th><th>c</th><th>c_e</th><th>o</th><th>o_e</th><th>s</th><th>s_e</th><th>mass</th><th>q</th><th>tdiff_si</th><th>tdiff_c</th><th>tdiff_o</th><th>tdiff_s</th><th>Fsi</th><th>Fsi_e</th><th>Fc</th><th>Fc_e</th><th>Fo</th><th>Fo_e</th><th>Fs</th><th>Fs_e</th><th>porb_min</th><th>spt</th><th>mass_est</th><th>rad_est</th></tr></thead>\n",
       "<thead><tr><th>str11</th><th>int64</th><th>int64</th><th>float64</th><th>float64</th><th>float64</th><th>float64</th><th>float64</th><th>float64</th><th>float64</th><th>float64</th><th>float64</th><th>float64</th><th>float64</th><th>float64</th><th>float64</th><th>float64</th><th>float64</th><th>float64</th><th>float64</th><th>float64</th><th>float64</th><th>float64</th><th>float64</th><th>float64</th><th>float64</th><th>float64</th><th>float64</th><th>str4</th><th>float64</th><th>float64</th></tr></thead>\n",
       "<tr><td>V-UZ-SEX</td><td>17146</td><td>15</td><td>7.801</td><td>0.007</td><td>-7.08</td><td>0.03</td><td>-6.21</td><td>0.05</td><td>-6.44</td><td>0.07</td><td>-7.36</td><td>0.3</td><td>0.511</td><td>-16.343</td><td>-1.997</td><td>-2.272</td><td>-2.135</td><td>-2.272</td><td>336385.0913</td><td>15320.37649</td><td>2008822.103</td><td>152446.5769</td><td>1149357.541</td><td>122104.1368</td><td>379599.6727</td><td>172820.6755</td><td>860.0</td><td>M4</td><td>0.22</td><td>0.258</td></tr>\n",
       "<tr><td>V-LM-COM</td><td>28878</td><td>1122</td><td>7.358</td><td>0.1</td><td>-6.96</td><td>0.04</td><td>-5.9</td><td>0.04</td><td>-5.63</td><td>0.0</td><td>-6.96</td><td>0.0</td><td>0.424</td><td>-15.4</td><td>-0.913</td><td>-1.069</td><td>-1.024</td><td>-1.069</td><td>265938.7946</td><td>19504.52052</td><td>1870193.033</td><td>137163.9607</td><td>4182154.821</td><td>0.0</td><td>434781.2289</td><td>0.0</td><td>373.0</td><td>M3</td><td>0.36</td><td>0.369</td></tr>\n",
       "<tr><td>WD-1339+606</td><td>37074</td><td>76</td><td>7.449</td><td>0.005</td><td>-7.88</td><td>0.4</td><td>-8.32</td><td>0.1</td><td>-8.05</td><td>0.4</td><td>-7.34</td><td>0.8</td><td>0.0</td><td>0.0</td><td>0.0</td><td>0.0</td><td>0.0</td><td>0.0</td><td>0.0</td><td>0.0</td><td>0.0</td><td>0.0</td><td>0.0</td><td>0.0</td><td>0.0</td><td>0.0</td><td>356.0</td><td>M3</td><td>0.36</td><td>0.369</td></tr>\n",
       "<tr><td>WD-1504+546</td><td>21730</td><td>53</td><td>7.67</td><td>0.01</td><td>-7.13</td><td>0.2</td><td>-8.25</td><td>0.09</td><td>-8.15</td><td>0.3</td><td>-7.43</td><td>0.6</td><td>0.464</td><td>-15.894</td><td>-1.515</td><td>-1.609</td><td>-1.758</td><td>-1.609</td><td>252309.6261</td><td>76582.37196</td><td>10163.38924</td><td>1388.40783</td><td>24018.85112</td><td>10935.24372</td><td>179235.037</td><td>163201.1191</td><td>1340.0</td><td>M3</td><td>0.36</td><td>0.369</td></tr>\n",
       "<tr><td>WD-2317+268</td><td>28403</td><td>19</td><td>7.585</td><td>0.005</td><td>-6.78</td><td>0.03</td><td>-5.82</td><td>0.03</td><td>-4.66</td><td>0.1</td><td>-6.65</td><td>0.2</td><td>0.452</td><td>-15.541</td><td>-1.068</td><td>-1.232</td><td>-1.195</td><td>-1.232</td><td>443153.5923</td><td>20179.70829</td><td>2521500.235</td><td>114820.5499</td><td>44583348.57</td><td>6765937.313</td><td>995504.8128</td><td>302149.8672</td><td>1140.0</td><td>M3</td><td>0.36</td><td>0.369</td></tr>\n",
       "<tr><td>WD-1436-216</td><td>22814</td><td>38</td><td>7.658</td><td>0.01</td><td>-7.19</td><td>0.05</td><td>-6.27</td><td>0.1</td><td>-5.92</td><td>0.4</td><td>-8.18</td><td>0.1</td><td>0.463</td><td>-15.83</td><td>-1.453</td><td>-1.548</td><td>-1.699</td><td>-1.548</td><td>220291.0386</td><td>16721.78698</td><td>975217.6868</td><td>148009.902</td><td>4117325.866</td><td>2499337.128</td><td>32024.76269</td><td>4860.434806</td><td>2910.0</td><td>M2</td><td>0.44</td><td>0.434</td></tr>\n",
       "<tr><td>WD-1458+171</td><td>21406</td><td>4</td><td>7.445</td><td>0.0003</td><td>-6.19</td><td>0.3</td><td>-5.09</td><td>0.04</td><td>-5.96</td><td>0.0</td><td>-6.51</td><td>0.0</td><td>0.399</td><td>-15.65</td><td>-1.25</td><td>-1.344</td><td>-1.496</td><td>-1.344</td><td>1800481.797</td><td>819703.8918</td><td>12036313.03</td><td>730638.5581</td><td>3069072.482</td><td>0.0</td><td>1221455.993</td><td>0.0</td><td>237.0</td><td>M4</td><td>0.22</td><td>0.258</td></tr>\n",
       "<tr><td>WD2257+162</td><td>22886</td><td>33</td><td>7.24</td><td>0.008</td><td>-7.38</td><td>0.05</td><td>-6.27</td><td>0.05</td><td>-8.03</td><td>0.5</td><td>-7.34</td><td>0.1</td><td>0.404</td><td>-15.587</td><td>-1.19</td><td>-1.288</td><td>-1.439</td><td>-1.288</td><td>118521.5178</td><td>8995.775491</td><td>818280.0127</td><td>62107.39973</td><td>26817.33484</td><td>20348.5671</td><td>185902.9555</td><td>28213.98152</td><td>464.0</td><td>M4.5</td><td>0.18</td><td>0.243</td></tr>\n",
       "<tr><td>WD2256+249</td><td>21488</td><td>17</td><td>7.73</td><td>0.006</td><td>-6.88</td><td>0.02</td><td>-5.76</td><td>0.02</td><td>-5.72</td><td>0.05</td><td>-7.39</td><td>0.2</td><td>0.49</td><td>-15.996</td><td>-1.622</td><td>-1.719</td><td>-1.862</td><td>-1.719</td><td>479304.9558</td><td>14557.21339</td><td>3378443.483</td><td>102608.4168</td><td>6858518.74</td><td>520467.5137</td><td>211398.0657</td><td>64162.43974</td><td>250.0</td><td>M4</td><td>0.22</td><td>0.258</td></tr>\n",
       "<tr><td>WD0710+741</td><td>18732</td><td>30</td><td>7.35</td><td>0.01</td><td>-6.96</td><td>0.04</td><td>-5.73</td><td>0.05</td><td>-5.84</td><td>1.0</td><td>-6.92</td><td>0.3</td><td>0.389</td><td>-15.788</td><td>-1.366</td><td>-1.544</td><td>-1.581</td><td>-1.544</td><td>283377.5497</td><td>17212.04539</td><td>3100774.469</td><td>235371.3731</td><td>3491273.33</td><td>5298235.232</td><td>534385.3339</td><td>243291.7491</td><td>148.0</td><td>M6</td><td>0.1</td><td>0.127</td></tr>\n",
       "</table>"
      ],
      "text/plain": [
       "<Table length=10>\n",
       "   Target    Teff e_Teff   logg   e_logg ... porb_min spt  mass_est rad_est\n",
       "   str11    int64 int64  float64 float64 ... float64  str4 float64  float64\n",
       "----------- ----- ------ ------- ------- ... -------- ---- -------- -------\n",
       "   V-UZ-SEX 17146     15   7.801   0.007 ...    860.0   M4     0.22   0.258\n",
       "   V-LM-COM 28878   1122   7.358     0.1 ...    373.0   M3     0.36   0.369\n",
       "WD-1339+606 37074     76   7.449   0.005 ...    356.0   M3     0.36   0.369\n",
       "WD-1504+546 21730     53    7.67    0.01 ...   1340.0   M3     0.36   0.369\n",
       "WD-2317+268 28403     19   7.585   0.005 ...   1140.0   M3     0.36   0.369\n",
       "WD-1436-216 22814     38   7.658    0.01 ...   2910.0   M2     0.44   0.434\n",
       "WD-1458+171 21406      4   7.445  0.0003 ...    237.0   M4     0.22   0.258\n",
       " WD2257+162 22886     33    7.24   0.008 ...    464.0 M4.5     0.18   0.243\n",
       " WD2256+249 21488     17    7.73   0.006 ...    250.0   M4     0.22   0.258\n",
       " WD0710+741 18732     30    7.35    0.01 ...    148.0   M6      0.1   0.127"
      ]
     },
     "execution_count": 8,
     "metadata": {},
     "output_type": "execute_result"
    }
   ],
   "source": [
    "rates = Table.read('tables/pceb_fit_results_rates.csv')\n",
    "rates"
   ]
  },
  {
   "cell_type": "code",
   "execution_count": 9,
   "metadata": {},
   "outputs": [],
   "source": [
    "els = ['si', 'c', 'o', 's']\n",
    "el_mass = [28.085, 12.011, 15.999, 32.06]\n",
    "sol_frac = [6.649e-4, 2.365e-3,5.733e-3, 3.093e-4]"
   ]
  },
  {
   "cell_type": "code",
   "execution_count": 146,
   "metadata": {},
   "outputs": [],
   "source": [
    "def find_v(a, Rrd, Mrd, Mwd, p):\n",
    "    \"\"\"\n",
    "    velocity of the stellar wind at distance a\n",
    "    \"\"\"\n",
    "    a, Rrd, Mrd, Mwd, p = a.to(u.m), Rrd.to(u.m), Mrd.to(u.kg), Mwd.to(u.kg), p.to(u.s)\n",
    "    vorb = (2*np.pi/p) * a * (Mrd/(Mrd+Mwd)) #orbital velocity of wd\n",
    "#     print('vorb=', vorb)\n",
    "    vwind = ((2*const.G*Mrd)/Rrd)**0.5 #approximate as escape velocity\n",
    "#     print('vwind=' , vwind)\n",
    "    vrel = (vwind**2+vorb**2)**0.5\n",
    "    return vrel\n",
    "\n",
    "def mass_loss(mdot, Mwd, a, v): \n",
    "    \"\"\"mass loss rate of mdwarf to produce an accretion rate mdot onto a white dwarf of mass Mwd at separation a\"\"\"\n",
    "#     m_loss = (((2*a*Mrd)/(Rrd*Mwd))**2) * mdot\n",
    "#     print(Mwd, Mrd)\n",
    "    mdot, Mwd, a, v =  mdot.to(u.g/u.s), Mwd.to(u.kg), a.to(u.m), v.to(u.m/u.s)\n",
    "#     print(v)\n",
    "  #  v= 600000*u.m/u.s\n",
    "#     print(a.to(u.Rsun))\n",
    "   # print(v)\n",
    "#     print (mdot, Mwd, a, v)\n",
    "    scale = (v**4*a**2)/(const.G**2*Mwd**2)\n",
    "#     print('scale=',scale)\n",
    "    m_loss = mdot*scale\n",
    "    return m_loss\n",
    "\n",
    "def total_infer(mdot, el):\n",
    "#     print(el)\n",
    "    els = np.genfromtxt('solar_abd.tsv', names=True, delimiter='\\t', dtype=None, encoding=None)\n",
    "    mf = els['mass_fraction'][np.where(els['Atom_X']==el)][0]\n",
    "    total_mdot = mdot/mf\n",
    "    return total_mdot\n",
    "\n",
    "def p_to_a(m1, m2, p):\n",
    "    m1, m2, p = m1.to(u.kg), m2.to(u.kg), p.to(u.s)\n",
    "    a = ((const.G*(m1+m2) * p**2)/(4*np.pi**2))**(1/3)\n",
    "#     print(a.to(u.Rsun))\n",
    "    return a\n",
    "                                   \n",
    "def find_wind(mdot, Mwd,p, Rrd, Mrd, el):\n",
    "#     print(el)\n",
    "#     print(mdot)\n",
    "    a = p_to_a(Mwd, Mrd, p)\n",
    "    v = find_v(a, Rrd, Mrd, Mwd, p)\n",
    "    rate = mass_loss(mdot, Mwd, a, v)\n",
    "#     print(rate)\n",
    "#     print(rate)\n",
    "    total = total_infer(rate, el.capitalize())\n",
    "#     print(total)\n",
    "    return(total)\n",
    "                                   "
   ]
  },
  {
   "cell_type": "code",
   "execution_count": 164,
   "metadata": {},
   "outputs": [
    {
     "data": {
      "image/png": "[encoded data removed]",
      "text/plain": [
       "<Figure size 1008x360 with 1 Axes>"
      ]
     },
     "metadata": {
      "needs_background": "light"
     },
     "output_type": "display_data"
    }
   ],
   "source": [
    "wind_rates = []\n",
    "wind_errors = []\n",
    "masses = []\n",
    "sptypes = [] \n",
    "for row in rates:\n",
    "#     if row['Target'] == 'WD0710+741':\n",
    "    if row['Teff'] < 30000:\n",
    "        masses.append(row['mass_est'])\n",
    "        sptypes.append(row['spt'])\n",
    "        mdots = []\n",
    "        for i, el in enumerate(els):\n",
    "            if row['{}_e'.format(el)] > 0.0:\n",
    "                acc = row['F{}'.format(el)]*(u.g/u.s)\n",
    "                Mwd, Mrd = row['mass']*u.M_sun, row['mass_est']*u.M_sun\n",
    "                Rrd = row['rad_est']*u.R_sun \n",
    "                p = row['porb_min']*u.min\n",
    "#                 print(p)\n",
    "                mdot = find_wind(acc, Mwd,p, Rrd, Mrd, el)\n",
    "                mdots.append(mdot.value)\n",
    "      #  print(mdots)\n",
    "#         mdots = np.array(mdots)*u.g/u.s\n",
    "     #   print(np.mean(mdots))\n",
    "        wind_rates.append(np.mean(mdots))\n",
    "        wind_errors.append(np.std(mdots))\n",
    "\n",
    "# print(wind_rates)\n",
    "wind_rates = np.array(wind_rates)*(u.g/u.s).to(u.M_sun/u.yr)\n",
    "wind_errors = np.array(wind_errors)*(u.g/u.s).to(u.M_sun/u.yr)\n",
    "\n",
    "log_wind_rates = np.log10(wind_rates)\n",
    "log_wind_errors = 0.434 * (wind_errors/wind_rates)\n",
    "# print(np.log10(wind_rates))\n",
    "masses= np.array(masses)\n",
    "\n",
    "plt.errorbar(masses, log_wind_rates, yerr=log_wind_errors, marker='o', ls='none')\n",
    "plt.xlim(0.49, 0.051)\n",
    "plt.axhline(np.log10(2e-14), c='C1', ls='--')\n",
    "plt.xlabel(r'Mass (M$_{\\odot}$)')\n",
    "plt.ylabel(r'\\.M (M$_{\\odot}$yr$^{-1}$)')\n",
    "plt.tight_layout()\n",
    "#  print(len(masses))\n",
    "#print(masses)\n"
   ]
  },
  {
   "cell_type": "code",
   "execution_count": 160,
   "metadata": {},
   "outputs": [],
   "source": [
    "rates_tab= np.genfromtxt('wind_measurements.csv', delimiter=',', dtype=None, encoding=None, names=True)"
   ]
  },
  {
   "cell_type": "code",
   "execution_count": 181,
   "metadata": {},
   "outputs": [
    {
     "data": {
      "image/png": "[encoded data removed]",
      "text/plain": [
       "<Figure size 720x432 with 1 Axes>"
      ]
     },
     "metadata": {
      "needs_background": "light"
     },
     "output_type": "display_data"
    }
   ],
   "source": [
    "sol_n = 2e-14\n",
    "sol = np.log10(2e-14)\n",
    "\n",
    "# new_types = [4, 5, 3, 4.0, 4.5, 3.5, 2.5, 4.5, 3.0, 3.5, 5.0, 6, 4.0, 4.5]\n",
    "# row_1 = [4, 5, 3, 4.5, 3.5, 2.5,  3.5, 6, 8]\n",
    "# row_2 = [4.0, 4.5,3.0, 5.0,]\n",
    "# row_3 = [4.0, 4.5]\n",
    "\n",
    "data_m = rates_tab[rates_tab['e_mdot'] != 0]\n",
    "data_u = rates_tab[rates_tab['e_mdot'] == 0]\n",
    "\n",
    "fig, ax =plt.subplots(figsize=(10,6))\n",
    "plt.errorbar(data_m['spn'][data_m['method'] =='pceb'], data_m['log_mdot'][data_m['method'] =='pceb'], \n",
    "             yerr= data_m['e_mdot'][data_m['method'] =='pceb'], marker='o', ls='none', label='Binaries')\n",
    "plt.errorbar(data_m['spn'][data_m['method'] !='pceb'], data_m['log_mdot'][data_m['method'] !='pceb'], \n",
    "             yerr= data_m['e_mdot'][data_m['method'] !='pceb'], marker='o', ls='none', label='Single Stars')\n",
    "plt.errorbar(data_u['spn'][data_u['method'] !='pceb'], data_u['log_mdot'][data_u['method'] !='pceb'], yerr=0.5, marker='o', ls='none', uplims=True, c='C1')\n",
    "\n",
    "newtypes = [float(spt[1:]) for spt in sptypes]\n",
    "plt.errorbar(newtypes+np.random.normal(0, 0.1, len(newtypes)), log_wind_rates, yerr=log_wind_errors, marker='o', ls='none', c='C3', label ='This work')\n",
    "\n",
    "\n",
    "plt.xlabel('Spectral Type (M$n$)')\n",
    "plt.ylabel('log\\,[\\.M] ($\\mathrm{M}_{\\odot}\\mathrm{yr}^{-1}$)')\n",
    "ax.tick_params(\n",
    "    axis='x',          # changes apply to the x-axis\n",
    "    which='minor',      # both major and minor ticks are affected\n",
    "    top=False,\n",
    "    bottom=False)      # ticks along the bottom edge are off \n",
    "plt.xlim(1.5, 8.5)\n",
    "plt.axhline(sol, ls='--', c='C2', alpha =0.7, label='Solar')\n",
    "plt.ylim(-16.9, -13.1)\n",
    "# plt.scatter(row_1, np.full(len(row_1), -13), marker='x', c='C3', label = 'New Systems')\n",
    "# plt.scatter(row_2, np.full(len(row_2), -13.2), marker='x', c='C3')\n",
    "# plt.scatter(row_3, np.full(len(row_3), -12.8), marker='x', c='C3')\n",
    "\n",
    "\n",
    "\n",
    "plt.legend(frameon=True, loc=4)\n",
    "plt.tight_layout()\n",
    "# plt.savefig('../plots/wind_sota_150.pdf', dpi=150)"
   ]
  },
  {
   "cell_type": "code",
   "execution_count": 170,
   "metadata": {},
   "outputs": [
    {
     "data": {
      "text/plain": [
       "[4.0, 3.0, 3.0, 3.0, 2.0, 4.0, 4.5, 4.0, 6.0]"
      ]
     },
     "execution_count": 170,
     "metadata": {},
     "output_type": "execute_result"
    }
   ],
   "source": [
    "[float(spt[1:]) for spt in sptypes]"
   ]
  },
  {
   "cell_type": "code",
   "execution_count": 57,
   "metadata": {},
   "outputs": [
    {
     "data": {
      "text/plain": [
       "'S'"
      ]
     },
     "execution_count": 57,
     "metadata": {},
     "output_type": "execute_result"
    }
   ],
   "source": [
    "a[0].upper()"
   ]
  },
  {
   "cell_type": "code",
   "execution_count": 117,
   "metadata": {},
   "outputs": [
    {
     "data": {
      "text/latex": [
       "$6.6743 \\times 10^{-11} \\; \\mathrm{\\frac{m^{3}}{kg\\,s^{2}}}$"
      ],
      "text/plain": [
       "<<class 'astropy.constants.codata2018.CODATA2018'> name='Gravitational constant' value=6.6743e-11 uncertainty=1.5e-15 unit='m3 / (kg s2)' reference='CODATA 2018'>"
      ]
     },
     "execution_count": 117,
     "metadata": {},
     "output_type": "execute_result"
    }
   ],
   "source": [
    "const.G"
   ]
  },
  {
   "cell_type": "code",
   "execution_count": 139,
   "metadata": {},
   "outputs": [
    {
     "data": {
      "text/plain": [
       "<matplotlib.lines.Line2D at 0x7f5a19f1a400>"
      ]
     },
     "execution_count": 139,
     "metadata": {},
     "output_type": "execute_result"
    },
    {
     "data": {
      "image/png": "[encoded data removed]",
      "text/plain": [
       "<Figure size 1008x360 with 1 Axes>"
      ]
     },
     "metadata": {
      "needs_background": "light"
     },
     "output_type": "display_data"
    }
   ],
   "source": [
    "\n",
    "a= 0.7*u.Rsun\n",
    "Mwd = 0.389*u.Msun\n",
    "vs = np.arange(50, 601, 50)*u.km/u.s\n",
    "scales = np.array([(v**4*a**2)/(const.G**2*Mwd**2) for v in vs])\n",
    "plt.plot(vs, scales)\n",
    "plt.axhline(1, c='C1')"
   ]
  },
  {
   "cell_type": "code",
   "execution_count": null,
   "metadata": {},
   "outputs": [],
   "source": []
  }
 ],
 "metadata": {
  "kernelspec": {
   "display_name": "Python 3",
   "language": "python",
   "name": "python3"
  },
  "language_info": {
   "codemirror_mode": {
    "name": "ipython",
    "version": 3
   },
   "file_extension": ".py",
   "mimetype": "text/x-python",
   "name": "python",
   "nbconvert_exporter": "python",
   "pygments_lexer": "ipython3",
   "version": "3.6.13"
  }
 },
 "nbformat": 4,
 "nbformat_minor": 4
}
