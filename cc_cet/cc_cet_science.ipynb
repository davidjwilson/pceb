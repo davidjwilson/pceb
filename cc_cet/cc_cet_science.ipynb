{
 "cells": [
  {
   "cell_type": "markdown",
   "metadata": {},
   "source": [
    "CC Cet science that doesn't fit into another notebook."
   ]
  },
  {
   "cell_type": "code",
   "execution_count": 2,
   "metadata": {},
   "outputs": [],
   "source": [
    "import numpy as np\n",
    "import matplotlib.pyplot as plt\n",
    "import astropy.io.fits as fits\n",
    "import os\n",
    "import glob\n",
    "from astropy.table import Table\n",
    "from astropy.io import ascii\n",
    "import astropy.units as u\n",
    "import astropy.constants as const\n",
    "from astropy.convolution import convolve, Box1DKernel\n",
    "\n",
    "\n",
    "#matplotlib set up\n",
    "%matplotlib inline\n",
    "from matplotlib import rcParams\n",
    "rcParams[\"figure.figsize\"] = (14, 5)\n",
    "rcParams[\"font.size\"] = 20"
   ]
  },
  {
   "cell_type": "markdown",
   "metadata": {},
   "source": [
    "Table of pceb parameters"
   ]
  },
  {
   "cell_type": "code",
   "execution_count": 3,
   "metadata": {},
   "outputs": [],
   "source": [
    "wdtab = Table.read('../tables/pceb_fit_results.csv')"
   ]
  },
  {
   "cell_type": "code",
   "execution_count": 4,
   "metadata": {},
   "outputs": [
    {
     "data": {
      "text/html": [
       "<i>Table length=10</i>\n",
       "<table id=\"table139905484346312\" class=\"table-striped table-bordered table-condensed\">\n",
       "<thead><tr><th>Target</th><th>Teff</th><th>e_Teff</th><th>logg</th><th>e_logg</th><th>si</th><th>si_e</th><th>c</th><th>c_e</th><th>o</th><th>o_e</th><th>s</th><th>s_e</th></tr></thead>\n",
       "<thead><tr><th>str11</th><th>int64</th><th>int64</th><th>float64</th><th>float64</th><th>float64</th><th>float64</th><th>float64</th><th>float64</th><th>float64</th><th>float64</th><th>float64</th><th>float64</th></tr></thead>\n",
       "<tr><td>V-UZ-SEX</td><td>17146</td><td>15</td><td>7.801</td><td>0.007</td><td>-7.08</td><td>0.03</td><td>-6.21</td><td>0.05</td><td>-6.44</td><td>0.07</td><td>-7.36</td><td>0.3</td></tr>\n",
       "<tr><td>V-LM-COM</td><td>28878</td><td>1122</td><td>7.358</td><td>0.1</td><td>-6.96</td><td>0.04</td><td>-5.9</td><td>0.04</td><td>-5.63</td><td>0.0</td><td>-6.96</td><td>0.0</td></tr>\n",
       "<tr><td>WD-1339+606</td><td>37074</td><td>76</td><td>7.449</td><td>0.005</td><td>-7.88</td><td>0.4</td><td>-8.32</td><td>0.1</td><td>-8.05</td><td>0.4</td><td>-7.34</td><td>0.8</td></tr>\n",
       "<tr><td>WD-1504+546</td><td>21730</td><td>53</td><td>7.67</td><td>0.01</td><td>-7.13</td><td>0.2</td><td>-8.25</td><td>0.09</td><td>-8.15</td><td>0.3</td><td>-7.43</td><td>0.6</td></tr>\n",
       "<tr><td>WD-2317+268</td><td>28403</td><td>19</td><td>7.585</td><td>0.005</td><td>-6.78</td><td>0.03</td><td>-5.82</td><td>0.03</td><td>-4.66</td><td>0.1</td><td>-6.65</td><td>0.2</td></tr>\n",
       "<tr><td>WD-1436-216</td><td>22814</td><td>38</td><td>7.658</td><td>0.01</td><td>-7.19</td><td>0.05</td><td>-6.27</td><td>0.1</td><td>-5.92</td><td>0.4</td><td>-8.18</td><td>0.1</td></tr>\n",
       "<tr><td>WD-1458+171</td><td>21406</td><td>4</td><td>7.445</td><td>0.0003</td><td>-6.19</td><td>0.3</td><td>-5.09</td><td>0.04</td><td>-5.96</td><td>0.0</td><td>-6.51</td><td>0.0</td></tr>\n",
       "<tr><td>WD2257+162</td><td>22886</td><td>33</td><td>7.24</td><td>0.008</td><td>-7.38</td><td>0.05</td><td>-6.27</td><td>0.05</td><td>-8.03</td><td>0.5</td><td>-7.34</td><td>0.1</td></tr>\n",
       "<tr><td>WD2256+249</td><td>21488</td><td>17</td><td>7.73</td><td>0.006</td><td>-6.88</td><td>0.02</td><td>-5.76</td><td>0.02</td><td>-5.72</td><td>0.05</td><td>-7.39</td><td>0.2</td></tr>\n",
       "<tr><td>WD0710+741</td><td>18732</td><td>30</td><td>7.35</td><td>0.01</td><td>-6.96</td><td>0.04</td><td>-5.73</td><td>0.05</td><td>-5.84</td><td>1.0</td><td>-6.92</td><td>0.3</td></tr>\n",
       "</table>"
      ],
      "text/plain": [
       "<Table length=10>\n",
       "   Target    Teff e_Teff   logg   e_logg ...    o      o_e      s      s_e  \n",
       "   str11    int64 int64  float64 float64 ... float64 float64 float64 float64\n",
       "----------- ----- ------ ------- ------- ... ------- ------- ------- -------\n",
       "   V-UZ-SEX 17146     15   7.801   0.007 ...   -6.44    0.07   -7.36     0.3\n",
       "   V-LM-COM 28878   1122   7.358     0.1 ...   -5.63     0.0   -6.96     0.0\n",
       "WD-1339+606 37074     76   7.449   0.005 ...   -8.05     0.4   -7.34     0.8\n",
       "WD-1504+546 21730     53    7.67    0.01 ...   -8.15     0.3   -7.43     0.6\n",
       "WD-2317+268 28403     19   7.585   0.005 ...   -4.66     0.1   -6.65     0.2\n",
       "WD-1436-216 22814     38   7.658    0.01 ...   -5.92     0.4   -8.18     0.1\n",
       "WD-1458+171 21406      4   7.445  0.0003 ...   -5.96     0.0   -6.51     0.0\n",
       " WD2257+162 22886     33    7.24   0.008 ...   -8.03     0.5   -7.34     0.1\n",
       " WD2256+249 21488     17    7.73   0.006 ...   -5.72    0.05   -7.39     0.2\n",
       " WD0710+741 18732     30    7.35    0.01 ...   -5.84     1.0   -6.92     0.3"
      ]
     },
     "execution_count": 4,
     "metadata": {},
     "output_type": "execute_result"
    }
   ],
   "source": [
    "wdtab"
   ]
  },
  {
   "cell_type": "markdown",
   "metadata": {},
   "source": [
    "Not sure why I filtered so many targets out? Do for now."
   ]
  },
  {
   "cell_type": "code",
   "execution_count": 5,
   "metadata": {},
   "outputs": [
    {
     "name": "stdout",
     "output_type": "stream",
     "text": [
      "83\n",
      "0.04190000000000005\n",
      "0.021073149788232617 0.00955718942426105\n"
     ]
    }
   ],
   "source": [
    "cc_cet1 = dict(Teff=25245, e_Teff=19, logg=7.6059, e_logg=0.005)\n",
    "cc_cet2 = dict(Teff=25162, e_Teff=20, logg=7.564, e_logg=0.005)\n",
    "print(25245-25162)\n",
    "print(7.6059-7.564)\n",
    "cc_cet = dict(Teff=(25245+25162)/2, e_Teff=(25245-25162), logg=np.log10(((10**7.6059)+(10**7.564))/2), e_logg=7.6059-7.564)\n",
    "\n",
    "eggr38 = dict(Teff=16970, e_Teff=16, logg=7.9244, e_logg=0.008)\n",
    "\n",
    "lm_com = dict(Teff=28878, e_Teff=1122, logg=7.358, e_logg=0.1)\n",
    "\n",
    "#estimate eteff and ellog from average of the CC Cet and LM com  fractional errors\n",
    "frac_t_e = np.mean([(lm_com['e_Teff']/lm_com['Teff']), (cc_cet['e_Teff']/cc_cet['Teff'])])\n",
    "frac_g_e = np.mean([(lm_com['e_logg']/lm_com['logg']), (cc_cet['e_logg']/cc_cet['logg'])])\n",
    "print(frac_t_e, frac_g_e)\n"
   ]
  },
  {
   "cell_type": "code",
   "execution_count": 6,
   "metadata": {},
   "outputs": [
    {
     "data": {
      "image/png": "[encoded data removed]",
      "text/plain": [
       "<Figure size 396x396 with 1 Axes>"
      ]
     },
     "metadata": {
      "needs_background": "light"
     },
     "output_type": "display_data"
    }
   ],
   "source": [
    "plt.figure(figsize=(5.5,5.5))\n",
    "plt.errorbar(wdtab['Teff'], wdtab['logg'], xerr = wdtab['e_Teff'], yerr= wdtab['e_logg'], ls='none', marker='o', c='C0')\n",
    "plt.errorbar(wdtab['Teff'], wdtab['logg'], xerr = wdtab['Teff']*frac_t_e, yerr= wdtab['logg']*frac_g_e, ls='none', marker='o', c='C0')\n",
    "plt.errorbar(eggr38['Teff'], eggr38['logg'], xerr = eggr38['e_Teff'], yerr= eggr38['e_logg'], ls='none', marker='o', c='C0')\n",
    "plt.errorbar(eggr38['Teff'], eggr38['logg'], xerr = eggr38['Teff']*frac_t_e, yerr= eggr38['logg']*frac_t_e, ls='none', marker='o', c='C0')\n",
    "\n",
    "plt.errorbar(cc_cet['Teff'], cc_cet['logg'], xerr = cc_cet['e_Teff'], yerr= cc_cet['e_logg'], ls='none', marker='o', c='C1')\n",
    "\n",
    "plt.xlabel('$T_{\\mathrm{eff}}$ (K)')\n",
    "plt.ylabel('$\\log g$')\n",
    "plt.tight_layout()\n",
    "plt.savefig('plots/teffvlogg.pdf')"
   ]
  },
  {
   "cell_type": "code",
   "execution_count": 7,
   "metadata": {},
   "outputs": [
    {
     "name": "stdout",
     "output_type": "stream",
     "text": [
      "7.6923076923076925 14.485439144214036\n",
      "17.342770283108493 15.971763645138862\n",
      "0.008522380892296472\n"
     ]
    }
   ],
   "source": [
    "z = 1.96\n",
    "n = 13\n",
    "x = 1\n",
    "\n",
    "pd = (x/n)\n",
    "c = z*((pd*(1-pd))/n)**0.5\n",
    "print(pd*100, c*100)\n",
    "\n",
    "q = 1+((z**2)/n)\n",
    "p2 = (pd+(z**2/(2*n)))/q\n",
    "c = (z/q) * (((pd*(1-pd))/n) + (z**2/(4*n**2)))**0.5\n",
    "print(p2*100, c*100)\n",
    "\n",
    "ph = np.arcsin(pd**0.5)\n",
    "iu = (np.sin(ph - (z/(2*n**0.5))))**2\n",
    "print(iu*100)"
   ]
  },
  {
   "cell_type": "code",
   "execution_count": 8,
   "metadata": {},
   "outputs": [],
   "source": [
    "import astropy.stats"
   ]
  },
  {
   "cell_type": "code",
   "execution_count": 9,
   "metadata": {},
   "outputs": [
    {
     "name": "stdout",
     "output_type": "stream",
     "text": [
      "(array([6.]), array([6.]), array([0.07692308]), array([[0.02577488],\n",
      "       [0.14018613]]))\n",
      "[7.69230769]\n",
      "[[ 2.57748811]\n",
      " [14.01861336]]\n"
     ]
    }
   ],
   "source": [
    "bs = astropy.stats.binned_binom_proportion([np.arange(13)], [False, False,False,False,False,False,False,False,False, False, False, False, True], \n",
    "                                      bins=1, interval='flat')#, confidence_level=0.68)\n",
    "print(bs)\n",
    "print(bs[2]*100)\n",
    "print(bs[3]*100)"
   ]
  },
  {
   "cell_type": "code",
   "execution_count": 10,
   "metadata": {},
   "outputs": [
    {
     "data": {
      "text/plain": [
       "(array([6.]),\n",
       " array([6.]),\n",
       " array([0.07692308]),\n",
       " array([[0.02577488],\n",
       "        [0.14018613]]))"
      ]
     },
     "execution_count": 10,
     "metadata": {},
     "output_type": "execute_result"
    }
   ],
   "source": [
    "bs"
   ]
  },
  {
   "cell_type": "markdown",
   "metadata": {},
   "source": [
    "Magnetic moment and spin"
   ]
  },
  {
   "cell_type": "code",
   "execution_count": 11,
   "metadata": {},
   "outputs": [
    {
     "name": "stdout",
     "output_type": "stream",
     "text": [
      "1.3518333084616032e+33 cm3 G\n"
     ]
    }
   ],
   "source": [
    "B = 700*1e3*u.G\n",
    "R = 0.0179*u.Rsun\n",
    "mu = B*((R.to(u.cm))**3)\n",
    "print(mu)\n",
    "#(B*R).to(u.G/u.cm**3)\n",
    "mdot = (10**(-10.5))*(u.Msun/ u.yr)\n"
   ]
  },
  {
   "cell_type": "code",
   "execution_count": 12,
   "metadata": {},
   "outputs": [
    {
     "name": "stdout",
     "output_type": "stream",
     "text": [
      "1.2934490679831134\n"
     ]
    }
   ],
   "source": [
    "qb = (0.5-(0.227*np.log10(0.5)))**(3/2)\n",
    "q =0.17\n",
    "qr = (0.5-(0.227*np.log10(q)))**(3/2)\n",
    "print(qr/qb)"
   ]
  },
  {
   "cell_type": "code",
   "execution_count": 13,
   "metadata": {},
   "outputs": [
    {
     "name": "stdout",
     "output_type": "stream",
     "text": [
      "0.18140589569160998\n",
      "0.001089276046318624\n",
      "1.2750829424328338\n",
      "0.025501658848656676\n",
      "here\n",
      "68.39999999999999 min\n",
      "0.029071891087468608 h\n",
      "1.7443134652481165 min\n",
      "0.01047396429824901 min\n",
      "74.4 min\n",
      "0.03162205697233428 h\n",
      "1.8973234183400567 min\n",
      "0.01139273309634103 min\n"
     ]
    }
   ],
   "source": [
    "#from their figure 2 I get pspin/porb\n",
    "prmin = 0.02\n",
    "#prmax =0.2\n",
    "\n",
    "#need our q\n",
    "mprim = 0.441\n",
    "mpe = 0.008\n",
    "msec =0.18\n",
    "mse = 0.05\n",
    "msec2 = 0.08\n",
    "\n",
    "eq = ((mpe/mprim)**2 + (mse/msec)**2)**2\n",
    "\n",
    "q = msec2/mprim\n",
    "print(q)\n",
    "print(q*eq)\n",
    "\n",
    "qr = (0.5-(0.227*np.log10(q)))**(3/2)\n",
    "qrat = qr/qb  \n",
    "print(qrat)\n",
    "\n",
    "prat = prmin*qrat\n",
    "print(prat)\n",
    "#print(prmax*qrat)\n",
    "\n",
    "print('here')\n",
    "porb_range = [1.14, 1.24]\n",
    "for p in porb_range:\n",
    "    porb = p*u.hour\n",
    "    print(porb.to(u.min))\n",
    "    pspin = porb*prat\n",
    "    print(pspin)\n",
    "    print(pspin.to(u.minute))\n",
    "    print(pspin.to(u.minute)*eq)"
   ]
  },
  {
   "cell_type": "markdown",
   "metadata": {},
   "source": [
    "Wind rate: Need to work out accretion rate, see if the magentic field gets it all via prescription in https://ui.adsabs.harvard.edu/abs/2005ASPC..330..137W/abstract."
   ]
  },
  {
   "cell_type": "code",
   "execution_count": 14,
   "metadata": {},
   "outputs": [
    {
     "name": "stdout",
     "output_type": "stream",
     "text": [
      "-5.781698947597886\n"
     ]
    }
   ],
   "source": [
    "#-5.6, -6.1\n",
    "si_ab = np.log10(np.mean([10**-5.6, 10**-6.1]))\n",
    "print(si_ab)                          "
   ]
  },
  {
   "cell_type": "code",
   "execution_count": 15,
   "metadata": {},
   "outputs": [
    {
     "name": "stdout",
     "output_type": "stream",
     "text": [
      "4888273.325086731 g / s\n",
      "7351892502.762418 g / s\n"
     ]
    }
   ],
   "source": [
    "mwd = 0.441*u.Msun\n",
    "hmass = 1e-4 *mwd\n",
    "q = -15.625\n",
    "#tdiff = (10**-1.207)*u.yr\n",
    "tdiff = -1.207\n",
    "#mdot = ((10**si_ab)*(hmass.to(u.g)))/(tdiff.to(u.s))\n",
    "rate = si_ab + np.log10(mwd.value) + q +np.log10(28.085/1.008)- tdiff\n",
    "mdot_si = ((10**rate)*u.M_sun/u.yr).to(u.g/u.s)\n",
    "print(mdot_si)\n",
    "si_sun = 6.649E-04\n",
    "mdot = mdot_si /si_sun\n",
    "print(mdot)"
   ]
  },
  {
   "cell_type": "code",
   "execution_count": 16,
   "metadata": {},
   "outputs": [
    {
     "name": "stdout",
     "output_type": "stream",
     "text": [
      "0.938153596191406 G\n"
     ]
    }
   ],
   "source": [
    "a = 1.6*u.Rsun\n",
    "B0 = 670.0e3*u.G\n",
    "rwd = 0.0179*u.Rsun\n",
    "Bmd = B0*(rwd/a)**3\n",
    "print(Bmd)"
   ]
  },
  {
   "cell_type": "code",
   "execution_count": 17,
   "metadata": {},
   "outputs": [
    {
     "name": "stdout",
     "output_type": "stream",
     "text": [
      "0.0350193463592889\n"
     ]
    }
   ],
   "source": [
    "uB = Bmd**2/(8*np.pi)\n",
    "print(uB.value) #this is an energy because the internet says so?"
   ]
  },
  {
   "cell_type": "code",
   "execution_count": 18,
   "metadata": {},
   "outputs": [
    {
     "name": "stdout",
     "output_type": "stream",
     "text": [
      "1413044575407663.0 erg / g\n"
     ]
    }
   ],
   "source": [
    "m2 = 0.18*u.Msun\n",
    "r2 = 0.243*u.Rsun\n",
    "omg = const.G*(m2.to(u.kg))/(r2.to(u.m))\n",
    "omg = omg.to(u.erg/u.g)\n",
    "print(omg)"
   ]
  },
  {
   "cell_type": "code",
   "execution_count": 19,
   "metadata": {},
   "outputs": [
    {
     "name": "stdout",
     "output_type": "stream",
     "text": [
      "7.0769175821045865e-09 g / (cm2 s)\n"
     ]
    }
   ],
   "source": [
    "#107ergcm°2s°1:\n",
    "Fx = 1e7*u.erg/u.cm**2/u.s\n",
    "esp = Fx/omg\n",
    "print(esp)"
   ]
  },
  {
   "cell_type": "code",
   "execution_count": 20,
   "metadata": {},
   "outputs": [
    {
     "name": "stdout",
     "output_type": "stream",
     "text": [
      "531.6097394532316 km / s\n",
      "0.37621583119546137 erg / cm3\n"
     ]
    }
   ],
   "source": [
    "vesc = (2*const.G*m2/r2)**0.5\n",
    "#vesc = vesc.to(u.km/u.s)\n",
    "print(vesc.to(u.km/u.s))\n",
    "vesc = vesc.to(u.cm/u.s)\n",
    "mu_wind = esp*vesc\n",
    "mu_wind = mu_wind.to(u.erg/u.cm**3) \n",
    "print(mu_wind)"
   ]
  },
  {
   "cell_type": "markdown",
   "metadata": {},
   "source": [
    "So energy in the wind ~10* energy in M field at wd. Not helpful given uncertaintes. When does it become more, and is it less than B-H radius?"
   ]
  },
  {
   "cell_type": "code",
   "execution_count": 21,
   "metadata": {},
   "outputs": [
    {
     "name": "stdout",
     "output_type": "stream",
     "text": [
      "0.5953499999999997 solRad\n"
     ]
    }
   ],
   "source": [
    "#bond \n",
    "radb = (2*const.G*mwd)/vesc**2\n",
    "radb = radb.to(u.Rsun) \n",
    "print(radb)"
   ]
  },
  {
   "cell_type": "code",
   "execution_count": 22,
   "metadata": {},
   "outputs": [
    {
     "data": {
      "text/plain": [
       "(0.0179, 1.3570000000000002)"
      ]
     },
     "execution_count": 22,
     "metadata": {},
     "output_type": "execute_result"
    },
    {
     "name": "stderr",
     "output_type": "stream",
     "text": [
      "findfont: Font family ['serif'] not found. Falling back to DejaVu Sans.\n"
     ]
    },
    {
     "data": {
      "image/png": "[encoded data removed]",
      "text/plain": [
       "<Figure size 432x432 with 1 Axes>"
      ]
     },
     "metadata": {
      "needs_background": "light"
     },
     "output_type": "display_data"
    }
   ],
   "source": [
    "plt.figure(figsize=(6, 6))\n",
    "brange = np.linspace(rwd, a-r2, 100)\n",
    "Br = (np.array([B0.value*(rwd/ai)**3 for ai in brange])**2)/(8*np.pi)\n",
    "plt.plot(brange, Br, label = '$u_{\\mathrm{WD}}$')\n",
    "plt.yscale('log')\n",
    "plt.axvline(radb.value, c='C1', label = '$R_{\\mathrm B}$')\n",
    "#plt.axhline(mu_wind.value, c='C3', label = '$u_{0\\,\\mathrm{wind}}$')\n",
    "crange = np.linspace(r2, a-rwd, 100)\n",
    "#mus = []\n",
    "#for ai in crange:\n",
    "uwind = np.array([mu_wind.value*(r2/ai)**2 for ai in crange])\n",
    " #   vesc = ((2*const.G*m2/ai)**0.5).to(u.cm/u.s)\n",
    "  #  mus.append((esp*vesc).value)\n",
    "plt.plot(a-crange, uwind, c='C3', label= '$u_{\\mathrm{wind}}$')\n",
    "plt.xlabel(r'$a$ (R$_{\\bigodot}$)')\n",
    "plt.ylabel('Energy density (erg cm$^{-3}$)')\n",
    "plt.legend()\n",
    "plt.xlim(rwd.value, a.value-r2.value)\n",
    "#plt.xlim(1.23, 1.245)\n",
    "#plt.ylim(1.e-1, 4e-1)"
   ]
  },
  {
   "cell_type": "code",
   "execution_count": 23,
   "metadata": {},
   "outputs": [],
   "source": [
    "rcrit = 1.2*u.Rsun"
   ]
  },
  {
   "cell_type": "code",
   "execution_count": 24,
   "metadata": {},
   "outputs": [
    {
     "data": {
      "text/latex": [
       "$0.75 \\; \\mathrm{}$"
      ],
      "text/plain": [
       "<Quantity 0.75>"
      ]
     },
     "execution_count": 24,
     "metadata": {},
     "output_type": "execute_result"
    }
   ],
   "source": [
    "rcrit/a"
   ]
  },
  {
   "cell_type": "code",
   "execution_count": 25,
   "metadata": {},
   "outputs": [
    {
     "name": "stdout",
     "output_type": "stream",
     "text": [
      "7351892502.762418 g / s\n",
      "13070031116.02208 g / s\n"
     ]
    }
   ],
   "source": [
    "mwind = mdot/(rcrit/a)**2\n",
    "print(mdot)\n",
    "print(mwind)"
   ]
  },
  {
   "cell_type": "code",
   "execution_count": 26,
   "metadata": {},
   "outputs": [
    {
     "name": "stdout",
     "output_type": "stream",
     "text": [
      "212399939649.546 g / s\n"
     ]
    }
   ],
   "source": [
    "#mwind_bh = mdot*(((a.to(u.cm))**2)*(vesc**4))/(((const.G.to(u.cm**3/u.g/u.s**2))**2)*mwd.to(u.g))\n",
    "#print(mwind_bh)\n",
    "\n",
    "m_loss = (((2*a*m2)/(r2*mwd))**2) * mdot\n",
    "print(m_loss)"
   ]
  },
  {
   "cell_type": "code",
   "execution_count": 27,
   "metadata": {},
   "outputs": [
    {
     "data": {
      "text/latex": [
       "$16.250913 \\; \\mathrm{}$"
      ],
      "text/plain": [
       "<Quantity 16.25091308>"
      ]
     },
     "execution_count": 27,
     "metadata": {},
     "output_type": "execute_result"
    }
   ],
   "source": [
    "m_loss/mwind"
   ]
  },
  {
   "cell_type": "code",
   "execution_count": 28,
   "metadata": {},
   "outputs": [
    {
     "data": {
      "text/latex": [
       "$2.0743149 \\times 10^{-16} \\; \\mathrm{\\frac{M_{\\odot}}{yr}}$"
      ],
      "text/plain": [
       "<Quantity 2.07431486e-16 solMass / yr>"
      ]
     },
     "execution_count": 28,
     "metadata": {},
     "output_type": "execute_result"
    }
   ],
   "source": [
    "mwind.to(u.Msun/u.yr)"
   ]
  },
  {
   "cell_type": "code",
   "execution_count": 29,
   "metadata": {},
   "outputs": [
    {
     "data": {
      "text/latex": [
       "$3.370951 \\times 10^{-15} \\; \\mathrm{\\frac{M_{\\odot}}{yr}}$"
      ],
      "text/plain": [
       "<Quantity 3.37095105e-15 solMass / yr>"
      ]
     },
     "execution_count": 29,
     "metadata": {},
     "output_type": "execute_result"
    }
   ],
   "source": [
    "m_loss.to(u.Msun/u.yr)"
   ]
  },
  {
   "cell_type": "code",
   "execution_count": 30,
   "metadata": {},
   "outputs": [
    {
     "data": {
      "text/plain": [
       "670.0"
      ]
     },
     "execution_count": 30,
     "metadata": {},
     "output_type": "execute_result"
    }
   ],
   "source": [
    "np.mean([630, 710])"
   ]
  },
  {
   "cell_type": "code",
   "execution_count": 31,
   "metadata": {},
   "outputs": [
    {
     "data": {
      "text/latex": [
       "$32.601956 \\; \\mathrm{min}$"
      ],
      "text/plain": [
       "<Quantity 32.6019563 min>"
      ]
     },
     "execution_count": 31,
     "metadata": {},
     "output_type": "execute_result"
    }
   ],
   "source": [
    "v = 40*u.km/u.s\n",
    "prot = 2*np.pi*rwd/v\n",
    "#prot\n",
    "prot.to(u.min)"
   ]
  },
  {
   "cell_type": "markdown",
   "metadata": {},
   "source": [
    "Syncronisation timescale"
   ]
  },
  {
   "cell_type": "code",
   "execution_count": 32,
   "metadata": {},
   "outputs": [],
   "source": [
    "#def tsync():\n",
    " #   I = (2/5) * M1*R1**2\n",
    "  #  q = M1/M2\n",
    "   # ts = (1 / (6*q*k2)) * ((M1*R1**2)/L)**(1/3) * (I/(M1*R1))**2 * (a/R1)**6  "
   ]
  },
  {
   "cell_type": "markdown",
   "metadata": {},
   "source": [
    "Comparison with Preps"
   ]
  },
  {
   "cell_type": "code",
   "execution_count": 33,
   "metadata": {},
   "outputs": [],
   "source": [
    "preptab = np.genfromtxt('preps.csv', delimiter=',', dtype=None, names=True, encoding=None)"
   ]
  },
  {
   "cell_type": "code",
   "execution_count": 34,
   "metadata": {},
   "outputs": [
    {
     "data": {
      "text/plain": [
       "array([('SDSS J030308.35+005444.1',  -1, -1,  8, False,   9150, 193.6, 0.84, '143'),\n",
       "       ('SDSS J083751.0+383012.5',  -1, -1, -1, False,     -1, 178.8,  nan, '87'),\n",
       "       ('HS 0922+1333',  66, 81, -1, False,  -8000, 242.4,  nan, '144 145 146'),\n",
       "       ('WX LMi (=HS 1023+3900 )',  61, 70, -1, False,     -1, 166.9,  nan, '147 148 149'),\n",
       "       ('IL Leo (=SDSS J103100.55+202832.2)',  42, -1, -1, False,   9500,  83.2,  nan, '150'),\n",
       "       ('SDSS J105905.06+272755.4',  57, -1, -1, False,  -8500, 150. ,  nan, '150'),\n",
       "       ('SDSS J120615.73+510047.0', 108, -1, -1, False,   9000, 197. ,  nan, '151'),\n",
       "       ('PZ Vir (=J132411.57+032050.4)',  63, -1, -1, False,  -7500, 158.7,  nan, '152 153 154'),\n",
       "       ('MQ Dra (=SDSS J155331.11+551614.4)',  58, -1, -1, False, -10000, 263.5,  nan, '152 154'),\n",
       "       ('SDSS J204827.91+005008.9',  62, -1, -1, False,   7500, 252. ,  nan, '154')],\n",
       "      dtype=[('Name', '<U34'), ('B_cyc_1_MG', '<i8'), ('B_cyc_2_MG', '<i8'), ('B_Zeem_phot_MG', '<i8'), ('B_Zeem_halo_MG', '?'), ('T_eff_K', '<i8'), ('P_rot_min', '<f8'), ('Mass_M⊙', '<f8'), ('References_notes', '<U11')])"
      ]
     },
     "execution_count": 34,
     "metadata": {},
     "output_type": "execute_result"
    }
   ],
   "source": [
    "preptab"
   ]
  },
  {
   "cell_type": "code",
   "execution_count": 35,
   "metadata": {},
   "outputs": [
    {
     "data": {
      "text/plain": [
       "('Name',\n",
       " 'B_cyc_1_MG',\n",
       " 'B_cyc_2_MG',\n",
       " 'B_Zeem_phot_MG',\n",
       " 'B_Zeem_halo_MG',\n",
       " 'T_eff_K',\n",
       " 'P_rot_min',\n",
       " 'Mass_M⊙',\n",
       " 'References_notes')"
      ]
     },
     "execution_count": 35,
     "metadata": {},
     "output_type": "execute_result"
    }
   ],
   "source": [
    "preptab.dtype.names"
   ]
  },
  {
   "cell_type": "code",
   "execution_count": 36,
   "metadata": {},
   "outputs": [
    {
     "data": {
      "text/plain": [
       "array([  9150,     -1,  -8000,     -1,   9500,  -8500,   9000,  -7500,\n",
       "       -10000,   7500])"
      ]
     },
     "execution_count": 36,
     "metadata": {},
     "output_type": "execute_result"
    }
   ],
   "source": [
    "preptab['T_eff_K']"
   ]
  },
  {
   "cell_type": "code",
   "execution_count": 37,
   "metadata": {},
   "outputs": [],
   "source": [
    "ptab = preptab[preptab['T_eff_K'] !=-1]"
   ]
  },
  {
   "cell_type": "code",
   "execution_count": 38,
   "metadata": {},
   "outputs": [
    {
     "data": {
      "image/png": "[encoded data removed]",
      "text/plain": [
       "<Figure size 396x396 with 2 Axes>"
      ]
     },
     "metadata": {
      "needs_background": "light"
     },
     "output_type": "display_data"
    }
   ],
   "source": [
    "fig, ax = plt.subplots(figsize=(5.5, 5.5))\n",
    "\n",
    "for i, star in enumerate(ptab['Name']):\n",
    "    mags = np.array([ptab['B_cyc_1_MG'][i], ptab['B_cyc_2_MG'][i], ptab['B_Zeem_phot_MG'][i], ptab['B_Zeem_halo_MG'][i]])\n",
    "    mags = mags[mags >0]\n",
    "    mags = np.mean(mags*1e3)\n",
    "    #print(mags)\n",
    "    teff = ptab['T_eff_K'][i]\n",
    "    x = abs(teff)\n",
    "    if teff > 0:\n",
    "        plt.errorbar(x, mags, ls='none', marker='o', c='C0')\n",
    "    else: \n",
    "        plt.errorbar(x, mags, ls='none', marker='o', xlolims=True, xerr = -1000, c='C0')\n",
    "cc_mags = 650\n",
    "cc_teff = 25203 \n",
    "cc_teff_e = 42\n",
    "plt.errorbar(cc_teff, cc_mags, ls='none', marker='o', xerr = cc_teff_e, c='C1')\n",
    "ax.set_yscale('log')\n",
    "#plt.xscale('log')\n",
    "plt.xlabel('$T_{\\mathrm{eff}}$ (K)')\n",
    "plt.ylabel('$B$ (kG)')\n",
    "\n",
    "\n",
    "xlims = [27000, 5500]\n",
    "plt.xlim(xlims[0], xlims[1])\n",
    "\n",
    "ax.tick_params(\n",
    "    axis='x',          # changes apply to the x-axis\n",
    "    which='both',      # both major and minor ticks are affected\n",
    "    top=False)      # ticks along the bottom edge are off \n",
    "\n",
    "ax.tick_params(\n",
    "    axis='y',          # changes apply to the x-axis\n",
    "    which='minor',      # both major and minor ticks are affected\n",
    "    left=True,\n",
    "    right=True)      # ticks along the bottom edge are off \n",
    "\n",
    "\n",
    "ax2 = ax.twiny()\n",
    "ax2.tick_params(\n",
    "    axis='x',          # changes apply to the x-axis\n",
    "    which='minor',      # both major and minor ticks are affected\n",
    "    top=False)      # ticks along the bottom edge are off  \n",
    "\n",
    "ax2.tick_params(\n",
    "    axis='y',          # changes apply to the x-axis\n",
    "    which='minor',      # both major and minor ticks are affected\n",
    "    left=True,\n",
    "    right=True)      # ticks along the bottom edge are off \n",
    "\n",
    "ages = ['1', '0.5', '0.1', '0.05']\n",
    "tage = [8400, 10950, 18000, 22000]\n",
    "\n",
    "ax2.set_xticks(tage)#, minor=False)\n",
    "ax2.set_xticklabels(ages)\n",
    "\n",
    "ax2.set_xlim(xlims[0], xlims[1])\n",
    "ax2.set_xlabel('Cooling Time (Gyr)')\n",
    "ax2.set_yscale('log')\n",
    "\n",
    "plt.tight_layout()\n",
    "plt.savefig('plots/teffvB.pdf', dpi=150)\n"
   ]
  },
  {
   "cell_type": "markdown",
   "metadata": {},
   "source": [
    "Get approximate ages from a Bergeron table"
   ]
  },
  {
   "cell_type": "code",
   "execution_count": 39,
   "metadata": {},
   "outputs": [],
   "source": [
    "agetab = np.genfromtxt('/media/david/5tb_storage1/cc_cet/misc/Table_Mass_0.6.txt', names=True, skip_header=1, skip_footer=74)"
   ]
  },
  {
   "cell_type": "code",
   "execution_count": 40,
   "metadata": {},
   "outputs": [
    {
     "data": {
      "text/plain": [
       "[<matplotlib.lines.Line2D at 0x7f3e5edc96a0>]"
      ]
     },
     "execution_count": 40,
     "metadata": {},
     "output_type": "execute_result"
    },
    {
     "data": {
      "image/png": "[encoded data removed]",
      "text/plain": [
       "<Figure size 1008x360 with 1 Axes>"
      ]
     },
     "metadata": {
      "needs_background": "light"
     },
     "output_type": "display_data"
    }
   ],
   "source": [
    "teff, age = agetab['Teff'], agetab['Age']\n",
    "#mask = (age > 0.05e9) & (age < 0.2e9)\n",
    "mask = (teff > 19000) & (teff < 31000) \n",
    "plt.plot(age[mask], teff[mask])"
   ]
  },
  {
   "cell_type": "markdown",
   "metadata": {},
   "source": [
    "How much of an outlier?"
   ]
  },
  {
   "cell_type": "code",
   "execution_count": 41,
   "metadata": {},
   "outputs": [
    {
     "name": "stdout",
     "output_type": "stream",
     "text": [
      "58937.5 26294.530681303288\n",
      "8643.75 866.5439616661118\n",
      "5.924748782407588\n",
      "21.453702596772317\n"
     ]
    }
   ],
   "source": [
    "bstat = []\n",
    "tstat = []\n",
    "tpos = []\n",
    "\n",
    "for i, star in enumerate(ptab['Name']):\n",
    "    mags = np.array([ptab['B_cyc_1_MG'][i], ptab['B_cyc_2_MG'][i], ptab['B_Zeem_phot_MG'][i], ptab['B_Zeem_halo_MG'][i]])\n",
    "    mags = mags[mags >0]\n",
    "    mags = np.mean(mags*1e3)\n",
    "    #print(mags)\n",
    "    teff = ptab['T_eff_K'][i]\n",
    "    bstat.append(mags)\n",
    "    tstat.append(abs(teff))\n",
    "    if teff > 0:\n",
    "        tpos.append(teff)\n",
    "    \n",
    "print(np.mean(bstat), np.std(bstat))\n",
    "print(np.mean(tstat), np.std(tstat))\n",
    "\n",
    "print(((np.mean(np.log10(bstat)))-np.log10(cc_mags))/np.std(np.log10(bstat)))\n",
    "print(abs(np.mean(tpos)-cc_teff)/np.std(tpos))"
   ]
  },
  {
   "cell_type": "code",
   "execution_count": 42,
   "metadata": {},
   "outputs": [
    {
     "name": "stdout",
     "output_type": "stream",
     "text": [
      "[7.69230769]\n",
      "[[ 2.57748811]\n",
      " [14.01861336]]\n",
      "[0.]\n",
      "[[0.        ]\n",
      " [0.10599351]]\n",
      "[0.16666667]\n",
      "[[0.05279033]\n",
      " [0.21907613]]\n"
     ]
    }
   ],
   "source": [
    "def binom_stat(n, s):\n",
    "    x = np.arange(n)\n",
    "    result = np.zeros(n-s, dtype=bool)\n",
    "    result = np.append(result, np.ones(s, dtype=bool))\n",
    "    bs = astropy.stats.binned_binom_proportion([x], [result], bins=1, interval='flat')#, confidence_level=0.68)\n",
    "    #print(bs)\n",
    "    print(bs[2]*100)\n",
    "    print(bs[3]*100)\n",
    "\n",
    "binom_stat(13, 1)\n",
    "binom_stat(1735, 0)\n",
    "binom_stat(1200, 2)"
   ]
  },
  {
   "cell_type": "markdown",
   "metadata": {},
   "source": [
    "Spin-orbit ratio"
   ]
  },
  {
   "cell_type": "code",
   "execution_count": 43,
   "metadata": {},
   "outputs": [
    {
     "data": {
      "text/latex": [
       "$0.0179 \\; \\mathrm{R_{\\odot}}$"
      ],
      "text/plain": [
       "<Quantity 0.0179 solRad>"
      ]
     },
     "execution_count": 43,
     "metadata": {},
     "output_type": "execute_result"
    }
   ],
   "source": [
    "rwd"
   ]
  },
  {
   "cell_type": "code",
   "execution_count": 44,
   "metadata": {},
   "outputs": [
    {
     "data": {
      "text/plain": [
       "[<matplotlib.lines.Line2D at 0x7f3e5ed878d0>]"
      ]
     },
     "execution_count": 44,
     "metadata": {},
     "output_type": "execute_result"
    },
    {
     "data": {
      "image/png": "[encoded data removed]",
      "text/plain": [
       "<Figure size 1008x360 with 1 Axes>"
      ]
     },
     "metadata": {
      "needs_background": "light"
     },
     "output_type": "display_data"
    }
   ],
   "source": [
    "v = 40*u.km/u.s #sini\n",
    "#prot = 2*np.pi*rwd/v\n",
    "porb = 6.8818*u.hr\n",
    "\n",
    "sins = np.arange(0.1, 91)* np.pi / 180.\n",
    "pspins = []\n",
    "for i  in sins:\n",
    "    pspins.append(((2*np.pi*rwd*np.sin(i))/v).to(u.min).value)\n",
    "pspins = np.array(pspins)*u.min               \n",
    "# pspins = np.array([((2*np.pi*rwd/(v*np.sin(i))).to(u.min) for i in sins])\n",
    "#pspins\n",
    "\n",
    "plt.plot(sins*180/np.pi, pspins/porb.to(u.min)*100)\n",
    "#np.sin(np.pi/4)*v\n"
   ]
  },
  {
   "cell_type": "code",
   "execution_count": 45,
   "metadata": {},
   "outputs": [
    {
     "data": {
      "text/plain": [
       "1.0"
      ]
     },
     "execution_count": 45,
     "metadata": {},
     "output_type": "execute_result"
    }
   ],
   "source": [
    "np.sin(np.pi/2)"
   ]
  },
  {
   "cell_type": "markdown",
   "metadata": {},
   "source": [
    "Adding parsons+21 to the b v teff plot"
   ]
  },
  {
   "cell_type": "code",
   "execution_count": 46,
   "metadata": {},
   "outputs": [
    {
     "data": {
      "text/plain": [
       "('Name', 'Teff', 'B1', 'B2')"
      ]
     },
     "execution_count": 46,
     "metadata": {},
     "output_type": "execute_result"
    }
   ],
   "source": [
    "p21tab = np.genfromtxt('parsons+21.csv', delimiter=',', dtype=None, names=True, encoding=None)\n",
    "p21tab.dtype.names"
   ]
  },
  {
   "cell_type": "code",
   "execution_count": 47,
   "metadata": {},
   "outputs": [
    {
     "name": "stdout",
     "output_type": "stream",
     "text": [
      "85857.14285714286 67085.88008010665\n",
      "9117.857142857143 1956.2726167434867\n",
      "6.039463501625154\n",
      "6.4363941018360515\n"
     ]
    },
    {
     "data": {
      "image/png": "[encoded data removed]",
      "text/plain": [
       "<Figure size 396x396 with 2 Axes>"
      ]
     },
     "metadata": {
      "needs_background": "light"
     },
     "output_type": "display_data"
    }
   ],
   "source": [
    "fig, ax = plt.subplots(figsize=(5.5, 5.5))\n",
    "\n",
    "\n",
    "bstat = []\n",
    "tstat = []\n",
    "tpos = []\n",
    "\n",
    "for i, star in enumerate(ptab['Name']):\n",
    "    mags = np.array([ptab['B_cyc_1_MG'][i], ptab['B_cyc_2_MG'][i], ptab['B_Zeem_phot_MG'][i], ptab['B_Zeem_halo_MG'][i]])\n",
    "    mags = mags[mags >0]\n",
    "    mags = np.mean(mags*1e3)\n",
    "    #print(mags)\n",
    "    teff = ptab['T_eff_K'][i]\n",
    "    x = abs(teff)\n",
    "    if teff > 0:\n",
    "        plt.errorbar(x, mags, ls='none', marker='o', c='C0')\n",
    "    else: \n",
    "        plt.errorbar(x, mags, ls='none', marker='o', xlolims=True, xerr = -1000, c='C0')\n",
    "    bstat.append(mags)\n",
    "    tstat.append(abs(teff))\n",
    "    if teff > 0:\n",
    "        tpos.append(teff)\n",
    "        \n",
    "for i, star in enumerate(p21tab['Name']):\n",
    "    mags = np.array([p21tab['B1'][i], p21tab['B2'][i]])\n",
    "    mags = mags[mags >0]\n",
    "    mags = np.mean(mags*1e3)\n",
    "    #print(mags)\n",
    "    teff = p21tab['Teff'][i]\n",
    "    x = abs(teff)\n",
    "    if teff > 0:\n",
    "        plt.errorbar(x, mags, ls='none', marker='o', c='C0')\n",
    "    else: \n",
    "        plt.errorbar(x, mags, ls='none', marker='o', xlolims=True, xerr = -1000, c='C0')\n",
    "    bstat.append(mags)\n",
    "    tstat.append(abs(teff))\n",
    "    if teff > 0:\n",
    "        tpos.append(teff)\n",
    "        \n",
    "        \n",
    "        \n",
    "cc_mags = 650\n",
    "cc_teff = 25203 \n",
    "cc_teff_e = 42\n",
    "plt.errorbar(cc_teff, cc_mags, ls='none', marker='o', xerr = cc_teff_e, c='C1')\n",
    "ax.set_yscale('log')\n",
    "#plt.xscale('log')\n",
    "plt.xlabel('$T_{\\mathrm{eff}}$ (K)')\n",
    "plt.ylabel('$B$ (kG)')\n",
    "\n",
    "\n",
    "xlims = [28000, 4500]\n",
    "plt.xlim(xlims[0], xlims[1])\n",
    "\n",
    "ax.tick_params(\n",
    "    axis='x',          # changes apply to the x-axis\n",
    "    which='both',      # both major and minor ticks are affected\n",
    "    top=False)      # ticks along the bottom edge are off \n",
    "\n",
    "ax.tick_params(\n",
    "    axis='y',          # changes apply to the x-axis\n",
    "    which='minor',      # both major and minor ticks are affected\n",
    "    left=True,\n",
    "    right=True)      # ticks along the bottom edge are off \n",
    "\n",
    "\n",
    "ax2 = ax.twiny()\n",
    "ax2.tick_params(\n",
    "    axis='x',          # changes apply to the x-axis\n",
    "    which='minor',      # both major and minor ticks are affected\n",
    "    top=False)      # ticks along the bottom edge are off  \n",
    "\n",
    "ax2.tick_params(\n",
    "    axis='y',          # changes apply to the x-axis\n",
    "    which='minor',      # both major and minor ticks are affected\n",
    "    left=True,\n",
    "    right=True)      # ticks along the bottom edge are off \n",
    "\n",
    "ages = ['1', '0.5', '0.1', '0.05']\n",
    "tage = [8400, 10950, 18000, 22000]\n",
    "\n",
    "ax2.set_xticks(tage)#, minor=False)\n",
    "ax2.set_xticklabels(ages)\n",
    "\n",
    "ax2.set_xlim(xlims[0], xlims[1])\n",
    "ax2.set_xlabel('Cooling Time (Gyr)')\n",
    "ax2.set_yscale('log')\n",
    "\n",
    "plt.ylim(3e2, 5e5)\n",
    "\n",
    "#can I add gradients?\n",
    "\n",
    "plt.tight_layout()\n",
    "# plt.savefig('plots/teffvB.pdf', dpi=150)\n",
    "\n",
    "print(np.mean(bstat), np.std(bstat))\n",
    "print(np.mean(tstat), np.std(tstat))\n",
    "\n",
    "print(((np.mean(np.log10(bstat)))-np.log10(cc_mags))/np.std(np.log10(bstat)))\n",
    "print(abs(np.mean(tpos)-cc_teff)/np.std(tpos))"
   ]
  },
  {
   "cell_type": "code",
   "execution_count": 48,
   "metadata": {},
   "outputs": [
    {
     "name": "stdout",
     "output_type": "stream",
     "text": [
      "85857.14285714286 67085.88008010665\n",
      "9117.857142857143 1956.2726167434867\n",
      "6.039463501625154\n",
      "6.4363941018360515\n"
     ]
    }
   ],
   "source": [
    "bstat = []\n",
    "tstat = []\n",
    "tpos = []\n",
    "\n",
    "for i, star in enumerate(ptab['Name']):\n",
    "    mags = np.array([ptab['B_cyc_1_MG'][i], ptab['B_cyc_2_MG'][i], ptab['B_Zeem_phot_MG'][i], ptab['B_Zeem_halo_MG'][i]])\n",
    "    mags = mags[mags >0]\n",
    "    mags = np.mean(mags*1e3)\n",
    "    #print(mags)\n",
    "    teff = ptab['T_eff_K'][i]\n",
    "    bstat.append(mags)\n",
    "    tstat.append(abs(teff))\n",
    "    if teff > 0:\n",
    "        tpos.append(teff)\n",
    "    \n",
    "for i, star in enumerate(p21tab['Name']):\n",
    "    mags = np.array([p21tab['B1'][i], p21tab['B2'][i]])\n",
    "    mags = mags[mags >0]\n",
    "    mags = np.mean(mags*1e3)\n",
    "    #print(mags)\n",
    "    teff = p21tab['Teff'][i]\n",
    "    bstat.append(mags)\n",
    "    tstat.append(abs(teff))\n",
    "    if teff > 0:\n",
    "        tpos.append(teff)\n",
    "   \n",
    "print(np.mean(bstat), np.std(bstat))\n",
    "print(np.mean(tstat), np.std(tstat))\n",
    "\n",
    "print(((np.mean(np.log10(bstat)))-np.log10(cc_mags))/np.std(np.log10(bstat)))\n",
    "print(abs(np.mean(tpos)-cc_teff)/np.std(tpos))"
   ]
  },
  {
   "cell_type": "code",
   "execution_count": 49,
   "metadata": {},
   "outputs": [
    {
     "data": {
      "text/plain": [
       "(array([1., 0., 0., 0., 2., 4., 4., 1., 1., 1.]),\n",
       " array([3.90308999, 4.06049311, 4.21789624, 4.37529937, 4.53270249,\n",
       "        4.69010562, 4.84750875, 5.00491187, 5.162315  , 5.31971813,\n",
       "        5.47712125]),\n",
       " <BarContainer object of 10 artists>)"
      ]
     },
     "execution_count": 49,
     "metadata": {},
     "output_type": "execute_result"
    },
    {
     "data": {
      "image/png": "[encoded data removed]",
      "text/plain": [
       "<Figure size 1008x360 with 1 Axes>"
      ]
     },
     "metadata": {
      "needs_background": "light"
     },
     "output_type": "display_data"
    }
   ],
   "source": [
    "plt.hist(np.log10(bstat))"
   ]
  },
  {
   "cell_type": "code",
   "execution_count": 50,
   "metadata": {},
   "outputs": [
    {
     "data": {
      "text/plain": [
       "(array([1., 3., 5., 2., 1., 1., 0., 0., 0., 1.]),\n",
       " array([ 6500.,  7350.,  8200.,  9050.,  9900., 10750., 11600., 12450.,\n",
       "        13300., 14150., 15000.]),\n",
       " <BarContainer object of 10 artists>)"
      ]
     },
     "execution_count": 50,
     "metadata": {},
     "output_type": "execute_result"
    },
    {
     "data": {
      "image/png": "[encoded data removed]",
      "text/plain": [
       "<Figure size 1008x360 with 1 Axes>"
      ]
     },
     "metadata": {
      "needs_background": "light"
     },
     "output_type": "display_data"
    }
   ],
   "source": [
    "plt.hist(tstat)"
   ]
  },
  {
   "cell_type": "code",
   "execution_count": null,
   "metadata": {},
   "outputs": [],
   "source": []
  }
 ],
 "metadata": {
  "kernelspec": {
   "display_name": "Python 3",
   "language": "python",
   "name": "python3"
  },
  "language_info": {
   "codemirror_mode": {
    "name": "ipython",
    "version": 3
   },
   "file_extension": ".py",
   "mimetype": "text/x-python",
   "name": "python",
   "nbconvert_exporter": "python",
   "pygments_lexer": "ipython3",
   "version": "3.6.12"
  }
 },
 "nbformat": 4,
 "nbformat_minor": 4
}
