{
 "cells": [
  {
   "cell_type": "markdown",
   "metadata": {},
   "source": [
    "Looking at the 2m cadence TESS data from sector 31"
   ]
  },
  {
   "cell_type": "code",
   "execution_count": 3,
   "metadata": {},
   "outputs": [],
   "source": [
    "import numpy as np\n",
    "import matplotlib.pyplot as plt\n",
    "import astropy.io.fits as fits\n",
    "import os\n",
    "import glob\n",
    "from astropy.table import Table\n",
    "from astropy.io import ascii\n",
    "import astropy.units as u\n",
    "import astropy.constants as const\n",
    "from astropy.modeling import models, fitting\n",
    "import lightkurve as lk\n",
    "from astropy.coordinates import SkyCoord\n",
    "from matplotlib.gridspec import GridSpec\n",
    "from datetime import datetime\n",
    "\n",
    "#matplotlib set up\n",
    "%matplotlib inline\n",
    "from matplotlib import rcParams\n",
    "rcParams[\"figure.figsize\"] = (14, 5)\n",
    "rcParams[\"font.size\"] = 20"
   ]
  },
  {
   "cell_type": "code",
   "execution_count": 4,
   "metadata": {},
   "outputs": [],
   "source": [
    "# path = '/media/david/5tb_storage1/cc_cet/tess/MAST_2020-12-21T2128/TESS/tess2020294194027-s0031-0000000337219837-0198-s/'"
   ]
  },
  {
   "cell_type": "code",
   "execution_count": 6,
   "metadata": {},
   "outputs": [
    {
     "data": {
      "text/html": [
       "SearchResult containing 3 data products.\n",
       "\n",
       "<table id=\"table140597654617448\">\n",
       "<thead><tr><th>#</th><th>mission</th><th>year</th><th>author</th><th>exptime</th><th>target_name</th><th>distance</th></tr></thead>\n",
       "<thead><tr><th></th><th></th><th></th><th></th><th>s</th><th></th><th>arcsec</th></tr></thead>\n",
       "<tr><td>0</td><td>TESS Sector 31</td><td>2020</td><td><a href='https://heasarc.gsfc.nasa.gov/docs/tess/pipeline.html'>SPOC</a></td><td>20</td><td>337219837</td><td>0.0</td></tr>\n",
       "<tr><td>1</td><td>TESS Sector 31</td><td>2020</td><td><a href='https://heasarc.gsfc.nasa.gov/docs/tess/pipeline.html'>SPOC</a></td><td>120</td><td>337219837</td><td>0.0</td></tr>\n",
       "<tr><td>2</td><td>TESS Sector 31</td><td>2020</td><td><a href='https://archive.stsci.edu/hlsp/tess-spoc'>TESS-SPOC</a></td><td>600</td><td>337219837</td><td>0.0</td></tr>\n",
       "</table>"
      ],
      "text/plain": [
       "SearchResult containing 3 data products.\n",
       "\n",
       " #     mission     year   author  exptime target_name distance\n",
       "                                     s                 arcsec \n",
       "--- -------------- ---- --------- ------- ----------- --------\n",
       "  0 TESS Sector 31 2020      SPOC      20   337219837      0.0\n",
       "  1 TESS Sector 31 2020      SPOC     120   337219837      0.0\n",
       "  2 TESS Sector 31 2020 TESS-SPOC     600   337219837      0.0"
      ]
     },
     "execution_count": 6,
     "metadata": {},
     "output_type": "execute_result"
    }
   ],
   "source": [
    "# lcpath = glob.glob('{}*lc.fits'.format(path))[0]\n",
    "# lcpath\n",
    "search_result = lk.search_lightcurve('CC Cet')\n",
    "search_result\n"
   ]
  },
  {
   "cell_type": "code",
   "execution_count": null,
   "metadata": {},
   "outputs": [],
   "source": [
    "data = fits.getdata(lcpath,1)\n",
    "data.names"
   ]
  },
  {
   "cell_type": "code",
   "execution_count": null,
   "metadata": {},
   "outputs": [],
   "source": [
    "t, f, e, q, bk = data['TIME'], data['PDCSAP_FLUX'], data['PDCSAP_FLUX_ERR'], data['QUALITY'], data['SAP_BKG']#[np.isnan(data['SAP_BKG'])==False]\n",
    "t, f, e, bk = t[q==0], f[q==0], e[q==0], bk[q==0]\n",
    "#fit = np.polyval((np.polyfit(t,f,2)), t)\n",
    "#f = (f/fit)-1\n",
    "#e = (e/fit)\n",
    "#cut_mask = (bk < 1.1*np.median(bk))\n",
    "lc = lk.LightCurve(time=t, flux=f, flux_err=e ).remove_nans()#.remove_outliers(sigma=5)"
   ]
  },
  {
   "cell_type": "code",
   "execution_count": null,
   "metadata": {},
   "outputs": [],
   "source": [
    "lc.plot()"
   ]
  },
  {
   "cell_type": "code",
   "execution_count": null,
   "metadata": {},
   "outputs": [],
   "source": [
    "pg = lc.to_periodogram(oversample_factor=10,minimum_period=4*u.minute, maximum_period=15*u.day)\n",
    "#pg.plot()"
   ]
  },
  {
   "cell_type": "code",
   "execution_count": null,
   "metadata": {},
   "outputs": [],
   "source": [
    "plt.plot(pg.period, pg.power)\n",
    "plt.xscale('log')\n",
    "#plt.yscale('log')\n",
    "#plt.xlim(0.3, 1)"
   ]
  },
  {
   "cell_type": "code",
   "execution_count": null,
   "metadata": {},
   "outputs": [],
   "source": [
    "lc.fold(pg.period_at_max_power*2).bin(20).errorbar()"
   ]
  },
  {
   "cell_type": "code",
   "execution_count": null,
   "metadata": {},
   "outputs": [],
   "source": [
    "lc1 = lc.normalize(unit='percent')\n",
    "lc1.flux -=100\n",
    "lc1.plot()"
   ]
  },
  {
   "cell_type": "code",
   "execution_count": null,
   "metadata": {},
   "outputs": [],
   "source": [
    "pg1 = lc1.to_periodogram(oversample_factor=10,minimum_period=4*u.minute, maximum_period=14*u.day)\n",
    "plt.plot(pg1.period, pg1.power)\n",
    "plt.xscale('log')\n",
    "print(pg1.max_power)"
   ]
  },
  {
   "cell_type": "code",
   "execution_count": null,
   "metadata": {},
   "outputs": [],
   "source": [
    "fitter = fitting.LevMarLSQFitter()\n",
    "\n",
    "\n",
    "sin_mod =  models.Sine1D(amplitude=pg1.max_power.value, frequency= pg1.frequency_at_max_power.value, phase=0)#, bounds = dict(amplitude=(0, 1000)))#, bounds={'phase':[0, 1]})\n",
    "sin_fit = fitter(sin_mod, lc1.time.value, lc1.flux, weights = 1/lc1.flux_err, maxiter=100000)\n",
    "sin_fit_e = np.sqrt(np.diag(fitter.fit_info['param_cov']))\n",
    "plt.plot(lc1.time, lc1.flux) \n",
    "timefit = np.linspace(lc1.time[0], lc1.time[-1], 2000)\n",
    "plt.plot(timefit, sin_fit(timefit), c='C1', lw=2) \n",
    "print(sin_fit)\n",
    "print(sin_fit_e)\n",
    "print('Period =', (1/sin_fit.frequency.value)*24, (sin_fit_e[1]/(sin_fit.frequency.value**2))*24, 'h')\n",
    "print('Amplitude =', sin_fit.amplitude.value, sin_fit_e[0])\n",
    "print('Phase =', sin_fit.phase.value, sin_fit_e[2])\n",
    "plt.show()\n",
    "plt.scatter(lc1.time, lc1.flux-sin_fit(lc1.time))\n",
    "plt.show()\n",
    "\n",
    "t0 = t[0] + (1/sin_fit.frequency.value)*(sin_fit.phase-0.25)\n",
    "print(t0)\n",
    "lcf = lc1.fold(1/sin_fit.frequency.value)\n",
    "plt.errorbar(lcf.time, lcf.flux, yerr=lcf.flux_err, ls='none', marker='o')\n",
    "fold_mod =  models.Sine1D(amplitude=pg1.max_power.value, frequency= 1, phase=0, fixed={'frequency':True})#, bounds = dict(amplitude=(0, 1000)))#, bounds={'phase':[0, 1]})\n",
    "fold_fit = fitter(fold_mod, lcf.time, lcf.flux, weights = 1/lcf.flux_err, maxiter=100000)\n",
    "fold_fit_e = np.sqrt(np.diag(fitter.fit_info['param_cov']))\n",
    "fold_time = np.linspace(-0.5, 0.5, 100)\n",
    "plt.plot(fold_time, fold_fit(fold_time), c='C1', lw=2, zorder=10)\n",
    "\n",
    "print('Amplitude =', fold_fit.amplitude.value, fold_fit_e[0])\n",
    "print('Phase =', fold_fit.phase.value, fold_fit_e[1])\n",
    "print(fold_fit)\n",
    "print(fold_fit_e)"
   ]
  },
  {
   "cell_type": "markdown",
   "metadata": {},
   "source": [
    "Phase error seems like nonsense so estimate it from the %age errors on the other two?"
   ]
  },
  {
   "cell_type": "code",
   "execution_count": null,
   "metadata": {},
   "outputs": [],
   "source": [
    "print(fold_fit_e[0]/abs(fold_fit.amplitude.value))\n",
    "print(fold_fit_e[1]/fold_fit.frequency.value)\n",
    "print(1/sin_fit.frequency.value*fold_fit_e[1])"
   ]
  },
  {
   "cell_type": "code",
   "execution_count": null,
   "metadata": {},
   "outputs": [],
   "source": [
    "lc2 = lk.LightCurve(time=lc1.time, flux=lc1.flux-sin_fit(lc1.time), flux_err=lc1.flux_err )\n",
    "#lc2.flux -= sin_fit(lc1.time)\n",
    "lc2.plot()"
   ]
  },
  {
   "cell_type": "code",
   "execution_count": null,
   "metadata": {},
   "outputs": [],
   "source": [
    "pg2 = lc2.to_periodogram(oversample_factor=10,minimum_period=4*u.minute, maximum_period=20*u.day)\n",
    "plt.plot(pg2.period, pg2.power)\n",
    "plt.xscale('log')\n",
    "print(pg2.period_at_max_power.to(u.min))\n",
    "print(pg2.max_power)"
   ]
  },
  {
   "cell_type": "code",
   "execution_count": null,
   "metadata": {},
   "outputs": [],
   "source": [
    "lc2.fold(pg2.period_at_max_power).bin(200).errorbar()"
   ]
  },
  {
   "cell_type": "code",
   "execution_count": null,
   "metadata": {},
   "outputs": [],
   "source": [
    "pg1.period_at_max_power/pg2.period_at_max_power"
   ]
  },
  {
   "cell_type": "code",
   "execution_count": null,
   "metadata": {},
   "outputs": [],
   "source": [
    "\"\"\"sin_mod2 =  models.Sine1D(amplitude=pg1.max_power.value, frequency= pg1.frequency_at_max_power.value) +models.Sine1D(amplitude=pg2.max_power.value, frequency= pg2.frequency_at_max_power.value)\n",
    "sin_fit2 = fitter(sin_mod2, lc1.time, lc1.flux, weights = 1/lc1.flux_err)\n",
    "sin_fit_e2 = np.sqrt(np.diag(fitter.fit_info['param_cov']))\n",
    "plt.plot(lc1.time, lc1.flux) \n",
    "\n",
    "plt.plot(timefit, sin_fit2(timefit), c='C1', lw=2) \n",
    "print(sin_fit2)\n",
    "print(sin_fit_e2)\n",
    "print('Period1 =', (1/sin_fit2[0].frequency.value)*24, (sin_fit_e2[1]/(sin_fit2[1].frequency.value**2))*24, 'h')\n",
    "print('Amplitude1 =', sin_fit2[0].amplitude.value, sin_fit_e2[0])\n",
    "print('Period2 =', (1/sin_fit2[1].frequency.value)*24, (sin_fit_e2[4]/(sin_fit2[1].frequency.value**2))*24, 'h')\n",
    "print('Amplitude2 =', sin_fit2[1].amplitude.value, sin_fit_e2[3])\n",
    "plt.show()\n",
    "plt.scatter(lc1.time, lc1.flux-sin_fit2(lc1.time))\n",
    "plt.show()\n",
    "\n",
    "#t0 = t[0] + (1/sin_fit.frequency.value)*(sin_fit.phase-0.75)\n",
    "#lcf = lc1.fold(1/sin_fit.frequency.value, t0=t0).bin(50)\n",
    "#plt.errorbar(lcf.time, lcf.flux, yerr=lcf.flux_err, ls='none', marker='o') \"\"\""
   ]
  },
  {
   "cell_type": "code",
   "execution_count": null,
   "metadata": {},
   "outputs": [],
   "source": [
    "#FAP\n",
    "\n",
    "\"\"\"n = 10000\n",
    "#peak_collections = []\n",
    "check = np.arange(500, n+1, 500)\n",
    "i = 0\n",
    "max_peak = []\n",
    "arr = np.array(lc.flux)\n",
    "while i < n:\n",
    "    i+=1\n",
    "    \n",
    "    fake_flux = np.random.choice(arr, size=(len(lc1.time)))\n",
    "    fake_lc = lk.LightCurve(time=lc.time, flux=fake_flux)\n",
    "    fake_pg = fake_lc.to_periodogram(oversample_factor=10,minimum_period=4*u.minute, maximum_period=20*u.day)\n",
    "    max_peak.append(max(fake_pg.power).value)\n",
    "    if i in check:\n",
    "        print(i)\n",
    "#peak_collections.append(max_peak)\n",
    "np.save('fake_peaks2', np.array(max_peak))\"\"\""
   ]
  },
  {
   "cell_type": "code",
   "execution_count": null,
   "metadata": {},
   "outputs": [],
   "source": [
    "# new fap with errors\n",
    "\"\"\"\n",
    "n = 10000\n",
    "#peak_collections = []\n",
    "check = np.arange(500, n+1, 500)\n",
    "i = 0\n",
    "max_peak = []\n",
    "max_peak_e = [] \n",
    "arr = np.array(lc.flux)\n",
    "print(datetime.now().time())\n",
    "while i < n:\n",
    "    i+=1\n",
    "    \n",
    "    indices = np.random.choice(len(lc1.time), size=(len(lc1.time)))\n",
    "    fake_lc1 = lk.LightCurve(time=lc1.time, flux=lc1.flux[indices])\n",
    "    fake_pg1 = fake_lc1.to_periodogram(oversample_factor=10,minimum_period=4*u.minute, maximum_period=20*u.day)\n",
    "    max_peak.append(max(fake_pg1.power).value)\n",
    "    fake_lc2 = lk.LightCurve(time=lc1.time, flux=lc1.flux[indices], flux_err=lc1.flux_err[indices])\n",
    "    fake_pg2 = fake_lc2.to_periodogram(oversample_factor=10,minimum_period=4*u.minute, maximum_period=20*u.day)\n",
    "    max_peak_e.append(max(fake_pg2.power).value)\n",
    "    if i in check:\n",
    "        print(i)\n",
    "        print(datetime.now().time())\n",
    "#peak_collections.append(max_peak)\n",
    "np.save('fake_peaks3', np.array(max_peak))\n",
    "np.save('fake_peaks4', np.array(max_peak_e))\n",
    "print(datetime.now().time())\"\"\""
   ]
  },
  {
   "cell_type": "code",
   "execution_count": null,
   "metadata": {},
   "outputs": [],
   "source": [
    "fake_peaks = np.load('fake_peaks4.npy')\n",
    "fa99 = np.percentile(fake_peaks, 99.9)\n",
    "print(fa99)\n",
    "\n",
    "print(fake_peaks)\n"
   ]
  },
  {
   "cell_type": "code",
   "execution_count": null,
   "metadata": {},
   "outputs": [],
   "source": [
    "plt.plot(pg1.period, pg1.power)\n",
    "plt.xscale('log')\n",
    "plt.axhline(fa99)"
   ]
  },
  {
   "cell_type": "markdown",
   "metadata": {},
   "source": [
    "So no short period :( make fancy plot. Find ephemeris properly?"
   ]
  },
  {
   "cell_type": "code",
   "execution_count": null,
   "metadata": {},
   "outputs": [],
   "source": [
    "t0 = lc1.time[0] + (1/sin_fit.frequency)*(fold_fit.phase) #0.5 = inferior conjunction\n",
    "print(t0)\n",
    "tmid = np.mean(lc1.time)\n",
    "print(tmid)\n",
    "tmid2 = lc1.time[0] + (0.5 * (lc1.time[-1] - lc1.time[0]))\n",
    "print(tmid2)\n",
    "eph = t0 + np.mean(lc1.time)- lc1.time[0]\n",
    "print(eph)\n",
    "\n",
    "plt.plot(timefit, sin_fit(timefit), c='C1', lw=2)\n",
    "plt.xlim(2156, 2159)\n",
    "plt.axvline(eph)\n",
    "#plt.axvline(tmid)\n",
    "print(sin_fit.phase, sin_fit_e[2])\n",
    "plt.plot(lc1.time, lc1.flux)\n",
    "\n",
    "print(eph+2457000)"
   ]
  },
  {
   "cell_type": "code",
   "execution_count": null,
   "metadata": {},
   "outputs": [],
   "source": [
    "lcf = lc1.fold(1/sin_fit.frequency.value, t0=eph).bin(50)\n",
    "plt.errorbar(lcf.time, lcf.flux, yerr=lcf.flux_err, ls='none', marker='o')\n"
   ]
  },
  {
   "cell_type": "code",
   "execution_count": null,
   "metadata": {},
   "outputs": [],
   "source": [
    "#fits.getheader(lcpath, 1)"
   ]
  },
  {
   "cell_type": "markdown",
   "metadata": {},
   "source": [
    "Final results  \n",
    "Period = 6.88180 +/- 0.00045 h  \n",
    "Amplitude = 3.464 +/- 0.039 %  \n",
    "Ephemeris = 2459157.14821 0.00051   \n",
    "Nice plot:"
   ]
  },
  {
   "cell_type": "code",
   "execution_count": null,
   "metadata": {},
   "outputs": [],
   "source": [
    "#rule out short periods.\n",
    "\n",
    "pg1m = pg1.period.to(u.min)\n",
    "pg1h = pg1.period.to(u.h)\n",
    "mask = (pg1m > 10*u.min) & (pg1m < 120*u.min)\n",
    "plt.plot(pg1m[mask], pg1.power[mask])\n",
    "mean, std = np.mean(pg1.power[mask]).value, np.std(pg1.power[mask]).value\n",
    "print(np.mean(pg1.power[mask]))\n",
    "print(np.std(pg1.power[mask]))\n",
    "plt.axhline(mean+3*std)\n",
    "plt.show()\n",
    "plt.hist(pg1.power[mask].value, bins=25)"
   ]
  },
  {
   "cell_type": "code",
   "execution_count": null,
   "metadata": {},
   "outputs": [],
   "source": [
    "b = 5\n",
    "oc = lc1.bin(b).flux-sin_fit(lc1.bin(b).time)\n",
    "print(np.mean(oc))\n",
    "print(np.std(oc))"
   ]
  },
  {
   "cell_type": "code",
   "execution_count": null,
   "metadata": {},
   "outputs": [],
   "source": [
    "# fig,  (ax, ax1, ax2) = plt.subplots(1, 3, figsize=(10, 15))\n",
    "plt.figure(figsize=(8, 14))\n",
    "gs = GridSpec(3, 1)\n",
    "plt.subplot(gs[1, :])\n",
    "plt.plot(pg1h, pg1.power)\n",
    "plt.xscale('log')\n",
    "plt.axhline(fa99, c='C1', ls='--', lw=2)\n",
    "\n",
    "plt.xlim(pg1h.value[-1], pg1h[0].value)\n",
    "plt.ylim(0.0001)\n",
    "plt.ylabel('Amplitude (\\%)', size=20)\n",
    "plt.xlabel('Period (h)', size=20)\n",
    "#axins = inset_axes(ax, width='40%', height='30%', loc=2)\n",
    "#axins.plot(pg1m[mask], pg1.power[mask])\n",
    "plt.annotate('P\\,=\\,{0}\\,$\\pm$\\,{1}\\,h \\n A\\,=\\,{2}\\,$\\pm$\\,{3}\\,\\%'.format(6.88180,0.00045, 3.464,  0.039), (10, 3.), xycoords='data')\n",
    "plt.annotate('F.A.P. = 1\\%', (0.95, fa99+0.1), xycoords=('axes fraction', 'data'), ha='right', va='bottom')\n",
    "\n",
    "plt.subplot(gs[0, :])\n",
    "\n",
    "\n",
    "plt.scatter(lc1.time, lc1.flux, s=5, rasterized=True, alpha=0.5) \n",
    "plt.plot(timefit, sin_fit(timefit), c='C1', lw=2) \n",
    "\n",
    "\n",
    "\n",
    "\n",
    "plt.ylabel('Normalised Flux (\\%)', size=20)\n",
    "plt.xlabel('Time (BJD - 2457000)', size=20)\n",
    "\n",
    "gs1 = gs[2].subgridspec(3, 1, hspace=0)\n",
    "plt.subplot(gs1[:2, :])\n",
    "lcf = lc1.fold(1/sin_fit.frequency.value, t0=eph).bin(200)\n",
    "\n",
    "lcf_mod =  models.Sine1D(amplitude=fold_fit.amplitude, frequency= 1, phase=0, fixed={'amplitude': True, 'frequency':True})\n",
    "lcf_fit = fitter(lcf_mod, lcf.time, lcf.flux, weights = 1/lcf.flux_err, maxiter=100000)\n",
    "#two cycles\n",
    "plt.errorbar(lcf.time, lcf.flux, yerr=lcf.flux_err, ls='none', marker='o', c='C0')\n",
    "plt.plot(fold_time, lcf_fit(fold_time), c='C1', lw=2, zorder=10)\n",
    "plt.errorbar(lcf.time+1, lcf.flux, yerr=lcf.flux_err, ls='none', marker='o', c='C0')\n",
    "plt.plot(fold_time+1, lcf_fit(fold_time), c='C1', lw=2, zorder=10)\n",
    "\n",
    "plt.ylabel('Normalised Flux (\\%)', size=20)\n",
    "plt.xticks(visible=False)\n",
    "\n",
    "xlims = [-0.49, 1.49] #storing here to update both plots at once\n",
    "plt.xlim(xlims[0], xlims[1])\n",
    "\n",
    "plt.subplot(gs1[2:, :])\n",
    "mod = lcf_fit(lcf.time)\n",
    "plt.errorbar(lcf.time, lcf.flux-mod, yerr=lcf.flux_err, ls='none', marker='o', c='C0')\n",
    "plt.errorbar(lcf.time+1, lcf.flux-mod, yerr=lcf.flux_err, ls='none', marker='o', c='C0')\n",
    "plt.xlim(xlims[0], xlims[1])\n",
    "plt.ylabel('O-C (\\%)', size=20)\n",
    "\n",
    "plt.xlabel('Phase', size=20)\n",
    "plt.tight_layout()\n",
    "#plt.subplots_adjust(hspace=0.18)\n",
    "# ax.subplots_adjust(hspace=0.7)\n",
    "#ax1.set_top=0.99\n",
    "#ax.set_bottom=0.01\n",
    "#plt.savefig('plots/cc_cet_tess_30s.pdf', dpi=150)"
   ]
  },
  {
   "cell_type": "code",
   "execution_count": null,
   "metadata": {},
   "outputs": [],
   "source": [
    "plt.errorbar(lcf.time, lcf.flux, yerr=lcf.flux_err, ls='none', marker='o', c='C0')\n",
    "plt.plot(lcf.time, mod)"
   ]
  },
  {
   "cell_type": "code",
   "execution_count": null,
   "metadata": {},
   "outputs": [],
   "source": [
    "np.std(lcf.flux-mod)"
   ]
  },
  {
   "cell_type": "markdown",
   "metadata": {},
   "source": [
    "No flares? AD test to do a quick check?"
   ]
  },
  {
   "cell_type": "code",
   "execution_count": null,
   "metadata": {},
   "outputs": [],
   "source": [
    "from scipy.stats import anderson\n",
    "ad = anderson(lc1.flux-sin_fit(lc1.time))\n",
    "plt.plot(ad.significance_level, ad.critical_values)\n",
    "plt.axhline(ad.statistic)"
   ]
  },
  {
   "cell_type": "markdown",
   "metadata": {},
   "source": [
    "Ok AD test failed dramatically? Plot segments in big plot?"
   ]
  },
  {
   "cell_type": "code",
   "execution_count": null,
   "metadata": {},
   "outputs": [],
   "source": [
    "\"\"\"chunks = np.arange(0, 27)\n",
    "tstart = lc1.time[0]\n",
    "sig = 3\n",
    "for i in range(len(chunks)-1):\n",
    "    plt.figure(figsize=(25, 5))\n",
    "    mask = (lc1.time >= tstart+chunks[i]) & (lc1.time < tstart+chunks[i+1])\n",
    "    plt.errorbar(lc1.time[mask], lc1.flux[mask]-sin_fit(lc1.time[mask]), lc1.flux_err[mask], marker='o', c='C0', ls='none')\n",
    "   # mask = (lc1.remove_outliers(sigma=sig).time >= tstart+chunks[i]) & (lc1.remove_outliers(sigma=sig).time < tstart+chunks[i+1])\n",
    "   # plt.errorbar(lc1.remove_outliers(sigma=sig).time[mask], lc1.remove_outliers(sigma=sig).flux[mask], lc1.remove_outliers(sigma=sig).flux_err[mask], marker='o', c='C0')\n",
    "    plt.xlim(tstart+chunks[i],tstart+chunks[i+1])\n",
    "    plt.show()\n",
    "    if len(lc1.time[mask]) >0:\n",
    "        ad = anderson(lc1.flux[mask]-sin_fit(lc1.time[mask]))\n",
    "        if ad.statistic < max(ad.critical_values):\n",
    "            print('Pass')\n",
    "        else:\n",
    "            print('Fail')\n",
    "    \"\"\""
   ]
  },
  {
   "cell_type": "code",
   "execution_count": null,
   "metadata": {},
   "outputs": [],
   "source": [
    "\"\"\"flare_can = [2147.3, 2150.3, 2160.2, 2169.6]\n",
    "for can in flare_can:\n",
    "    plt.figure(figsize=(5, 5))\n",
    "    mask = (lc1.time >= can) & (lc1.time < can+0.1)\n",
    "    plt.errorbar(lc1.time[mask], lc1.flux[mask], lc1.flux_err[mask], marker='o')\n",
    "   # plt.xlim(tstart+chunks[i],tstart+chunks[i+1])\n",
    "    plt.show()\"\"\""
   ]
  },
  {
   "cell_type": "markdown",
   "metadata": {},
   "source": [
    "There's also 20s data available?"
   ]
  },
  {
   "cell_type": "code",
   "execution_count": null,
   "metadata": {},
   "outputs": [],
   "source": [
    "path20 = '/media/david/5tb_storage1/cc_cet/tess/MAST_2021-01-01T1635/TESS/tess2020294194027-s0031-0000000337219837-0198-a_fast/'\n",
    "lcpath20 = glob.glob('{}*lc.fits'.format(path20))[0]\n",
    "lcpath20"
   ]
  },
  {
   "cell_type": "code",
   "execution_count": null,
   "metadata": {},
   "outputs": [],
   "source": [
    "data20 = fits.getdata(lcpath20,1)\n",
    "t, f, e, q, bk = data20['TIME'], data20['PDCSAP_FLUX'], data20['PDCSAP_FLUX_ERR'], data20['QUALITY'], data20['SAP_BKG']#[np.isnan(data['SAP_BKG'])==False]\n",
    "t, f, e, bk = t[q==0], f[q==0], e[q==0], bk[q==0]\n",
    "#fit = np.polyval((np.polyfit(t,f,2)), t)\n",
    "#f = (f/fit)-1\n",
    "#e = (e/fit)\n",
    "#cut_mask = (bk < 1.1*np.median(bk))\n",
    "lc20 = lk.LightCurve(time=t, flux=f, flux_err=e ).remove_nans()#.remove_outliers(sigma=5)"
   ]
  },
  {
   "cell_type": "code",
   "execution_count": 7,
   "metadata": {},
   "outputs": [],
   "source": [
    "lc20 = search_result[0].download(download_dir='lightcurves/') "
   ]
  },
  {
   "cell_type": "code",
   "execution_count": 8,
   "metadata": {},
   "outputs": [
    {
     "data": {
      "text/plain": [
       "<AxesSubplot:xlabel='Time - 2457000 [BTJD days]', ylabel='Flux [$\\\\mathrm{e^{-}\\\\,s^{-1}}$]'>"
      ]
     },
     "execution_count": 8,
     "metadata": {},
     "output_type": "execute_result"
    },
    {
     "name": "stderr",
     "output_type": "stream",
     "text": [
      "findfont: Font family ['serif'] not found. Falling back to DejaVu Sans.\n"
     ]
    },
    {
     "data": {
      "image/png": "[encoded data removed]",
      "text/plain": [
       "<Figure size 848.5x400 with 1 Axes>"
      ]
     },
     "metadata": {},
     "output_type": "display_data"
    }
   ],
   "source": [
    "lc20.scatter()"
   ]
  },
  {
   "cell_type": "code",
   "execution_count": 9,
   "metadata": {},
   "outputs": [
    {
     "data": {
      "image/png": "[encoded data removed]",
      "text/plain": [
       "<Figure size 1008x360 with 1 Axes>"
      ]
     },
     "metadata": {
      "needs_background": "light"
     },
     "output_type": "display_data"
    }
   ],
   "source": [
    "pg20 = lc20.to_periodogram(oversample_factor=10,minimum_period=40*u.second, maximum_period=15*u.day)\n",
    "plt.plot(pg20.period, pg20.power)\n",
    "plt.xscale('log')"
   ]
  },
  {
   "cell_type": "code",
   "execution_count": null,
   "metadata": {},
   "outputs": [],
   "source": [
    "plt.errorbar(lc20.time, lc20.flux, yerr=lc20.flux_err, marker='o')\n",
    "plt.xlim(2145, 2146)"
   ]
  },
  {
   "cell_type": "code",
   "execution_count": null,
   "metadata": {},
   "outputs": [],
   "source": [
    "#lk.search_lightcurvefile('CC Cet')"
   ]
  },
  {
   "cell_type": "code",
   "execution_count": null,
   "metadata": {},
   "outputs": [],
   "source": [
    "lc20n = lc20.normalize(unit='percent')\n",
    "lc20n.flux -=100\n",
    "lc20n.plot()"
   ]
  },
  {
   "cell_type": "code",
   "execution_count": null,
   "metadata": {},
   "outputs": [],
   "source": [
    "pg20n = lc20n.to_periodogram(oversample_factor=10,minimum_period=40*u.second, maximum_period=27*u.day)\n",
    "plt.plot(pg20n.period, pg20n.power)\n",
    "plt.xscale('log')"
   ]
  },
  {
   "cell_type": "code",
   "execution_count": null,
   "metadata": {},
   "outputs": [],
   "source": [
    "\n",
    "\n",
    "sin_mod =  models.Sine1D(amplitude=pg20n.max_power.value, frequency= pg20n.frequency_at_max_power.value, phase=0)#, bounds = dict(amplitude=(0, 1000)))#, bounds={'phase':[0, 1]})\n",
    "sin_fit = fitter(sin_mod, lc20n.time, lc20n.flux, weights = 1/lc20n.flux_err, maxiter=100000)\n",
    "sin_fit_e = np.sqrt(np.diag(fitter.fit_info['param_cov']))\n",
    "plt.plot(lc20n.time, lc20n.flux) \n",
    "timefit = np.linspace(lc20n.time[0], lc20n.time[-1], 2000)\n",
    "plt.plot(timefit, sin_fit(timefit), c='C1', lw=2) \n",
    "print(sin_fit)\n",
    "print(sin_fit_e)\n",
    "print('Period =', (1/sin_fit.frequency.value)*24, (sin_fit_e[1]/(sin_fit.frequency.value**2))*24, 'h')\n",
    "print('Amplitude =', sin_fit.amplitude.value, sin_fit_e[0])\n",
    "print('Phase =', sin_fit.phase.value, sin_fit_e[2])\n",
    "plt.show()\n",
    "\n",
    "t0 = t[0] + (1/sin_fit.frequency.value)*(sin_fit.phase-0.25)\n",
    "print(t0)\n",
    "lcf = lc20n.fold(1/sin_fit.frequency.value)\n",
    "plt.errorbar(lcf.time, lcf.flux, yerr=lcf.flux_err, ls='none', marker='o')\n",
    "fold_mod =  models.Sine1D(amplitude=pg1.max_power.value, frequency= 1, phase=0, fixed={'frequency':True})#, bounds = dict(amplitude=(0, 1000)))#, bounds={'phase':[0, 1]})\n",
    "fold_fit = fitter(fold_mod, lcf.time, lcf.flux, weights = 1/lcf.flux_err, maxiter=100000)\n",
    "fold_fit_e = np.sqrt(np.diag(fitter.fit_info['param_cov']))\n",
    "fold_time = np.linspace(-0.5, 0.5, 100)\n",
    "plt.plot(fold_time, fold_fit(fold_time), c='C1', lw=2, zorder=10)\n",
    "\n",
    "print('Amplitude =', fold_fit.amplitude.value, fold_fit_e[0])\n",
    "print('Phase =', fold_fit.phase.value, fold_fit_e[1])\n",
    "print(fold_fit)\n",
    "print(fold_fit_e)"
   ]
  },
  {
   "cell_type": "markdown",
   "metadata": {},
   "source": [
    "20s data shows nothing new."
   ]
  },
  {
   "cell_type": "code",
   "execution_count": null,
   "metadata": {},
   "outputs": [],
   "source": [
    "# fits.getheader(lcpath, 0)"
   ]
  },
  {
   "cell_type": "code",
   "execution_count": null,
   "metadata": {},
   "outputs": [],
   "source": [
    "# fits.getheader(lcpath20, 0)"
   ]
  },
  {
   "cell_type": "markdown",
   "metadata": {},
   "source": [
    "Checked if SAP light curve changed the periodogram - No."
   ]
  },
  {
   "cell_type": "code",
   "execution_count": null,
   "metadata": {},
   "outputs": [],
   "source": [
    "# new fap for 20s with errors\n",
    "\"\"\"\n",
    "n = 10000\n",
    "#peak_collections = []\n",
    "check = np.arange(500, n+1, 500)\n",
    "i = 0\n",
    "max_peak = []\n",
    "# max_peak_e = [] \n",
    "print(datetime.now().time())\n",
    "while i < n:\n",
    "    i+=1\n",
    "    \n",
    "    indices = np.random.choice(len(lc20n.time), size=(len(lc20n.time)))\n",
    "    fake_lc1 = lk.LightCurve(time=lc20n.time, flux=lc20n.flux[indices])\n",
    "    fake_pg1 = fake_lc1.to_periodogram(oversample_factor=10,minimum_period=4*u.minute, maximum_period=20*u.day)\n",
    "    max_peak.append(max(fake_pg1.power).value)\n",
    "   # fake_lc2 = lk.LightCurve(time=lc20n.time, flux=lc20n.flux[indices], flux_err=lc20n.flux_err[indices])\n",
    "   # fake_pg2 = fake_lc2.to_periodogram(oversample_factor=10,minimum_period=4*u.minute, maximum_period=20*u.day)\n",
    "   # max_peak_e.append(max(fake_pg2.power).value)\n",
    "    if i in check:\n",
    "        print(i)\n",
    "        print(datetime.now().time())\n",
    "#peak_collections.append(max_peak)\n",
    "np.save('fake_peaks5', np.array(max_peak))\n",
    "#np.save('fake_peaks6', np.array(max_peak_e))\n",
    "print(datetime.now().time())\"\"\""
   ]
  },
  {
   "cell_type": "code",
   "execution_count": null,
   "metadata": {},
   "outputs": [],
   "source": [
    "fake_peaks = np.load('fake_peaks5.npy')\n",
    "fa99 = np.percentile(fake_peaks, 99.9)\n",
    "print(fa99)\n",
    "\n",
    "# print(fake_peaks)"
   ]
  },
  {
   "cell_type": "markdown",
   "metadata": {},
   "source": [
    "Oops need to redo down to 30s. Can still redo plot though."
   ]
  },
  {
   "cell_type": "code",
   "execution_count": null,
   "metadata": {},
   "outputs": [],
   "source": [
    "t0 = lc20n.time[0] + (1/sin_fit.frequency)*(fold_fit.phase) #0.5 = inferior conjunction\n",
    "print(t0)\n",
    "tmid = np.mean(lc20n.time)\n",
    "print(tmid)\n",
    "tmid2 = lc20n.time[0] + (0.5 * (lc20n.time[-1] - lc20n.time[0]))\n",
    "print(tmid2)\n",
    "eph = t0 + np.mean(lc20n.time)- lc20n.time[0]\n",
    "print(eph)\n",
    "\n",
    "plt.plot(timefit, sin_fit(timefit), c='C1', lw=2)\n",
    "plt.xlim(2156, 2159)\n",
    "plt.axvline(eph)\n",
    "#plt.axvline(tmid)\n",
    "print(sin_fit.phase, sin_fit_e[2])\n",
    "plt.plot(lc20n.time, lc20n.flux)\n",
    "\n",
    "print(eph+2457000)\n",
    "print(1/sin_fit.frequency.value*fold_fit_e[1])"
   ]
  },
  {
   "cell_type": "code",
   "execution_count": null,
   "metadata": {},
   "outputs": [],
   "source": [
    "# fig,  (ax, ax1, ax2) = plt.subplots(1, 3, figsize=(10, 15))\n",
    "plt.figure(figsize=(8, 14))\n",
    "gs = GridSpec(3, 1)\n",
    "plt.subplot(gs[1, :])\n",
    "pg20h = pg20n.period.to(u.hour)\n",
    "plt.plot(pg20h, pg20n.power)\n",
    "plt.xscale('log')\n",
    "plt.axhline(fa99, c='C1', ls='--', lw=2)\n",
    "\n",
    "plt.xlim(0.05, 14*24)#pg20h[0].value)\n",
    "plt.ylim(0.0001)\n",
    "plt.ylabel('Amplitude (\\%)', size=20)\n",
    "plt.xlabel('Period (h)', size=20)\n",
    "#axins = inset_axes(ax, width='40%', height='30%', loc=2)\n",
    "#axins.plot(pg1m[mask], pg1.power[mask])\n",
    "plt.annotate('P\\,=\\,{0}\\,$\\pm$\\,{1}\\,h \\n A\\,=\\,{2}\\,$\\pm$\\,{3}\\,\\%'.format(6.88233,0.00045, 3.461,  0.039), (0.1, 3.), xycoords='data')\n",
    "#6.882326693607637 0.0004561525821496103\n",
    "#-3.4613593519684556 0.039138214912684814\n",
    "\n",
    "# plt.annotate('0.1\\% False Alarm Probability = 0.243\\%', (0.95, fa99+0.1), xycoords=('axes fraction', 'data'), ha='right', va='bottom')\n",
    "\n",
    "plt.subplot(gs[0, :])\n",
    "\n",
    "\n",
    "plt.scatter(lc20n.time, lc20n.flux, s=5, rasterized=True, alpha=0.1) \n",
    "plt.plot(timefit, sin_fit(timefit), c='C1', lw=2) \n",
    "\n",
    "\n",
    "\n",
    "\n",
    "plt.ylabel('Normalised Flux (\\%)', size=20)\n",
    "plt.xlabel('Time (BJD - 2457000)', size=20)\n",
    "plt.ylim(-39.9, 39.9)\n",
    "\n",
    "gs1 = gs[2].subgridspec(3, 1, hspace=0)\n",
    "plt.subplot(gs1[:2, :])\n",
    "lcf = lc20n.fold(1/sin_fit.frequency.value, t0=eph).bin(1000)\n",
    "\n",
    "lcf_mod =  models.Sine1D(amplitude=fold_fit.amplitude, frequency= 1, phase=0, fixed={'amplitude': True, 'frequency':True})\n",
    "lcf_fit = fitter(lcf_mod, lcf.time, lcf.flux, weights = 1/lcf.flux_err, maxiter=100000)\n",
    "#two cycles\n",
    "plt.errorbar(lcf.time, lcf.flux, yerr=lcf.flux_err, ls='none', marker='o', c='C0')\n",
    "plt.plot(fold_time, lcf_fit(fold_time), c='C1', lw=2, zorder=10)\n",
    "plt.errorbar(lcf.time+1, lcf.flux, yerr=lcf.flux_err, ls='none', marker='o', c='C0')\n",
    "plt.plot(fold_time+1, lcf_fit(fold_time), c='C1', lw=2, zorder=10)\n",
    "\n",
    "plt.ylabel('Normalised Flux (\\%)', size=20)\n",
    "plt.xticks(visible=False)\n",
    "\n",
    "xlims = [-0.49, 1.49] #storing here to update both plots at once\n",
    "plt.xlim(xlims[0], xlims[1])\n",
    "\n",
    "plt.subplot(gs1[2:, :])\n",
    "mod = lcf_fit(lcf.time)\n",
    "plt.errorbar(lcf.time, lcf.flux-mod, yerr=lcf.flux_err, ls='none', marker='o', c='C0')\n",
    "plt.errorbar(lcf.time+1, lcf.flux-mod, yerr=lcf.flux_err, ls='none', marker='o', c='C0')\n",
    "plt.xlim(xlims[0], xlims[1])\n",
    "plt.ylabel('O-C (\\%)', size=20)\n",
    "\n",
    "plt.xlabel('Phase', size=20)\n",
    "plt.tight_layout()\n",
    "#plt.subplots_adjust(hspace=0.18)\n",
    "# ax.subplots_adjust(hspace=0.7)\n",
    "#ax1.set_top=0.99\n",
    "#ax.set_bottom=0.01\n",
    "plt.savefig('plots/cc_cet_tess_20s.pdf', dpi=150)"
   ]
  },
  {
   "cell_type": "markdown",
   "metadata": {},
   "source": [
    "Check 20s data for flares"
   ]
  },
  {
   "cell_type": "code",
   "execution_count": null,
   "metadata": {},
   "outputs": [],
   "source": [
    "chunks = np.arange(0, 27)\n",
    "tstart = lc20n.time[0]\n",
    "sig = 3\n",
    "for i in range(len(chunks)-1):\n",
    "    plt.figure(figsize=(25, 5))\n",
    "    mask = (lc20n.time >= tstart+chunks[i]) & (lc20n.time < tstart+chunks[i+1])\n",
    "    plt.errorbar(lc20n.time[mask], lc20.flux[mask]-sin_fit(lc20n.time[mask]), lc20n.flux_err[mask], marker='o', c='C0', ls='none')\n",
    "   # mask = (lc1.remove_outliers(sigma=sig).time >= tstart+chunks[i]) & (lc1.remove_outliers(sigma=sig).time < tstart+chunks[i+1])\n",
    "   # plt.errorbar(lc1.remove_outliers(sigma=sig).time[mask], lc1.remove_outliers(sigma=sig).flux[mask], lc1.remove_outliers(sigma=sig).flux_err[mask], marker='o', c='C0')\n",
    "    plt.xlim(tstart+chunks[i],tstart+chunks[i+1])\n",
    "    plt.show()\n",
    "    if len(lc20n.time[mask]) >0:\n",
    "        ad = anderson(lc20n.flux[mask]-sin_fit(lc20n.time[mask]))\n",
    "        if ad.statistic < max(ad.critical_values):\n",
    "            print('Pass')\n",
    "        else:\n",
    "            print('Fail')\n",
    "    "
   ]
  },
  {
   "cell_type": "code",
   "execution_count": null,
   "metadata": {},
   "outputs": [],
   "source": [
    "flare_can = [2147.3, 2150.3, 2160.2, 2169.6]\n",
    "for can in flare_can:\n",
    "    plt.figure(figsize=(15, 5))\n",
    "    mask = (lc20n.time >= can) & (lc20n.time < can+0.1)\n",
    "    plt.errorbar(lc20n.time[mask], lc20n.flux[mask], lc20n.flux_err[mask], marker='o')\n",
    "   # plt.xlim(tstart+chunks[i],tstart+chunks[i+1])\n",
    "    plt.show()"
   ]
  },
  {
   "cell_type": "code",
   "execution_count": null,
   "metadata": {},
   "outputs": [],
   "source": []
  }
 ],
 "metadata": {
  "kernelspec": {
   "display_name": "Python 3",
   "language": "python",
   "name": "python3"
  },
  "language_info": {
   "codemirror_mode": {
    "name": "ipython",
    "version": 3
   },
   "file_extension": ".py",
   "mimetype": "text/x-python",
   "name": "python",
   "nbconvert_exporter": "python",
   "pygments_lexer": "ipython3",
   "version": "3.6.13"
  }
 },
 "nbformat": 4,
 "nbformat_minor": 4
}
