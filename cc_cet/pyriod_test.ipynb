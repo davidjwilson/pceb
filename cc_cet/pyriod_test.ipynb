{
 "cells": [
  {
   "cell_type": "code",
   "execution_count": 1,
   "id": "formed-alabama",
   "metadata": {},
   "outputs": [],
   "source": [
    "%matplotlib widget\n",
    "from Pyriod import Pyriod\n",
    "import glob\n",
    "import astropy.io.fits as fits"
   ]
  },
  {
   "cell_type": "markdown",
   "id": "every-canal",
   "metadata": {},
   "source": [
    "Checking Keaton Bell's Pyriod package https://github.com/keatonb/Pyriod. Do the tutorial first - doesn't work in lab!"
   ]
  },
  {
   "cell_type": "code",
   "execution_count": 2,
   "id": "alive-irrigation",
   "metadata": {},
   "outputs": [],
   "source": [
    "\n",
    "\n",
    "import lightkurve as lk\n"
   ]
  },
  {
   "cell_type": "code",
   "execution_count": 3,
   "id": "protective-praise",
   "metadata": {},
   "outputs": [
    {
     "data": {
      "text/plain": [
       "'/media/david/5tb_storage1/cc_cet/tess/MAST_2021-01-01T1635/TESS/tess2020294194027-s0031-0000000337219837-0198-a_fast/tess2020294194027-s0031-0000000337219837-0198-a_fast-lc.fits'"
      ]
     },
     "execution_count": 3,
     "metadata": {},
     "output_type": "execute_result"
    }
   ],
   "source": [
    "path20 = '/media/david/5tb_storage1/cc_cet/tess/MAST_2021-01-01T1635/TESS/tess2020294194027-s0031-0000000337219837-0198-a_fast/'\n",
    "lcpath20 = glob.glob('{}*lc.fits'.format(path20))[0]\n",
    "lcpath20"
   ]
  },
  {
   "cell_type": "code",
   "execution_count": 4,
   "id": "crucial-segment",
   "metadata": {},
   "outputs": [],
   "source": [
    "\n",
    "#lc = lk.search_lightcurvefile('TIC 257459955',mission='TESS',sector=3).download().get_lightcurve(\"PDCSAP_FLUX\").flatten(2161).remove_outliers(5)\n",
    "\n"
   ]
  },
  {
   "cell_type": "code",
   "execution_count": 5,
   "id": "uniform-karma",
   "metadata": {},
   "outputs": [],
   "source": [
    "data20 = fits.getdata(lcpath20,1)\n",
    "t, f, e, q, bk = data20['TIME'], data20['PDCSAP_FLUX'], data20['PDCSAP_FLUX_ERR'], data20['QUALITY'], data20['SAP_BKG']#[np.isnan(data['SAP_BKG'])==False]\n",
    "t, f, e, bk = t[q==0], f[q==0], e[q==0], bk[q==0]\n",
    "#fit = np.polyval((np.polyfit(t,f,2)), t)\n",
    "#f = (f/fit)-1\n",
    "#e = (e/fit)\n",
    "#cut_mask = (bk < 1.1*np.median(bk))\n",
    "lc = lk.LightCurve(time=t, flux=f, flux_err=e ).remove_nans()#.remove_outliers(sigma=5)"
   ]
  },
  {
   "cell_type": "code",
   "execution_count": 9,
   "id": "gothic-blade",
   "metadata": {},
   "outputs": [
    {
     "data": {
      "text/plain": [
       "<bound method LightCurve.plot of <lightkurve.lightcurve.LightCurve object at 0x7f11e35d95c0>>"
      ]
     },
     "execution_count": 9,
     "metadata": {},
     "output_type": "execute_result"
    }
   ],
   "source": [
    "# lc.plot"
   ]
  },
  {
   "cell_type": "code",
   "execution_count": 10,
   "id": "unexpected-struggle",
   "metadata": {},
   "outputs": [],
   "source": [
    "pyriod = Pyriod(lc)"
   ]
  },
  {
   "cell_type": "code",
   "execution_count": 11,
   "id": "clinical-estimate",
   "metadata": {},
   "outputs": [
    {
     "data": {
      "application/vnd.jupyter.widget-view+json": {
       "model_id": "c17fd1bf624c469fbefa48ee8ab89255",
       "version_major": 2,
       "version_minor": 0
      },
      "text/plain": [
       "VBox(children=(HTML(value=''), Canvas(toolbar=Toolbar(toolitems=[('Home', 'Reset original view', 'home', 'home…"
      ]
     },
     "metadata": {},
     "output_type": "display_data"
    }
   ],
   "source": [
    "pyriod.TimeSeries()"
   ]
  },
  {
   "cell_type": "code",
   "execution_count": 12,
   "id": "clean-sellers",
   "metadata": {},
   "outputs": [
    {
     "data": {
      "application/vnd.jupyter.widget-view+json": {
       "model_id": "e85b4ac2480a4d289e6cb82d4a6d012a",
       "version_major": 2,
       "version_minor": 0
      },
      "text/plain": [
       "VBox(children=(HTML(value=''), HBox(children=(Text(value='40.35978994939048', description='Frequency:', placeh…"
      ]
     },
     "metadata": {},
     "output_type": "display_data"
    }
   ],
   "source": [
    "pyriod.Periodogram()"
   ]
  },
  {
   "cell_type": "code",
   "execution_count": 13,
   "id": "experimental-foster",
   "metadata": {},
   "outputs": [
    {
     "data": {
      "application/vnd.jupyter.widget-view+json": {
       "model_id": "79f569083bba43e38cebad486f119e39",
       "version_major": 2,
       "version_minor": 0
      },
      "text/plain": [
       "VBox(children=(HTML(value=''), HBox(children=(Button(description='Refine fit', icon='refresh', style=ButtonSty…"
      ]
     },
     "metadata": {},
     "output_type": "display_data"
    }
   ],
   "source": [
    "pyriod.Signals()"
   ]
  },
  {
   "cell_type": "code",
   "execution_count": null,
   "id": "comparable-circumstances",
   "metadata": {},
   "outputs": [],
   "source": []
  }
 ],
 "metadata": {
  "kernelspec": {
   "display_name": "Python 3",
   "language": "python",
   "name": "python3"
  },
  "language_info": {
   "codemirror_mode": {
    "name": "ipython",
    "version": 3
   },
   "file_extension": ".py",
   "mimetype": "text/x-python",
   "name": "python",
   "nbconvert_exporter": "python",
   "pygments_lexer": "ipython3",
   "version": "3.6.12"
  }
 },
 "nbformat": 4,
 "nbformat_minor": 5
}
