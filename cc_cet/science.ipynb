{
 "cells": [
  {
   "cell_type": "markdown",
   "metadata": {},
   "source": [
    "CC Cet science that doesn't fit into another notebook."
   ]
  },
  {
   "cell_type": "code",
   "execution_count": 1,
   "metadata": {},
   "outputs": [],
   "source": [
    "import numpy as np\n",
    "import matplotlib.pyplot as plt\n",
    "import astropy.io.fits as fits\n",
    "import os\n",
    "import glob\n",
    "from astropy.table import Table\n",
    "from astropy.io import ascii\n",
    "import astropy.units as u\n",
    "import astropy.constants as const\n",
    "from astropy.convolution import convolve, Box1DKernel\n",
    "\n",
    "\n",
    "#matplotlib set up\n",
    "%matplotlib inline\n",
    "from matplotlib import rcParams\n",
    "rcParams[\"figure.figsize\"] = (14, 5)\n",
    "rcParams[\"font.size\"] = 20"
   ]
  },
  {
   "cell_type": "markdown",
   "metadata": {},
   "source": [
    "Table of pceb parameters"
   ]
  },
  {
   "cell_type": "code",
   "execution_count": 2,
   "metadata": {},
   "outputs": [],
   "source": [
    "wdtab = Table.read('../tables/pceb_fit_results.csv')"
   ]
  },
  {
   "cell_type": "code",
   "execution_count": 3,
   "metadata": {},
   "outputs": [
    {
     "data": {
      "text/html": [
       "<i>Table length=10</i>\n",
       "<table id=\"table140715220290000\" class=\"table-striped table-bordered table-condensed\">\n",
       "<thead><tr><th>Target</th><th>Teff</th><th>e_Teff</th><th>logg</th><th>e_logg</th><th>si</th><th>si_e</th><th>c</th><th>c_e</th><th>o</th><th>o_e</th><th>s</th><th>s_e</th></tr></thead>\n",
       "<thead><tr><th>str11</th><th>int64</th><th>int64</th><th>float64</th><th>float64</th><th>float64</th><th>float64</th><th>float64</th><th>float64</th><th>float64</th><th>float64</th><th>float64</th><th>float64</th></tr></thead>\n",
       "<tr><td>V-UZ-SEX</td><td>17146</td><td>15</td><td>7.801</td><td>0.007</td><td>-7.08</td><td>0.03</td><td>-6.21</td><td>0.05</td><td>-6.44</td><td>0.07</td><td>-7.36</td><td>0.3</td></tr>\n",
       "<tr><td>V-LM-COM</td><td>28878</td><td>1122</td><td>7.358</td><td>0.1</td><td>-6.96</td><td>0.04</td><td>-5.9</td><td>0.04</td><td>-5.63</td><td>0.0</td><td>-6.96</td><td>0.0</td></tr>\n",
       "<tr><td>WD-1339+606</td><td>37074</td><td>76</td><td>7.449</td><td>0.005</td><td>-7.88</td><td>0.4</td><td>-8.32</td><td>0.1</td><td>-8.05</td><td>0.4</td><td>-7.34</td><td>0.8</td></tr>\n",
       "<tr><td>WD-1504+546</td><td>21730</td><td>53</td><td>7.67</td><td>0.01</td><td>-7.13</td><td>0.2</td><td>-8.25</td><td>0.09</td><td>-8.15</td><td>0.3</td><td>-7.43</td><td>0.6</td></tr>\n",
       "<tr><td>WD-2317+268</td><td>28403</td><td>19</td><td>7.585</td><td>0.005</td><td>-6.78</td><td>0.03</td><td>-5.82</td><td>0.03</td><td>-4.66</td><td>0.1</td><td>-6.65</td><td>0.2</td></tr>\n",
       "<tr><td>WD-1436-216</td><td>22814</td><td>38</td><td>7.658</td><td>0.01</td><td>-7.19</td><td>0.05</td><td>-6.27</td><td>0.1</td><td>-5.92</td><td>0.4</td><td>-8.18</td><td>0.1</td></tr>\n",
       "<tr><td>WD-1458+171</td><td>21406</td><td>4</td><td>7.445</td><td>0.0003</td><td>-6.19</td><td>0.3</td><td>-5.09</td><td>0.04</td><td>-5.96</td><td>0.0</td><td>-6.51</td><td>0.0</td></tr>\n",
       "<tr><td>WD2257+162</td><td>22886</td><td>33</td><td>7.24</td><td>0.008</td><td>-7.38</td><td>0.05</td><td>-6.27</td><td>0.05</td><td>-8.03</td><td>0.5</td><td>-7.34</td><td>0.1</td></tr>\n",
       "<tr><td>WD2256+249</td><td>21488</td><td>17</td><td>7.73</td><td>0.006</td><td>-6.88</td><td>0.02</td><td>-5.76</td><td>0.02</td><td>-5.72</td><td>0.05</td><td>-7.39</td><td>0.2</td></tr>\n",
       "<tr><td>WD0710+741</td><td>18732</td><td>30</td><td>7.35</td><td>0.01</td><td>-6.96</td><td>0.04</td><td>-5.73</td><td>0.05</td><td>-5.84</td><td>1.0</td><td>-6.92</td><td>0.3</td></tr>\n",
       "</table>"
      ],
      "text/plain": [
       "<Table length=10>\n",
       "   Target    Teff e_Teff   logg   e_logg ...    o      o_e      s      s_e  \n",
       "   str11    int64 int64  float64 float64 ... float64 float64 float64 float64\n",
       "----------- ----- ------ ------- ------- ... ------- ------- ------- -------\n",
       "   V-UZ-SEX 17146     15   7.801   0.007 ...   -6.44    0.07   -7.36     0.3\n",
       "   V-LM-COM 28878   1122   7.358     0.1 ...   -5.63     0.0   -6.96     0.0\n",
       "WD-1339+606 37074     76   7.449   0.005 ...   -8.05     0.4   -7.34     0.8\n",
       "WD-1504+546 21730     53    7.67    0.01 ...   -8.15     0.3   -7.43     0.6\n",
       "WD-2317+268 28403     19   7.585   0.005 ...   -4.66     0.1   -6.65     0.2\n",
       "WD-1436-216 22814     38   7.658    0.01 ...   -5.92     0.4   -8.18     0.1\n",
       "WD-1458+171 21406      4   7.445  0.0003 ...   -5.96     0.0   -6.51     0.0\n",
       " WD2257+162 22886     33    7.24   0.008 ...   -8.03     0.5   -7.34     0.1\n",
       " WD2256+249 21488     17    7.73   0.006 ...   -5.72    0.05   -7.39     0.2\n",
       " WD0710+741 18732     30    7.35    0.01 ...   -5.84     1.0   -6.92     0.3"
      ]
     },
     "execution_count": 3,
     "metadata": {},
     "output_type": "execute_result"
    }
   ],
   "source": [
    "wdtab"
   ]
  },
  {
   "cell_type": "markdown",
   "metadata": {},
   "source": [
    "Not sure why I filtered so many targets out? Do for now."
   ]
  },
  {
   "cell_type": "code",
   "execution_count": 4,
   "metadata": {},
   "outputs": [
    {
     "name": "stdout",
     "output_type": "stream",
     "text": [
      "83\n",
      "0.04190000000000005\n"
     ]
    }
   ],
   "source": [
    "cc_cet1 = dict(Teff=25245, e_Teff=19, logg=7.6059, e_logg=0.005)\n",
    "cc_cet2 = dict(Teff=25162, e_Teff=20, logg=7.564, e_logg=0.005)\n",
    "print(25245-25162)\n",
    "print(7.6059-7.564)\n",
    "cc_cet = dict(Teff=(25245+25162)/2, e_Teff=(25245-25162), logg=np.log10(((10**7.6059)+(10**7.564))/2), e_logg=7.6059-7.564)\n",
    "\n",
    "eggr38 = dict(Teff=16970, e_Teff=16, logg=7.9244, e_logg=0.008)\n",
    "\n",
    "\n"
   ]
  },
  {
   "cell_type": "code",
   "execution_count": 5,
   "metadata": {},
   "outputs": [
    {
     "data": {
      "image/png": "[encoded data removed]",
      "text/plain": [
       "<Figure size 396x396 with 1 Axes>"
      ]
     },
     "metadata": {
      "needs_background": "light"
     },
     "output_type": "display_data"
    }
   ],
   "source": [
    "plt.figure(figsize=(5.5,5.5))\n",
    "plt.errorbar(wdtab['Teff'], wdtab['logg'], xerr = wdtab['e_Teff'], yerr= wdtab['e_logg'], ls='none', marker='o', c='C0')\n",
    "plt.errorbar(eggr38['Teff'], eggr38['logg'], xerr = eggr38['e_Teff'], yerr= eggr38['e_logg'], ls='none', marker='o', c='C0')\n",
    "\n",
    "plt.errorbar(cc_cet['Teff'], cc_cet['logg'], xerr = cc_cet['e_Teff'], yerr= cc_cet['e_logg'], ls='none', marker='o', c='C1')\n",
    "\n",
    "plt.xlabel('$T_{\\mathrm{eff}}$ (K)')\n",
    "plt.ylabel('$\\log g$')\n",
    "plt.tight_layout()\n",
    "plt.savefig('plots/teffvlogg.pdf')"
   ]
  },
  {
   "cell_type": "code",
   "execution_count": 6,
   "metadata": {},
   "outputs": [
    {
     "name": "stdout",
     "output_type": "stream",
     "text": [
      "7.6923076923076925 14.485439144214036\n",
      "17.342770283108493 15.971763645138862\n",
      "0.008522380892296472\n"
     ]
    }
   ],
   "source": [
    "z = 1.96\n",
    "n = 13\n",
    "x = 1\n",
    "\n",
    "pd = (x/n)\n",
    "c = z*((pd*(1-pd))/n)**0.5\n",
    "print(pd*100, c*100)\n",
    "\n",
    "q = 1+((z**2)/n)\n",
    "p2 = (pd+(z**2/(2*n)))/q\n",
    "c = (z/q) * (((pd*(1-pd))/n) + (z**2/(4*n**2)))**0.5\n",
    "print(p2*100, c*100)\n",
    "\n",
    "ph = np.arcsin(pd**0.5)\n",
    "iu = (np.sin(ph - (z/(2*n**0.5))))**2\n",
    "print(iu*100)"
   ]
  },
  {
   "cell_type": "code",
   "execution_count": 7,
   "metadata": {},
   "outputs": [],
   "source": [
    "import astropy.stats"
   ]
  },
  {
   "cell_type": "code",
   "execution_count": 8,
   "metadata": {},
   "outputs": [
    {
     "name": "stdout",
     "output_type": "stream",
     "text": [
      "(array([6.]), array([6.]), array([0.07692308]), array([[0.02577488],\n",
      "       [0.14018613]]))\n",
      "[7.69230769]\n",
      "[[ 2.57748811]\n",
      " [14.01861336]]\n"
     ]
    }
   ],
   "source": [
    "bs = astropy.stats.binned_binom_proportion([np.arange(13)], [False, False,False,False,False,False,False,False,False, False, False, False, True], \n",
    "                                      bins=1, interval='flat')#, confidence_level=0.68)\n",
    "print(bs)\n",
    "print(bs[2]*100)\n",
    "print(bs[3]*100)"
   ]
  },
  {
   "cell_type": "code",
   "execution_count": 9,
   "metadata": {},
   "outputs": [
    {
     "data": {
      "text/plain": [
       "(array([6.]),\n",
       " array([6.]),\n",
       " array([0.07692308]),\n",
       " array([[0.02577488],\n",
       "        [0.14018613]]))"
      ]
     },
     "execution_count": 9,
     "metadata": {},
     "output_type": "execute_result"
    }
   ],
   "source": [
    "bs"
   ]
  },
  {
   "cell_type": "markdown",
   "metadata": {},
   "source": [
    "Magnetic moment and spin"
   ]
  },
  {
   "cell_type": "code",
   "execution_count": 10,
   "metadata": {},
   "outputs": [
    {
     "name": "stdout",
     "output_type": "stream",
     "text": [
      "1.3518333084616032e+33 cm3 G\n"
     ]
    }
   ],
   "source": [
    "B = 700*1e3*u.G\n",
    "R = 0.0179*u.Rsun\n",
    "mu = B*((R.to(u.cm))**3)\n",
    "print(mu)\n",
    "#(B*R).to(u.G/u.cm**3)\n",
    "mdot = (10**(-10.5))*(u.Msun/ u.yr)\n"
   ]
  },
  {
   "cell_type": "code",
   "execution_count": 11,
   "metadata": {},
   "outputs": [
    {
     "name": "stdout",
     "output_type": "stream",
     "text": [
      "1.2934490679831134\n"
     ]
    }
   ],
   "source": [
    "qb = (0.5-(0.227*np.log10(0.5)))**(3/2)\n",
    "q =0.17\n",
    "qr = (0.5-(0.227*np.log10(q)))**(3/2)\n",
    "print(qr/qb)"
   ]
  },
  {
   "cell_type": "code",
   "execution_count": 12,
   "metadata": {},
   "outputs": [
    {
     "name": "stdout",
     "output_type": "stream",
     "text": [
      "0.18140589569160998\n",
      "0.001089276046318624\n",
      "1.2750829424328338\n",
      "0.025501658848656676\n",
      "here\n",
      "68.39999999999999 min\n",
      "0.029071891087468608 h\n",
      "1.7443134652481165 min\n",
      "0.01047396429824901 min\n",
      "74.4 min\n",
      "0.03162205697233428 h\n",
      "1.8973234183400567 min\n",
      "0.01139273309634103 min\n"
     ]
    }
   ],
   "source": [
    "#from their figure 2 I get pspin/porb\n",
    "prmin = 0.02\n",
    "#prmax =0.2\n",
    "\n",
    "#need our q\n",
    "mprim = 0.441\n",
    "mpe = 0.008\n",
    "msec =0.18\n",
    "mse = 0.05\n",
    "msec2 = 0.08\n",
    "\n",
    "eq = ((mpe/mprim)**2 + (mse/msec)**2)**2\n",
    "\n",
    "q = msec2/mprim\n",
    "print(q)\n",
    "print(q*eq)\n",
    "\n",
    "qr = (0.5-(0.227*np.log10(q)))**(3/2)\n",
    "qrat = qr/qb  \n",
    "print(qrat)\n",
    "\n",
    "prat = prmin*qrat\n",
    "print(prat)\n",
    "#print(prmax*qrat)\n",
    "\n",
    "print('here')\n",
    "porb_range = [1.14, 1.24]\n",
    "for p in porb_range:\n",
    "    porb = p*u.hour\n",
    "    print(porb.to(u.min))\n",
    "    pspin = porb*prat\n",
    "    print(pspin)\n",
    "    print(pspin.to(u.minute))\n",
    "    print(pspin.to(u.minute)*eq)"
   ]
  },
  {
   "cell_type": "markdown",
   "metadata": {},
   "source": [
    "Wind rate: Need to work out accretion rate, see if the magentic field gets it all via prescription in https://ui.adsabs.harvard.edu/abs/2005ASPC..330..137W/abstract."
   ]
  },
  {
   "cell_type": "code",
   "execution_count": 13,
   "metadata": {},
   "outputs": [
    {
     "name": "stdout",
     "output_type": "stream",
     "text": [
      "-5.781698947597886\n"
     ]
    }
   ],
   "source": [
    "#-5.6, -6.1\n",
    "si_ab = np.log10(np.mean([10**-5.6, 10**-6.1]))\n",
    "print(si_ab)                          "
   ]
  },
  {
   "cell_type": "code",
   "execution_count": 14,
   "metadata": {},
   "outputs": [
    {
     "name": "stdout",
     "output_type": "stream",
     "text": [
      "4888273.325086731 g / s\n",
      "7351892502.762418 g / s\n"
     ]
    }
   ],
   "source": [
    "mwd = 0.441*u.Msun\n",
    "hmass = 1e-4 *mwd\n",
    "q = -15.625\n",
    "#tdiff = (10**-1.207)*u.yr\n",
    "tdiff = -1.207\n",
    "#mdot = ((10**si_ab)*(hmass.to(u.g)))/(tdiff.to(u.s))\n",
    "rate = si_ab + np.log10(mwd.value) + q +np.log10(28.085/1.008)- tdiff\n",
    "mdot_si = ((10**rate)*u.M_sun/u.yr).to(u.g/u.s)\n",
    "print(mdot_si)\n",
    "si_sun = 6.649E-04\n",
    "mdot = mdot_si /si_sun\n",
    "print(mdot)"
   ]
  },
  {
   "cell_type": "code",
   "execution_count": 36,
   "metadata": {},
   "outputs": [
    {
     "name": "stdout",
     "output_type": "stream",
     "text": [
      "0.938153596191406 G\n"
     ]
    }
   ],
   "source": [
    "a = 1.6*u.Rsun\n",
    "B0 = 670.0e3*u.G\n",
    "rwd = 0.0179*u.Rsun\n",
    "Bmd = B0*(rwd/a)**3\n",
    "print(Bmd)"
   ]
  },
  {
   "cell_type": "code",
   "execution_count": 37,
   "metadata": {},
   "outputs": [
    {
     "name": "stdout",
     "output_type": "stream",
     "text": [
      "0.0350193463592889\n"
     ]
    }
   ],
   "source": [
    "uB = Bmd**2/(8*np.pi)\n",
    "print(uB.value) #this is an energy because the internet says so?"
   ]
  },
  {
   "cell_type": "code",
   "execution_count": 38,
   "metadata": {},
   "outputs": [
    {
     "name": "stdout",
     "output_type": "stream",
     "text": [
      "1413044575407663.0 erg / g\n"
     ]
    }
   ],
   "source": [
    "m2 = 0.18*u.Msun\n",
    "r2 = 0.243*u.Rsun\n",
    "omg = const.G*(m2.to(u.kg))/(r2.to(u.m))\n",
    "omg = omg.to(u.erg/u.g)\n",
    "print(omg)"
   ]
  },
  {
   "cell_type": "code",
   "execution_count": 39,
   "metadata": {},
   "outputs": [
    {
     "name": "stdout",
     "output_type": "stream",
     "text": [
      "7.0769175821045865e-09 g / (cm2 s)\n"
     ]
    }
   ],
   "source": [
    "#107ergcm°2s°1:\n",
    "Fx = 1e7*u.erg/u.cm**2/u.s\n",
    "esp = Fx/omg\n",
    "print(esp)"
   ]
  },
  {
   "cell_type": "code",
   "execution_count": 40,
   "metadata": {},
   "outputs": [
    {
     "name": "stdout",
     "output_type": "stream",
     "text": [
      "531.6097394532316 km / s\n",
      "0.37621583119546137 erg / cm3\n"
     ]
    }
   ],
   "source": [
    "vesc = (2*const.G*m2/r2)**0.5\n",
    "#vesc = vesc.to(u.km/u.s)\n",
    "print(vesc.to(u.km/u.s))\n",
    "vesc = vesc.to(u.cm/u.s)\n",
    "mu_wind = esp*vesc\n",
    "mu_wind = mu_wind.to(u.erg/u.cm**3) \n",
    "print(mu_wind)"
   ]
  },
  {
   "cell_type": "markdown",
   "metadata": {},
   "source": [
    "So energy in the wind ~10* energy in M field at wd. Not helpful given uncertaintes. When does it become more, and is it less than B-H radius?"
   ]
  },
  {
   "cell_type": "code",
   "execution_count": 41,
   "metadata": {},
   "outputs": [
    {
     "name": "stdout",
     "output_type": "stream",
     "text": [
      "0.5953499999999997 solRad\n"
     ]
    }
   ],
   "source": [
    "#bond \n",
    "radb = (2*const.G*mwd)/vesc**2\n",
    "radb = radb.to(u.Rsun) \n",
    "print(radb)"
   ]
  },
  {
   "cell_type": "code",
   "execution_count": 42,
   "metadata": {},
   "outputs": [
    {
     "data": {
      "text/plain": [
       "(0.0179, 1.3570000000000002)"
      ]
     },
     "execution_count": 42,
     "metadata": {},
     "output_type": "execute_result"
    },
    {
     "data": {
      "image/png": "[encoded data removed]",
      "text/plain": [
       "<Figure size 432x432 with 1 Axes>"
      ]
     },
     "metadata": {
      "needs_background": "light"
     },
     "output_type": "display_data"
    }
   ],
   "source": [
    "plt.figure(figsize=(6, 6))\n",
    "brange = np.linspace(rwd, a-r2, 100)\n",
    "Br = (np.array([B0.value*(rwd/ai)**3 for ai in brange])**2)/(8*np.pi)\n",
    "plt.plot(brange, Br, label = '$u_{\\mathrm{WD}}$')\n",
    "plt.yscale('log')\n",
    "plt.axvline(radb.value, c='C1', label = '$R_{\\mathrm B}$')\n",
    "#plt.axhline(mu_wind.value, c='C3', label = '$u_{0\\,\\mathrm{wind}}$')\n",
    "crange = np.linspace(r2, a-rwd, 100)\n",
    "#mus = []\n",
    "#for ai in crange:\n",
    "uwind = np.array([mu_wind.value*(r2/ai)**2 for ai in crange])\n",
    " #   vesc = ((2*const.G*m2/ai)**0.5).to(u.cm/u.s)\n",
    "  #  mus.append((esp*vesc).value)\n",
    "plt.plot(a-crange, uwind, c='C3', label= '$u_{\\mathrm{wind}}$')\n",
    "plt.xlabel(r'$a$ (R$_{\\bigodot}$)')\n",
    "plt.ylabel('Energy density (erg cm$^{-3}$)')\n",
    "plt.legend()\n",
    "plt.xlim(rwd.value, a.value-r2.value)\n",
    "#plt.xlim(1.23, 1.245)\n",
    "#plt.ylim(1.e-1, 4e-1)"
   ]
  },
  {
   "cell_type": "code",
   "execution_count": 43,
   "metadata": {},
   "outputs": [],
   "source": [
    "rcrit = 1.2*u.Rsun"
   ]
  },
  {
   "cell_type": "code",
   "execution_count": 44,
   "metadata": {},
   "outputs": [
    {
     "data": {
      "text/latex": [
       "$0.75 \\; \\mathrm{}$"
      ],
      "text/plain": [
       "<Quantity 0.75>"
      ]
     },
     "execution_count": 44,
     "metadata": {},
     "output_type": "execute_result"
    }
   ],
   "source": [
    "rcrit/a"
   ]
  },
  {
   "cell_type": "code",
   "execution_count": 45,
   "metadata": {},
   "outputs": [
    {
     "name": "stdout",
     "output_type": "stream",
     "text": [
      "7351892502.762418 g / s\n",
      "13070031116.02208 g / s\n"
     ]
    }
   ],
   "source": [
    "mwind = mdot/(rcrit/a)**2\n",
    "print(mdot)\n",
    "print(mwind)"
   ]
  },
  {
   "cell_type": "code",
   "execution_count": 46,
   "metadata": {},
   "outputs": [
    {
     "name": "stdout",
     "output_type": "stream",
     "text": [
      "212399939649.546 g / s\n"
     ]
    }
   ],
   "source": [
    "#mwind_bh = mdot*(((a.to(u.cm))**2)*(vesc**4))/(((const.G.to(u.cm**3/u.g/u.s**2))**2)*mwd.to(u.g))\n",
    "#print(mwind_bh)\n",
    "\n",
    "m_loss = (((2*a*m2)/(r2*mwd))**2) * mdot\n",
    "print(m_loss)"
   ]
  },
  {
   "cell_type": "code",
   "execution_count": 47,
   "metadata": {},
   "outputs": [
    {
     "data": {
      "text/latex": [
       "$16.250913 \\; \\mathrm{}$"
      ],
      "text/plain": [
       "<Quantity 16.25091308>"
      ]
     },
     "execution_count": 47,
     "metadata": {},
     "output_type": "execute_result"
    }
   ],
   "source": [
    "m_loss/mwind"
   ]
  },
  {
   "cell_type": "code",
   "execution_count": 48,
   "metadata": {},
   "outputs": [
    {
     "data": {
      "text/latex": [
       "$2.0743149 \\times 10^{-16} \\; \\mathrm{\\frac{M_{\\odot}}{yr}}$"
      ],
      "text/plain": [
       "<Quantity 2.07431486e-16 solMass / yr>"
      ]
     },
     "execution_count": 48,
     "metadata": {},
     "output_type": "execute_result"
    }
   ],
   "source": [
    "mwind.to(u.Msun/u.yr)"
   ]
  },
  {
   "cell_type": "code",
   "execution_count": 28,
   "metadata": {},
   "outputs": [
    {
     "data": {
      "text/latex": [
       "$3.370951 \\times 10^{-15} \\; \\mathrm{\\frac{M_{\\odot}}{yr}}$"
      ],
      "text/plain": [
       "<Quantity 3.37095105e-15 solMass / yr>"
      ]
     },
     "execution_count": 28,
     "metadata": {},
     "output_type": "execute_result"
    }
   ],
   "source": [
    "m_loss.to(u.Msun/u.yr)"
   ]
  },
  {
   "cell_type": "code",
   "execution_count": 35,
   "metadata": {},
   "outputs": [
    {
     "data": {
      "text/plain": [
       "670.0"
      ]
     },
     "execution_count": 35,
     "metadata": {},
     "output_type": "execute_result"
    }
   ],
   "source": [
    "np.mean([630, 710])"
   ]
  },
  {
   "cell_type": "code",
   "execution_count": 34,
   "metadata": {},
   "outputs": [
    {
     "data": {
      "text/latex": [
       "$32.601956 \\; \\mathrm{min}$"
      ],
      "text/plain": [
       "<Quantity 32.6019563 min>"
      ]
     },
     "execution_count": 34,
     "metadata": {},
     "output_type": "execute_result"
    }
   ],
   "source": [
    "v = 40*u.km/u.s\n",
    "prot = 2*np.pi*rwd/v\n",
    "prot.to(u.min)"
   ]
  },
  {
   "cell_type": "markdown",
   "metadata": {},
   "source": [
    "Syncronisation timescale"
   ]
  },
  {
   "cell_type": "code",
   "execution_count": null,
   "metadata": {},
   "outputs": [],
   "source": [
    "def tsync():\n",
    "    I = (2/5) * M1*R1**2\n",
    "    q = M1/M2\n",
    "    ts = (1 / (6*q*k2)) * ((M1*R1**2)/L)**(1/3) * (I/(M1*R1))**2 * (a/R1)**6  "
   ]
  }
 ],
 "metadata": {
  "kernelspec": {
   "display_name": "Python 3",
   "language": "python",
   "name": "python3"
  },
  "language_info": {
   "codemirror_mode": {
    "name": "ipython",
    "version": 3
   },
   "file_extension": ".py",
   "mimetype": "text/x-python",
   "name": "python",
   "nbconvert_exporter": "python",
   "pygments_lexer": "ipython3",
   "version": "3.7.7"
  }
 },
 "nbformat": 4,
 "nbformat_minor": 4
}
