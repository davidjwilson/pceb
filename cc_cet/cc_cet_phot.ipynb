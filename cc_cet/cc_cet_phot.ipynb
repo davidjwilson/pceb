{
 "cells": [
  {
   "cell_type": "markdown",
   "metadata": {},
   "source": [
    "Making a nice photmetry plot"
   ]
  },
  {
   "cell_type": "code",
   "execution_count": 1,
   "metadata": {},
   "outputs": [],
   "source": [
    "import numpy as np\n",
    "import matplotlib.pyplot as plt\n",
    "import astropy.io.fits as fits\n",
    "import os\n",
    "import glob\n",
    "from scipy.interpolate import interp1d\n",
    "from astropy.table import Table\n",
    "from astropy.io import ascii\n",
    "import astropy.units as u\n",
    "from scipy.optimize import leastsq\n",
    "import astropy.constants as const\n",
    "from astropy.convolution import convolve, Box1DKernel\n",
    "from astropy.modeling import models, fitting\n",
    "\n",
    "\n",
    "#matplotlib set up\n",
    "%matplotlib inline\n",
    "from matplotlib import rcParams\n",
    "rcParams[\"figure.figsize\"] = (14, 5)\n",
    "rcParams[\"font.size\"] = 20"
   ]
  },
  {
   "cell_type": "code",
   "execution_count": 60,
   "metadata": {},
   "outputs": [
    {
     "name": "stderr",
     "output_type": "stream",
     "text": [
      "/home/david/anaconda3/envs/astroconda/lib/python3.6/site-packages/ipykernel_launcher.py:36: RuntimeWarning: divide by zero encountered in true_divide\n",
      "/home/david/anaconda3/envs/astroconda/lib/python3.6/site-packages/numpy/lib/function_base.py:412: RuntimeWarning: invalid value encountered in float_scalars\n",
      "  avg = np.multiply(a, wgt, dtype=result_dtype).sum(axis)/scl\n",
      "/home/david/anaconda3/envs/astroconda/lib/python3.6/site-packages/ipykernel_launcher.py:37: RuntimeWarning: divide by zero encountered in true_divide\n",
      "/home/david/anaconda3/envs/astroconda/lib/python3.6/site-packages/ipykernel_launcher.py:38: RuntimeWarning: divide by zero encountered in true_divide\n"
     ]
    },
    {
     "data": {
      "image/png": "[encoded data removed]",
      "text/plain": [
       "<Figure size 432x360 with 1 Axes>"
      ]
     },
     "metadata": {
      "needs_background": "light"
     },
     "output_type": "display_data"
    }
   ],
   "source": [
    "from astropy.io.votable import parse\n",
    "tphot = 'cc_cet_vizier_votable.vot'\n",
    "c = 2.998e8*u.m/u.s\n",
    "\n",
    "plt.figure(figsize=(6,5))\n",
    "\n",
    "votable = parse(tphot)\n",
    "table = votable.get_first_table()\n",
    "data = table.array\n",
    "mask = ~data['sed_eflux'].mask\n",
    "masked_data = data[mask].data\n",
    "filters = np.unique(masked_data['sed_filter'].data)\n",
    "w = []\n",
    "f = []\n",
    "e = []\n",
    "#print(filters)\n",
    "\n",
    "filters = [b'2MASS:H', b'2MASS:J', b'2MASS:Ks', b'GALEX:FUV',\n",
    "           b'GALEX:NUV', b'Gaia:G', b'Johnson:B', b'Johnson:H', b'Johnson:J',\n",
    "           b'Johnson:K', b'Johnson:V', b'PAN-STARRS/PS1:g', b'PAN-STARRS/PS1:i',\n",
    "           b'PAN-STARRS/PS1:r', b'PAN-STARRS/PS1:y', b'PAN-STARRS/PS1:z', b\"SDSS:g'\", \n",
    "           b\"SDSS:r'\", b'WISE:W1', b'WISE:W2'] #picking my own\n",
    "\n",
    "filters = [b'2MASS:H', b'2MASS:J', b'2MASS:Ks', b'GALEX:FUV',\n",
    "           b'GALEX:NUV', b'PAN-STARRS/PS1:g', b'PAN-STARRS/PS1:i',\n",
    "           b'PAN-STARRS/PS1:r', b'PAN-STARRS/PS1:y', b'PAN-STARRS/PS1:z', b'WISE:W1', b'WISE:W2'] #picking my own\n",
    "\n",
    "#filters = [b'GALEX:NUV']\n",
    "\n",
    "\n",
    "for flt in filters:\n",
    "    w1 = (np.mean(masked_data['sed_freq'][masked_data['sed_filter']==flt])*u.GHz).to(u.AA, equivalencies=u.spectral())\n",
    "    fj1 = masked_data['sed_flux'][masked_data['sed_filter']==flt]\n",
    "    e1 = masked_data['sed_eflux'][masked_data['sed_filter']==flt]\n",
    "    if len(fj1) >1:\n",
    "        fj_av = np.average(fj1, weights = (1/(e1**2)))\n",
    "        e1_av = abs(np.average((fj1-fj_av), weights = (1/(e1**2))))**0.5\n",
    "        e1_av = 1 / np.sum(1/(e1**2), axis=0)**0.5\n",
    "    else:\n",
    "        fj_av, e1_av = fj1[0], e1[0]\n",
    "   # print(fj1)\n",
    "   # print(fj_av)\n",
    "   # print(e1_av)\n",
    "    f1 = (fj_av*u.Jy).to(u.erg / u.cm**2 / u.s / u.AA, equivalencies=u.spectral_density(w1)) \n",
    "    w.append(w1.value)\n",
    "    f.append(f1.value)\n",
    "   # print(e1)\n",
    "    e1 = ((e1_av*f1)/fj_av).value\n",
    "    e.append(e1)\n",
    "   # print(flt, w1, f1, e1)\n",
    "# plt.figure('sed', figsize=(5,5))\n",
    "#print(f)\n",
    "w, f, e = np.array(w), np.array(f), np.array(e)\n",
    "plt.errorbar(w[e>0], f[e>0], yerr=e[e>0], marker='o', ls='none', c='C3')\n",
    "\n",
    "#print(filters[\"2MASS\" in filters])\n",
    "\n",
    "#for i in range(len(w)):\n",
    " #   if e[i] !=0.0:\n",
    "        #plt.errorbar(w[i].value, f[i].value, yerr=e[i].value, marker='o', ls='none', label = filters[i], c='C0', label='Vizer')\n",
    "  #      \n",
    "   # else:\n",
    "    #    plt.errorbar(w[i].value, f[i].value, yerr=f[i].value*0.1, marker='o', ls='none', uplims=True,label = filters[i])\n",
    "plt.yscale('log')\n",
    "plt.xscale('log')\n",
    "\n",
    "#plt.errorbar(gpw, gpf, yerr=gpe, marker='o', ls='none', c='C1', label=r'G+19')\n",
    "#plt.errorbar(gpw, fake_phot, marker='o', ls='none', c='C2', label='Model')\n",
    "#plt.ylim(1e-14)\n",
    "#plt.xlim(1000, 3000)\n",
    "#plt.legend()\n",
    "plt.ylabel('Flux (erg s$^{-1}$ cm$^{-2}$ \\AA$^{-1}$)')\n",
    "plt.xlabel('Wavelength (\\AA)')\n",
    "\n",
    "normfac = 3.78247978e+30\n",
    "mw, mf = np.loadtxt('models/ldlc01010.dk', unpack=True, skiprows=34)\n",
    "#plt.plot(mw[mw>1400] , mf[mw>1400]/normfac)\n",
    "plt.xlim(1200, 60000)\n",
    "plt.xticks((2000, 10000, 40000), ('2000', '10000', '40000'))\n",
    "plt.tight_layout()     \n",
    "#plt.axvline(2311)\n",
    "plt.savefig('plots/cc_cet_phot.png', dpi=150, facecolor='white')"
   ]
  },
  {
   "cell_type": "code",
   "execution_count": null,
   "metadata": {},
   "outputs": [],
   "source": []
  }
 ],
 "metadata": {
  "kernelspec": {
   "display_name": "Python 3",
   "language": "python",
   "name": "python3"
  },
  "language_info": {
   "codemirror_mode": {
    "name": "ipython",
    "version": 3
   },
   "file_extension": ".py",
   "mimetype": "text/x-python",
   "name": "python",
   "nbconvert_exporter": "python",
   "pygments_lexer": "ipython3",
   "version": "3.6.12"
  }
 },
 "nbformat": 4,
 "nbformat_minor": 4
}
