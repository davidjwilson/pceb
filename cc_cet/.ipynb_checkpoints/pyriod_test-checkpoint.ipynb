{
 "cells": [
  {
   "cell_type": "code",
   "execution_count": 1,
   "id": "coordinate-banana",
   "metadata": {},
   "outputs": [],
   "source": [
    "%matplotlib widget\n",
    "from Pyriod import Pyriod\n",
    "import glob\n",
    "import astropy.io.fits as fits"
   ]
  },
  {
   "cell_type": "markdown",
   "id": "ignored-massage",
   "metadata": {},
   "source": [
    "Checking Keaton Bell's Pyriod package https://github.com/keatonb/Pyriod. Do the tutorial first - doesn't work in lab!"
   ]
  },
  {
   "cell_type": "code",
   "execution_count": 2,
   "id": "documentary-attendance",
   "metadata": {},
   "outputs": [],
   "source": [
    "\n",
    "\n",
    "import lightkurve as lk\n"
   ]
  },
  {
   "cell_type": "code",
   "execution_count": 3,
   "id": "composed-process",
   "metadata": {},
   "outputs": [
    {
     "data": {
      "text/plain": [
       "'/media/david/5tb_storage1/cc_cet/tess/MAST_2021-01-01T1635/TESS/tess2020294194027-s0031-0000000337219837-0198-a_fast/tess2020294194027-s0031-0000000337219837-0198-a_fast-lc.fits'"
      ]
     },
     "execution_count": 3,
     "metadata": {},
     "output_type": "execute_result"
    }
   ],
   "source": [
    "path20 = '/media/david/5tb_storage1/cc_cet/tess/MAST_2021-01-01T1635/TESS/tess2020294194027-s0031-0000000337219837-0198-a_fast/'\n",
    "lcpath20 = glob.glob('{}*lc.fits'.format(path20))[0]\n",
    "lcpath20"
   ]
  },
  {
   "cell_type": "code",
   "execution_count": 4,
   "id": "revolutionary-lodging",
   "metadata": {},
   "outputs": [],
   "source": [
    "\n",
    "#lc = lk.search_lightcurvefile('TIC 257459955',mission='TESS',sector=3).download().get_lightcurve(\"PDCSAP_FLUX\").flatten(2161).remove_outliers(5)\n",
    "\n"
   ]
  },
  {
   "cell_type": "code",
   "execution_count": 5,
   "id": "alone-registration",
   "metadata": {},
   "outputs": [],
   "source": [
    "data20 = fits.getdata(lcpath20,1)\n",
    "t, f, e, q, bk = data20['TIME'], data20['PDCSAP_FLUX'], data20['PDCSAP_FLUX_ERR'], data20['QUALITY'], data20['SAP_BKG']#[np.isnan(data['SAP_BKG'])==False]\n",
    "t, f, e, bk = t[q==0], f[q==0], e[q==0], bk[q==0]\n",
    "#fit = np.polyval((np.polyfit(t,f,2)), t)\n",
    "#f = (f/fit)-1\n",
    "#e = (e/fit)\n",
    "#cut_mask = (bk < 1.1*np.median(bk))\n",
    "lc = lk.LightCurve(time=t, flux=f, flux_err=e ).remove_nans()#.remove_outliers(sigma=5)"
   ]
  },
  {
   "cell_type": "code",
   "execution_count": 6,
   "id": "occasional-fraud",
   "metadata": {},
   "outputs": [
    {
     "data": {
      "text/plain": [
       "<AxesSubplot:xlabel='Time', ylabel='Flux'>"
      ]
     },
     "execution_count": 6,
     "metadata": {},
     "output_type": "execute_result"
    }
   ],
   "source": [
    "lc.plot()\n"
   ]
  },
  {
   "cell_type": "code",
   "execution_count": 7,
   "id": "recreational-spirit",
   "metadata": {},
   "outputs": [],
   "source": [
    "pyriod = Pyriod(lc)"
   ]
  },
  {
   "cell_type": "code",
   "execution_count": 8,
   "id": "sealed-impression",
   "metadata": {},
   "outputs": [
    {
     "data": {
      "application/vnd.jupyter.widget-view+json": {
       "model_id": "d7fe0df6cf83436e92abc44c4e9cfd5f",
       "version_major": 2,
       "version_minor": 0
      },
      "text/plain": [
       "VBox(children=(HTML(value=''), Canvas(toolbar=Toolbar(toolitems=[('Home', 'Reset original view', 'home', 'home…"
      ]
     },
     "metadata": {},
     "output_type": "display_data"
    }
   ],
   "source": [
    "pyriod.TimeSeries()"
   ]
  },
  {
   "cell_type": "code",
   "execution_count": null,
   "id": "federal-tomorrow",
   "metadata": {},
   "outputs": [],
   "source": []
  }
 ],
 "metadata": {
  "kernelspec": {
   "display_name": "Python 3",
   "language": "python",
   "name": "python3"
  },
  "language_info": {
   "codemirror_mode": {
    "name": "ipython",
    "version": 3
   },
   "file_extension": ".py",
   "mimetype": "text/x-python",
   "name": "python",
   "nbconvert_exporter": "python",
   "pygments_lexer": "ipython3",
   "version": "3.6.12"
  }
 },
 "nbformat": 4,
 "nbformat_minor": 5
}
