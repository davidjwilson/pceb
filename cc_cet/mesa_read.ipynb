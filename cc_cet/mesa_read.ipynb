{
 "cells": [
  {
   "cell_type": "markdown",
   "id": "0a49a227-1b53-441d-81e0-903f3c626781",
   "metadata": {},
   "source": [
    "What's the best way to read in mesa tables?"
   ]
  },
  {
   "cell_type": "code",
   "execution_count": 1,
   "id": "702a4495-b251-4afb-b256-7781e5bc704b",
   "metadata": {},
   "outputs": [],
   "source": [
    "import numpy as np\n",
    "import matplotlib.pyplot as plt\n",
    "import astropy.io.fits as fits\n",
    "import os\n",
    "import glob\n",
    "from astropy.table import Table\n",
    "from astropy.io import ascii\n",
    "\n",
    "#matplotlib set up\n",
    "%matplotlib inline\n",
    "from matplotlib import rcParams\n",
    "rcParams[\"figure.figsize\"] = (14, 5)\n",
    "rcParams[\"font.size\"] = 20"
   ]
  },
  {
   "cell_type": "code",
   "execution_count": 2,
   "id": "e043f149-af7c-45fc-9df5-ca55ba4b9542",
   "metadata": {},
   "outputs": [
    {
     "data": {
      "text/plain": [
       "['mesa_models/binary_history_1.0xGR.data',\n",
       " 'mesa_models/binary_history_2.47xGR.data']"
      ]
     },
     "execution_count": 2,
     "metadata": {},
     "output_type": "execute_result"
    }
   ],
   "source": [
    "path = 'mesa_models/'\n",
    "mods = glob.glob('{}*.data'.format(path))\n",
    "mods"
   ]
  },
  {
   "cell_type": "code",
   "execution_count": 3,
   "id": "6c099963-03f1-43e4-85a5-2bcff53b685a",
   "metadata": {},
   "outputs": [],
   "source": [
    "# Table.read(mods[0])"
   ]
  },
  {
   "cell_type": "code",
   "execution_count": 4,
   "id": "02134e33-0a8a-4d81-a3d9-7828a8fc05ac",
   "metadata": {},
   "outputs": [],
   "source": [
    "    from nugridpy import mesa as ms"
   ]
  },
  {
   "cell_type": "code",
   "execution_count": 5,
   "id": "5863b553-ba16-401c-983e-ba9e63ee6b19",
   "metadata": {},
   "outputs": [
    {
     "name": "stdout",
     "output_type": "stream",
     "text": [
      "Using old binary_history_1.0xGR.datasa file ...\n"
     ]
    },
    {
     "ename": "ValueError",
     "evalue": "could not convert string to float: '\"12778\"'",
     "output_type": "error",
     "traceback": [
      "\u001b[0;31m---------------------------------------------------------------------------\u001b[0m",
      "\u001b[0;31mValueError\u001b[0m                                Traceback (most recent call last)",
      "\u001b[0;32m/tmp/ipykernel_114793/1347829840.py\u001b[0m in \u001b[0;36m<module>\u001b[0;34m\u001b[0m\n\u001b[0;32m----> 1\u001b[0;31m \u001b[0mdata\u001b[0m  \u001b[0;34m=\u001b[0m \u001b[0mms\u001b[0m\u001b[0;34m.\u001b[0m\u001b[0mhistory_data\u001b[0m\u001b[0;34m(\u001b[0m\u001b[0mpath\u001b[0m\u001b[0;34m,\u001b[0m \u001b[0mslname\u001b[0m \u001b[0;34m=\u001b[0m \u001b[0;34m'binary_history_1.0xGR.data'\u001b[0m\u001b[0;34m)\u001b[0m\u001b[0;34m\u001b[0m\u001b[0;34m\u001b[0m\u001b[0m\n\u001b[0m",
      "\u001b[0;32m~/anaconda3/envs/astroconda/lib/python3.7/site-packages/nugridpy/mesa.py\u001b[0m in \u001b[0;36m__init__\u001b[0;34m(self, sldir, slname, clean_starlog, mass, Z, data_set)\u001b[0m\n\u001b[1;32m    889\u001b[0m                 \u001b[0mself\u001b[0m\u001b[0;34m.\u001b[0m\u001b[0m_read_starlog\u001b[0m\u001b[0;34m(\u001b[0m\u001b[0;34m)\u001b[0m\u001b[0;34m\u001b[0m\u001b[0;34m\u001b[0m\u001b[0m\n\u001b[1;32m    890\u001b[0m         \u001b[0;32melse\u001b[0m\u001b[0;34m:\u001b[0m\u001b[0;34m\u001b[0m\u001b[0;34m\u001b[0m\u001b[0m\n\u001b[0;32m--> 891\u001b[0;31m             \u001b[0mself\u001b[0m\u001b[0;34m.\u001b[0m\u001b[0m_read_starlog\u001b[0m\u001b[0;34m(\u001b[0m\u001b[0;34m)\u001b[0m\u001b[0;34m\u001b[0m\u001b[0;34m\u001b[0m\u001b[0m\n\u001b[0m\u001b[1;32m    892\u001b[0m \u001b[0;34m\u001b[0m\u001b[0m\n\u001b[1;32m    893\u001b[0m     \u001b[0;32mdef\u001b[0m \u001b[0m__del__\u001b[0m\u001b[0;34m(\u001b[0m\u001b[0mself\u001b[0m\u001b[0;34m)\u001b[0m\u001b[0;34m:\u001b[0m\u001b[0;34m\u001b[0m\u001b[0;34m\u001b[0m\u001b[0m\n",
      "\u001b[0;32m~/anaconda3/envs/astroconda/lib/python3.7/site-packages/nugridpy/mesa.py\u001b[0m in \u001b[0;36m_read_starlog\u001b[0;34m(self)\u001b[0m\n\u001b[1;32m    919\u001b[0m         \u001b[0mfilename\u001b[0m\u001b[0;34m=\u001b[0m\u001b[0msldir\u001b[0m\u001b[0;34m+\u001b[0m\u001b[0;34m'/'\u001b[0m\u001b[0;34m+\u001b[0m\u001b[0mslaname\u001b[0m\u001b[0;34m\u001b[0m\u001b[0;34m\u001b[0m\u001b[0m\n\u001b[1;32m    920\u001b[0m \u001b[0;34m\u001b[0m\u001b[0m\n\u001b[0;32m--> 921\u001b[0;31m         \u001b[0mheader_attr\u001b[0m\u001b[0;34m,\u001b[0m\u001b[0mcols\u001b[0m\u001b[0;34m,\u001b[0m\u001b[0mdata\u001b[0m \u001b[0;34m=\u001b[0m \u001b[0m_read_mesafile\u001b[0m\u001b[0;34m(\u001b[0m\u001b[0mfilename\u001b[0m\u001b[0;34m,\u001b[0m\u001b[0mdata_rows\u001b[0m\u001b[0;34m=\u001b[0m\u001b[0mnum_cycles\u001b[0m\u001b[0;34m)\u001b[0m\u001b[0;34m\u001b[0m\u001b[0;34m\u001b[0m\u001b[0m\n\u001b[0m\u001b[1;32m    922\u001b[0m \u001b[0;34m\u001b[0m\u001b[0m\n\u001b[1;32m    923\u001b[0m         \u001b[0mself\u001b[0m\u001b[0;34m.\u001b[0m\u001b[0mcols\u001b[0m        \u001b[0;34m=\u001b[0m \u001b[0mcols\u001b[0m\u001b[0;34m\u001b[0m\u001b[0;34m\u001b[0m\u001b[0m\n",
      "\u001b[0;32m~/anaconda3/envs/astroconda/lib/python3.7/site-packages/nugridpy/mesa.py\u001b[0m in \u001b[0;36m_read_mesafile\u001b[0;34m(filename, data_rows, only)\u001b[0m\n\u001b[1;32m   3723\u001b[0m     \u001b[0mheader_attr\u001b[0m \u001b[0;34m=\u001b[0m \u001b[0;34m{\u001b[0m\u001b[0;34m}\u001b[0m\u001b[0;34m\u001b[0m\u001b[0;34m\u001b[0m\u001b[0m\n\u001b[1;32m   3724\u001b[0m     \u001b[0;32mfor\u001b[0m \u001b[0ma\u001b[0m\u001b[0;34m,\u001b[0m\u001b[0mb\u001b[0m \u001b[0;32min\u001b[0m \u001b[0mzip\u001b[0m\u001b[0;34m(\u001b[0m\u001b[0mhlist\u001b[0m\u001b[0;34m,\u001b[0m\u001b[0mhval\u001b[0m\u001b[0;34m)\u001b[0m\u001b[0;34m:\u001b[0m\u001b[0;34m\u001b[0m\u001b[0;34m\u001b[0m\u001b[0m\n\u001b[0;32m-> 3725\u001b[0;31m         \u001b[0mheader_attr\u001b[0m\u001b[0;34m[\u001b[0m\u001b[0ma\u001b[0m\u001b[0;34m]\u001b[0m \u001b[0;34m=\u001b[0m \u001b[0mfloat\u001b[0m\u001b[0;34m(\u001b[0m\u001b[0mb\u001b[0m\u001b[0;34m)\u001b[0m\u001b[0;34m\u001b[0m\u001b[0;34m\u001b[0m\u001b[0m\n\u001b[0m\u001b[1;32m   3726\u001b[0m     \u001b[0;32mif\u001b[0m \u001b[0monly\u001b[0m \u001b[0;32mis\u001b[0m \u001b[0;34m'header_attr'\u001b[0m\u001b[0;34m:\u001b[0m\u001b[0;34m\u001b[0m\u001b[0;34m\u001b[0m\u001b[0m\n\u001b[1;32m   3727\u001b[0m         \u001b[0;32mreturn\u001b[0m \u001b[0mheader_attr\u001b[0m\u001b[0;34m\u001b[0m\u001b[0;34m\u001b[0m\u001b[0m\n",
      "\u001b[0;31mValueError\u001b[0m: could not convert string to float: '\"12778\"'"
     ]
    }
   ],
   "source": [
    "data  = ms.history_data(path, slname = 'binary_history_1.0xGR.data')\n"
   ]
  },
  {
   "cell_type": "code",
   "execution_count": 8,
   "id": "b79c025a-4655-4a41-a7f4-cdcf81a93adf",
   "metadata": {},
   "outputs": [
    {
     "data": {
      "text/plain": [
       "('model_number',\n",
       " 'age',\n",
       " 'period_days',\n",
       " 'binary_separation',\n",
       " 'v_orb_1',\n",
       " 'v_orb_2',\n",
       " 'rl_1',\n",
       " 'rl_2',\n",
       " 'rl_relative_overflow_1',\n",
       " 'rl_relative_overflow_2',\n",
       " 'star_1_mass',\n",
       " 'star_2_mass',\n",
       " 'lg_mtransfer_rate',\n",
       " 'lg_mstar_dot_1',\n",
       " 'lg_mstar_dot_2',\n",
       " 'lg_system_mdot_1',\n",
       " 'lg_system_mdot_2',\n",
       " 'lg_wind_mdot_1',\n",
       " 'lg_wind_mdot_2',\n",
       " 'fixed_xfer_fraction',\n",
       " 'eff_xfer_fraction',\n",
       " 'J_orb',\n",
       " 'Jdot',\n",
       " 'jdot_mb',\n",
       " 'jdot_gr',\n",
       " 'jdot_ml',\n",
       " 'jdot_ls',\n",
       " 'jdot_missing_wind',\n",
       " 'extra_jdot',\n",
       " 'donor_index',\n",
       " 'point_mass_index')"
      ]
     },
     "execution_count": 8,
     "metadata": {},
     "output_type": "execute_result"
    }
   ],
   "source": [
    "data = np.genfromtxt(mods[0], dtype=None, names=True, skip_header=5)\n",
    "data.dtype.names"
   ]
  },
  {
   "cell_type": "code",
   "execution_count": 19,
   "id": "c66a09cd-2f9a-454c-acd1-97862a70131e",
   "metadata": {},
   "outputs": [
    {
     "data": {
      "text/plain": [
       "Text(10, 2.1, 'Accretion begins')"
      ]
     },
     "execution_count": 19,
     "metadata": {},
     "output_type": "execute_result"
    },
    {
     "data": {
      "image/png": "[encoded data removed]",
      "text/plain": [
       "<Figure size 360x360 with 1 Axes>"
      ]
     },
     "metadata": {
      "needs_background": "light"
     },
     "output_type": "display_data"
    }
   ],
   "source": [
    "path = 'mesa_models/'\n",
    "mods = glob.glob('{}*.data'.format(path))\n",
    "plt.figure(figsize=(5,5))\n",
    "\n",
    "for mod in mods:\n",
    "    data = np.genfromtxt(mod, dtype=None, names=True, skip_header=5)\n",
    "    plt.plot(data['age']/1e9, data['period_days']*24)\n",
    "plt.xlabel('Age (Gyr)')\n",
    "plt.ylabel('P$_{\\mathrm{orb}}$ (h)')\n",
    "plt.axhline(1.83, ls='--')\n",
    "plt.annotate('Accretion begins', (10, 2.1), ha='center')\n"
   ]
  },
  {
   "cell_type": "code",
   "execution_count": null,
   "id": "1fb28bf9-ba23-4111-bba7-240e83f0449d",
   "metadata": {},
   "outputs": [],
   "source": []
  }
 ],
 "metadata": {
  "kernelspec": {
   "display_name": "Python 3 (ipykernel)",
   "language": "python",
   "name": "python3"
  },
  "language_info": {
   "codemirror_mode": {
    "name": "ipython",
    "version": 3
   },
   "file_extension": ".py",
   "mimetype": "text/x-python",
   "name": "python",
   "nbconvert_exporter": "python",
   "pygments_lexer": "ipython3",
   "version": "3.7.11"
  }
 },
 "nbformat": 4,
 "nbformat_minor": 5
}
