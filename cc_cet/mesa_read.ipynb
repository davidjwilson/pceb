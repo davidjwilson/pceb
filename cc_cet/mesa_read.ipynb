{
 "cells": [
  {
   "cell_type": "markdown",
   "id": "0a49a227-1b53-441d-81e0-903f3c626781",
   "metadata": {},
   "source": [
    "What's the best way to read in mesa tables?"
   ]
  },
  {
   "cell_type": "code",
   "execution_count": 1,
   "id": "702a4495-b251-4afb-b256-7781e5bc704b",
   "metadata": {},
   "outputs": [],
   "source": [
    "import numpy as np\n",
    "import matplotlib.pyplot as plt\n",
    "import astropy.io.fits as fits\n",
    "import os\n",
    "import glob\n",
    "from astropy.table import Table\n",
    "from astropy.io import ascii\n",
    "\n",
    "#matplotlib set up\n",
    "%matplotlib inline\n",
    "from matplotlib import rcParams\n",
    "rcParams[\"figure.figsize\"] = (14, 5)\n",
    "rcParams[\"font.size\"] = 20"
   ]
  },
  {
   "cell_type": "code",
   "execution_count": 3,
   "id": "e043f149-af7c-45fc-9df5-ca55ba4b9542",
   "metadata": {},
   "outputs": [
    {
     "data": {
      "text/plain": [
       "['mesa_models/binary_history_1.0xGR.data',\n",
       " 'mesa_models/binary_history_2.47xGR.data']"
      ]
     },
     "execution_count": 3,
     "metadata": {},
     "output_type": "execute_result"
    }
   ],
   "source": [
    "path = 'mesa_models/'\n",
    "mods = glob.glob('{}*.data'.format(path))\n",
    "mods"
   ]
  },
  {
   "cell_type": "code",
   "execution_count": 4,
   "id": "6c099963-03f1-43e4-85a5-2bcff53b685a",
   "metadata": {},
   "outputs": [
    {
     "ename": "IORegistryError",
     "evalue": "Format could not be identified based on the file name or contents, please provide a 'format' argument.\nThe available formats are:\n           Format           Read Write Auto-identify Deprecated\n--------------------------- ---- ----- ------------- ----------\n                      ascii  Yes   Yes            No           \n               ascii.aastex  Yes   Yes            No           \n                ascii.basic  Yes   Yes            No           \n                  ascii.cds  Yes    No            No           \n     ascii.commented_header  Yes   Yes            No           \n                  ascii.csv  Yes   Yes           Yes           \n              ascii.daophot  Yes    No            No           \n                 ascii.ecsv  Yes   Yes           Yes           \n           ascii.fast_basic  Yes   Yes            No           \nascii.fast_commented_header  Yes   Yes            No           \n             ascii.fast_csv  Yes   Yes            No           \n       ascii.fast_no_header  Yes   Yes            No           \n             ascii.fast_rdb  Yes   Yes            No           \n             ascii.fast_tab  Yes   Yes            No           \n          ascii.fixed_width  Yes   Yes            No           \nascii.fixed_width_no_header  Yes   Yes            No           \n ascii.fixed_width_two_line  Yes   Yes            No           \n                 ascii.html  Yes   Yes           Yes           \n                 ascii.ipac  Yes   Yes            No           \n                ascii.latex  Yes   Yes           Yes           \n            ascii.no_header  Yes   Yes            No           \n                  ascii.qdp  Yes   Yes           Yes           \n                  ascii.rdb  Yes   Yes           Yes           \n                  ascii.rst  Yes   Yes            No           \n           ascii.sextractor  Yes    No            No           \n                  ascii.tab  Yes   Yes            No           \n                       asdf  Yes   Yes           Yes           \n                       fits  Yes   Yes           Yes           \n                       hdf5  Yes   Yes           Yes           \n                 pandas.csv  Yes   Yes            No           \n                 pandas.fwf  Yes    No            No           \n                pandas.html  Yes   Yes            No           \n                pandas.json  Yes   Yes            No           \n                    votable  Yes   Yes           Yes           \n                     aastex  Yes   Yes            No        Yes\n                        cds  Yes    No            No        Yes\n                        csv  Yes   Yes            No        Yes\n                    daophot  Yes    No            No        Yes\n                       html  Yes   Yes            No        Yes\n                       ipac  Yes   Yes            No        Yes\n                      latex  Yes   Yes            No        Yes\n                        rdb  Yes   Yes            No        Yes",
     "output_type": "error",
     "traceback": [
      "\u001b[0;31m---------------------------------------------------------------------------\u001b[0m",
      "\u001b[0;31mIORegistryError\u001b[0m                           Traceback (most recent call last)",
      "\u001b[0;32m/tmp/ipykernel_13073/1157409307.py\u001b[0m in \u001b[0;36m<module>\u001b[0;34m\u001b[0m\n\u001b[0;32m----> 1\u001b[0;31m \u001b[0mTable\u001b[0m\u001b[0;34m.\u001b[0m\u001b[0mread\u001b[0m\u001b[0;34m(\u001b[0m\u001b[0mmods\u001b[0m\u001b[0;34m[\u001b[0m\u001b[0;36m0\u001b[0m\u001b[0;34m]\u001b[0m\u001b[0;34m)\u001b[0m\u001b[0;34m\u001b[0m\u001b[0;34m\u001b[0m\u001b[0m\n\u001b[0m",
      "\u001b[0;32m~/anaconda3/envs/astroconda/lib/python3.7/site-packages/astropy/table/connect.py\u001b[0m in \u001b[0;36m__call__\u001b[0;34m(self, *args, **kwargs)\u001b[0m\n\u001b[1;32m     59\u001b[0m         \u001b[0mdescriptions\u001b[0m \u001b[0;34m=\u001b[0m \u001b[0mkwargs\u001b[0m\u001b[0;34m.\u001b[0m\u001b[0mpop\u001b[0m\u001b[0;34m(\u001b[0m\u001b[0;34m'descriptions'\u001b[0m\u001b[0;34m,\u001b[0m \u001b[0;32mNone\u001b[0m\u001b[0;34m)\u001b[0m\u001b[0;34m\u001b[0m\u001b[0;34m\u001b[0m\u001b[0m\n\u001b[1;32m     60\u001b[0m \u001b[0;34m\u001b[0m\u001b[0m\n\u001b[0;32m---> 61\u001b[0;31m         \u001b[0mout\u001b[0m \u001b[0;34m=\u001b[0m \u001b[0mregistry\u001b[0m\u001b[0;34m.\u001b[0m\u001b[0mread\u001b[0m\u001b[0;34m(\u001b[0m\u001b[0mcls\u001b[0m\u001b[0;34m,\u001b[0m \u001b[0;34m*\u001b[0m\u001b[0margs\u001b[0m\u001b[0;34m,\u001b[0m \u001b[0;34m**\u001b[0m\u001b[0mkwargs\u001b[0m\u001b[0;34m)\u001b[0m\u001b[0;34m\u001b[0m\u001b[0;34m\u001b[0m\u001b[0m\n\u001b[0m\u001b[1;32m     62\u001b[0m \u001b[0;34m\u001b[0m\u001b[0m\n\u001b[1;32m     63\u001b[0m         \u001b[0;31m# For some readers (e.g., ascii.ecsv), the returned `out` class is not\u001b[0m\u001b[0;34m\u001b[0m\u001b[0;34m\u001b[0m\u001b[0;34m\u001b[0m\u001b[0m\n",
      "\u001b[0;32m~/anaconda3/envs/astroconda/lib/python3.7/site-packages/astropy/io/registry.py\u001b[0m in \u001b[0;36mread\u001b[0;34m(cls, format, cache, *args, **kwargs)\u001b[0m\n\u001b[1;32m    522\u001b[0m \u001b[0;34m\u001b[0m\u001b[0m\n\u001b[1;32m    523\u001b[0m             format = _get_valid_format(\n\u001b[0;32m--> 524\u001b[0;31m                 'read', cls, path, fileobj, args, kwargs)\n\u001b[0m\u001b[1;32m    525\u001b[0m \u001b[0;34m\u001b[0m\u001b[0m\n\u001b[1;32m    526\u001b[0m         \u001b[0mreader\u001b[0m \u001b[0;34m=\u001b[0m \u001b[0mget_reader\u001b[0m\u001b[0;34m(\u001b[0m\u001b[0mformat\u001b[0m\u001b[0;34m,\u001b[0m \u001b[0mcls\u001b[0m\u001b[0;34m)\u001b[0m\u001b[0;34m\u001b[0m\u001b[0;34m\u001b[0m\u001b[0m\n",
      "\u001b[0;32m~/anaconda3/envs/astroconda/lib/python3.7/site-packages/astropy/io/registry.py\u001b[0m in \u001b[0;36m_get_valid_format\u001b[0;34m(mode, cls, path, fileobj, args, kwargs)\u001b[0m\n\u001b[1;32m    605\u001b[0m                               \u001b[0;34m\" 'format' argument.\\n\"\u001b[0m\u001b[0;34m\u001b[0m\u001b[0;34m\u001b[0m\u001b[0m\n\u001b[1;32m    606\u001b[0m                               \u001b[0;34m\"The available formats are:\\n\"\u001b[0m\u001b[0;34m\u001b[0m\u001b[0;34m\u001b[0m\u001b[0m\n\u001b[0;32m--> 607\u001b[0;31m                               \"{}\".format(format_table_str))\n\u001b[0m\u001b[1;32m    608\u001b[0m     \u001b[0;32melif\u001b[0m \u001b[0mlen\u001b[0m\u001b[0;34m(\u001b[0m\u001b[0mvalid_formats\u001b[0m\u001b[0;34m)\u001b[0m \u001b[0;34m>\u001b[0m \u001b[0;36m1\u001b[0m\u001b[0;34m:\u001b[0m\u001b[0;34m\u001b[0m\u001b[0;34m\u001b[0m\u001b[0m\n\u001b[1;32m    609\u001b[0m         \u001b[0;32mreturn\u001b[0m \u001b[0m_get_highest_priority_format\u001b[0m\u001b[0;34m(\u001b[0m\u001b[0mmode\u001b[0m\u001b[0;34m,\u001b[0m \u001b[0mcls\u001b[0m\u001b[0;34m,\u001b[0m \u001b[0mvalid_formats\u001b[0m\u001b[0;34m)\u001b[0m\u001b[0;34m\u001b[0m\u001b[0;34m\u001b[0m\u001b[0m\n",
      "\u001b[0;31mIORegistryError\u001b[0m: Format could not be identified based on the file name or contents, please provide a 'format' argument.\nThe available formats are:\n           Format           Read Write Auto-identify Deprecated\n--------------------------- ---- ----- ------------- ----------\n                      ascii  Yes   Yes            No           \n               ascii.aastex  Yes   Yes            No           \n                ascii.basic  Yes   Yes            No           \n                  ascii.cds  Yes    No            No           \n     ascii.commented_header  Yes   Yes            No           \n                  ascii.csv  Yes   Yes           Yes           \n              ascii.daophot  Yes    No            No           \n                 ascii.ecsv  Yes   Yes           Yes           \n           ascii.fast_basic  Yes   Yes            No           \nascii.fast_commented_header  Yes   Yes            No           \n             ascii.fast_csv  Yes   Yes            No           \n       ascii.fast_no_header  Yes   Yes            No           \n             ascii.fast_rdb  Yes   Yes            No           \n             ascii.fast_tab  Yes   Yes            No           \n          ascii.fixed_width  Yes   Yes            No           \nascii.fixed_width_no_header  Yes   Yes            No           \n ascii.fixed_width_two_line  Yes   Yes            No           \n                 ascii.html  Yes   Yes           Yes           \n                 ascii.ipac  Yes   Yes            No           \n                ascii.latex  Yes   Yes           Yes           \n            ascii.no_header  Yes   Yes            No           \n                  ascii.qdp  Yes   Yes           Yes           \n                  ascii.rdb  Yes   Yes           Yes           \n                  ascii.rst  Yes   Yes            No           \n           ascii.sextractor  Yes    No            No           \n                  ascii.tab  Yes   Yes            No           \n                       asdf  Yes   Yes           Yes           \n                       fits  Yes   Yes           Yes           \n                       hdf5  Yes   Yes           Yes           \n                 pandas.csv  Yes   Yes            No           \n                 pandas.fwf  Yes    No            No           \n                pandas.html  Yes   Yes            No           \n                pandas.json  Yes   Yes            No           \n                    votable  Yes   Yes           Yes           \n                     aastex  Yes   Yes            No        Yes\n                        cds  Yes    No            No        Yes\n                        csv  Yes   Yes            No        Yes\n                    daophot  Yes    No            No        Yes\n                       html  Yes   Yes            No        Yes\n                       ipac  Yes   Yes            No        Yes\n                      latex  Yes   Yes            No        Yes\n                        rdb  Yes   Yes            No        Yes"
     ]
    }
   ],
   "source": [
    "Table.read(mods[0])"
   ]
  },
  {
   "cell_type": "code",
   "execution_count": 5,
   "id": "02134e33-0a8a-4d81-a3d9-7828a8fc05ac",
   "metadata": {},
   "outputs": [],
   "source": [
    "    from nugridpy import mesa as ms"
   ]
  },
  {
   "cell_type": "code",
   "execution_count": 26,
   "id": "5863b553-ba16-401c-983e-ba9e63ee6b19",
   "metadata": {},
   "outputs": [
    {
     "name": "stdout",
     "output_type": "stream",
     "text": [
      "No binary_history_1.0xGR.datasa file found, create new one from binary_history_1.0xGR.data\n"
     ]
    },
    {
     "ename": "ValueError",
     "evalue": "could not convert string to float: '\"gfortran\"'",
     "output_type": "error",
     "traceback": [
      "\u001b[0;31m---------------------------------------------------------------------------\u001b[0m",
      "\u001b[0;31mValueError\u001b[0m                                Traceback (most recent call last)",
      "\u001b[0;32m/tmp/ipykernel_13073/3214753225.py\u001b[0m in \u001b[0;36m<module>\u001b[0;34m\u001b[0m\n\u001b[1;32m      1\u001b[0m \u001b[0;31m# ms.history_data(path), slname = os.path.split(mods[0])[1])\u001b[0m\u001b[0;34m\u001b[0m\u001b[0;34m\u001b[0m\u001b[0;34m\u001b[0m\u001b[0m\n\u001b[0;32m----> 2\u001b[0;31m \u001b[0mms\u001b[0m\u001b[0;34m.\u001b[0m\u001b[0mhistory_data\u001b[0m\u001b[0;34m(\u001b[0m\u001b[0mpath\u001b[0m\u001b[0;34m,\u001b[0m \u001b[0mslname\u001b[0m \u001b[0;34m=\u001b[0m \u001b[0;34m'binary_history_1.0xGR.data'\u001b[0m\u001b[0;34m)\u001b[0m\u001b[0;34m\u001b[0m\u001b[0;34m\u001b[0m\u001b[0m\n\u001b[0m",
      "\u001b[0;32m~/anaconda3/envs/astroconda/lib/python3.7/site-packages/nugridpy/mesa.py\u001b[0m in \u001b[0;36m__init__\u001b[0;34m(self, sldir, slname, clean_starlog, mass, Z, data_set)\u001b[0m\n\u001b[1;32m    889\u001b[0m                 \u001b[0mself\u001b[0m\u001b[0;34m.\u001b[0m\u001b[0m_read_starlog\u001b[0m\u001b[0;34m(\u001b[0m\u001b[0;34m)\u001b[0m\u001b[0;34m\u001b[0m\u001b[0;34m\u001b[0m\u001b[0m\n\u001b[1;32m    890\u001b[0m         \u001b[0;32melse\u001b[0m\u001b[0;34m:\u001b[0m\u001b[0;34m\u001b[0m\u001b[0;34m\u001b[0m\u001b[0m\n\u001b[0;32m--> 891\u001b[0;31m             \u001b[0mself\u001b[0m\u001b[0;34m.\u001b[0m\u001b[0m_read_starlog\u001b[0m\u001b[0;34m(\u001b[0m\u001b[0;34m)\u001b[0m\u001b[0;34m\u001b[0m\u001b[0;34m\u001b[0m\u001b[0m\n\u001b[0m\u001b[1;32m    892\u001b[0m \u001b[0;34m\u001b[0m\u001b[0m\n\u001b[1;32m    893\u001b[0m     \u001b[0;32mdef\u001b[0m \u001b[0m__del__\u001b[0m\u001b[0;34m(\u001b[0m\u001b[0mself\u001b[0m\u001b[0;34m)\u001b[0m\u001b[0;34m:\u001b[0m\u001b[0;34m\u001b[0m\u001b[0;34m\u001b[0m\u001b[0m\n",
      "\u001b[0;32m~/anaconda3/envs/astroconda/lib/python3.7/site-packages/nugridpy/mesa.py\u001b[0m in \u001b[0;36m_read_starlog\u001b[0;34m(self)\u001b[0m\n\u001b[1;32m    919\u001b[0m         \u001b[0mfilename\u001b[0m\u001b[0;34m=\u001b[0m\u001b[0msldir\u001b[0m\u001b[0;34m+\u001b[0m\u001b[0;34m'/'\u001b[0m\u001b[0;34m+\u001b[0m\u001b[0mslaname\u001b[0m\u001b[0;34m\u001b[0m\u001b[0;34m\u001b[0m\u001b[0m\n\u001b[1;32m    920\u001b[0m \u001b[0;34m\u001b[0m\u001b[0m\n\u001b[0;32m--> 921\u001b[0;31m         \u001b[0mheader_attr\u001b[0m\u001b[0;34m,\u001b[0m\u001b[0mcols\u001b[0m\u001b[0;34m,\u001b[0m\u001b[0mdata\u001b[0m \u001b[0;34m=\u001b[0m \u001b[0m_read_mesafile\u001b[0m\u001b[0;34m(\u001b[0m\u001b[0mfilename\u001b[0m\u001b[0;34m,\u001b[0m\u001b[0mdata_rows\u001b[0m\u001b[0;34m=\u001b[0m\u001b[0mnum_cycles\u001b[0m\u001b[0;34m)\u001b[0m\u001b[0;34m\u001b[0m\u001b[0;34m\u001b[0m\u001b[0m\n\u001b[0m\u001b[1;32m    922\u001b[0m \u001b[0;34m\u001b[0m\u001b[0m\n\u001b[1;32m    923\u001b[0m         \u001b[0mself\u001b[0m\u001b[0;34m.\u001b[0m\u001b[0mcols\u001b[0m        \u001b[0;34m=\u001b[0m \u001b[0mcols\u001b[0m\u001b[0;34m\u001b[0m\u001b[0;34m\u001b[0m\u001b[0m\n",
      "\u001b[0;32m~/anaconda3/envs/astroconda/lib/python3.7/site-packages/nugridpy/mesa.py\u001b[0m in \u001b[0;36m_read_mesafile\u001b[0;34m(filename, data_rows, only)\u001b[0m\n\u001b[1;32m   3723\u001b[0m     \u001b[0mheader_attr\u001b[0m \u001b[0;34m=\u001b[0m \u001b[0;34m{\u001b[0m\u001b[0;34m}\u001b[0m\u001b[0;34m\u001b[0m\u001b[0;34m\u001b[0m\u001b[0m\n\u001b[1;32m   3724\u001b[0m     \u001b[0;32mfor\u001b[0m \u001b[0ma\u001b[0m\u001b[0;34m,\u001b[0m\u001b[0mb\u001b[0m \u001b[0;32min\u001b[0m \u001b[0mzip\u001b[0m\u001b[0;34m(\u001b[0m\u001b[0mhlist\u001b[0m\u001b[0;34m,\u001b[0m\u001b[0mhval\u001b[0m\u001b[0;34m)\u001b[0m\u001b[0;34m:\u001b[0m\u001b[0;34m\u001b[0m\u001b[0;34m\u001b[0m\u001b[0m\n\u001b[0;32m-> 3725\u001b[0;31m         \u001b[0mheader_attr\u001b[0m\u001b[0;34m[\u001b[0m\u001b[0ma\u001b[0m\u001b[0;34m]\u001b[0m \u001b[0;34m=\u001b[0m \u001b[0mfloat\u001b[0m\u001b[0;34m(\u001b[0m\u001b[0mb\u001b[0m\u001b[0;34m)\u001b[0m\u001b[0;34m\u001b[0m\u001b[0;34m\u001b[0m\u001b[0m\n\u001b[0m\u001b[1;32m   3726\u001b[0m     \u001b[0;32mif\u001b[0m \u001b[0monly\u001b[0m \u001b[0;32mis\u001b[0m \u001b[0;34m'header_attr'\u001b[0m\u001b[0;34m:\u001b[0m\u001b[0;34m\u001b[0m\u001b[0;34m\u001b[0m\u001b[0m\n\u001b[1;32m   3727\u001b[0m         \u001b[0;32mreturn\u001b[0m \u001b[0mheader_attr\u001b[0m\u001b[0;34m\u001b[0m\u001b[0;34m\u001b[0m\u001b[0m\n",
      "\u001b[0;31mValueError\u001b[0m: could not convert string to float: '\"gfortran\"'"
     ]
    }
   ],
   "source": [
    "# ms.history_data(path), slname = os.path.split(mods[0])[1])\n",
    "ms.history_data(path, slname = 'binary_history_1.0xGR.data')\n"
   ]
  },
  {
   "cell_type": "code",
   "execution_count": null,
   "id": "b79c025a-4655-4a41-a7f4-cdcf81a93adf",
   "metadata": {},
   "outputs": [],
   "source": []
  }
 ],
 "metadata": {
  "kernelspec": {
   "display_name": "Python 3 (ipykernel)",
   "language": "python",
   "name": "python3"
  },
  "language_info": {
   "codemirror_mode": {
    "name": "ipython",
    "version": 3
   },
   "file_extension": ".py",
   "mimetype": "text/x-python",
   "name": "python",
   "nbconvert_exporter": "python",
   "pygments_lexer": "ipython3",
   "version": "3.7.11"
  }
 },
 "nbformat": 4,
 "nbformat_minor": 5
}
