{
 "cells": [
  {
   "cell_type": "markdown",
   "id": "479bdcdc-8a55-4a97-b23e-73da49048c39",
   "metadata": {},
   "source": [
    "WD2257+162 isthe first star i worked hard on? In TESS>.."
   ]
  },
  {
   "cell_type": "code",
   "execution_count": 2,
   "id": "1b4de236-11f9-46ef-baec-87dd6964e50d",
   "metadata": {},
   "outputs": [],
   "source": [
    "import numpy as np\n",
    "import matplotlib.pyplot as plt\n",
    "import astropy.io.fits as fits\n",
    "import os\n",
    "import glob\n",
    "from astropy.table import Table\n",
    "from astropy.io import ascii\n",
    "import astropy.units as u\n",
    "import lightkurve as lk\n",
    "from astropy.modeling import models, fitting\n",
    "\n",
    "\n",
    "#matplotlib set up\n",
    "%matplotlib inline\n",
    "from matplotlib import rcParams\n",
    "rcParams[\"figure.figsize\"] = (14, 5)\n",
    "rcParams[\"font.size\"] = 20\n"
   ]
  },
  {
   "cell_type": "code",
   "execution_count": 3,
   "id": "7144985a-26d8-42f7-b20c-1f62814cd8bc",
   "metadata": {},
   "outputs": [
    {
     "name": "stderr",
     "output_type": "stream",
     "text": [
      "No data found for target \"WD 2257+162\".\n"
     ]
    },
    {
     "data": {
      "text/html": [
       "SearchResult containing 0 data products."
      ],
      "text/plain": [
       "SearchResult containing 0 data products."
      ]
     },
     "execution_count": 3,
     "metadata": {},
     "output_type": "execute_result"
    }
   ],
   "source": [
    "search_result = lk.search_lightcurve('WD 2257+162')\n",
    "search_result"
   ]
  },
  {
   "cell_type": "markdown",
   "id": "0c92648d-aec4-4734-b367-ffbae5519f56",
   "metadata": {},
   "source": [
    "Not in TESS.Oh well"
   ]
  },
  {
   "cell_type": "code",
   "execution_count": null,
   "id": "dda2a917-0702-4938-8a90-bfb76204193c",
   "metadata": {},
   "outputs": [],
   "source": []
  }
 ],
 "metadata": {
  "kernelspec": {
   "display_name": "Python 3",
   "language": "python",
   "name": "python3"
  },
  "language_info": {
   "codemirror_mode": {
    "name": "ipython",
    "version": 3
   },
   "file_extension": ".py",
   "mimetype": "text/x-python",
   "name": "python",
   "nbconvert_exporter": "python",
   "pygments_lexer": "ipython3",
   "version": "3.6.13"
  }
 },
 "nbformat": 4,
 "nbformat_minor": 5
}
