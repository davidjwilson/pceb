{
 "cells": [
  {
   "cell_type": "markdown",
   "metadata": {},
   "source": [
    "Read in MWDD tables and usw them to convet Odette's measurements into accretion rates."
   ]
  },
  {
   "cell_type": "code",
   "execution_count": 179,
   "metadata": {},
   "outputs": [],
   "source": [
    "import numpy as np\n",
    "import matplotlib.pyplot as plt\n",
    "import astropy.io.fits as fits\n",
    "import os\n",
    "import glob\n",
    "from astropy.table import Table\n",
    "from astropy.io import ascii\n",
    "import astropy.units as u\n",
    "import astropy.constants as const\n",
    "from scipy.interpolate import interpolate\n",
    "from craftroom import resample\n",
    "from astropy.convolution import convolve, Box1DKernel\n",
    "from scipy.io.idl import readsav\n",
    "\n",
    "\n",
    "#matplotlib set up\n",
    "%matplotlib inline\n",
    "from matplotlib import rcParams\n",
    "rcParams[\"figure.figsize\"] = (14, 5)\n",
    "rcParams[\"font.size\"] = 20\n"
   ]
  },
  {
   "cell_type": "code",
   "execution_count": 180,
   "metadata": {},
   "outputs": [],
   "source": [
    "wdtab = Table.read('tables/pceb_fit_results.csv')"
   ]
  },
  {
   "cell_type": "code",
   "execution_count": 181,
   "metadata": {},
   "outputs": [],
   "source": [
    "mwdd = glob.glob('mwdd_params/*')"
   ]
  },
  {
   "cell_type": "code",
   "execution_count": 182,
   "metadata": {},
   "outputs": [],
   "source": [
    "#np.genfromtxt(mwdd[0], skip_header=4, skip_footer= 35, delimiter='\\s*',delim_whitespace=True)"
   ]
  },
  {
   "cell_type": "code",
   "execution_count": 183,
   "metadata": {},
   "outputs": [
    {
     "name": "stderr",
     "output_type": "stream",
     "text": [
      "/home/david/anaconda3/lib/python3.7/site-packages/ipykernel_launcher.py:2: ParserWarning: Falling back to the 'python' engine because the 'c' engine does not support regex separators (separators > 1 char and different from '\\s+' are interpreted as regex); you can avoid this warning by specifying engine='python'.\n",
      "  \n"
     ]
    },
    {
     "data": {
      "text/plain": [
       "{'Effective temperature [K]:': '22814',\n",
       " 'Log of surface gravity [cgs]:': '7.658',\n",
       " 'Spectral type [DA or DB]:': 'DA',\n",
       " 'Envelope thickness [thin or thick]:': 'thick',\n",
       " 'Radius [R_Sun]:': '0.0167',\n",
       " 'Mass [M_Sun]:': '0.463',\n",
       " 'Luminosity [L_Sun]:': '0.06764',\n",
       " 'Cooling time [Gyr]:': '0.023',\n",
       " 'Gravitational redshift [km/s]:': '17.6',\n",
       " 'Envelope mass ratio [log(q)]:': '-15.830',\n",
       " 'Log of diffusion timecale [years]:': None,\n",
       " 'Li': '-1.353',\n",
       " 'Be': '-0.981',\n",
       " 'B': '-1.112',\n",
       " 'C': '-1.365',\n",
       " 'N': '-1.556',\n",
       " 'O': '-1.699',\n",
       " 'F': '-1.805',\n",
       " 'Ne': '-1.841',\n",
       " 'Na': '-1.891',\n",
       " 'Mg': '-1.410',\n",
       " 'Al': '-1.387',\n",
       " 'Si': '-1.453',\n",
       " 'P': '-1.516',\n",
       " 'S': '-1.548',\n",
       " 'Cl': '-1.697',\n",
       " 'Ar': '-1.816',\n",
       " 'K': '-1.872',\n",
       " 'Ca': '-1.627',\n",
       " 'Sc': '-1.597',\n",
       " 'Ti': '-1.610',\n",
       " 'V': '-1.661',\n",
       " 'Cr': '-1.688',\n",
       " 'Mn': '-1.713',\n",
       " 'Fe': '-1.731',\n",
       " 'Co': '-1.782',\n",
       " 'Ni': '-1.784',\n",
       " 'Cu': '-1.821'}"
      ]
     },
     "execution_count": 183,
     "metadata": {},
     "output_type": "execute_result"
    }
   ],
   "source": [
    "from pandas import *\n",
    "test =read_table(mwdd[0], sep='\\s+\\s+', skiprows=[0,1,2,3,8,9], header=None, dtype=None)\n",
    "test1= {key: value for key, value in zip(test[0], test[1])}\n",
    "test1"
   ]
  },
  {
   "cell_type": "code",
   "execution_count": 184,
   "metadata": {},
   "outputs": [],
   "source": [
    "#np.genfromtxt(mwdd[0], delimiter='\\s+\\s+')"
   ]
  },
  {
   "cell_type": "code",
   "execution_count": 185,
   "metadata": {},
   "outputs": [
    {
     "name": "stderr",
     "output_type": "stream",
     "text": [
      "/home/david/anaconda3/lib/python3.7/site-packages/ipykernel_launcher.py:7: ParserWarning: Falling back to the 'python' engine because the 'c' engine does not support regex separators (separators > 1 char and different from '\\s+' are interpreted as regex); you can avoid this warning by specifying engine='python'.\n",
      "  import sys\n"
     ]
    },
    {
     "name": "stdout",
     "output_type": "stream",
     "text": [
      "0.511 -16.343 -1.997 -2.272 -2.135 -2.272\n",
      "0.424 -15.4 -0.913 -1.069 -1.024 -1.069\n",
      "0.464 -15.894 -1.515 -1.609 -1.758 -1.609\n",
      "0.452 -15.541 -1.068 -1.232 -1.195 -1.232\n",
      "0.463 -15.83 -1.453 -1.548 -1.699 -1.548\n",
      "0.399 -15.65 -1.25 -1.344 -1.496 -1.344\n",
      "0.404 -15.587 -1.19 -1.288 -1.439 -1.288\n",
      "0.49 -15.996 -1.622 -1.719 -1.862 -1.719\n",
      "0.389 -15.788 -1.366 -1.544 -1.581 -1.544\n"
     ]
    }
   ],
   "source": [
    "for row in wdtab:\n",
    "    #row = np.array(row)\n",
    "    teff, logg = row['Teff'], row['logg']\n",
    "    if teff < 30000:\n",
    "        if logg < 7.5:\n",
    "            logg = 7.5\n",
    "        atm =read_table('mwdd_params/{:0<5}_{}_DA_thick'.format(logg, teff), sep='\\s+\\s+', skiprows=[0,1,2,3,8,9], header=None, dtype=None)\n",
    "        atm= {key: value for key, value in zip(atm[0], atm[1])}\n",
    "        print(float(atm['Mass [M_Sun]:']), float(atm['Envelope mass ratio [log(q)]:']), float(atm['Si']), float(atm['S']), float(atm['O']), float(atm['S']))\n",
    "   # else: \n",
    "    #    print('gap')"
   ]
  },
  {
   "cell_type": "code",
   "execution_count": 186,
   "metadata": {},
   "outputs": [
    {
     "data": {
      "text/html": [
       "<i>Table length=10</i>\n",
       "<table id=\"table140127932424848\" class=\"table-striped table-bordered table-condensed\">\n",
       "<thead><tr><th>Target</th><th>Teff</th><th>e_Teff</th><th>logg</th><th>e_logg</th><th>si</th><th>si_e</th><th>c</th><th>c_e</th><th>o</th><th>o_e</th><th>s</th><th>s_e</th></tr></thead>\n",
       "<thead><tr><th>str11</th><th>int64</th><th>int64</th><th>float64</th><th>float64</th><th>float64</th><th>float64</th><th>float64</th><th>float64</th><th>float64</th><th>float64</th><th>float64</th><th>float64</th></tr></thead>\n",
       "<tr><td>V-UZ-SEX</td><td>17146</td><td>15</td><td>7.801</td><td>0.007</td><td>-7.08</td><td>0.03</td><td>-6.21</td><td>0.05</td><td>-6.44</td><td>0.07</td><td>-7.36</td><td>0.3</td></tr>\n",
       "<tr><td>V-LM-COM</td><td>28878</td><td>1122</td><td>7.358</td><td>0.1</td><td>-6.96</td><td>0.04</td><td>-5.9</td><td>0.04</td><td>-5.63</td><td>0.0</td><td>-6.96</td><td>0.0</td></tr>\n",
       "<tr><td>WD-1339+606</td><td>37074</td><td>76</td><td>7.449</td><td>0.005</td><td>-7.88</td><td>0.4</td><td>-8.32</td><td>0.1</td><td>-8.05</td><td>0.4</td><td>-7.34</td><td>0.8</td></tr>\n",
       "<tr><td>WD-1504+546</td><td>21730</td><td>53</td><td>7.67</td><td>0.01</td><td>-7.13</td><td>0.2</td><td>-8.25</td><td>0.09</td><td>-8.15</td><td>0.3</td><td>-7.43</td><td>0.6</td></tr>\n",
       "<tr><td>WD-2317+268</td><td>28403</td><td>19</td><td>7.585</td><td>0.005</td><td>-6.78</td><td>0.03</td><td>-5.82</td><td>0.03</td><td>-4.66</td><td>0.1</td><td>-6.65</td><td>0.2</td></tr>\n",
       "<tr><td>WD-1436-216</td><td>22814</td><td>38</td><td>7.658</td><td>0.01</td><td>-7.19</td><td>0.05</td><td>-6.27</td><td>0.1</td><td>-5.92</td><td>0.4</td><td>-8.18</td><td>0.1</td></tr>\n",
       "<tr><td>WD-1458+171</td><td>21406</td><td>4</td><td>7.445</td><td>0.0003</td><td>-6.19</td><td>0.3</td><td>-5.09</td><td>0.04</td><td>-5.96</td><td>0.0</td><td>-6.51</td><td>0.0</td></tr>\n",
       "<tr><td>WD2257+162</td><td>22886</td><td>33</td><td>7.24</td><td>0.008</td><td>-7.38</td><td>0.05</td><td>-6.27</td><td>0.05</td><td>-8.03</td><td>0.5</td><td>-7.34</td><td>0.1</td></tr>\n",
       "<tr><td>WD2256+249</td><td>21488</td><td>17</td><td>7.73</td><td>0.006</td><td>-6.88</td><td>0.02</td><td>-5.76</td><td>0.02</td><td>-5.72</td><td>0.05</td><td>-7.39</td><td>0.2</td></tr>\n",
       "<tr><td>WD0710+741</td><td>18732</td><td>30</td><td>7.35</td><td>0.01</td><td>-6.96</td><td>0.04</td><td>-5.73</td><td>0.05</td><td>-5.84</td><td>1.0</td><td>-6.92</td><td>0.3</td></tr>\n",
       "</table>"
      ],
      "text/plain": [
       "<Table length=10>\n",
       "   Target    Teff e_Teff   logg   e_logg ...    o      o_e      s      s_e  \n",
       "   str11    int64 int64  float64 float64 ... float64 float64 float64 float64\n",
       "----------- ----- ------ ------- ------- ... ------- ------- ------- -------\n",
       "   V-UZ-SEX 17146     15   7.801   0.007 ...   -6.44    0.07   -7.36     0.3\n",
       "   V-LM-COM 28878   1122   7.358     0.1 ...   -5.63     0.0   -6.96     0.0\n",
       "WD-1339+606 37074     76   7.449   0.005 ...   -8.05     0.4   -7.34     0.8\n",
       "WD-1504+546 21730     53    7.67    0.01 ...   -8.15     0.3   -7.43     0.6\n",
       "WD-2317+268 28403     19   7.585   0.005 ...   -4.66     0.1   -6.65     0.2\n",
       "WD-1436-216 22814     38   7.658    0.01 ...   -5.92     0.4   -8.18     0.1\n",
       "WD-1458+171 21406      4   7.445  0.0003 ...   -5.96     0.0   -6.51     0.0\n",
       " WD2257+162 22886     33    7.24   0.008 ...   -8.03     0.5   -7.34     0.1\n",
       " WD2256+249 21488     17    7.73   0.006 ...   -5.72    0.05   -7.39     0.2\n",
       " WD0710+741 18732     30    7.35    0.01 ...   -5.84     1.0   -6.92     0.3"
      ]
     },
     "execution_count": 186,
     "metadata": {},
     "output_type": "execute_result"
    }
   ],
   "source": [
    "wdtab"
   ]
  },
  {
   "cell_type": "code",
   "execution_count": 187,
   "metadata": {},
   "outputs": [
    {
     "data": {
      "text/html": [
       "<i>Table length=10</i>\n",
       "<table id=\"table140127977442192\" class=\"table-striped table-bordered table-condensed\">\n",
       "<thead><tr><th>Target</th><th>Teff</th><th>e_Teff</th><th>logg</th><th>e_logg</th><th>si</th><th>si_e</th><th>c</th><th>c_e</th><th>o</th><th>o_e</th><th>s</th><th>s_e</th><th>mass</th><th>q</th><th>tdiff_si</th><th>tdiff_c</th><th>tdiff_o</th><th>tdiff_s</th></tr></thead>\n",
       "<thead><tr><th>str11</th><th>int64</th><th>int64</th><th>float64</th><th>float64</th><th>float64</th><th>float64</th><th>float64</th><th>float64</th><th>float64</th><th>float64</th><th>float64</th><th>float64</th><th>float64</th><th>float64</th><th>float64</th><th>float64</th><th>float64</th><th>float64</th></tr></thead>\n",
       "<tr><td>V-UZ-SEX</td><td>17146</td><td>15</td><td>7.801</td><td>0.007</td><td>-7.08</td><td>0.03</td><td>-6.21</td><td>0.05</td><td>-6.44</td><td>0.07</td><td>-7.36</td><td>0.3</td><td>0.511</td><td>-16.343</td><td>-1.997</td><td>-2.272</td><td>-2.135</td><td>-2.272</td></tr>\n",
       "<tr><td>V-LM-COM</td><td>28878</td><td>1122</td><td>7.358</td><td>0.1</td><td>-6.96</td><td>0.04</td><td>-5.9</td><td>0.04</td><td>-5.63</td><td>0.0</td><td>-6.96</td><td>0.0</td><td>0.424</td><td>-15.4</td><td>-0.913</td><td>-1.069</td><td>-1.024</td><td>-1.069</td></tr>\n",
       "<tr><td>WD-1339+606</td><td>37074</td><td>76</td><td>7.449</td><td>0.005</td><td>-7.88</td><td>0.4</td><td>-8.32</td><td>0.1</td><td>-8.05</td><td>0.4</td><td>-7.34</td><td>0.8</td><td>0.0</td><td>0.0</td><td>0.0</td><td>0.0</td><td>0.0</td><td>0.0</td></tr>\n",
       "<tr><td>WD-1504+546</td><td>21730</td><td>53</td><td>7.67</td><td>0.01</td><td>-7.13</td><td>0.2</td><td>-8.25</td><td>0.09</td><td>-8.15</td><td>0.3</td><td>-7.43</td><td>0.6</td><td>0.464</td><td>-15.894</td><td>-1.515</td><td>-1.609</td><td>-1.758</td><td>-1.609</td></tr>\n",
       "<tr><td>WD-2317+268</td><td>28403</td><td>19</td><td>7.585</td><td>0.005</td><td>-6.78</td><td>0.03</td><td>-5.82</td><td>0.03</td><td>-4.66</td><td>0.1</td><td>-6.65</td><td>0.2</td><td>0.452</td><td>-15.541</td><td>-1.068</td><td>-1.232</td><td>-1.195</td><td>-1.232</td></tr>\n",
       "<tr><td>WD-1436-216</td><td>22814</td><td>38</td><td>7.658</td><td>0.01</td><td>-7.19</td><td>0.05</td><td>-6.27</td><td>0.1</td><td>-5.92</td><td>0.4</td><td>-8.18</td><td>0.1</td><td>0.463</td><td>-15.83</td><td>-1.453</td><td>-1.548</td><td>-1.699</td><td>-1.548</td></tr>\n",
       "<tr><td>WD-1458+171</td><td>21406</td><td>4</td><td>7.445</td><td>0.0003</td><td>-6.19</td><td>0.3</td><td>-5.09</td><td>0.04</td><td>-5.96</td><td>0.0</td><td>-6.51</td><td>0.0</td><td>0.399</td><td>-15.65</td><td>-1.25</td><td>-1.344</td><td>-1.496</td><td>-1.344</td></tr>\n",
       "<tr><td>WD2257+162</td><td>22886</td><td>33</td><td>7.24</td><td>0.008</td><td>-7.38</td><td>0.05</td><td>-6.27</td><td>0.05</td><td>-8.03</td><td>0.5</td><td>-7.34</td><td>0.1</td><td>0.404</td><td>-15.587</td><td>-1.19</td><td>-1.288</td><td>-1.439</td><td>-1.288</td></tr>\n",
       "<tr><td>WD2256+249</td><td>21488</td><td>17</td><td>7.73</td><td>0.006</td><td>-6.88</td><td>0.02</td><td>-5.76</td><td>0.02</td><td>-5.72</td><td>0.05</td><td>-7.39</td><td>0.2</td><td>0.49</td><td>-15.996</td><td>-1.622</td><td>-1.719</td><td>-1.862</td><td>-1.719</td></tr>\n",
       "<tr><td>WD0710+741</td><td>18732</td><td>30</td><td>7.35</td><td>0.01</td><td>-6.96</td><td>0.04</td><td>-5.73</td><td>0.05</td><td>-5.84</td><td>1.0</td><td>-6.92</td><td>0.3</td><td>0.389</td><td>-15.788</td><td>-1.366</td><td>-1.544</td><td>-1.581</td><td>-1.544</td></tr>\n",
       "</table>"
      ],
      "text/plain": [
       "<Table length=10>\n",
       "   Target    Teff e_Teff   logg   e_logg ... tdiff_si tdiff_c tdiff_o tdiff_s\n",
       "   str11    int64 int64  float64 float64 ... float64  float64 float64 float64\n",
       "----------- ----- ------ ------- ------- ... -------- ------- ------- -------\n",
       "   V-UZ-SEX 17146     15   7.801   0.007 ...   -1.997  -2.272  -2.135  -2.272\n",
       "   V-LM-COM 28878   1122   7.358     0.1 ...   -0.913  -1.069  -1.024  -1.069\n",
       "WD-1339+606 37074     76   7.449   0.005 ...      0.0     0.0     0.0     0.0\n",
       "WD-1504+546 21730     53    7.67    0.01 ...   -1.515  -1.609  -1.758  -1.609\n",
       "WD-2317+268 28403     19   7.585   0.005 ...   -1.068  -1.232  -1.195  -1.232\n",
       "WD-1436-216 22814     38   7.658    0.01 ...   -1.453  -1.548  -1.699  -1.548\n",
       "WD-1458+171 21406      4   7.445  0.0003 ...    -1.25  -1.344  -1.496  -1.344\n",
       " WD2257+162 22886     33    7.24   0.008 ...    -1.19  -1.288  -1.439  -1.288\n",
       " WD2256+249 21488     17    7.73   0.006 ...   -1.622  -1.719  -1.862  -1.719\n",
       " WD0710+741 18732     30    7.35    0.01 ...   -1.366  -1.544  -1.581  -1.544"
      ]
     },
     "execution_count": 187,
     "metadata": {},
     "output_type": "execute_result"
    }
   ],
   "source": [
    "wdtab2 = Table.read('tables/pceb_fit_results_tdiff.csv')\n",
    "wdtab2"
   ]
  },
  {
   "cell_type": "code",
   "execution_count": 202,
   "metadata": {},
   "outputs": [
    {
     "name": "stdout",
     "output_type": "stream",
     "text": [
      "336385.09132898465,15320.376491126106,2008822.1030577705,152446.57686140286,1149357.5412698414,122104.13677743055,379599.67271970556,172820.67552643747,\n",
      "265938.7946240172,19504.520518481393,1870193.032722438,137163.96072196623,4182154.8214478693,0.0,434781.2289431927,0.0,\n",
      "252309.62605658156,76582.37195963145,10163.389241779822,1388.4078297107815,24018.851115564787,10935.24372006461,179235.03695939758,163201.11907154648,\n",
      "443153.59234975616,20179.708286115194,2521500.234864761,114820.5499432861,44583348.568265304,6765937.3132430585,995504.8128374042,302149.8672373404,\n",
      "220291.03855318,16721.78697637147,975217.6867894628,148009.9020286767,4117325.865678967,2499337.1277615083,32024.762688801176,4860.434805756743,\n",
      "1800481.7973469386,819703.8918181054,12036313.025935011,730638.5580566927,3069072.482069326,0.0,1221455.9934990634,0.0,\n",
      "118521.51780564559,8995.775491158529,818280.0127263956,62107.399733606566,26817.33484414485,20348.567102311365,185902.9555083932,28213.981520061177,\n",
      "479304.95577780023,14557.213386066893,3378443.4832263747,102608.41684452145,6858518.739527123,520467.51368417323,211398.06571621879,64162.43974297556,\n",
      "283377.5496810564,17212.04538698054,3100774.468631038,235371.37308364152,3491273.3304545437,5298235.231780994,534385.3339062188,243291.74905277562,\n"
     ]
    }
   ],
   "source": [
    "els = ['si', 'c', 'o', 's']\n",
    "el_mass = [28.085, 12.011, 15.999, 32.06]\n",
    "for row in wdtab2:\n",
    "    if row['Teff'] < 30000:\n",
    "    #    print(row['Target'])\n",
    "        #mass = np.log10((row['mass'] * u.M_sun).to(u.g).value)\n",
    "        mass = row['mass']\n",
    "       # print(mass)\n",
    "        q = row['q']\n",
    "        #print(10**(mass+q))\n",
    "        fluxes = []\n",
    "        errors  = []\n",
    "        for i, el in enumerate(els):\n",
    "            rate = row[el] + np.log10(mass) + q +np.log10(el_mass[i]/1.008)- row['tdiff_{}'.format(el)]\n",
    "            rate_cgs = ((10**rate)*u.M_sun/u.yr).to(u.g/u.s)\n",
    "            fluxes.append(rate_cgs.value) \n",
    "            #print(el, rate_cgs)\n",
    "            if row['{}_e'.format(el)] > 0:\n",
    "                error = rate_cgs * ((row['e_Teff']/row['Teff'])**2 + (row['e_logg']/row['logg'])**2 + 2.303*row['{}_e'.format(el)]**2)**0.5\n",
    "            else:\n",
    "                error = 0*u.g/u.s\n",
    "            #print(error)\n",
    "            errors.append(error.value)\n",
    "        out = ''\n",
    "        for f, e in zip(fluxes, errors):\n",
    "            out = out + '{},{},'.format(f, e)\n",
    "        print(out)\n",
    "            \n"
   ]
  },
  {
   "cell_type": "code",
   "execution_count": 189,
   "metadata": {},
   "outputs": [
    {
     "name": "stdout",
     "output_type": "stream",
     "text": [
      "WD0710+741\n",
      "si 284780.0591845519 g / s\n",
      "si 10170.716399448254 g / s\n",
      "c 7286342.40301745 g / s\n",
      "c 260226.51439348073 g / s\n",
      "o 6158991.091865036 g / s\n",
      "o 219963.96756660924 g / s\n",
      "s 470445.7786702775 g / s\n",
      "s 16801.63495250987 g / s\n"
     ]
    }
   ],
   "source": [
    "for row in wdtab2:\n",
    "    if row['Target'] == 'WD0710+741':\n",
    "        print(row['Target'])\n",
    "        #mass = np.log10((row['mass'] * u.M_sun).to(u.g).value)\n",
    "        mass = row['mass']\n",
    "       # print(mass)\n",
    "        q = row['q']\n",
    "        #print(10**(mass+q))\n",
    "        for el in els:\n",
    "            rate = row[el] + np.log10(mass) +np.log10(28) + q - row['tdiff_{}'.format(el)]\n",
    "            #print(rate)\n",
    "            print(el, ((10**rate)*u.M_sun/u.yr).to(u.g/u.s))\n",
    "            rate = (mass*u.Msun * 10**q * 10**row[el]/((10**row['tdiff_{}'.format(el)])*u.yr)).to(u.g/u.s)\n",
    "            print(el, rate)\n",
    "            #print(el, np.log10(((10**rate)*u.g/u.yr).to(u.g/u.s).value))"
   ]
  },
  {
   "cell_type": "code",
   "execution_count": null,
   "metadata": {},
   "outputs": [],
   "source": []
  }
 ],
 "metadata": {
  "kernelspec": {
   "display_name": "Python 3 (ipykernel)",
   "language": "python",
   "name": "python3"
  },
  "language_info": {
   "codemirror_mode": {
    "name": "ipython",
    "version": 3
   },
   "file_extension": ".py",
   "mimetype": "text/x-python",
   "name": "python",
   "nbconvert_exporter": "python",
   "pygments_lexer": "ipython3",
   "version": "3.7.13"
  }
 },
 "nbformat": 4,
 "nbformat_minor": 4
}
